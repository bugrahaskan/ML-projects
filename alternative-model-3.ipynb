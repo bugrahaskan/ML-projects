{
 "cells": [
  {
   "cell_type": "code",
   "execution_count": 1,
   "id": "f1fc2f37-ae93-46fc-a75a-3ec3a669e9ce",
   "metadata": {},
   "outputs": [],
   "source": [
    "import pandas as pd\n",
    "\n",
    "data = pd.read_csv('data/^NDX_raw_data.csv')\n",
    "data.rename(columns={'Date': 'date', 'Open':'open', 'High':'high', 'Low':'low', 'Close':'close', 'Volume':'volume'}, inplace=True)"
   ]
  },
  {
   "cell_type": "code",
   "execution_count": 2,
   "id": "ffb09c73-7b0f-4115-be83-8ee8038d2abe",
   "metadata": {},
   "outputs": [],
   "source": [
    "data_backup = data.iloc[3524:]\n",
    "data = data.iloc[:3524]"
   ]
  },
  {
   "cell_type": "code",
   "execution_count": 3,
   "id": "cd1c6d7b-dc91-4ba7-ab5c-9b81cbf0d3bf",
   "metadata": {},
   "outputs": [
    {
     "name": "stdout",
     "output_type": "stream",
     "text": [
      "<class 'pandas.core.frame.DataFrame'>\n",
      "RangeIndex: 3524 entries, 0 to 3523\n",
      "Data columns (total 6 columns):\n",
      " #   Column  Non-Null Count  Dtype  \n",
      "---  ------  --------------  -----  \n",
      " 0   date    3524 non-null   object \n",
      " 1   open    3524 non-null   float64\n",
      " 2   high    3524 non-null   float64\n",
      " 3   low     3524 non-null   float64\n",
      " 4   close   3524 non-null   float64\n",
      " 5   volume  3524 non-null   int64  \n",
      "dtypes: float64(4), int64(1), object(1)\n",
      "memory usage: 165.3+ KB\n"
     ]
    }
   ],
   "source": [
    "data.info()"
   ]
  },
  {
   "cell_type": "markdown",
   "id": "98786118-9389-4760-a9e2-37d08e44912c",
   "metadata": {},
   "source": [
    "### decision trees for 20 bar lag:"
   ]
  },
  {
   "cell_type": "code",
   "execution_count": 4,
   "id": "606d3e9c-98fe-4e8e-936d-19cd93d4ac00",
   "metadata": {},
   "outputs": [],
   "source": [
    "import pandas as pd\n",
    "\n",
    "for i in range(1,21):\n",
    "    data[f'close+{i}'] = data['close'].shift(i)\n",
    "for i in range(1,21):\n",
    "    data[f'high+{i}'] = data['high'].shift(i)\n",
    "for i in range(1,21):\n",
    "    data[f'low+{i}'] = data['low'].shift(i)\n",
    "data.dropna(axis=0, inplace=True)"
   ]
  },
  {
   "cell_type": "code",
   "execution_count": 5,
   "id": "a6ce3b7f-d940-4fe1-991a-12d26c687c66",
   "metadata": {},
   "outputs": [
    {
     "data": {
      "text/plain": [
       "Index(['date', 'open', 'high', 'low', 'close', 'volume', 'close+1', 'close+2',\n",
       "       'close+3', 'close+4', 'close+5', 'close+6', 'close+7', 'close+8',\n",
       "       'close+9', 'close+10', 'close+11', 'close+12', 'close+13', 'close+14',\n",
       "       'close+15', 'close+16', 'close+17', 'close+18', 'close+19', 'close+20',\n",
       "       'high+1', 'high+2', 'high+3', 'high+4', 'high+5', 'high+6', 'high+7',\n",
       "       'high+8', 'high+9', 'high+10', 'high+11', 'high+12', 'high+13',\n",
       "       'high+14', 'high+15', 'high+16', 'high+17', 'high+18', 'high+19',\n",
       "       'high+20', 'low+1', 'low+2', 'low+3', 'low+4', 'low+5', 'low+6',\n",
       "       'low+7', 'low+8', 'low+9', 'low+10', 'low+11', 'low+12', 'low+13',\n",
       "       'low+14', 'low+15', 'low+16', 'low+17', 'low+18', 'low+19', 'low+20'],\n",
       "      dtype='object')"
      ]
     },
     "execution_count": 5,
     "metadata": {},
     "output_type": "execute_result"
    }
   ],
   "source": [
    "data.columns"
   ]
  },
  {
   "cell_type": "code",
   "execution_count": 6,
   "id": "ebf7a77b-5acc-4840-a1ed-16f19b79c0f5",
   "metadata": {},
   "outputs": [],
   "source": [
    "inputs_close = data.iloc[:, [6,7,8,9,10,11,12,13,14,15,16,17,18,19,20,21,22,23,24,25]]\n",
    "target_close = data.iloc[:, [4]]\n",
    "\n",
    "inputs_high = data.iloc[:, [26,27,28,29,30,31,32,33,34,35,36,37,38,39,40,41,42,43,44,45]]\n",
    "target_high = data.iloc[:, [2]]\n",
    "\n",
    "inputs_low = data.iloc[:, [46,47,48,49,50,51,52,53,54,55,56,57,58,59,60,61,62,63,64,65]]\n",
    "target_low = data.iloc[:, [3]]"
   ]
  },
  {
   "cell_type": "code",
   "execution_count": 7,
   "id": "c6ffc31b-d12e-4428-a811-3e4e05dca630",
   "metadata": {},
   "outputs": [
    {
     "name": "stderr",
     "output_type": "stream",
     "text": [
      "/usr/local/lib/python3.10/dist-packages/sklearn/base.py:1152: DataConversionWarning: A column-vector y was passed when a 1d array was expected. Please change the shape of y to (n_samples,), for example using ravel().\n",
      "  return fit_method(estimator, *args, **kwargs)\n",
      "/usr/local/lib/python3.10/dist-packages/sklearn/base.py:1152: DataConversionWarning: A column-vector y was passed when a 1d array was expected. Please change the shape of y to (n_samples,), for example using ravel().\n",
      "  return fit_method(estimator, *args, **kwargs)\n",
      "/usr/local/lib/python3.10/dist-packages/sklearn/base.py:1152: DataConversionWarning: A column-vector y was passed when a 1d array was expected. Please change the shape of y to (n_samples,), for example using ravel().\n",
      "  return fit_method(estimator, *args, **kwargs)\n"
     ]
    },
    {
     "data": {
      "text/html": [
       "<style>#sk-container-id-1 {color: black;}#sk-container-id-1 pre{padding: 0;}#sk-container-id-1 div.sk-toggleable {background-color: white;}#sk-container-id-1 label.sk-toggleable__label {cursor: pointer;display: block;width: 100%;margin-bottom: 0;padding: 0.3em;box-sizing: border-box;text-align: center;}#sk-container-id-1 label.sk-toggleable__label-arrow:before {content: \"▸\";float: left;margin-right: 0.25em;color: #696969;}#sk-container-id-1 label.sk-toggleable__label-arrow:hover:before {color: black;}#sk-container-id-1 div.sk-estimator:hover label.sk-toggleable__label-arrow:before {color: black;}#sk-container-id-1 div.sk-toggleable__content {max-height: 0;max-width: 0;overflow: hidden;text-align: left;background-color: #f0f8ff;}#sk-container-id-1 div.sk-toggleable__content pre {margin: 0.2em;color: black;border-radius: 0.25em;background-color: #f0f8ff;}#sk-container-id-1 input.sk-toggleable__control:checked~div.sk-toggleable__content {max-height: 200px;max-width: 100%;overflow: auto;}#sk-container-id-1 input.sk-toggleable__control:checked~label.sk-toggleable__label-arrow:before {content: \"▾\";}#sk-container-id-1 div.sk-estimator input.sk-toggleable__control:checked~label.sk-toggleable__label {background-color: #d4ebff;}#sk-container-id-1 div.sk-label input.sk-toggleable__control:checked~label.sk-toggleable__label {background-color: #d4ebff;}#sk-container-id-1 input.sk-hidden--visually {border: 0;clip: rect(1px 1px 1px 1px);clip: rect(1px, 1px, 1px, 1px);height: 1px;margin: -1px;overflow: hidden;padding: 0;position: absolute;width: 1px;}#sk-container-id-1 div.sk-estimator {font-family: monospace;background-color: #f0f8ff;border: 1px dotted black;border-radius: 0.25em;box-sizing: border-box;margin-bottom: 0.5em;}#sk-container-id-1 div.sk-estimator:hover {background-color: #d4ebff;}#sk-container-id-1 div.sk-parallel-item::after {content: \"\";width: 100%;border-bottom: 1px solid gray;flex-grow: 1;}#sk-container-id-1 div.sk-label:hover label.sk-toggleable__label {background-color: #d4ebff;}#sk-container-id-1 div.sk-serial::before {content: \"\";position: absolute;border-left: 1px solid gray;box-sizing: border-box;top: 0;bottom: 0;left: 50%;z-index: 0;}#sk-container-id-1 div.sk-serial {display: flex;flex-direction: column;align-items: center;background-color: white;padding-right: 0.2em;padding-left: 0.2em;position: relative;}#sk-container-id-1 div.sk-item {position: relative;z-index: 1;}#sk-container-id-1 div.sk-parallel {display: flex;align-items: stretch;justify-content: center;background-color: white;position: relative;}#sk-container-id-1 div.sk-item::before, #sk-container-id-1 div.sk-parallel-item::before {content: \"\";position: absolute;border-left: 1px solid gray;box-sizing: border-box;top: 0;bottom: 0;left: 50%;z-index: -1;}#sk-container-id-1 div.sk-parallel-item {display: flex;flex-direction: column;z-index: 1;position: relative;background-color: white;}#sk-container-id-1 div.sk-parallel-item:first-child::after {align-self: flex-end;width: 50%;}#sk-container-id-1 div.sk-parallel-item:last-child::after {align-self: flex-start;width: 50%;}#sk-container-id-1 div.sk-parallel-item:only-child::after {width: 0;}#sk-container-id-1 div.sk-dashed-wrapped {border: 1px dashed gray;margin: 0 0.4em 0.5em 0.4em;box-sizing: border-box;padding-bottom: 0.4em;background-color: white;}#sk-container-id-1 div.sk-label label {font-family: monospace;font-weight: bold;display: inline-block;line-height: 1.2em;}#sk-container-id-1 div.sk-label-container {text-align: center;}#sk-container-id-1 div.sk-container {/* jupyter's `normalize.less` sets `[hidden] { display: none; }` but bootstrap.min.css set `[hidden] { display: none !important; }` so we also need the `!important` here to be able to override the default hidden behavior on the sphinx rendered scikit-learn.org. See: https://github.com/scikit-learn/scikit-learn/issues/21755 */display: inline-block !important;position: relative;}#sk-container-id-1 div.sk-text-repr-fallback {display: none;}</style><div id=\"sk-container-id-1\" class=\"sk-top-container\"><div class=\"sk-text-repr-fallback\"><pre>RandomForestRegressor(random_state=1)</pre><b>In a Jupyter environment, please rerun this cell to show the HTML representation or trust the notebook. <br />On GitHub, the HTML representation is unable to render, please try loading this page with nbviewer.org.</b></div><div class=\"sk-container\" hidden><div class=\"sk-item\"><div class=\"sk-estimator sk-toggleable\"><input class=\"sk-toggleable__control sk-hidden--visually\" id=\"sk-estimator-id-1\" type=\"checkbox\" checked><label for=\"sk-estimator-id-1\" class=\"sk-toggleable__label sk-toggleable__label-arrow\">RandomForestRegressor</label><div class=\"sk-toggleable__content\"><pre>RandomForestRegressor(random_state=1)</pre></div></div></div></div></div>"
      ],
      "text/plain": [
       "RandomForestRegressor(random_state=1)"
      ]
     },
     "execution_count": 7,
     "metadata": {},
     "output_type": "execute_result"
    }
   ],
   "source": [
    "import pandas as pd\n",
    "import numpy as np\n",
    "from sklearn.model_selection import train_test_split\n",
    "from sklearn.tree import DecisionTreeRegressor, DecisionTreeClassifier\n",
    "from sklearn.metrics import mean_squared_error, accuracy_score\n",
    "from sklearn.ensemble import RandomForestRegressor\n",
    "\n",
    "X_train_c, X_test_c, y_train_c, y_test_c = train_test_split(inputs_close, target_close, test_size=0.2, random_state=1, shuffle=False)\n",
    "X_train_h, X_test_h, y_train_h, y_test_h = train_test_split(inputs_high, target_high, test_size=0.2, random_state=1, shuffle=False)\n",
    "X_train_l, X_test_l, y_train_l, y_test_l = train_test_split(inputs_low, target_low, test_size=0.2, random_state=1, shuffle=False)\n",
    "\n",
    "from sklearn.preprocessing import MinMaxScaler, StandardScaler\n",
    "\n",
    "scaler_c = MinMaxScaler()\n",
    "scaler_c.fit(X_train_c)\n",
    "scaler_target_c = MinMaxScaler()\n",
    "scaler_target_c.fit(y_train_c)\n",
    "\n",
    "scaler_h = MinMaxScaler()\n",
    "scaler_h.fit(X_train_h)\n",
    "scaler_target_h = MinMaxScaler()\n",
    "scaler_target_h.fit(y_train_h)\n",
    "\n",
    "scaler_l = MinMaxScaler()\n",
    "scaler_l.fit(X_train_l)\n",
    "scaler_target_l = MinMaxScaler()\n",
    "scaler_target_l.fit(y_train_l)\n",
    "\n",
    "X_train_c_scaled = scaler_c.transform(X_train_c)\n",
    "X_test_c_scaled = scaler_c.transform(X_test_c)\n",
    "y_train_c_scaled = scaler_target_c.transform(y_train_c)\n",
    "y_test_c_scaled = scaler_target_c.transform(y_test_c)\n",
    "\n",
    "X_train_h_scaled = scaler_h.transform(X_train_h)\n",
    "X_test_h_scaled = scaler_h.transform(X_test_h)\n",
    "y_train_h_scaled = scaler_target_h.transform(y_train_h)\n",
    "y_test_h_scaled = scaler_target_h.transform(y_test_h)\n",
    "\n",
    "X_train_l_scaled = scaler_l.transform(X_train_l)\n",
    "X_test_l_scaled = scaler_l.transform(X_test_l)\n",
    "y_train_l_scaled = scaler_target_l.transform(y_train_l)\n",
    "y_test_l_scaled = scaler_target_l.transform(y_test_l)\n",
    "\n",
    "random_tree_close = RandomForestRegressor(n_estimators=100, random_state=1)\n",
    "random_tree_close.fit(X_train_c_scaled, y_train_c_scaled)\n",
    "\n",
    "random_tree_high = RandomForestRegressor(n_estimators=100, random_state=1)\n",
    "random_tree_high.fit(X_train_h_scaled, y_train_h_scaled)\n",
    "\n",
    "random_tree_low = RandomForestRegressor(n_estimators=100, random_state=1)\n",
    "random_tree_low.fit(X_train_l_scaled, y_train_l_scaled)"
   ]
  },
  {
   "cell_type": "code",
   "execution_count": 8,
   "id": "5eba856c-9835-4289-940c-b9db89df337b",
   "metadata": {},
   "outputs": [],
   "source": [
    "pred_close = random_tree_close.predict(X_test_c_scaled)\n",
    "y_test_c['pred'] = pred_close\n",
    "\n",
    "pred_high = random_tree_high.predict(X_test_h_scaled)\n",
    "y_test_h['pred'] = pred_high\n",
    "\n",
    "pred_low = random_tree_low.predict(X_test_l_scaled)\n",
    "y_test_l['pred'] = pred_low"
   ]
  },
  {
   "cell_type": "markdown",
   "id": "ec5ba0b8-0947-4566-afdd-f95d9d28603d",
   "metadata": {},
   "source": [
    "### data reading:"
   ]
  },
  {
   "cell_type": "code",
   "execution_count": 9,
   "id": "04717682-58f5-45da-937b-a8830584a057",
   "metadata": {},
   "outputs": [],
   "source": [
    "data_backup = pd.read_csv('data/^NDX_raw_data.csv')\n",
    "data_backup.rename(columns={'Date': 'date', 'Open':'open', 'High':'high', 'Low':'low', 'Close':'close', 'Volume':'volume'}, inplace=True)"
   ]
  },
  {
   "cell_type": "code",
   "execution_count": 10,
   "id": "aa0f2892-ec29-469e-b9f5-df92b9278e61",
   "metadata": {},
   "outputs": [],
   "source": [
    "import pandas as pd\n",
    "\n",
    "for i in range(1,21):\n",
    "    data_backup[f'close+{i}'] = data_backup['close'].shift(i)\n",
    "for i in range(1,21):\n",
    "    data_backup[f'high+{i}'] = data_backup['high'].shift(i)\n",
    "for i in range(1,21):\n",
    "    data_backup[f'low+{i}'] = data_backup['low'].shift(i)\n",
    "data_backup.dropna(axis=0, inplace=True)"
   ]
  },
  {
   "cell_type": "code",
   "execution_count": 11,
   "id": "724fd5ba-ca82-47c9-81bd-dca0124c6667",
   "metadata": {},
   "outputs": [],
   "source": [
    "inputs_close_backup = data_backup.iloc[:, [6,7,8,9,10,11,12,13,14,15,16,17,18,19,20,21,22,23,24,25]]\n",
    "inputs_high_backup = data_backup.iloc[:, [26,27,28,29,30,31,32,33,34,35,36,37,38,39,40,41,42,43,44,45]]\n",
    "inputs_low_backup = data_backup.iloc[:, [46,47,48,49,50,51,52,53,54,55,56,57,58,59,60,61,62,63,64,65]]"
   ]
  },
  {
   "cell_type": "code",
   "execution_count": 28,
   "id": "9c56441d-2099-484c-8c2d-e9e07d4333ae",
   "metadata": {},
   "outputs": [],
   "source": [
    "df_pred = dict()\n",
    "\n",
    "scaler_input = MinMaxScaler()\n",
    "data_backup_c_scaled = scaler_input.fit_transform(inputs_close_backup)\n",
    "scaler_target = MinMaxScaler()\n",
    "target_backup_c_scaled = scaler_target.fit_transform(data_backup[['close']])\n",
    "\n",
    "y_pred_c_backup = random_tree_close.predict(data_backup_c_scaled)\n",
    "y_pred_c_backup = y_pred_c_backup.reshape(-1,1)\n",
    "y_pred_c_backup = scaler_target.inverse_transform(y_pred_c_backup)\n",
    "\n",
    "scaler_input = MinMaxScaler()\n",
    "data_backup_h_scaled = scaler_input.fit_transform(inputs_high_backup)\n",
    "scaler_target = MinMaxScaler()\n",
    "target_backup_c_scaled = scaler_target.fit_transform(data_backup[['high']])\n",
    "\n",
    "y_pred_h_backup = random_tree_high.predict(data_backup_h_scaled)\n",
    "y_pred_h_backup = y_pred_h_backup.reshape(-1,1)\n",
    "y_pred_h_backup = scaler_target.inverse_transform(y_pred_h_backup)\n",
    "\n",
    "scaler_input = MinMaxScaler()\n",
    "data_backup_l_scaled = scaler_input.fit_transform(inputs_low_backup)\n",
    "scaler_target = MinMaxScaler()\n",
    "target_backup_c_scaled = scaler_target.fit_transform(data_backup[['low']])\n",
    "\n",
    "y_pred_l_backup = random_tree_low.predict(data_backup_l_scaled)\n",
    "y_pred_l_backup = y_pred_l_backup.reshape(-1,1)\n",
    "y_pred_l_backup = scaler_target.inverse_transform(y_pred_l_backup)\n",
    "\n",
    "df_pred = {'pred_c':y_pred_c_backup, 'pred_h':y_pred_h_backup, 'pred_l':y_pred_l_backup}"
   ]
  },
  {
   "cell_type": "code",
   "execution_count": 29,
   "id": "27bff62d-4ec8-4bf3-ad06-adbdd60ce323",
   "metadata": {},
   "outputs": [
    {
     "name": "stdout",
     "output_type": "stream",
     "text": [
      "METRICS FOR NASDAQ INDEX:\n",
      "score close: 94.5584431899241\n",
      "score high: 76.04240560678421\n",
      "score low: 88.01970598916931\n",
      "- R2 METRICS FOR NASDAQ INDEX:\n",
      "r2 close: 0.9989852858789718\n",
      "r2 high: 0.9992946272841878\n",
      "r2 low: 0.9991219265079113\n"
     ]
    }
   ],
   "source": [
    "data_backup.reset_index(inplace=True)\n",
    "\n",
    "from sklearn.metrics import mean_squared_error, accuracy_score, r2_score, mean_absolute_error\n",
    "\n",
    "score_c = mean_absolute_error(data_backup[['close']], df_pred['pred_c'])\n",
    "r2_c = r2_score(data_backup[['close']], df_pred['pred_c'])\n",
    "data_backup['mae_c'] = score_c\n",
    "\n",
    "score_h = mean_absolute_error(data_backup[['high']], df_pred['pred_h'])\n",
    "r2_h = r2_score(data_backup[['high']], df_pred['pred_h'])\n",
    "data_backup['mae_h'] = score_h\n",
    "\n",
    "score_l = mean_absolute_error(data_backup[['low']], df_pred['pred_l'])\n",
    "r2_l = r2_score(data_backup[['low']], df_pred['pred_l'])\n",
    "data_backup['mae_l'] = score_l\n",
    "\n",
    "print(f'METRICS FOR NASDAQ INDEX:')\n",
    "print(f'score close: {score_c}')\n",
    "print(f'score high: {score_h}')\n",
    "print(f'score low: {score_l}')\n",
    "\n",
    "print(f'- R2 METRICS FOR NASDAQ INDEX:')\n",
    "print(f'r2 close: {r2_c}')\n",
    "print(f'r2 high: {r2_h}')\n",
    "print(f'r2 low: {r2_l}')"
   ]
  },
  {
   "cell_type": "code",
   "execution_count": 37,
   "id": "99900c08-20ba-4207-bd37-e5b027c62f96",
   "metadata": {},
   "outputs": [],
   "source": [
    "remaining_columns = ('date','open','high','low','close','volume','mae_c','mae_h','mae_l')\n",
    "\n",
    "data_backup = data_backup[list(remaining_columns)]\n",
    "\n",
    "y_pred_c_series = pd.Series(df_pred['pred_c'].reshape(1,-1)[0])\n",
    "y_pred_h_series = pd.Series(df_pred['pred_h'].reshape(1,-1)[0])\n",
    "y_pred_l_series = pd.Series(df_pred['pred_l'].reshape(1,-1)[0])\n",
    "data_backup['pred_close'] = y_pred_c_series\n",
    "data_backup['pred_high'] = y_pred_h_series\n",
    "data_backup['pred_low'] = y_pred_l_series\n",
    "\n",
    "data_backup.to_excel(f'data_w_pred_m3/index_w_pred_m3.xlsx')"
   ]
  },
  {
   "cell_type": "code",
   "execution_count": null,
   "id": "701fa61b-701b-4fbc-bd6f-a2bfbf51cba3",
   "metadata": {},
   "outputs": [],
   "source": []
  },
  {
   "cell_type": "code",
   "execution_count": null,
   "id": "ac484f15-2c09-4850-933f-f56371a52cb7",
   "metadata": {},
   "outputs": [],
   "source": []
  },
  {
   "cell_type": "code",
   "execution_count": null,
   "id": "4a764471-9ce8-4f8e-b098-f92a5087ef48",
   "metadata": {},
   "outputs": [],
   "source": []
  },
  {
   "cell_type": "code",
   "execution_count": null,
   "id": "5b83c380-8323-4e7e-985b-7ac317b7f1dc",
   "metadata": {},
   "outputs": [],
   "source": []
  }
 ],
 "metadata": {
  "kernelspec": {
   "display_name": "Python 3 (ipykernel)",
   "language": "python",
   "name": "python3"
  },
  "language_info": {
   "codemirror_mode": {
    "name": "ipython",
    "version": 3
   },
   "file_extension": ".py",
   "mimetype": "text/x-python",
   "name": "python",
   "nbconvert_exporter": "python",
   "pygments_lexer": "ipython3",
   "version": "3.10.12"
  }
 },
 "nbformat": 4,
 "nbformat_minor": 5
}
