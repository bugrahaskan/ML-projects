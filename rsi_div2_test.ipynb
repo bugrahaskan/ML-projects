{
 "cells": [
  {
   "cell_type": "code",
   "execution_count": 2,
   "id": "33bd40b1-1fd7-4054-a600-9271eb276b9c",
   "metadata": {},
   "outputs": [],
   "source": [
    "import pandas as pd\n",
    "\n",
    "# Load your main dataset\n",
    "divergences_df = pd.read_csv('detected_divergences_for_multiple_stocks_with_next_bar_close.csv')\n",
    "divergences_df['Second Date'] = pd.to_datetime(divergences_df['Second Date'])\n",
    "divergences_df.sort_values(by=['Ticker', 'Second Date'], inplace=True)\n",
    "divergences_df.reset_index(drop=True, inplace=True)\n",
    "\n",
    "# Initialize columns for adjusted investments and position prices\n",
    "divergences_df['Adjusted Investment'] = 1000  # Assuming an initial investment of 1000 units\n",
    "divergences_df['Position Entrance Price'] = None\n",
    "divergences_df['Position Closing Price'] = None\n",
    "divergences_df['Final Investment Value'] = None  # New column for the final investment value after position closure\n",
    "\n",
    "current_entrance_price = None\n",
    "current_investment_value = 1000  # Starting investment value\n",
    "fee_rate = 0.001  # Fee rate of 1%\n",
    "\n",
    "# Initialize a counter for the number of times additional investment is added\n",
    "additional_investment_count = 0"
   ]
  },
  {
   "cell_type": "code",
   "execution_count": 4,
   "id": "ab0c11fb-e7b7-491a-81ff-6b0ed6ba3d9f",
   "metadata": {},
   "outputs": [],
   "source": [
    "# Function to handle additional investment if value drops below zero\n",
    "def handle_additional_investment(value):\n",
    "    global additional_investment_count\n",
    "    if value < 0:\n",
    "        additional_investment_count += 1\n",
    "        return 1000 + value  # Add additional $1000 if value drops below zero\n",
    "    return value"
   ]
  },
  {
   "cell_type": "code",
   "execution_count": null,
   "id": "b0d7eaa8-ab2c-45bb-b0ae-1a6539ff9fb4",
   "metadata": {},
   "outputs": [],
   "source": []
  },
  {
   "cell_type": "code",
   "execution_count": null,
   "id": "16b3ed20-a275-43e3-ad13-9a356f7ba2cd",
   "metadata": {},
   "outputs": [],
   "source": []
  },
  {
   "cell_type": "code",
   "execution_count": null,
   "id": "e55cb941-73f6-41ef-85db-248da549bd2c",
   "metadata": {},
   "outputs": [],
   "source": []
  },
  {
   "cell_type": "code",
   "execution_count": null,
   "id": "634ba947-937a-4bfa-99d1-2445c93a0e06",
   "metadata": {},
   "outputs": [],
   "source": []
  },
  {
   "cell_type": "code",
   "execution_count": null,
   "id": "b5815b62-8725-4f96-8190-39791af33ec9",
   "metadata": {},
   "outputs": [],
   "source": []
  },
  {
   "cell_type": "code",
   "execution_count": null,
   "id": "f4ab58f9-b68c-4a7d-a8aa-28dbec2751cb",
   "metadata": {},
   "outputs": [],
   "source": []
  },
  {
   "cell_type": "code",
   "execution_count": null,
   "id": "d0e0f971-056e-4617-8907-dc973c4b2686",
   "metadata": {},
   "outputs": [],
   "source": []
  },
  {
   "cell_type": "markdown",
   "id": "bd3a974f-b31c-45a8-8e24-6f8a7aca6160",
   "metadata": {},
   "source": [
    "#### notlar:\n",
    "\n",
    "- fee rate of %1: 0.0001?\n",
    "- gain_loss_percentage -= fee_rate * (1 if gain_loss_percentage > 0 else 1) is not correct. 3 yerde."
   ]
  },
  {
   "cell_type": "code",
   "execution_count": null,
   "id": "dbed6474-2591-4eb8-9da0-d79da7a7fe34",
   "metadata": {},
   "outputs": [],
   "source": []
  },
  {
   "cell_type": "code",
   "execution_count": null,
   "id": "2cde22d3-b477-40c1-a782-cde9cbc70104",
   "metadata": {},
   "outputs": [],
   "source": []
  },
  {
   "cell_type": "code",
   "execution_count": null,
   "id": "d62ff111-133a-4c8f-8870-0fce053c1421",
   "metadata": {},
   "outputs": [],
   "source": []
  },
  {
   "cell_type": "code",
   "execution_count": null,
   "id": "890ae2dd-3ab8-440d-a128-56c481cf0871",
   "metadata": {},
   "outputs": [],
   "source": []
  }
 ],
 "metadata": {
  "kernelspec": {
   "display_name": "Python 3 (ipykernel)",
   "language": "python",
   "name": "python3"
  },
  "language_info": {
   "codemirror_mode": {
    "name": "ipython",
    "version": 3
   },
   "file_extension": ".py",
   "mimetype": "text/x-python",
   "name": "python",
   "nbconvert_exporter": "python",
   "pygments_lexer": "ipython3",
   "version": "3.10.12"
  }
 },
 "nbformat": 4,
 "nbformat_minor": 5
}
