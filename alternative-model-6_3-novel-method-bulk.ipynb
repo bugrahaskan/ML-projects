{
 "cells": [
  {
   "cell_type": "code",
   "execution_count": 1,
   "id": "78094f3d-9814-4780-8886-b692af3ed902",
   "metadata": {},
   "outputs": [
    {
     "name": "stdout",
     "output_type": "stream",
     "text": [
      "Data imported and copied.\n"
     ]
    }
   ],
   "source": [
    "import pandas as pd\n",
    "\n",
    "data = pd.read_csv('data/^NDX_raw_data.csv')\n",
    "data.rename(columns={'Date': 'date', 'Open':'open', 'High':'high', 'Low':'low', 'Close':'close', 'Volume':'volume'}, inplace=True)\n",
    "\n",
    "data_backup = data.iloc[3524:]\n",
    "\n",
    "data = data.iloc[:3524]\n",
    "data_copy = data.copy()\n",
    "\n",
    "print('Data imported and copied.', flush=True)"
   ]
  },
  {
   "cell_type": "code",
   "execution_count": 2,
   "id": "db92254e-9cc3-4333-a29d-6428c074cc76",
   "metadata": {},
   "outputs": [],
   "source": [
    "import numpy as np\n",
    "\n",
    "## Creating sequences\n",
    "def create_dataset(dataset, time_step=1, output_step=1):\n",
    "    dataX, dataY = [], []\n",
    "    for i in range(len(dataset)-time_step-output_step):\n",
    "        a = dataset[i:(i+time_step), 0]\n",
    "        b = dataset[(i+time_step):(i+time_step)+output_step, 0]\n",
    "        dataX.append(a)\n",
    "        dataY.append(b)\n",
    "\n",
    "    return np.array(dataX), np.array(dataY)\n",
    "\n",
    "period = 60\n",
    "trend_period = 14\n",
    "rsi_period = 14\n",
    "num_features = 3\n",
    "input_period = 46\n",
    "output_step = 7\n",
    "units = 512"
   ]
  },
  {
   "cell_type": "code",
   "execution_count": 3,
   "id": "1d9d8f90-ded5-447b-a745-1cd01a9f6959",
   "metadata": {},
   "outputs": [
    {
     "name": "stdout",
     "output_type": "stream",
     "text": [
      "Initializing the Model...\n"
     ]
    },
    {
     "name": "stderr",
     "output_type": "stream",
     "text": [
      "2024-05-28 04:44:33.077130: I external/local_tsl/tsl/cuda/cudart_stub.cc:31] Could not find cuda drivers on your machine, GPU will not be used.\n",
      "2024-05-28 04:44:33.534635: E external/local_xla/xla/stream_executor/cuda/cuda_dnn.cc:9261] Unable to register cuDNN factory: Attempting to register factory for plugin cuDNN when one has already been registered\n",
      "2024-05-28 04:44:33.534806: E external/local_xla/xla/stream_executor/cuda/cuda_fft.cc:607] Unable to register cuFFT factory: Attempting to register factory for plugin cuFFT when one has already been registered\n",
      "2024-05-28 04:44:33.611508: E external/local_xla/xla/stream_executor/cuda/cuda_blas.cc:1515] Unable to register cuBLAS factory: Attempting to register factory for plugin cuBLAS when one has already been registered\n",
      "2024-05-28 04:44:33.768817: I external/local_tsl/tsl/cuda/cudart_stub.cc:31] Could not find cuda drivers on your machine, GPU will not be used.\n",
      "2024-05-28 04:44:35.873152: W tensorflow/compiler/tf2tensorrt/utils/py_utils.cc:38] TF-TRT Warning: Could not find TensorRT\n"
     ]
    },
    {
     "name": "stdout",
     "output_type": "stream",
     "text": [
      "Model has been initialized.\n"
     ]
    }
   ],
   "source": [
    "print('Initializing the Model...', flush=True)\n",
    "\n",
    "import numpy as np\n",
    "from sklearn.preprocessing import MinMaxScaler, StandardScaler\n",
    "from tensorflow.keras import Input\n",
    "from tensorflow.keras.models import Sequential, Model\n",
    "from tensorflow.keras.layers import Bidirectional, LSTM, Dense, Dropout, Conv1D, AveragePooling1D, Flatten, Reshape, SimpleRNN, GRU, MaxPooling1D, concatenate\n",
    "from tensorflow.keras.callbacks import EarlyStopping, ModelCheckpoint\n",
    "from tensorflow.keras.initializers import Zeros\n",
    "\n",
    "inputs = Input(shape=(input_period, num_features))\n",
    "\n",
    "model_cnn = Sequential([\n",
    "    Conv1D(filters=352, kernel_size=1, activation='relu'),\n",
    "    Conv1D(filters=352, kernel_size=1, activation='relu'),\n",
    "    MaxPooling1D(pool_size=3),\n",
    "    Dense(units=128),\n",
    "    Flatten()\n",
    "    #Dense(units=output_step),\n",
    "    #Reshape((output_step,1))\n",
    "])\n",
    "\n",
    "model_bilstm = Sequential([\n",
    "    Bidirectional(LSTM(units=384, return_sequences=True, activation='tanh', recurrent_activation='sigmoid')),\n",
    "    Dropout(0.2),\n",
    "    Flatten()\n",
    "    #Dense(units=output_step),\n",
    "    #Reshape((output_step,1))\n",
    "])\n",
    "\n",
    "model_bigru = Sequential([\n",
    "    Bidirectional(GRU(units=128, activation='tanh', return_sequences=True)),\n",
    "    Dropout(0.4),\n",
    "    Flatten()\n",
    "])\n",
    "\n",
    "model_multilayer_lstm = Sequential([\n",
    "    LSTM(units=64, return_sequences=True, activation='tanh', recurrent_activation='sigmoid'),\n",
    "    Dropout(0.2),\n",
    "    LSTM(units=64, return_sequences=True, activation='tanh', recurrent_activation='sigmoid'),\n",
    "    Flatten()\n",
    "])\n",
    "\n",
    "output_cnn = model_cnn(inputs)\n",
    "output_bilstm = model_bilstm(inputs)\n",
    "output_bigru = model_bigru(inputs)\n",
    "output_multilayer_lstm = model_multilayer_lstm(inputs)\n",
    "\n",
    "concatenated_outputs = concatenate([output_cnn, output_bilstm, output_bigru, output_multilayer_lstm])\n",
    "\n",
    "main_model = Sequential([\n",
    "    Input(shape=(concatenated_outputs.shape[1],)),\n",
    "    Dense(units=output_step),\n",
    "    Reshape((output_step,1))\n",
    "])\n",
    "\n",
    "final_output = main_model(concatenated_outputs)\n",
    "\n",
    "functional_pipeline = Model(inputs=inputs, outputs=final_output)\n",
    "\n",
    "# Compile the pipeline model\n",
    "functional_pipeline.compile(optimizer='adam', loss='mean_squared_error', metrics=['accuracy'])\n",
    "\n",
    "print('Model has been initialized.', flush=True)"
   ]
  },
  {
   "cell_type": "code",
   "execution_count": 4,
   "id": "2ef33120-6f01-4e2a-8087-9fcc20188cb0",
   "metadata": {},
   "outputs": [
    {
     "name": "stdout",
     "output_type": "stream",
     "text": [
      "Backup: Weigths for the best epoch has been loaded.\n"
     ]
    }
   ],
   "source": [
    "best_epoch_backup = 35\n",
    "\n",
    "# Load the weights of the model at the chosen epoch\n",
    "functional_pipeline.load_weights(f'model_weights_6_3_main/model_weights_epoch_{best_epoch_backup:02d}.h5')\n",
    "print('Backup: Weigths for the best epoch has been loaded.')"
   ]
  },
  {
   "cell_type": "code",
   "execution_count": 5,
   "id": "578ce704-4cca-4913-b914-73bb20e4ea13",
   "metadata": {},
   "outputs": [
    {
     "name": "stdout",
     "output_type": "stream",
     "text": [
      "Importing the bulk data...\n",
      "Bulk data has been imported.\n"
     ]
    }
   ],
   "source": [
    "print('Importing the bulk data...', flush=True)\n",
    "\n",
    "import os\n",
    "import re\n",
    "\n",
    "directory = 'data-china-from2018-test'\n",
    "\n",
    "df_data = dict()\n",
    "\n",
    "for file in os.listdir(directory):\n",
    "    symbol_pattern = re.match(r'([^_]+)_', file)\n",
    "    symbol = symbol_pattern.group(1)\n",
    "    df_data[symbol] = pd.read_csv(os.path.join(directory, file))\n",
    "    df_data[symbol].rename(columns={'Date': 'date', 'Open':'open', 'High':'high', 'Low':'low', 'Close':'close', 'Volume':'volume'}, inplace=True)\n",
    "\n",
    "print('Bulk data has been imported.', flush=True)"
   ]
  },
  {
   "cell_type": "code",
   "execution_count": 6,
   "id": "9c4996f0-bb24-44d6-8eee-17ff52d90c3a",
   "metadata": {},
   "outputs": [
    {
     "name": "stdout",
     "output_type": "stream",
     "text": [
      "Creating the data sets...\n",
      "Data sets has been created.\n"
     ]
    }
   ],
   "source": [
    "print('Creating the data sets...', flush=True)\n",
    "\n",
    "dict_X_test, dict_y_test = dict(), dict()\n",
    "\n",
    "for symbol in df_data:\n",
    "    X_test, y_test = create_dataset(df_data[symbol][['close']].to_numpy(), time_step=period, output_step=output_step)\n",
    "\n",
    "    dict_X_test[symbol] = X_test\n",
    "    dict_y_test[symbol] = y_test\n",
    "\n",
    "print('Data sets has been created.', flush=True)"
   ]
  },
  {
   "cell_type": "code",
   "execution_count": 7,
   "id": "aba385a5-f88d-44aa-a44b-42b844940dff",
   "metadata": {},
   "outputs": [
    {
     "name": "stdout",
     "output_type": "stream",
     "text": [
      "Decomposing data...\n",
      "Decomposition has been applied.\n"
     ]
    }
   ],
   "source": [
    "print('Decomposing data...', flush=True)\n",
    "\n",
    "from statsmodels.tsa.seasonal import seasonal_decompose\n",
    "\n",
    "dict_decompositions = dict()\n",
    "dict_trends = dict()\n",
    "dict_seasons = dict()\n",
    "\n",
    "for symbol in df_data:\n",
    "    decompositions_test = np.array([seasonal_decompose(dict_X_test[symbol][i], model='additive', period=14) for i in range(dict_X_test[symbol].shape[0])])\n",
    "    trends_test = np.array([decompositions_test[i].trend for i in range(decompositions_test.shape[0])])\n",
    "    seasons_test = np.array([decompositions_test[i].seasonal for i in range(decompositions_test.shape[0])])\n",
    "\n",
    "    dict_decompositions[symbol] = decompositions_test\n",
    "    dict_trends[symbol] = trends_test\n",
    "    dict_seasons[symbol] = seasons_test\n",
    "\n",
    "from talib import RSI\n",
    "\n",
    "dict_rsi = dict()\n",
    "\n",
    "for symbol in df_data:\n",
    "    rsi_test = np.array([ RSI(dict_X_test[symbol][i]) for i in range(dict_X_test[symbol].shape[0]) ])\n",
    "\n",
    "    dict_rsi[symbol] = rsi_test\n",
    "\n",
    "print('Decomposition has been applied.', flush=True)"
   ]
  },
  {
   "cell_type": "code",
   "execution_count": 8,
   "id": "6b47c9fe-a412-44f1-9c8f-f3a685daca02",
   "metadata": {},
   "outputs": [
    {
     "data": {
      "text/plain": [
       "((46,), (1547, 60))"
      ]
     },
     "execution_count": 8,
     "metadata": {},
     "output_type": "execute_result"
    }
   ],
   "source": [
    "dict_rsi['000063.SZ'][0][14:].shape, dict_seasons['000063.SZ'].shape"
   ]
  },
  {
   "cell_type": "code",
   "execution_count": 9,
   "id": "86e5855b-8b63-44ca-8bbc-d9826c6f5419",
   "metadata": {},
   "outputs": [
    {
     "name": "stdout",
     "output_type": "stream",
     "text": [
      "Scaling data...\n",
      "Data scaled.\n"
     ]
    }
   ],
   "source": [
    "print('Scaling data...', flush=True)\n",
    "\n",
    "dict_trends_dropna = dict()\n",
    "dict_seasons_cropped = dict()\n",
    "dict_rsi_dropna = dict()\n",
    "\n",
    "for symbol in df_data:\n",
    "    trends_test_dropna = list()\n",
    "    seasons_test_cropped = list()\n",
    "    rsi_test_dropna = list()\n",
    "    \n",
    "    for trend in dict_trends[symbol]:\n",
    "        trends_test_dropna.append(trend[~np.isnan(trend)])\n",
    "\n",
    "    for season in dict_seasons[symbol]:\n",
    "        seasons_test_cropped.append(season[trend_period:])\n",
    "\n",
    "    for rsi in dict_rsi[symbol]:\n",
    "        rsi_test_dropna.append(rsi[rsi_period:])\n",
    "\n",
    "    trends_test_dropna = np.array(trends_test_dropna)\n",
    "    seasons_test_cropped = np.array(seasons_test_cropped)\n",
    "    rsi_test_dropna = np.array(rsi_test_dropna)\n",
    "\n",
    "    dict_trends_dropna[symbol] = trends_test_dropna\n",
    "    dict_seasons_cropped[symbol] = seasons_test_cropped\n",
    "    dict_rsi_dropna[symbol] = rsi_test_dropna\n",
    "\n",
    "from sklearn.preprocessing import MinMaxScaler\n",
    "\n",
    "dict_scalers_trend = dict()\n",
    "dict_scalers_seasonal = dict()\n",
    "dict_scalers_target = dict()\n",
    "dict_trends_scaled = dict()\n",
    "dict_seasons_scaled = dict()\n",
    "dict_targets_scaled = dict()\n",
    "dict_rsi_scaled = dict()\n",
    "\n",
    "for symbol in df_data:\n",
    "    scaler_trend = list(MinMaxScaler() for i in range(dict_trends_dropna[symbol].shape[0]))\n",
    "    trends_test_scaled = list()\n",
    "\n",
    "    scaler_seasonal = list(MinMaxScaler() for i in range(dict_seasons_cropped[symbol].shape[0]))\n",
    "    seasons_test_scaled = list()\n",
    "\n",
    "    scaler_rsi = list(MinMaxScaler() for i in range(dict_rsi_dropna[symbol].shape[0]))\n",
    "    rsi_test_scaled = list()\n",
    "\n",
    "    # we use target values only for comparison issue here\n",
    "    scaler_target = list(MinMaxScaler() for i in range(dict_y_test[symbol].shape[0]))\n",
    "    target_test_scaled = list()\n",
    "\n",
    "    for i in range(dict_trends_dropna[symbol].shape[0]):\n",
    "        trends_test_scaled.append(scaler_trend[i].fit_transform(dict_trends_dropna[symbol][i].reshape(-1,1)))\n",
    "\n",
    "    for j in range(dict_y_test[symbol].shape[0]):\n",
    "        target_test_scaled.append(scaler_target[j].fit_transform(dict_y_test[symbol][j].reshape(-1,1)))\n",
    "\n",
    "    for j in range(dict_seasons_cropped[symbol].shape[0]):\n",
    "        seasons_test_scaled.append(scaler_seasonal[j].fit_transform(dict_seasons_cropped[symbol][j].reshape(-1,1)))\n",
    "\n",
    "    for i in range(dict_rsi_dropna[symbol].shape[0]):\n",
    "        rsi_test_scaled.append(scaler_rsi[i].fit_transform(dict_rsi_dropna[symbol][i].reshape(-1,1)))\n",
    "\n",
    "    trends_test_scaled = np.array(trends_test_scaled)\n",
    "    target_test_scaled = np.array(target_test_scaled)\n",
    "    seasons_test_scaled = np.array(seasons_test_scaled)\n",
    "    rsi_test_scaled = np.array(rsi_test_scaled)\n",
    "\n",
    "    dict_scalers_trend[symbol] = scaler_trend\n",
    "    dict_scalers_seasonal[symbol] = scaler_seasonal\n",
    "    dict_scalers_target[symbol] = scaler_target\n",
    "    dict_trends_scaled[symbol] = trends_test_scaled\n",
    "    dict_seasons_scaled[symbol] = seasons_test_scaled\n",
    "    dict_targets_scaled[symbol] = target_test_scaled\n",
    "    dict_rsi_scaled[symbol] = rsi_test_scaled\n",
    "\n",
    "print('Data scaled.', flush=True)"
   ]
  },
  {
   "cell_type": "code",
   "execution_count": 10,
   "id": "31e51fce-1dd9-42af-9295-3b6188430e88",
   "metadata": {},
   "outputs": [
    {
     "data": {
      "text/plain": [
       "(1547, 46, 1)"
      ]
     },
     "execution_count": 10,
     "metadata": {},
     "output_type": "execute_result"
    }
   ],
   "source": [
    "dict_seasons_scaled['000063.SZ'].shape"
   ]
  },
  {
   "cell_type": "code",
   "execution_count": 11,
   "id": "6441b1c2-665b-49af-9311-4acba2094913",
   "metadata": {},
   "outputs": [
    {
     "name": "stdout",
     "output_type": "stream",
     "text": [
      "Preparing input data...\n",
      "Input data has been prepared.\n"
     ]
    }
   ],
   "source": [
    "print('Preparing input data...', flush=True)\n",
    "\n",
    "dict_x_input = dict()\n",
    "\n",
    "for symbol in df_data:\n",
    "    x_input = list()\n",
    "\n",
    "    for trend, season, rsi in zip(dict_trends_scaled[symbol], dict_seasons_scaled[symbol], dict_rsi_scaled[symbol]):\n",
    "        x_input.append(np.hstack((trend, season, rsi)))\n",
    "\n",
    "    x_input = np.array(x_input)\n",
    "\n",
    "    dict_x_input[symbol] = x_input\n",
    "\n",
    "print('Input data has been prepared.', flush=True)"
   ]
  },
  {
   "cell_type": "code",
   "execution_count": 12,
   "id": "c2173224-5630-4a3d-bf6c-ce0d6c4495d8",
   "metadata": {},
   "outputs": [
    {
     "data": {
      "text/plain": [
       "array([[[0.        , 0.52746127, 0.48967936],\n",
       "        [0.01041305, 0.        , 0.76439784],\n",
       "        [0.02256161, 0.24658932, 0.62012574],\n",
       "        ...,\n",
       "        [0.99427282, 0.        , 0.20101073],\n",
       "        [1.        , 0.24658932, 0.08914784],\n",
       "        [0.9915828 , 0.10505028, 0.        ]],\n",
       "\n",
       "       [[0.        , 0.        , 0.69263855],\n",
       "        [0.0122764 , 0.22743936, 0.54154198],\n",
       "        [0.02256518, 0.09689215, 0.59854764],\n",
       "        ...,\n",
       "        [1.        , 0.22743936, 0.09291992],\n",
       "        [0.99149422, 0.09689215, 0.        ],\n",
       "        [0.97626566, 0.29545251, 0.04657808]],\n",
       "\n",
       "       [[0.        , 0.22743936, 0.56294119],\n",
       "        [0.01041666, 0.09689215, 0.6159222 ],\n",
       "        [0.02577533, 0.29545251, 0.8036629 ],\n",
       "        ...,\n",
       "        [0.99138851, 0.09689215, 0.        ],\n",
       "        [0.97597067, 0.29545251, 0.04679501],\n",
       "        [0.96212124, 0.20920372, 0.1735101 ]],\n",
       "\n",
       "       ...,\n",
       "\n",
       "       [[0.06639915, 1.        , 0.08060246],\n",
       "        [0.04820297, 0.82116166, 0.        ],\n",
       "        [0.02480786, 0.50933032, 0.03473742],\n",
       "        ...,\n",
       "        [0.6552328 , 0.82116166, 0.20897322],\n",
       "        [0.64720839, 0.50933032, 0.43520545],\n",
       "        [0.64935578, 0.37008644, 0.32177789]],\n",
       "\n",
       "       [[0.04820297, 0.82116166, 0.        ],\n",
       "        [0.02480786, 0.50933032, 0.03322259],\n",
       "        [0.01068038, 0.37008644, 0.26306236],\n",
       "        ...,\n",
       "        [0.64720839, 0.50933032, 0.44628582],\n",
       "        [0.64935578, 0.37008644, 0.33211282],\n",
       "        [0.66071428, 0.32982822, 0.54721606]],\n",
       "\n",
       "       [[0.02480786, 0.50933032, 0.        ],\n",
       "        [0.01068038, 0.37008644, 0.23216176],\n",
       "        [0.00395569, 0.32982822, 0.24442362],\n",
       "        ...,\n",
       "        [0.64935578, 0.37008644, 0.37507121],\n",
       "        [0.66071428, 0.32982822, 0.58515995],\n",
       "        [0.68586121, 0.        , 0.5242664 ]]])"
      ]
     },
     "execution_count": 12,
     "metadata": {},
     "output_type": "execute_result"
    }
   ],
   "source": [
    "dict_x_input['000063.SZ']"
   ]
  },
  {
   "cell_type": "code",
   "execution_count": 13,
   "id": "0f294533-1fac-4401-9afb-c09c32069138",
   "metadata": {},
   "outputs": [
    {
     "name": "stdout",
     "output_type": "stream",
     "text": [
      "Predicting...\n"
     ]
    },
    {
     "name": "stderr",
     "output_type": "stream",
     "text": [
      "0it [00:00, ?it/s]"
     ]
    },
    {
     "name": "stdout",
     "output_type": "stream",
     "text": [
      "100\n",
      "200\n",
      "300\n",
      "400\n",
      "500\n",
      "600\n",
      "700\n",
      "800\n",
      "900\n",
      "1000\n",
      "1100\n",
      "1200\n",
      "1300\n",
      "1400\n",
      "1500\n"
     ]
    },
    {
     "name": "stderr",
     "output_type": "stream",
     "text": [
      "1it [02:49, 169.06s/it]"
     ]
    },
    {
     "name": "stdout",
     "output_type": "stream",
     "text": [
      "100\n",
      "200\n",
      "300\n",
      "400\n",
      "500\n",
      "600\n",
      "700\n",
      "800\n",
      "900\n",
      "1000\n",
      "1100\n",
      "1200\n",
      "1300\n",
      "1400\n",
      "1500\n"
     ]
    },
    {
     "name": "stderr",
     "output_type": "stream",
     "text": [
      "2it [05:41, 171.26s/it]"
     ]
    },
    {
     "name": "stdout",
     "output_type": "stream",
     "text": [
      "100\n",
      "200\n",
      "300\n",
      "400\n",
      "500\n",
      "600\n",
      "700\n",
      "800\n",
      "900\n",
      "1000\n",
      "1100\n",
      "1200\n",
      "1300\n",
      "1400\n",
      "1500\n"
     ]
    },
    {
     "name": "stderr",
     "output_type": "stream",
     "text": [
      "3it [08:35, 171.97s/it]\n"
     ]
    }
   ],
   "source": [
    "print('Predicting...', flush=True)\n",
    "\n",
    "dict_predictions = dict()\n",
    "\n",
    "from tqdm import tqdm\n",
    "for nb, symbol in tqdm(enumerate(df_data)):\n",
    "    trend_predictions = list()\n",
    "\n",
    "    for j in range(dict_x_input[symbol].shape[0]):\n",
    "        if (j+1) % 100 == 0:\n",
    "            print(j+1)\n",
    "            \n",
    "        trend_predictions.append(\n",
    "            dict_scalers_trend[symbol][j].inverse_transform(\n",
    "                functional_pipeline.predict(dict_x_input[symbol][j].reshape(trends_test_scaled[j].shape[1], input_period, num_features), verbose=0)[0].reshape(1,output_step)\n",
    "            )\n",
    "        )\n",
    "    \n",
    "    trend_predictions = np.array(trend_predictions)\n",
    "\n",
    "    dict_predictions[symbol] = trend_predictions"
   ]
  },
  {
   "cell_type": "code",
   "execution_count": 14,
   "id": "221ce7d0-b117-4906-bcd6-22944779b627",
   "metadata": {},
   "outputs": [
    {
     "name": "stdout",
     "output_type": "stream",
     "text": [
      "Adding noise to data...\n",
      "Noise to data has been added.\n"
     ]
    }
   ],
   "source": [
    "print('Adding noise to data...', flush=True)\n",
    "\n",
    "dict_std_dev_noise = dict()\n",
    "\n",
    "for symbol in df_data:\n",
    "    noise_high, _ = create_dataset(df_data[symbol][['high']].to_numpy(), time_step=period, output_step=output_step)\n",
    "    noise_low, _ = create_dataset(df_data[symbol][['low']].to_numpy(), time_step=period, output_step=output_step)\n",
    "\n",
    "    std_dev_high = np.array([np.std(val) for val in noise_high])\n",
    "    std_dev_low = np.array([np.std(val) for val in noise_low])\n",
    "    \n",
    "    std_dev_noise = np.array([np.maximum(val_high, val_low) for val_high, val_low in zip(std_dev_high, std_dev_low)])\n",
    "\n",
    "    dict_std_dev_noise[symbol] = std_dev_noise\n",
    "\n",
    "print('Noise to data has been added.', flush=True)"
   ]
  },
  {
   "cell_type": "code",
   "execution_count": 15,
   "id": "5457927c-f158-49e2-b797-02beb8d42668",
   "metadata": {},
   "outputs": [
    {
     "name": "stdout",
     "output_type": "stream",
     "text": [
      "Constructing observations for data...\n",
      "Observations have been constructed.\n"
     ]
    }
   ],
   "source": [
    "print('Constructing observations for data...', flush=True)\n",
    "\n",
    "dict_observations = dict()\n",
    "\n",
    "for symbol in df_data:\n",
    "    observation = pd.Series([\n",
    "        dict_predictions[symbol][i] for i in range(dict_predictions[symbol].shape[0])\n",
    "    ], index=df_data[symbol].index[output_step:-period])\n",
    "\n",
    "    dict_observations[symbol] = observation\n",
    "\n",
    "print('Observations have been constructed.', flush=True)"
   ]
  },
  {
   "cell_type": "code",
   "execution_count": 17,
   "id": "42ae4345-c0d9-41f8-98e5-4246e4a33887",
   "metadata": {},
   "outputs": [
    {
     "name": "stdout",
     "output_type": "stream",
     "text": [
      "1 done for 000063.SZ\n",
      "2 done for 000001.SS\n",
      "3 done for 000002.SZ\n",
      "Done.\n"
     ]
    }
   ],
   "source": [
    "data_output = df_data.copy()\n",
    "\n",
    "count = 0\n",
    "\n",
    "for symbol in df_data:\n",
    "    count += 1\n",
    "\n",
    "    _obs = [dict_observations[symbol][k+7] for k in range(dict_observations[symbol].shape[0])]\n",
    "    _res = []\n",
    "    for obs in _obs:\n",
    "        _res.append(obs.reshape(-1,output_step)[0])\n",
    "    \n",
    "    observation_df = pd.DataFrame([r for r in _res], columns=[f'pred_{i}' for i in range(output_step)], index=df_data[symbol].index[7:-60])\n",
    "    data_output[symbol] = pd.concat([data_output[symbol], observation_df], axis=1, join='inner')\n",
    "\n",
    "    noise_df = pd.DataFrame(dict_std_dev_noise[symbol], columns=['noise'], index=df_data[symbol].index[7:-60])\n",
    "    data_output[symbol] = pd.concat([data_output[symbol], noise_df], axis=1, join='inner')\n",
    "\n",
    "    for i in range(output_step):\n",
    "        data_output[symbol][f'pred_{i}'] = data_output[symbol][f'pred_{i}'].shift(53)\n",
    "\n",
    "    data_output[symbol].to_excel(f'data_w_pred_m6_3-china-test/{symbol}_w_pred_m5.xlsx')\n",
    "    \n",
    "    print(f'{count} done for {symbol}', flush=True)\n",
    "\n",
    "import pickle\n",
    "\n",
    "# Pickle the object and save it to a file\n",
    "with open('data_pred-model_6_3-china-test.pickle', 'wb') as f:\n",
    "    pickle.dump(dict_predictions, f)\n",
    "\n",
    "print('Done.', flush=True)"
   ]
  },
  {
   "cell_type": "code",
   "execution_count": null,
   "id": "ca8036c3-3ffd-4c79-b712-38f01e1e3c95",
   "metadata": {},
   "outputs": [],
   "source": []
  },
  {
   "cell_type": "code",
   "execution_count": null,
   "id": "7dab69a2-18f7-46f7-9cce-7f0e3a8b5a07",
   "metadata": {},
   "outputs": [],
   "source": []
  }
 ],
 "metadata": {
  "kernelspec": {
   "display_name": "Python 3 (ipykernel)",
   "language": "python",
   "name": "python3"
  },
  "language_info": {
   "codemirror_mode": {
    "name": "ipython",
    "version": 3
   },
   "file_extension": ".py",
   "mimetype": "text/x-python",
   "name": "python",
   "nbconvert_exporter": "python",
   "pygments_lexer": "ipython3",
   "version": "3.10.12"
  }
 },
 "nbformat": 4,
 "nbformat_minor": 5
}
