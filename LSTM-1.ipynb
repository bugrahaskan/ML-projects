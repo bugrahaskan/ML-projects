{
 "cells": [
  {
   "cell_type": "code",
   "execution_count": 1,
   "id": "1d15e0e5-8350-411a-ba53-5c09d3fc2a35",
   "metadata": {},
   "outputs": [],
   "source": [
    "import pandas as pd\n",
    "\n",
    "data = pd.read_csv('data_sample_three_years.csv')\n",
    "\n",
    "data = data.iloc[:, [0,1,2,3,4]]\n",
    "data.rename(columns={'date': 'open', 'low':'close', 'open':'high', 'high':'low'}, inplace=True)\n",
    "\n",
    "data['date'] = pd.to_datetime(data['timestamp'], unit='s')\n",
    "data = data.iloc[:, [0,5,1,2,3,4]]\n",
    "\n",
    "data_backup = data.loc[ data.timestamp >= 1675814400 ]\n",
    "data = data.loc[ data.timestamp < 1675814400 ]\n",
    "\n",
    "from talib import RSI\n",
    "data['rsi_14'] = RSI(data['close'], timeperiod=14)\n",
    "data['rsi_14'] = data['rsi_14'].shift(1)\n",
    "\n",
    "from talib import MA, SMA, EMA, WMA\n",
    "data['ma_9'] = MA(data['close'], timeperiod=9)\n",
    "data['ma_9'] = data['ma_9'].shift(1)\n",
    "data['sma_9'] = SMA(data['close'], timeperiod=9)\n",
    "data['sma_9'] = data['sma_9'].shift(1)\n",
    "data['wma_9'] = WMA(data['close'], timeperiod=9)\n",
    "data['wma_9'] = data['wma_9'].shift(1)\n",
    "\n",
    "from talib import MACD\n",
    "data['macd'], data['signal'], data['hist'] = MACD(data['close'])\n",
    "data['macd'] = data['macd'].shift(1)\n",
    "data['signal'] = data['signal'].shift(1)\n",
    "data['hist'] = data['hist'].shift(1)\n",
    "\n",
    "from talib import ADX\n",
    "data['adx'] = ADX(data['high'], data['low'], data['close'])\n",
    "data['adx'] = data['adx'].shift(1)\n",
    "\n",
    "from talib import ATR\n",
    "data['atr'] = ATR(high=data['high'], low=data['low'], close=data['close'], timeperiod=14)\n",
    "data['atr'] = data['atr'].shift(1)\n",
    "\n",
    "from talib import SAR\n",
    "data['sar'] = SAR(high=data['high'], low=data['low'], acceleration=0.02, maximum=0.2)\n",
    "data['sar'] = data['sar'].shift(1)\n",
    "\n",
    "from talib import TEMA\n",
    "data['tema'] = TEMA(data['close'], timeperiod=14)\n",
    "data['tema'] = data['tema'].shift(1)\n",
    "\n",
    "from talib import ROC\n",
    "data['roc'] = ROC(data['close'], timeperiod=14)\n",
    "data['roc'] = data['roc'].shift(1)\n",
    "\n",
    "data.dropna(axis=0, inplace=True)"
   ]
  },
  {
   "cell_type": "code",
   "execution_count": 2,
   "id": "f877b6ec-adfb-47ee-a78e-ea012226786b",
   "metadata": {},
   "outputs": [
    {
     "data": {
      "text/plain": [
       "(16222, 18)"
      ]
     },
     "execution_count": 2,
     "metadata": {},
     "output_type": "execute_result"
    }
   ],
   "source": [
    "data.shape"
   ]
  },
  {
   "cell_type": "code",
   "execution_count": 3,
   "id": "779f411c-13d5-4d5e-950a-f5b4d8d3699d",
   "metadata": {},
   "outputs": [
    {
     "data": {
      "text/plain": [
       "Index(['close', 'rsi_14', 'ma_9', 'sma_9', 'wma_9', 'macd', 'signal', 'hist',\n",
       "       'adx', 'atr', 'sar', 'tema', 'roc'],\n",
       "      dtype='object')"
      ]
     },
     "execution_count": 3,
     "metadata": {},
     "output_type": "execute_result"
    }
   ],
   "source": [
    "data.columns[5:]"
   ]
  },
  {
   "cell_type": "code",
   "execution_count": 4,
   "id": "8f75955b-87e4-4dcb-8bab-19603d6d44ed",
   "metadata": {},
   "outputs": [],
   "source": [
    "inputs = data[list(data.columns[6:])]\n",
    "target = data.iloc[:, [5]]"
   ]
  },
  {
   "cell_type": "code",
   "execution_count": 5,
   "id": "f6da640c-eeff-4d57-bb7c-d8557d602ead",
   "metadata": {},
   "outputs": [],
   "source": [
    "import pandas as pd\n",
    "import numpy as np\n",
    "from itertools import combinations\n",
    "from sklearn.model_selection import train_test_split\n",
    "from sklearn.metrics import mean_squared_error, accuracy_score\n",
    "\n",
    "X_train, X_test, y_train, y_test = train_test_split(inputs, target, test_size=0.2, random_state=1, shuffle=False)"
   ]
  },
  {
   "cell_type": "code",
   "execution_count": 6,
   "id": "738ea310-67bb-4cfc-950d-82170ba1d42a",
   "metadata": {},
   "outputs": [],
   "source": [
    "from sklearn.preprocessing import MinMaxScaler\n",
    "\n",
    "scaler = MinMaxScaler()\n",
    "X_train_scaled = scaler.fit_transform(X_train)\n",
    "X_test_scaled = scaler.transform(X_test)"
   ]
  },
  {
   "cell_type": "code",
   "execution_count": 7,
   "id": "39141c29-cb8a-4417-a22e-7a20ec9a9cf9",
   "metadata": {},
   "outputs": [],
   "source": [
    "def create_input_sequences(data, seq_length):\n",
    "    seq = []\n",
    "    for i in range(len(data) - seq_length):\n",
    "        seq.append(data[i:i+seq_length])\n",
    "    return np.array(seq)"
   ]
  },
  {
   "cell_type": "code",
   "execution_count": 8,
   "id": "c3d37749-fde6-4b08-be92-5a2c1c463fed",
   "metadata": {},
   "outputs": [],
   "source": [
    "X_train_seq = create_input_sequences(X_train_scaled, 10)\n",
    "y_train_seq = create_input_sequences(y_train.values, 10)"
   ]
  },
  {
   "cell_type": "code",
   "execution_count": null,
   "id": "99765e15-1848-4317-860a-6ae34ae7aa90",
   "metadata": {},
   "outputs": [],
   "source": []
  },
  {
   "cell_type": "code",
   "execution_count": 9,
   "id": "21b850c0-054e-45de-88b1-939bc0a8df2e",
   "metadata": {},
   "outputs": [],
   "source": [
    "#X_train_reshaped = X_train.values.reshape(X_train.values.shape[0], 1, 12)\n",
    "#y_train_reshaped = y_train.values.reshape(y_train.values.shape[0], 1, 1)\n",
    "\n",
    "X_train_reshaped = X_train_seq.reshape(X_train_seq.shape[0], 10, 12)\n",
    "y_train_reshaped = y_train_seq.reshape(y_train_seq.shape[0], 10, 1)"
   ]
  },
  {
   "cell_type": "code",
   "execution_count": 21,
   "id": "7d2a572e-e2a3-4f56-8f36-cb98a391f667",
   "metadata": {},
   "outputs": [
    {
     "data": {
      "text/plain": [
       "(12967, 10, 12)"
      ]
     },
     "execution_count": 21,
     "metadata": {},
     "output_type": "execute_result"
    }
   ],
   "source": [
    "X_train_reshaped.shape"
   ]
  },
  {
   "cell_type": "code",
   "execution_count": 11,
   "id": "871902da-ccfe-4ca2-8df5-ac0e4cd41071",
   "metadata": {},
   "outputs": [
    {
     "data": {
      "text/plain": [
       "(12967, 10, 1)"
      ]
     },
     "execution_count": 11,
     "metadata": {},
     "output_type": "execute_result"
    }
   ],
   "source": [
    "y_train_reshaped.shape"
   ]
  },
  {
   "cell_type": "code",
   "execution_count": 12,
   "id": "c4dcd975-aed5-44c7-bcc2-5c211bd18bf2",
   "metadata": {},
   "outputs": [
    {
     "name": "stderr",
     "output_type": "stream",
     "text": [
      "2024-03-19 07:38:48.397827: I external/local_tsl/tsl/cuda/cudart_stub.cc:31] Could not find cuda drivers on your machine, GPU will not be used.\n",
      "2024-03-19 07:38:48.485932: E external/local_xla/xla/stream_executor/cuda/cuda_dnn.cc:9261] Unable to register cuDNN factory: Attempting to register factory for plugin cuDNN when one has already been registered\n",
      "2024-03-19 07:38:48.486012: E external/local_xla/xla/stream_executor/cuda/cuda_fft.cc:607] Unable to register cuFFT factory: Attempting to register factory for plugin cuFFT when one has already been registered\n",
      "2024-03-19 07:38:48.489940: E external/local_xla/xla/stream_executor/cuda/cuda_blas.cc:1515] Unable to register cuBLAS factory: Attempting to register factory for plugin cuBLAS when one has already been registered\n",
      "2024-03-19 07:38:48.507401: I external/local_tsl/tsl/cuda/cudart_stub.cc:31] Could not find cuda drivers on your machine, GPU will not be used.\n",
      "2024-03-19 07:38:50.146023: W tensorflow/compiler/tf2tensorrt/utils/py_utils.cc:38] TF-TRT Warning: Could not find TensorRT\n"
     ]
    }
   ],
   "source": [
    "import numpy as np\n",
    "import pandas as pd\n",
    "from sklearn.preprocessing import MinMaxScaler\n",
    "from tensorflow.keras.models import Sequential\n",
    "from tensorflow.keras.layers import LSTM, Dense, Dropout\n",
    "from keras.regularizers import l2"
   ]
  },
  {
   "cell_type": "code",
   "execution_count": 20,
   "id": "5554b9c8-0507-4269-93f0-a08e65c0bc8f",
   "metadata": {},
   "outputs": [
    {
     "name": "stdout",
     "output_type": "stream",
     "text": [
      "Epoch 1/100\n"
     ]
    },
    {
     "ename": "ValueError",
     "evalue": "in user code:\n\n    File \"/home/bugra/.local/lib/python3.10/site-packages/keras/src/engine/training.py\", line 1401, in train_function  *\n        return step_function(self, iterator)\n    File \"/home/bugra/.local/lib/python3.10/site-packages/keras/src/engine/training.py\", line 1384, in step_function  **\n        outputs = model.distribute_strategy.run(run_step, args=(data,))\n    File \"/home/bugra/.local/lib/python3.10/site-packages/keras/src/engine/training.py\", line 1373, in run_step  **\n        outputs = model.train_step(data)\n    File \"/home/bugra/.local/lib/python3.10/site-packages/keras/src/engine/training.py\", line 1150, in train_step\n        y_pred = self(x, training=True)\n    File \"/home/bugra/.local/lib/python3.10/site-packages/keras/src/utils/traceback_utils.py\", line 70, in error_handler\n        raise e.with_traceback(filtered_tb) from None\n    File \"/home/bugra/.local/lib/python3.10/site-packages/keras/src/engine/input_spec.py\", line 298, in assert_input_compatibility\n        raise ValueError(\n\n    ValueError: Input 0 of layer \"sequential_2\" is incompatible with the layer: expected shape=(None, 12, 10), found shape=(None, 10, 12)\n",
     "output_type": "error",
     "traceback": [
      "\u001b[0;31m---------------------------------------------------------------------------\u001b[0m",
      "\u001b[0;31mValueError\u001b[0m                                Traceback (most recent call last)",
      "Cell \u001b[0;32mIn[20], line 13\u001b[0m\n\u001b[1;32m     10\u001b[0m model\u001b[38;5;241m.\u001b[39mcompile(optimizer\u001b[38;5;241m=\u001b[39m\u001b[38;5;124m'\u001b[39m\u001b[38;5;124madam\u001b[39m\u001b[38;5;124m'\u001b[39m, loss\u001b[38;5;241m=\u001b[39m\u001b[38;5;124m'\u001b[39m\u001b[38;5;124mmean_squared_error\u001b[39m\u001b[38;5;124m'\u001b[39m)\n\u001b[1;32m     12\u001b[0m \u001b[38;5;66;03m# Train the model\u001b[39;00m\n\u001b[0;32m---> 13\u001b[0m \u001b[43mmodel\u001b[49m\u001b[38;5;241;43m.\u001b[39;49m\u001b[43mfit\u001b[49m\u001b[43m(\u001b[49m\u001b[43mX_train_reshaped\u001b[49m\u001b[43m,\u001b[49m\u001b[43m \u001b[49m\u001b[43my_train_reshaped\u001b[49m\u001b[43m,\u001b[49m\u001b[43m \u001b[49m\u001b[43mepochs\u001b[49m\u001b[38;5;241;43m=\u001b[39;49m\u001b[38;5;241;43m100\u001b[39;49m\u001b[43m,\u001b[49m\u001b[43m \u001b[49m\u001b[43mbatch_size\u001b[49m\u001b[38;5;241;43m=\u001b[39;49m\u001b[38;5;241;43m32\u001b[39;49m\u001b[43m)\u001b[49m\n",
      "File \u001b[0;32m~/.local/lib/python3.10/site-packages/keras/src/utils/traceback_utils.py:70\u001b[0m, in \u001b[0;36mfilter_traceback.<locals>.error_handler\u001b[0;34m(*args, **kwargs)\u001b[0m\n\u001b[1;32m     67\u001b[0m     filtered_tb \u001b[38;5;241m=\u001b[39m _process_traceback_frames(e\u001b[38;5;241m.\u001b[39m__traceback__)\n\u001b[1;32m     68\u001b[0m     \u001b[38;5;66;03m# To get the full stack trace, call:\u001b[39;00m\n\u001b[1;32m     69\u001b[0m     \u001b[38;5;66;03m# `tf.debugging.disable_traceback_filtering()`\u001b[39;00m\n\u001b[0;32m---> 70\u001b[0m     \u001b[38;5;28;01mraise\u001b[39;00m e\u001b[38;5;241m.\u001b[39mwith_traceback(filtered_tb) \u001b[38;5;28;01mfrom\u001b[39;00m \u001b[38;5;28;01mNone\u001b[39;00m\n\u001b[1;32m     71\u001b[0m \u001b[38;5;28;01mfinally\u001b[39;00m:\n\u001b[1;32m     72\u001b[0m     \u001b[38;5;28;01mdel\u001b[39;00m filtered_tb\n",
      "File \u001b[0;32m/tmp/__autograph_generated_file0z3pyzr3.py:15\u001b[0m, in \u001b[0;36mouter_factory.<locals>.inner_factory.<locals>.tf__train_function\u001b[0;34m(iterator)\u001b[0m\n\u001b[1;32m     13\u001b[0m \u001b[38;5;28;01mtry\u001b[39;00m:\n\u001b[1;32m     14\u001b[0m     do_return \u001b[38;5;241m=\u001b[39m \u001b[38;5;28;01mTrue\u001b[39;00m\n\u001b[0;32m---> 15\u001b[0m     retval_ \u001b[38;5;241m=\u001b[39m ag__\u001b[38;5;241m.\u001b[39mconverted_call(ag__\u001b[38;5;241m.\u001b[39mld(step_function), (ag__\u001b[38;5;241m.\u001b[39mld(\u001b[38;5;28mself\u001b[39m), ag__\u001b[38;5;241m.\u001b[39mld(iterator)), \u001b[38;5;28;01mNone\u001b[39;00m, fscope)\n\u001b[1;32m     16\u001b[0m \u001b[38;5;28;01mexcept\u001b[39;00m:\n\u001b[1;32m     17\u001b[0m     do_return \u001b[38;5;241m=\u001b[39m \u001b[38;5;28;01mFalse\u001b[39;00m\n",
      "\u001b[0;31mValueError\u001b[0m: in user code:\n\n    File \"/home/bugra/.local/lib/python3.10/site-packages/keras/src/engine/training.py\", line 1401, in train_function  *\n        return step_function(self, iterator)\n    File \"/home/bugra/.local/lib/python3.10/site-packages/keras/src/engine/training.py\", line 1384, in step_function  **\n        outputs = model.distribute_strategy.run(run_step, args=(data,))\n    File \"/home/bugra/.local/lib/python3.10/site-packages/keras/src/engine/training.py\", line 1373, in run_step  **\n        outputs = model.train_step(data)\n    File \"/home/bugra/.local/lib/python3.10/site-packages/keras/src/engine/training.py\", line 1150, in train_step\n        y_pred = self(x, training=True)\n    File \"/home/bugra/.local/lib/python3.10/site-packages/keras/src/utils/traceback_utils.py\", line 70, in error_handler\n        raise e.with_traceback(filtered_tb) from None\n    File \"/home/bugra/.local/lib/python3.10/site-packages/keras/src/engine/input_spec.py\", line 298, in assert_input_compatibility\n        raise ValueError(\n\n    ValueError: Input 0 of layer \"sequential_2\" is incompatible with the layer: expected shape=(None, 12, 10), found shape=(None, 10, 12)\n"
     ]
    }
   ],
   "source": [
    "# Define LSTM model\n",
    "model = Sequential([\n",
    "    LSTM(50, input_shape=(12, 10), activation='tanh', kernel_regularizer=l2(0.01)),\n",
    "    #Dense(64, activation='softplus'),\n",
    "    Dropout(0.2),\n",
    "    Dense(1)\n",
    "])\n",
    "\n",
    "# Compile the model\n",
    "model.compile(optimizer='adam', loss='mean_squared_error')\n",
    "\n",
    "# Train the model\n",
    "model.fit(X_train_reshaped, y_train_reshaped, epochs=100, batch_size=32)"
   ]
  },
  {
   "cell_type": "code",
   "execution_count": null,
   "id": "0d4c7bfb-9042-49cd-9927-9a4a78a786de",
   "metadata": {},
   "outputs": [],
   "source": []
  },
  {
   "cell_type": "code",
   "execution_count": 14,
   "id": "4f7c70fe-a378-412b-882b-b3290d24ad60",
   "metadata": {},
   "outputs": [],
   "source": [
    "X_test_seq = create_input_sequences(X_test_scaled, 10)\n",
    "X_test_reshaped = X_test_seq.reshape(X_test_seq.shape[0], 10, 12)"
   ]
  },
  {
   "cell_type": "code",
   "execution_count": 15,
   "id": "1278ca8f-b5ed-4deb-b7b3-c7c2a1b93883",
   "metadata": {},
   "outputs": [
    {
     "data": {
      "text/plain": [
       "array([[[0.36764502, 0.20925812, 0.20925812, ..., 0.22726951,\n",
       "         0.21238729, 0.4816376 ],\n",
       "        [0.46524768, 0.20864155, 0.20864155, ..., 0.22657958,\n",
       "         0.21144465, 0.49135174],\n",
       "        [0.58494364, 0.20877558, 0.20877558, ..., 0.22591725,\n",
       "         0.21259629, 0.51531157],\n",
       "        ...,\n",
       "        [0.45619403, 0.20362222, 0.20362222, ..., 0.22176508,\n",
       "         0.20629335, 0.48552481],\n",
       "        [0.57041044, 0.20359801, 0.20359801, ..., 0.22091028,\n",
       "         0.20832391, 0.49927018],\n",
       "        [0.54564529, 0.20420363, 0.20420363, ..., 0.20751844,\n",
       "         0.20949598, 0.49267777]],\n",
       "\n",
       "       [[0.46524768, 0.20864155, 0.20864155, ..., 0.22657958,\n",
       "         0.21144465, 0.49135174],\n",
       "        [0.58494364, 0.20877558, 0.20877558, ..., 0.22591725,\n",
       "         0.21259629, 0.51531157],\n",
       "        [0.43491636, 0.20785116, 0.20785116, ..., 0.22528141,\n",
       "         0.21085235, 0.4851734 ],\n",
       "        ...,\n",
       "        [0.57041044, 0.20359801, 0.20359801, ..., 0.22091028,\n",
       "         0.20832391, 0.49927018],\n",
       "        [0.54564529, 0.20420363, 0.20420363, ..., 0.20751844,\n",
       "         0.20949598, 0.49267777],\n",
       "        [0.52932983, 0.20434228, 0.20434228, ..., 0.20780343,\n",
       "         0.21014635, 0.4895424 ]],\n",
       "\n",
       "       [[0.58494364, 0.20877558, 0.20877558, ..., 0.22591725,\n",
       "         0.21259629, 0.51531157],\n",
       "        [0.43491636, 0.20785116, 0.20785116, ..., 0.22528141,\n",
       "         0.21085235, 0.4851734 ],\n",
       "        [0.39557687, 0.20657305, 0.20657305, ..., 0.224671  ,\n",
       "         0.20870565, 0.46872164],\n",
       "        ...,\n",
       "        [0.54564529, 0.20420363, 0.20420363, ..., 0.20751844,\n",
       "         0.20949598, 0.49267777],\n",
       "        [0.52932983, 0.20434228, 0.20434228, ..., 0.20780343,\n",
       "         0.21014635, 0.4895424 ],\n",
       "        [0.4956018 , 0.20371101, 0.20371101, ..., 0.20808271,\n",
       "         0.21010977, 0.49430517]],\n",
       "\n",
       "       ...,\n",
       "\n",
       "       [[0.50182443, 0.17625506, 0.17625506, ..., 0.19415802,\n",
       "         0.18152965, 0.51008745],\n",
       "        [0.48820412, 0.17585843, 0.17585843, ..., 0.19389511,\n",
       "         0.18162377, 0.50918558],\n",
       "        [0.51526706, 0.1754837 , 0.1754837 , ..., 0.19363746,\n",
       "         0.18198484, 0.50840654],\n",
       "        ...,\n",
       "        [0.54638343, 0.17686154, 0.17686154, ..., 0.19251406,\n",
       "         0.18413772, 0.5004907 ],\n",
       "        [0.53940325, 0.17711751, 0.17711751, ..., 0.19228404,\n",
       "         0.18417204, 0.50024734],\n",
       "        [0.54484983, 0.17728066, 0.17728066, ..., 0.18101263,\n",
       "         0.18422948, 0.50937702]],\n",
       "\n",
       "       [[0.48820412, 0.17585843, 0.17585843, ..., 0.19389511,\n",
       "         0.18162377, 0.50918558],\n",
       "        [0.51526706, 0.1754837 , 0.1754837 , ..., 0.19363746,\n",
       "         0.18198484, 0.50840654],\n",
       "        [0.47868418, 0.17499367, 0.17499367, ..., 0.19338496,\n",
       "         0.18186624, 0.50574256],\n",
       "        ...,\n",
       "        [0.53940325, 0.17711751, 0.17711751, ..., 0.19228404,\n",
       "         0.18417204, 0.50024734],\n",
       "        [0.54484983, 0.17728066, 0.17728066, ..., 0.18101263,\n",
       "         0.18422948, 0.50937702],\n",
       "        [0.69281312, 0.17801109, 0.17801109, ..., 0.18139782,\n",
       "         0.18584725, 0.5526739 ]],\n",
       "\n",
       "       [[0.51526706, 0.1754837 , 0.1754837 , ..., 0.19363746,\n",
       "         0.18198484, 0.50840654],\n",
       "        [0.47868418, 0.17499367, 0.17499367, ..., 0.19338496,\n",
       "         0.18186624, 0.50574256],\n",
       "        [0.57268488, 0.17508015, 0.17508015, ..., 0.19313752,\n",
       "         0.18279814, 0.52182689],\n",
       "        ...,\n",
       "        [0.54484983, 0.17728066, 0.17728066, ..., 0.18101263,\n",
       "         0.18422948, 0.50937702],\n",
       "        [0.69281312, 0.17801109, 0.17801109, ..., 0.18139782,\n",
       "         0.18584725, 0.5526739 ],\n",
       "        [0.74477209, 0.17889544, 0.17889544, ..., 0.18177532,\n",
       "         0.18779537, 0.55511691]]])"
      ]
     },
     "execution_count": 15,
     "metadata": {},
     "output_type": "execute_result"
    }
   ],
   "source": [
    "X_test_reshaped"
   ]
  },
  {
   "cell_type": "code",
   "execution_count": 16,
   "id": "90a10476-ce43-4ada-bddf-3b001bbb0f6b",
   "metadata": {},
   "outputs": [
    {
     "name": "stdout",
     "output_type": "stream",
     "text": [
      "102/102 [==============================] - 2s 5ms/step\n"
     ]
    }
   ],
   "source": [
    "y_pred = model.predict(X_test_reshaped)"
   ]
  },
  {
   "cell_type": "code",
   "execution_count": 17,
   "id": "2fad89d4-089c-4107-bd17-6b71fc523186",
   "metadata": {},
   "outputs": [
    {
     "data": {
      "text/html": [
       "<div>\n",
       "<style scoped>\n",
       "    .dataframe tbody tr th:only-of-type {\n",
       "        vertical-align: middle;\n",
       "    }\n",
       "\n",
       "    .dataframe tbody tr th {\n",
       "        vertical-align: top;\n",
       "    }\n",
       "\n",
       "    .dataframe thead th {\n",
       "        text-align: right;\n",
       "    }\n",
       "</style>\n",
       "<table border=\"1\" class=\"dataframe\">\n",
       "  <thead>\n",
       "    <tr style=\"text-align: right;\">\n",
       "      <th></th>\n",
       "      <th>close</th>\n",
       "    </tr>\n",
       "  </thead>\n",
       "  <tbody>\n",
       "    <tr>\n",
       "      <th>13017</th>\n",
       "      <td>1744.47</td>\n",
       "    </tr>\n",
       "    <tr>\n",
       "      <th>13018</th>\n",
       "      <td>1765.01</td>\n",
       "    </tr>\n",
       "    <tr>\n",
       "      <th>13019</th>\n",
       "      <td>1735.29</td>\n",
       "    </tr>\n",
       "    <tr>\n",
       "      <th>13020</th>\n",
       "      <td>1725.50</td>\n",
       "    </tr>\n",
       "    <tr>\n",
       "      <th>13021</th>\n",
       "      <td>1725.71</td>\n",
       "    </tr>\n",
       "    <tr>\n",
       "      <th>...</th>\n",
       "      <td>...</td>\n",
       "    </tr>\n",
       "    <tr>\n",
       "      <th>16257</th>\n",
       "      <td>1638.52</td>\n",
       "    </tr>\n",
       "    <tr>\n",
       "      <th>16258</th>\n",
       "      <td>1656.42</td>\n",
       "    </tr>\n",
       "    <tr>\n",
       "      <th>16259</th>\n",
       "      <td>1664.93</td>\n",
       "    </tr>\n",
       "    <tr>\n",
       "      <th>16260</th>\n",
       "      <td>1667.43</td>\n",
       "    </tr>\n",
       "    <tr>\n",
       "      <th>16261</th>\n",
       "      <td>1664.66</td>\n",
       "    </tr>\n",
       "  </tbody>\n",
       "</table>\n",
       "<p>3245 rows × 1 columns</p>\n",
       "</div>"
      ],
      "text/plain": [
       "         close\n",
       "13017  1744.47\n",
       "13018  1765.01\n",
       "13019  1735.29\n",
       "13020  1725.50\n",
       "13021  1725.71\n",
       "...        ...\n",
       "16257  1638.52\n",
       "16258  1656.42\n",
       "16259  1664.93\n",
       "16260  1667.43\n",
       "16261  1664.66\n",
       "\n",
       "[3245 rows x 1 columns]"
      ]
     },
     "execution_count": 17,
     "metadata": {},
     "output_type": "execute_result"
    }
   ],
   "source": [
    "y_test"
   ]
  },
  {
   "cell_type": "code",
   "execution_count": 18,
   "id": "58da14fd-ad17-42cf-9671-f2251d7b7681",
   "metadata": {},
   "outputs": [
    {
     "data": {
      "text/plain": [
       "array([[2691.556],\n",
       "       [2691.556],\n",
       "       [2691.556],\n",
       "       ...,\n",
       "       [2691.556],\n",
       "       [2691.556],\n",
       "       [2691.556]], dtype=float32)"
      ]
     },
     "execution_count": 18,
     "metadata": {},
     "output_type": "execute_result"
    }
   ],
   "source": [
    "y_pred"
   ]
  },
  {
   "cell_type": "code",
   "execution_count": null,
   "id": "8e9577b7-2dea-48b7-91eb-6f7cc98d6106",
   "metadata": {},
   "outputs": [],
   "source": []
  },
  {
   "cell_type": "code",
   "execution_count": null,
   "id": "661a2daa-82bf-413b-b6a3-f358ecedfb51",
   "metadata": {},
   "outputs": [],
   "source": []
  },
  {
   "cell_type": "code",
   "execution_count": null,
   "id": "f66283d5-415e-4927-a313-5da6a6b1ccb4",
   "metadata": {},
   "outputs": [],
   "source": []
  },
  {
   "cell_type": "code",
   "execution_count": null,
   "id": "d86f0545-98cb-421d-9daa-d98f174283ce",
   "metadata": {},
   "outputs": [],
   "source": []
  },
  {
   "cell_type": "code",
   "execution_count": null,
   "id": "ac75f638-a0a8-4909-af42-9ea390bfc766",
   "metadata": {},
   "outputs": [],
   "source": []
  }
 ],
 "metadata": {
  "kernelspec": {
   "display_name": "Python 3 (ipykernel)",
   "language": "python",
   "name": "python3"
  },
  "language_info": {
   "codemirror_mode": {
    "name": "ipython",
    "version": 3
   },
   "file_extension": ".py",
   "mimetype": "text/x-python",
   "name": "python",
   "nbconvert_exporter": "python",
   "pygments_lexer": "ipython3",
   "version": "3.10.12"
  }
 },
 "nbformat": 4,
 "nbformat_minor": 5
}
