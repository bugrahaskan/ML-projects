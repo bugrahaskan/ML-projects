{
 "cells": [
  {
   "cell_type": "code",
   "execution_count": 1,
   "id": "809eaf54-0cc0-4a29-9651-a35586e2fa4a",
   "metadata": {},
   "outputs": [],
   "source": [
    "import pandas as pd\n",
    "\n",
    "data = pd.read_csv('data_sample_three_years.csv')\n",
    "\n",
    "data = data.iloc[:, [0,1,2,3,4]]\n",
    "data.rename(columns={'date': 'open', 'low':'close', 'open':'high', 'high':'low'}, inplace=True)\n",
    "\n",
    "data['date'] = pd.to_datetime(data['timestamp'], unit='s')\n",
    "data = data.iloc[:, [0,5,1,2,3,4]]\n",
    "\n",
    "data_backup = data.loc[ data.timestamp >= 1675814400 ]\n",
    "data = data.loc[ data.timestamp < 1675814400 ]\n",
    "\n",
    "from talib import RSI\n",
    "data['rsi_14'] = RSI(data['close'], timeperiod=14)\n",
    "data['rsi_14'] = data['rsi_14'].shift(1)\n",
    "\n",
    "from talib import MA, SMA, EMA, WMA\n",
    "data['ma_9'] = MA(data['close'], timeperiod=9)\n",
    "data['ma_9'] = data['ma_9'].shift(1)\n",
    "data['sma_9'] = SMA(data['close'], timeperiod=9)\n",
    "data['sma_9'] = data['sma_9'].shift(1)\n",
    "data['wma_9'] = WMA(data['close'], timeperiod=9)\n",
    "data['wma_9'] = data['wma_9'].shift(1)\n",
    "\n",
    "from talib import MACD\n",
    "data['macd'], data['signal'], data['hist'] = MACD(data['close'])\n",
    "data['macd'] = data['macd'].shift(1)\n",
    "data['signal'] = data['signal'].shift(1)\n",
    "data['hist'] = data['hist'].shift(1)\n",
    "\n",
    "from talib import ADX\n",
    "data['adx'] = ADX(data['high'], data['low'], data['close'])\n",
    "data['adx'] = data['adx'].shift(1)\n",
    "\n",
    "from talib import ATR\n",
    "data['atr'] = ATR(high=data['high'], low=data['low'], close=data['close'], timeperiod=14)\n",
    "data['atr'] = data['atr'].shift(1)\n",
    "\n",
    "from talib import SAR\n",
    "data['sar'] = SAR(high=data['high'], low=data['low'], acceleration=0.02, maximum=0.2)\n",
    "data['sar'] = data['sar'].shift(1)\n",
    "\n",
    "from talib import TEMA\n",
    "data['tema'] = TEMA(data['close'], timeperiod=14)\n",
    "data['tema'] = data['tema'].shift(1)\n",
    "\n",
    "from talib import ROC\n",
    "data['roc'] = ROC(data['close'], timeperiod=14)\n",
    "data['roc'] = data['roc'].shift(1)\n",
    "\n",
    "data.dropna(axis=0, inplace=True)"
   ]
  },
  {
   "cell_type": "code",
   "execution_count": 2,
   "id": "c67c8022-b9ff-4c31-af27-61aaec97b2f3",
   "metadata": {},
   "outputs": [
    {
     "data": {
      "text/plain": [
       "(16222, 18)"
      ]
     },
     "execution_count": 2,
     "metadata": {},
     "output_type": "execute_result"
    }
   ],
   "source": [
    "data.shape"
   ]
  },
  {
   "cell_type": "code",
   "execution_count": 3,
   "id": "3cf99bf1-4ea6-46fd-91a9-5a7fad8c9eff",
   "metadata": {},
   "outputs": [
    {
     "data": {
      "text/plain": [
       "Index(['timestamp', 'date', 'open', 'high', 'low', 'close', 'rsi_14', 'ma_9',\n",
       "       'sma_9', 'wma_9', 'macd', 'signal', 'hist', 'adx', 'atr', 'sar', 'tema',\n",
       "       'roc'],\n",
       "      dtype='object')"
      ]
     },
     "execution_count": 3,
     "metadata": {},
     "output_type": "execute_result"
    }
   ],
   "source": [
    "data.columns"
   ]
  },
  {
   "cell_type": "code",
   "execution_count": 3,
   "id": "c7a9025b-0134-4d39-a210-6df26ae68b85",
   "metadata": {},
   "outputs": [],
   "source": [
    "inputs = data[list(data.columns[6:])]\n",
    "target = data.iloc[:, [5]]"
   ]
  },
  {
   "cell_type": "code",
   "execution_count": 4,
   "id": "55447bae-d3cf-4319-bc1d-409d9d5f0af0",
   "metadata": {},
   "outputs": [],
   "source": [
    "import pandas as pd\n",
    "import numpy as np\n",
    "from itertools import combinations\n",
    "from sklearn.model_selection import train_test_split\n",
    "from sklearn.metrics import mean_squared_error, accuracy_score\n",
    "\n",
    "X_train, X_test, y_train, y_test = train_test_split(inputs, target, test_size=0.2, random_state=1, shuffle=False)"
   ]
  },
  {
   "cell_type": "code",
   "execution_count": 5,
   "id": "6a373948-38e3-4363-bc42-29fc4943ebd5",
   "metadata": {},
   "outputs": [],
   "source": [
    "from sklearn.preprocessing import MinMaxScaler\n",
    "\n",
    "scaler = MinMaxScaler()\n",
    "X_train_scaled = scaler.fit_transform(X_train)\n",
    "X_test_scaled = scaler.transform(X_test)"
   ]
  },
  {
   "cell_type": "code",
   "execution_count": 6,
   "id": "4180efbf-6535-40d9-8694-f643f96a6326",
   "metadata": {},
   "outputs": [
    {
     "data": {
      "text/plain": [
       "(12977, 12)"
      ]
     },
     "execution_count": 6,
     "metadata": {},
     "output_type": "execute_result"
    }
   ],
   "source": [
    "X_train_scaled.shape"
   ]
  },
  {
   "cell_type": "code",
   "execution_count": 7,
   "id": "6c6ffe1a-82a4-4e5d-a58e-03e690578034",
   "metadata": {},
   "outputs": [],
   "source": [
    "X_train_reshaped = X_train_scaled.reshape(X_train_scaled.shape[0], X_train_scaled.shape[1], 1)\n",
    "y_train_reshaped = y_train.values.reshape(y_train.shape[0], y_train.shape[1], 1)"
   ]
  },
  {
   "cell_type": "code",
   "execution_count": 8,
   "id": "54dd9bcb-15f2-4cf8-b31a-cf52e14eeff9",
   "metadata": {},
   "outputs": [
    {
     "data": {
      "text/plain": [
       "(12977, 12, 1)"
      ]
     },
     "execution_count": 8,
     "metadata": {},
     "output_type": "execute_result"
    }
   ],
   "source": [
    "X_train_reshaped.shape"
   ]
  },
  {
   "cell_type": "code",
   "execution_count": 9,
   "id": "a92f5909-13db-4606-bebc-e79c8b23ca71",
   "metadata": {},
   "outputs": [
    {
     "data": {
      "text/plain": [
       "(12977, 1, 1)"
      ]
     },
     "execution_count": 9,
     "metadata": {},
     "output_type": "execute_result"
    }
   ],
   "source": [
    "y_train_reshaped.shape"
   ]
  },
  {
   "cell_type": "code",
   "execution_count": 10,
   "id": "d4310501-c786-4130-812a-87dfd23087e9",
   "metadata": {},
   "outputs": [
    {
     "name": "stderr",
     "output_type": "stream",
     "text": [
      "2024-03-20 08:02:55.848903: I external/local_tsl/tsl/cuda/cudart_stub.cc:31] Could not find cuda drivers on your machine, GPU will not be used.\n",
      "2024-03-20 08:02:56.584292: E external/local_xla/xla/stream_executor/cuda/cuda_dnn.cc:9261] Unable to register cuDNN factory: Attempting to register factory for plugin cuDNN when one has already been registered\n",
      "2024-03-20 08:02:56.584376: E external/local_xla/xla/stream_executor/cuda/cuda_fft.cc:607] Unable to register cuFFT factory: Attempting to register factory for plugin cuFFT when one has already been registered\n",
      "2024-03-20 08:02:56.709760: E external/local_xla/xla/stream_executor/cuda/cuda_blas.cc:1515] Unable to register cuBLAS factory: Attempting to register factory for plugin cuBLAS when one has already been registered\n",
      "2024-03-20 08:02:56.958215: I external/local_tsl/tsl/cuda/cudart_stub.cc:31] Could not find cuda drivers on your machine, GPU will not be used.\n",
      "2024-03-20 08:03:01.237333: W tensorflow/compiler/tf2tensorrt/utils/py_utils.cc:38] TF-TRT Warning: Could not find TensorRT\n"
     ]
    }
   ],
   "source": [
    "import numpy as np\n",
    "import pandas as pd\n",
    "from sklearn.preprocessing import MinMaxScaler\n",
    "from tensorflow.keras.models import Sequential\n",
    "from tensorflow.keras.layers import LSTM, Dense, Dropout\n",
    "from keras.regularizers import l2"
   ]
  },
  {
   "cell_type": "code",
   "execution_count": 11,
   "id": "497532a9-27da-49a8-bdb4-a1ac8f1e2177",
   "metadata": {},
   "outputs": [
    {
     "name": "stdout",
     "output_type": "stream",
     "text": [
      "Epoch 1/100\n",
      "406/406 [==============================] - 7s 10ms/step - loss: 8057250.0000\n",
      "Epoch 2/100\n",
      "406/406 [==============================] - 4s 10ms/step - loss: 7936039.5000\n",
      "Epoch 3/100\n",
      "406/406 [==============================] - 4s 11ms/step - loss: 7824333.0000\n",
      "Epoch 4/100\n",
      "406/406 [==============================] - 4s 9ms/step - loss: 7715878.0000\n",
      "Epoch 5/100\n",
      "406/406 [==============================] - 4s 10ms/step - loss: 7609412.5000\n",
      "Epoch 6/100\n",
      "406/406 [==============================] - 4s 10ms/step - loss: 7502226.5000\n",
      "Epoch 7/100\n",
      "406/406 [==============================] - 4s 10ms/step - loss: 7399543.0000\n",
      "Epoch 8/100\n",
      "406/406 [==============================] - 4s 11ms/step - loss: 7295495.0000\n",
      "Epoch 9/100\n",
      "406/406 [==============================] - 4s 10ms/step - loss: 7192035.5000\n",
      "Epoch 10/100\n",
      "406/406 [==============================] - 4s 10ms/step - loss: 7090699.0000\n",
      "Epoch 11/100\n",
      "406/406 [==============================] - 4s 11ms/step - loss: 6990041.5000\n",
      "Epoch 12/100\n",
      "406/406 [==============================] - 4s 11ms/step - loss: 6890730.0000\n",
      "Epoch 13/100\n",
      "406/406 [==============================] - 5s 12ms/step - loss: 6792678.0000\n",
      "Epoch 14/100\n",
      "406/406 [==============================] - 5s 12ms/step - loss: 6695468.0000\n",
      "Epoch 15/100\n",
      "406/406 [==============================] - 5s 11ms/step - loss: 6598782.0000\n",
      "Epoch 16/100\n",
      "406/406 [==============================] - 4s 10ms/step - loss: 6502746.0000\n",
      "Epoch 17/100\n",
      "406/406 [==============================] - 5s 11ms/step - loss: 6405845.5000\n",
      "Epoch 18/100\n",
      "406/406 [==============================] - 5s 11ms/step - loss: 6311652.0000\n",
      "Epoch 19/100\n",
      "406/406 [==============================] - 4s 11ms/step - loss: 6218980.5000\n",
      "Epoch 20/100\n",
      "406/406 [==============================] - 4s 9ms/step - loss: 6126757.0000\n",
      "Epoch 21/100\n",
      "406/406 [==============================] - 4s 9ms/step - loss: 6032922.0000\n",
      "Epoch 22/100\n",
      "406/406 [==============================] - 4s 10ms/step - loss: 5943497.5000\n",
      "Epoch 23/100\n",
      "406/406 [==============================] - 4s 11ms/step - loss: 5853878.5000\n",
      "Epoch 24/100\n",
      "406/406 [==============================] - 5s 12ms/step - loss: 5765268.0000\n",
      "Epoch 25/100\n",
      "406/406 [==============================] - 5s 12ms/step - loss: 5673668.5000\n",
      "Epoch 26/100\n",
      "406/406 [==============================] - 6s 15ms/step - loss: 5589334.0000\n",
      "Epoch 27/100\n",
      "406/406 [==============================] - 5s 12ms/step - loss: 5497616.0000\n",
      "Epoch 28/100\n",
      "406/406 [==============================] - 5s 13ms/step - loss: 5411931.0000\n",
      "Epoch 29/100\n",
      "406/406 [==============================] - 6s 14ms/step - loss: 5328090.0000\n",
      "Epoch 30/100\n",
      "406/406 [==============================] - 5s 12ms/step - loss: 5243436.5000\n",
      "Epoch 31/100\n",
      "406/406 [==============================] - 5s 13ms/step - loss: 5161699.5000\n",
      "Epoch 32/100\n",
      "406/406 [==============================] - 6s 14ms/step - loss: 5077510.0000\n",
      "Epoch 33/100\n",
      "406/406 [==============================] - 6s 14ms/step - loss: 4995923.0000\n",
      "Epoch 34/100\n",
      "406/406 [==============================] - 6s 14ms/step - loss: 4919154.5000\n",
      "Epoch 35/100\n",
      "406/406 [==============================] - 5s 13ms/step - loss: 4834201.5000\n",
      "Epoch 36/100\n",
      "406/406 [==============================] - 5s 12ms/step - loss: 4755867.5000\n",
      "Epoch 37/100\n",
      "406/406 [==============================] - 5s 12ms/step - loss: 4677778.5000\n",
      "Epoch 38/100\n",
      "406/406 [==============================] - 5s 12ms/step - loss: 4600127.5000\n",
      "Epoch 39/100\n",
      "406/406 [==============================] - 4s 11ms/step - loss: 4523777.0000\n",
      "Epoch 40/100\n",
      "406/406 [==============================] - 4s 11ms/step - loss: 4446782.0000\n",
      "Epoch 41/100\n",
      "406/406 [==============================] - 4s 11ms/step - loss: 4373040.5000\n",
      "Epoch 42/100\n",
      "406/406 [==============================] - 4s 11ms/step - loss: 4293355.0000\n",
      "Epoch 43/100\n",
      "406/406 [==============================] - 5s 11ms/step - loss: 4219859.0000\n",
      "Epoch 44/100\n",
      "406/406 [==============================] - 4s 10ms/step - loss: 4147290.0000\n",
      "Epoch 45/100\n",
      "406/406 [==============================] - 4s 10ms/step - loss: 4079019.2500\n",
      "Epoch 46/100\n",
      "406/406 [==============================] - 4s 10ms/step - loss: 4008278.5000\n",
      "Epoch 47/100\n",
      "406/406 [==============================] - 4s 10ms/step - loss: 3938912.5000\n",
      "Epoch 48/100\n",
      "406/406 [==============================] - 5s 11ms/step - loss: 3872089.2500\n",
      "Epoch 49/100\n",
      "406/406 [==============================] - 6s 14ms/step - loss: 3797245.5000\n",
      "Epoch 50/100\n",
      "406/406 [==============================] - 6s 15ms/step - loss: 3732513.0000\n",
      "Epoch 51/100\n",
      "406/406 [==============================] - 5s 13ms/step - loss: 3662833.0000\n",
      "Epoch 52/100\n",
      "406/406 [==============================] - 5s 13ms/step - loss: 3596553.7500\n",
      "Epoch 53/100\n",
      "406/406 [==============================] - 5s 13ms/step - loss: 3531367.2500\n",
      "Epoch 54/100\n",
      "406/406 [==============================] - 4s 11ms/step - loss: 3464473.2500\n",
      "Epoch 55/100\n",
      "406/406 [==============================] - 5s 11ms/step - loss: 3404770.2500\n",
      "Epoch 56/100\n",
      "406/406 [==============================] - 5s 12ms/step - loss: 3338004.0000\n",
      "Epoch 57/100\n",
      "406/406 [==============================] - 5s 13ms/step - loss: 3281811.0000\n",
      "Epoch 58/100\n",
      "406/406 [==============================] - 6s 15ms/step - loss: 3218332.2500\n",
      "Epoch 59/100\n",
      "406/406 [==============================] - 5s 13ms/step - loss: 3157395.5000\n",
      "Epoch 60/100\n",
      "406/406 [==============================] - 5s 13ms/step - loss: 3100418.7500\n",
      "Epoch 61/100\n",
      "406/406 [==============================] - 6s 14ms/step - loss: 3041627.0000\n",
      "Epoch 62/100\n",
      "406/406 [==============================] - 6s 14ms/step - loss: 2984690.5000\n",
      "Epoch 63/100\n",
      "406/406 [==============================] - 4s 10ms/step - loss: 2928245.5000\n",
      "Epoch 64/100\n",
      "406/406 [==============================] - 4s 9ms/step - loss: 2870934.2500\n",
      "Epoch 65/100\n",
      "406/406 [==============================] - 3s 8ms/step - loss: 2812394.0000\n",
      "Epoch 66/100\n",
      "406/406 [==============================] - 4s 9ms/step - loss: 2757961.7500\n",
      "Epoch 67/100\n",
      "406/406 [==============================] - 3s 9ms/step - loss: 2706499.2500\n",
      "Epoch 68/100\n",
      "406/406 [==============================] - 3s 9ms/step - loss: 2652329.0000\n",
      "Epoch 69/100\n",
      "406/406 [==============================] - 4s 10ms/step - loss: 2603186.7500\n",
      "Epoch 70/100\n",
      "406/406 [==============================] - 4s 10ms/step - loss: 2549775.2500\n",
      "Epoch 71/100\n",
      "406/406 [==============================] - 4s 10ms/step - loss: 2501183.5000\n",
      "Epoch 72/100\n",
      "406/406 [==============================] - 4s 10ms/step - loss: 2450596.2500\n",
      "Epoch 73/100\n",
      "406/406 [==============================] - 4s 10ms/step - loss: 2401141.2500\n",
      "Epoch 74/100\n",
      "406/406 [==============================] - 5s 12ms/step - loss: 2351349.5000\n",
      "Epoch 75/100\n",
      "406/406 [==============================] - 5s 12ms/step - loss: 2304173.2500\n",
      "Epoch 76/100\n",
      "406/406 [==============================] - 5s 13ms/step - loss: 2260397.5000\n",
      "Epoch 77/100\n",
      "406/406 [==============================] - 5s 11ms/step - loss: 2212070.5000\n",
      "Epoch 78/100\n",
      "406/406 [==============================] - 4s 11ms/step - loss: 2168125.2500\n",
      "Epoch 79/100\n",
      "406/406 [==============================] - 4s 11ms/step - loss: 2121404.7500\n",
      "Epoch 80/100\n",
      "406/406 [==============================] - 4s 11ms/step - loss: 2081121.3750\n",
      "Epoch 81/100\n",
      "406/406 [==============================] - 4s 11ms/step - loss: 2042084.3750\n",
      "Epoch 82/100\n",
      "406/406 [==============================] - 4s 10ms/step - loss: 1998968.6250\n",
      "Epoch 83/100\n",
      "406/406 [==============================] - 5s 11ms/step - loss: 1957672.3750\n",
      "Epoch 84/100\n",
      "406/406 [==============================] - 5s 12ms/step - loss: 1922496.0000\n",
      "Epoch 85/100\n",
      "406/406 [==============================] - 4s 11ms/step - loss: 1879212.7500\n",
      "Epoch 86/100\n",
      "406/406 [==============================] - 5s 12ms/step - loss: 1841818.2500\n",
      "Epoch 87/100\n",
      "406/406 [==============================] - 5s 12ms/step - loss: 1798899.6250\n",
      "Epoch 88/100\n",
      "406/406 [==============================] - 5s 13ms/step - loss: 1763993.3750\n",
      "Epoch 89/100\n",
      "406/406 [==============================] - 5s 13ms/step - loss: 1731273.1250\n",
      "Epoch 90/100\n",
      "406/406 [==============================] - 5s 12ms/step - loss: 1697501.6250\n",
      "Epoch 91/100\n",
      "406/406 [==============================] - 6s 14ms/step - loss: 1669519.2500\n",
      "Epoch 92/100\n",
      "406/406 [==============================] - 5s 12ms/step - loss: 1628315.2500\n",
      "Epoch 93/100\n",
      "406/406 [==============================] - 5s 13ms/step - loss: 1599191.2500\n",
      "Epoch 94/100\n",
      "406/406 [==============================] - 5s 12ms/step - loss: 1560820.6250\n",
      "Epoch 95/100\n",
      "406/406 [==============================] - 4s 10ms/step - loss: 1536695.1250\n",
      "Epoch 96/100\n",
      "406/406 [==============================] - 4s 10ms/step - loss: 1509191.2500\n",
      "Epoch 97/100\n",
      "406/406 [==============================] - 4s 10ms/step - loss: 1465616.3750\n",
      "Epoch 98/100\n",
      "406/406 [==============================] - 4s 10ms/step - loss: 1447608.5000\n",
      "Epoch 99/100\n",
      "406/406 [==============================] - 4s 9ms/step - loss: 1416749.0000\n",
      "Epoch 100/100\n",
      "406/406 [==============================] - 4s 10ms/step - loss: 1391570.2500\n"
     ]
    },
    {
     "data": {
      "text/plain": [
       "<keras.src.callbacks.History at 0x7fca04108ca0>"
      ]
     },
     "execution_count": 11,
     "metadata": {},
     "output_type": "execute_result"
    }
   ],
   "source": [
    "# Define LSTM model\n",
    "model = Sequential([\n",
    "    LSTM(50, input_shape=(12, 1), activation='tanh', kernel_regularizer=l2(0.01)),\n",
    "    #Dense(64, activation='softplus'),\n",
    "    Dropout(0.2),\n",
    "    Dense(1)\n",
    "])\n",
    "\n",
    "# Compile the model\n",
    "model.compile(optimizer='adam', loss='mean_squared_error')\n",
    "\n",
    "# Train the model\n",
    "model.fit(X_train_reshaped, y_train_reshaped, epochs=100, batch_size=32)"
   ]
  },
  {
   "cell_type": "code",
   "execution_count": 12,
   "id": "dcf2f08a-ad23-4265-88bb-da6197718085",
   "metadata": {},
   "outputs": [],
   "source": [
    "X_test_reshaped = X_test_scaled.reshape(X_test_scaled.shape[0], X_test_scaled.shape[1], 1)"
   ]
  },
  {
   "cell_type": "code",
   "execution_count": 13,
   "id": "b16c4880-7e6a-4dd1-8d72-89fdb629a26a",
   "metadata": {},
   "outputs": [
    {
     "data": {
      "text/plain": [
       "array([[[0.36764502],\n",
       "        [0.20925812],\n",
       "        [0.20925812],\n",
       "        ...,\n",
       "        [0.22726951],\n",
       "        [0.21238729],\n",
       "        [0.4816376 ]],\n",
       "\n",
       "       [[0.46524768],\n",
       "        [0.20864155],\n",
       "        [0.20864155],\n",
       "        ...,\n",
       "        [0.22657958],\n",
       "        [0.21144465],\n",
       "        [0.49135174]],\n",
       "\n",
       "       [[0.58494364],\n",
       "        [0.20877558],\n",
       "        [0.20877558],\n",
       "        ...,\n",
       "        [0.22591725],\n",
       "        [0.21259629],\n",
       "        [0.51531157]],\n",
       "\n",
       "       ...,\n",
       "\n",
       "       [[0.69281312],\n",
       "        [0.17801109],\n",
       "        [0.17801109],\n",
       "        ...,\n",
       "        [0.18139782],\n",
       "        [0.18584725],\n",
       "        [0.5526739 ]],\n",
       "\n",
       "       [[0.74477209],\n",
       "        [0.17889544],\n",
       "        [0.17889544],\n",
       "        ...,\n",
       "        [0.18177532],\n",
       "        [0.18779537],\n",
       "        [0.55511691]],\n",
       "\n",
       "       [[0.75898358],\n",
       "        [0.17998013],\n",
       "        [0.17998013],\n",
       "        ...,\n",
       "        [0.18214526],\n",
       "        [0.1894418 ],\n",
       "        [0.55173142]]])"
      ]
     },
     "execution_count": 13,
     "metadata": {},
     "output_type": "execute_result"
    }
   ],
   "source": [
    "X_test_reshaped"
   ]
  },
  {
   "cell_type": "code",
   "execution_count": 14,
   "id": "5c774959-d2d1-4642-86e0-bf02a374bce3",
   "metadata": {},
   "outputs": [
    {
     "name": "stdout",
     "output_type": "stream",
     "text": [
      "102/102 [==============================] - 1s 4ms/step\n"
     ]
    }
   ],
   "source": [
    "y_pred = model.predict(X_test_reshaped)"
   ]
  },
  {
   "cell_type": "code",
   "execution_count": 15,
   "id": "354bb1a0-b43e-49bc-9162-3f2bcb298d13",
   "metadata": {},
   "outputs": [
    {
     "data": {
      "text/html": [
       "<div>\n",
       "<style scoped>\n",
       "    .dataframe tbody tr th:only-of-type {\n",
       "        vertical-align: middle;\n",
       "    }\n",
       "\n",
       "    .dataframe tbody tr th {\n",
       "        vertical-align: top;\n",
       "    }\n",
       "\n",
       "    .dataframe thead th {\n",
       "        text-align: right;\n",
       "    }\n",
       "</style>\n",
       "<table border=\"1\" class=\"dataframe\">\n",
       "  <thead>\n",
       "    <tr style=\"text-align: right;\">\n",
       "      <th></th>\n",
       "      <th>close</th>\n",
       "    </tr>\n",
       "  </thead>\n",
       "  <tbody>\n",
       "    <tr>\n",
       "      <th>13017</th>\n",
       "      <td>1744.47</td>\n",
       "    </tr>\n",
       "    <tr>\n",
       "      <th>13018</th>\n",
       "      <td>1765.01</td>\n",
       "    </tr>\n",
       "    <tr>\n",
       "      <th>13019</th>\n",
       "      <td>1735.29</td>\n",
       "    </tr>\n",
       "    <tr>\n",
       "      <th>13020</th>\n",
       "      <td>1725.50</td>\n",
       "    </tr>\n",
       "    <tr>\n",
       "      <th>13021</th>\n",
       "      <td>1725.71</td>\n",
       "    </tr>\n",
       "    <tr>\n",
       "      <th>...</th>\n",
       "      <td>...</td>\n",
       "    </tr>\n",
       "    <tr>\n",
       "      <th>16257</th>\n",
       "      <td>1638.52</td>\n",
       "    </tr>\n",
       "    <tr>\n",
       "      <th>16258</th>\n",
       "      <td>1656.42</td>\n",
       "    </tr>\n",
       "    <tr>\n",
       "      <th>16259</th>\n",
       "      <td>1664.93</td>\n",
       "    </tr>\n",
       "    <tr>\n",
       "      <th>16260</th>\n",
       "      <td>1667.43</td>\n",
       "    </tr>\n",
       "    <tr>\n",
       "      <th>16261</th>\n",
       "      <td>1664.66</td>\n",
       "    </tr>\n",
       "  </tbody>\n",
       "</table>\n",
       "<p>3245 rows × 1 columns</p>\n",
       "</div>"
      ],
      "text/plain": [
       "         close\n",
       "13017  1744.47\n",
       "13018  1765.01\n",
       "13019  1735.29\n",
       "13020  1725.50\n",
       "13021  1725.71\n",
       "...        ...\n",
       "16257  1638.52\n",
       "16258  1656.42\n",
       "16259  1664.93\n",
       "16260  1667.43\n",
       "16261  1664.66\n",
       "\n",
       "[3245 rows x 1 columns]"
      ]
     },
     "execution_count": 15,
     "metadata": {},
     "output_type": "execute_result"
    }
   ],
   "source": [
    "y_test"
   ]
  },
  {
   "cell_type": "code",
   "execution_count": 16,
   "id": "08f7953d-516c-4c25-aac9-ed3e352c35eb",
   "metadata": {},
   "outputs": [
    {
     "data": {
      "text/plain": [
       "array([[1994.5737],\n",
       "       [1994.5737],\n",
       "       [1994.5737],\n",
       "       ...,\n",
       "       [1994.5737],\n",
       "       [1994.5737],\n",
       "       [1994.5737]], dtype=float32)"
      ]
     },
     "execution_count": 16,
     "metadata": {},
     "output_type": "execute_result"
    }
   ],
   "source": [
    "y_pred"
   ]
  },
  {
   "cell_type": "code",
   "execution_count": null,
   "id": "b7b5e424-ab1f-40ca-8bec-b5d958ea863c",
   "metadata": {},
   "outputs": [],
   "source": []
  },
  {
   "cell_type": "code",
   "execution_count": null,
   "id": "d79b21fb-740e-4eff-b14e-a55d0dd2bfd3",
   "metadata": {},
   "outputs": [],
   "source": []
  }
 ],
 "metadata": {
  "kernelspec": {
   "display_name": "Python 3 (ipykernel)",
   "language": "python",
   "name": "python3"
  },
  "language_info": {
   "codemirror_mode": {
    "name": "ipython",
    "version": 3
   },
   "file_extension": ".py",
   "mimetype": "text/x-python",
   "name": "python",
   "nbconvert_exporter": "python",
   "pygments_lexer": "ipython3",
   "version": "3.10.12"
  }
 },
 "nbformat": 4,
 "nbformat_minor": 5
}
