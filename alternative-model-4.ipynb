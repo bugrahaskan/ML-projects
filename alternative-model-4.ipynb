{
 "cells": [
  {
   "cell_type": "code",
   "execution_count": 1,
   "id": "14c600ba-a960-4259-9932-7d7ed6afac4e",
   "metadata": {},
   "outputs": [],
   "source": [
    "import pandas as pd\n",
    "\n",
    "data = pd.read_csv('data/^NDX_raw_data.csv')\n",
    "data.rename(columns={'Date': 'date', 'Open':'open', 'High':'high', 'Low':'low', 'Close':'close', 'Volume':'volume'}, inplace=True)"
   ]
  },
  {
   "cell_type": "code",
   "execution_count": 2,
   "id": "fe86484a-695b-4342-820f-e728c0c53f1c",
   "metadata": {},
   "outputs": [],
   "source": [
    "data_backup = data.iloc[3524:]\n",
    "data = data.iloc[:3524]"
   ]
  },
  {
   "cell_type": "code",
   "execution_count": 3,
   "id": "6d767c18-721c-4934-b82a-2f3b09ac18a3",
   "metadata": {},
   "outputs": [
    {
     "name": "stdout",
     "output_type": "stream",
     "text": [
      "<class 'pandas.core.frame.DataFrame'>\n",
      "RangeIndex: 3524 entries, 0 to 3523\n",
      "Data columns (total 6 columns):\n",
      " #   Column  Non-Null Count  Dtype  \n",
      "---  ------  --------------  -----  \n",
      " 0   date    3524 non-null   object \n",
      " 1   open    3524 non-null   float64\n",
      " 2   high    3524 non-null   float64\n",
      " 3   low     3524 non-null   float64\n",
      " 4   close   3524 non-null   float64\n",
      " 5   volume  3524 non-null   int64  \n",
      "dtypes: float64(4), int64(1), object(1)\n",
      "memory usage: 165.3+ KB\n"
     ]
    }
   ],
   "source": [
    "data.info()"
   ]
  },
  {
   "cell_type": "markdown",
   "id": "7a4d38f8-f863-47ff-bbff-494bc9a3e38c",
   "metadata": {},
   "source": [
    "### trying XGBoost"
   ]
  },
  {
   "cell_type": "code",
   "execution_count": 4,
   "id": "d953074e-4d9d-4594-adeb-a31366d078b9",
   "metadata": {},
   "outputs": [],
   "source": [
    "import pandas as pd\n",
    "\n",
    "for i in range(1,21):\n",
    "    data[f'close+{i}'] = data['close'].shift(i)\n",
    "for i in range(1,21):\n",
    "    data[f'high+{i}'] = data['high'].shift(i)\n",
    "for i in range(1,21):\n",
    "    data[f'low+{i}'] = data['low'].shift(i)\n",
    "data.dropna(axis=0, inplace=True)"
   ]
  },
  {
   "cell_type": "code",
   "execution_count": 5,
   "id": "cdfffac2-e556-442b-85ec-3c28f8175efa",
   "metadata": {},
   "outputs": [
    {
     "data": {
      "text/plain": [
       "Index(['date', 'open', 'high', 'low', 'close', 'volume', 'close+1', 'close+2',\n",
       "       'close+3', 'close+4', 'close+5', 'close+6', 'close+7', 'close+8',\n",
       "       'close+9', 'close+10', 'close+11', 'close+12', 'close+13', 'close+14',\n",
       "       'close+15', 'close+16', 'close+17', 'close+18', 'close+19', 'close+20',\n",
       "       'high+1', 'high+2', 'high+3', 'high+4', 'high+5', 'high+6', 'high+7',\n",
       "       'high+8', 'high+9', 'high+10', 'high+11', 'high+12', 'high+13',\n",
       "       'high+14', 'high+15', 'high+16', 'high+17', 'high+18', 'high+19',\n",
       "       'high+20', 'low+1', 'low+2', 'low+3', 'low+4', 'low+5', 'low+6',\n",
       "       'low+7', 'low+8', 'low+9', 'low+10', 'low+11', 'low+12', 'low+13',\n",
       "       'low+14', 'low+15', 'low+16', 'low+17', 'low+18', 'low+19', 'low+20'],\n",
       "      dtype='object')"
      ]
     },
     "execution_count": 5,
     "metadata": {},
     "output_type": "execute_result"
    }
   ],
   "source": [
    "data.columns"
   ]
  },
  {
   "cell_type": "code",
   "execution_count": 6,
   "id": "1c4f7e5d-1644-4f8b-b452-e02aaee90295",
   "metadata": {},
   "outputs": [],
   "source": [
    "inputs_close = data.iloc[:, [6,7,8,9,10,11,12,13,14,15,16,17,18,19,20,21,22,23,24,25]]\n",
    "target_close = data.iloc[:, [4]]\n",
    "\n",
    "inputs_high = data.iloc[:, [26,27,28,29,30,31,32,33,34,35,36,37,38,39,40,41,42,43,44,45]]\n",
    "target_high = data.iloc[:, [2]]\n",
    "\n",
    "inputs_low = data.iloc[:, [46,47,48,49,50,51,52,53,54,55,56,57,58,59,60,61,62,63,64,65]]\n",
    "target_low = data.iloc[:, [3]]"
   ]
  },
  {
   "cell_type": "code",
   "execution_count": 7,
   "id": "7ec81eec-cfc0-4869-add5-eae71b238148",
   "metadata": {},
   "outputs": [],
   "source": [
    "import pandas as pd\n",
    "import numpy as np\n",
    "from sklearn.model_selection import train_test_split\n",
    "from sklearn.tree import DecisionTreeRegressor, DecisionTreeClassifier\n",
    "from sklearn.metrics import mean_squared_error, accuracy_score\n",
    "from sklearn.ensemble import RandomForestRegressor\n",
    "\n",
    "X_train_c, X_test_c, y_train_c, y_test_c = train_test_split(inputs_close, target_close, test_size=0.2, random_state=1, shuffle=False)\n",
    "X_train_h, X_test_h, y_train_h, y_test_h = train_test_split(inputs_high, target_high, test_size=0.2, random_state=1, shuffle=False)\n",
    "X_train_l, X_test_l, y_train_l, y_test_l = train_test_split(inputs_low, target_low, test_size=0.2, random_state=1, shuffle=False)\n",
    "\n",
    "from sklearn.preprocessing import MinMaxScaler, StandardScaler\n",
    "\n",
    "scaler_c = MinMaxScaler()\n",
    "scaler_c.fit(X_train_c)\n",
    "scaler_target_c = MinMaxScaler()\n",
    "scaler_target_c.fit(y_train_c)\n",
    "\n",
    "scaler_h = MinMaxScaler()\n",
    "scaler_h.fit(X_train_h)\n",
    "scaler_target_h = MinMaxScaler()\n",
    "scaler_target_h.fit(y_train_h)\n",
    "\n",
    "scaler_l = MinMaxScaler()\n",
    "scaler_l.fit(X_train_l)\n",
    "scaler_target_l = MinMaxScaler()\n",
    "scaler_target_l.fit(y_train_l)\n",
    "\n",
    "X_train_c_scaled = scaler_c.transform(X_train_c)\n",
    "X_test_c_scaled = scaler_c.transform(X_test_c)\n",
    "y_train_c_scaled = scaler_target_c.transform(y_train_c)\n",
    "y_test_c_scaled = scaler_target_c.transform(y_test_c)\n",
    "\n",
    "X_train_h_scaled = scaler_h.transform(X_train_h)\n",
    "X_test_h_scaled = scaler_h.transform(X_test_h)\n",
    "y_train_h_scaled = scaler_target_h.transform(y_train_h)\n",
    "y_test_h_scaled = scaler_target_h.transform(y_test_h)\n",
    "\n",
    "X_train_l_scaled = scaler_l.transform(X_train_l)\n",
    "X_test_l_scaled = scaler_l.transform(X_test_l)\n",
    "y_train_l_scaled = scaler_target_l.transform(y_train_l)\n",
    "y_test_l_scaled = scaler_target_l.transform(y_test_l)"
   ]
  },
  {
   "cell_type": "code",
   "execution_count": 8,
   "id": "c0d1ef52-476a-4d81-aa2d-7401c2ef384d",
   "metadata": {},
   "outputs": [],
   "source": [
    "import xgboost as xgb\n",
    "\n",
    "dtrain_close = xgb.DMatrix(X_train_c_scaled, label=y_train_c_scaled)\n",
    "dtrain_high = xgb.DMatrix(X_train_h_scaled, label=y_train_h_scaled)\n",
    "dtrain_low = xgb.DMatrix(X_train_l_scaled, label=y_train_l_scaled)\n",
    "\n",
    "params = {'objective': 'reg:squarederror', 'max_depth': 5}\n",
    "num_rounds = 100\n",
    "\n",
    "model_close = xgb.train(params, dtrain_close, num_rounds)\n",
    "model_high = xgb.train(params, dtrain_high, num_rounds)\n",
    "model_low = xgb.train(params, dtrain_low, num_rounds)"
   ]
  },
  {
   "cell_type": "code",
   "execution_count": null,
   "id": "35a4daf8-074a-431e-9424-f474eb97a2de",
   "metadata": {},
   "outputs": [],
   "source": []
  },
  {
   "cell_type": "markdown",
   "id": "401a7c18-3bf9-4211-b2ca-d9eeeaad7310",
   "metadata": {},
   "source": [
    "### data reading:"
   ]
  },
  {
   "cell_type": "code",
   "execution_count": 9,
   "id": "1eff03c3-9165-4f08-bf56-22db685a5de8",
   "metadata": {},
   "outputs": [],
   "source": [
    "data_backup = pd.read_csv('data/^NDX_raw_data.csv')\n",
    "data_backup.rename(columns={'Date': 'date', 'Open':'open', 'High':'high', 'Low':'low', 'Close':'close', 'Volume':'volume'}, inplace=True)"
   ]
  },
  {
   "cell_type": "code",
   "execution_count": 10,
   "id": "71913e51-9394-49ef-9882-b653e755f9ee",
   "metadata": {},
   "outputs": [],
   "source": [
    "import pandas as pd\n",
    "\n",
    "for i in range(1,21):\n",
    "    data_backup[f'close+{i}'] = data_backup['close'].shift(i)\n",
    "for i in range(1,21):\n",
    "    data_backup[f'high+{i}'] = data_backup['high'].shift(i)\n",
    "for i in range(1,21):\n",
    "    data_backup[f'low+{i}'] = data_backup['low'].shift(i)\n",
    "data_backup.dropna(axis=0, inplace=True)"
   ]
  },
  {
   "cell_type": "code",
   "execution_count": 11,
   "id": "3a72aee2-a27c-4c19-b58d-90cfcf49c181",
   "metadata": {},
   "outputs": [],
   "source": [
    "inputs_close_backup = data_backup.iloc[:, [6,7,8,9,10,11,12,13,14,15,16,17,18,19,20,21,22,23,24,25]]\n",
    "inputs_high_backup = data_backup.iloc[:, [26,27,28,29,30,31,32,33,34,35,36,37,38,39,40,41,42,43,44,45]]\n",
    "inputs_low_backup = data_backup.iloc[:, [46,47,48,49,50,51,52,53,54,55,56,57,58,59,60,61,62,63,64,65]]"
   ]
  },
  {
   "cell_type": "code",
   "execution_count": 12,
   "id": "ed3de9f7-3abf-43cf-a2c8-06e183f6b2c8",
   "metadata": {},
   "outputs": [],
   "source": [
    "df_pred = dict()\n",
    "\n",
    "scaler_input = MinMaxScaler()\n",
    "data_backup_c_scaled = scaler_input.fit_transform(inputs_close_backup)\n",
    "scaler_target = MinMaxScaler()\n",
    "target_backup_c_scaled = scaler_target.fit_transform(data_backup[['close']])\n",
    "\n",
    "dtest_close = xgb.DMatrix(data_backup_c_scaled)\n",
    "y_pred_c_backup = model_close.predict(dtest_close)\n",
    "y_pred_c_backup = y_pred_c_backup.reshape(-1,1)\n",
    "y_pred_c_backup = scaler_target.inverse_transform(y_pred_c_backup)\n",
    "\n",
    "scaler_input = MinMaxScaler()\n",
    "data_backup_h_scaled = scaler_input.fit_transform(inputs_high_backup)\n",
    "scaler_target = MinMaxScaler()\n",
    "target_backup_c_scaled = scaler_target.fit_transform(data_backup[['high']])\n",
    "\n",
    "dtest_high = xgb.DMatrix(data_backup_h_scaled)\n",
    "y_pred_h_backup = model_high.predict(dtest_high)\n",
    "y_pred_h_backup = y_pred_h_backup.reshape(-1,1)\n",
    "y_pred_h_backup = scaler_target.inverse_transform(y_pred_h_backup)\n",
    "\n",
    "scaler_input = MinMaxScaler()\n",
    "data_backup_l_scaled = scaler_input.fit_transform(inputs_low_backup)\n",
    "scaler_target = MinMaxScaler()\n",
    "target_backup_c_scaled = scaler_target.fit_transform(data_backup[['low']])\n",
    "\n",
    "dtest_low = xgb.DMatrix(data_backup_l_scaled)\n",
    "y_pred_l_backup = model_low.predict(dtest_low)\n",
    "y_pred_l_backup = y_pred_l_backup.reshape(-1,1)\n",
    "y_pred_l_backup = scaler_target.inverse_transform(y_pred_l_backup)\n",
    "\n",
    "df_pred = {'pred_c':y_pred_c_backup, 'pred_h':y_pred_h_backup, 'pred_l':y_pred_l_backup}"
   ]
  },
  {
   "cell_type": "code",
   "execution_count": 13,
   "id": "c63c30db-499a-42b4-8271-bcd6cf03faec",
   "metadata": {},
   "outputs": [
    {
     "name": "stdout",
     "output_type": "stream",
     "text": [
      "METRICS FOR NASDAQ INDEX:\n",
      "score close: 110.08631841879082\n",
      "score high: 91.57731721255205\n",
      "score low: 103.16785695570424\n",
      "- R2 METRICS FOR NASDAQ INDEX:\n",
      "r2 close: 0.9984805078794263\n",
      "r2 high: 0.9988198743413552\n",
      "r2 low: 0.9985574025212032\n"
     ]
    }
   ],
   "source": [
    "data_backup.reset_index(inplace=True)\n",
    "\n",
    "from sklearn.metrics import mean_squared_error, accuracy_score, r2_score, mean_absolute_error\n",
    "\n",
    "score_c = mean_absolute_error(data_backup[['close']], df_pred['pred_c'])\n",
    "r2_c = r2_score(data_backup[['close']], df_pred['pred_c'])\n",
    "data_backup['mae_c'] = score_c\n",
    "\n",
    "score_h = mean_absolute_error(data_backup[['high']], df_pred['pred_h'])\n",
    "r2_h = r2_score(data_backup[['high']], df_pred['pred_h'])\n",
    "data_backup['mae_h'] = score_h\n",
    "\n",
    "score_l = mean_absolute_error(data_backup[['low']], df_pred['pred_l'])\n",
    "r2_l = r2_score(data_backup[['low']], df_pred['pred_l'])\n",
    "data_backup['mae_l'] = score_l\n",
    "\n",
    "print(f'METRICS FOR NASDAQ INDEX:')\n",
    "print(f'score close: {score_c}')\n",
    "print(f'score high: {score_h}')\n",
    "print(f'score low: {score_l}')\n",
    "\n",
    "print(f'- R2 METRICS FOR NASDAQ INDEX:')\n",
    "print(f'r2 close: {r2_c}')\n",
    "print(f'r2 high: {r2_h}')\n",
    "print(f'r2 low: {r2_l}')"
   ]
  },
  {
   "cell_type": "code",
   "execution_count": 14,
   "id": "762d70fd-e0cf-448d-9e6d-bc33330de11a",
   "metadata": {},
   "outputs": [],
   "source": [
    "remaining_columns = ('date','open','high','low','close','volume','mae_c','mae_h','mae_l')\n",
    "\n",
    "data_backup = data_backup[list(remaining_columns)]\n",
    "\n",
    "y_pred_c_series = pd.Series(df_pred['pred_c'].reshape(1,-1)[0])\n",
    "y_pred_h_series = pd.Series(df_pred['pred_h'].reshape(1,-1)[0])\n",
    "y_pred_l_series = pd.Series(df_pred['pred_l'].reshape(1,-1)[0])\n",
    "data_backup['pred_close'] = y_pred_c_series\n",
    "data_backup['pred_high'] = y_pred_h_series\n",
    "data_backup['pred_low'] = y_pred_l_series\n",
    "\n",
    "data_backup.to_excel(f'data_w_pred_m4/index_w_pred_m4.xlsx')"
   ]
  },
  {
   "cell_type": "code",
   "execution_count": null,
   "id": "24f0dd21-6415-4324-925a-8ba49d39fb7a",
   "metadata": {},
   "outputs": [],
   "source": []
  },
  {
   "cell_type": "code",
   "execution_count": null,
   "id": "fbf2605c-4a6d-4b98-90e7-3e5dc4c641ae",
   "metadata": {},
   "outputs": [],
   "source": []
  },
  {
   "cell_type": "code",
   "execution_count": null,
   "id": "81b9f568-a0d3-420d-bd7e-f75a747c20d5",
   "metadata": {},
   "outputs": [],
   "source": []
  },
  {
   "cell_type": "code",
   "execution_count": null,
   "id": "6d2f484b-0ea7-4a6c-9271-9bea684bd2b1",
   "metadata": {},
   "outputs": [],
   "source": []
  },
  {
   "cell_type": "code",
   "execution_count": null,
   "id": "2118b25d-fd6e-47e0-b83b-8e7d81e7c7bd",
   "metadata": {},
   "outputs": [],
   "source": []
  },
  {
   "cell_type": "code",
   "execution_count": null,
   "id": "1ffd9c3e-e781-44a8-8c0c-97bccd4ba33b",
   "metadata": {},
   "outputs": [],
   "source": []
  }
 ],
 "metadata": {
  "kernelspec": {
   "display_name": "Python 3 (ipykernel)",
   "language": "python",
   "name": "python3"
  },
  "language_info": {
   "codemirror_mode": {
    "name": "ipython",
    "version": 3
   },
   "file_extension": ".py",
   "mimetype": "text/x-python",
   "name": "python",
   "nbconvert_exporter": "python",
   "pygments_lexer": "ipython3",
   "version": "3.10.12"
  }
 },
 "nbformat": 4,
 "nbformat_minor": 5
}
