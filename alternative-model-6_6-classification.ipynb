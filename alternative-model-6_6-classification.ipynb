{
 "cells": [
  {
   "cell_type": "code",
   "execution_count": 1,
   "id": "017293ec-b6db-4f4c-b8ce-54363200c402",
   "metadata": {},
   "outputs": [
    {
     "name": "stdout",
     "output_type": "stream",
     "text": [
      "Data imported and copied.\n"
     ]
    }
   ],
   "source": [
    "import pandas as pd\n",
    "\n",
    "data = pd.read_csv('data/^NDX_raw_data.csv')\n",
    "data.rename(columns={'Date': 'date', 'Open':'open', 'High':'high', 'Low':'low', 'Close':'close', 'Volume':'volume'}, inplace=True)\n",
    "\n",
    "data_backup = data.iloc[3524:]\n",
    "\n",
    "data = data.iloc[:3524]\n",
    "data_copy = data.copy()\n",
    "\n",
    "print('Data imported and copied.', flush=True)"
   ]
  },
  {
   "cell_type": "code",
   "execution_count": 2,
   "id": "694a4126-ef3f-4320-b118-c0d5f787dfff",
   "metadata": {},
   "outputs": [],
   "source": [
    "import numpy as np\n",
    "\n",
    "## Creating sequences\n",
    "def create_dataset(dataset, time_step=1, output_step=1):\n",
    "    dataX, dataY = [], []\n",
    "    for i in range(len(dataset)-time_step-output_step):\n",
    "        a = dataset[i:(i+time_step), 0]\n",
    "        b = dataset[(i+time_step):(i+time_step)+output_step, 0]\n",
    "        dataX.append(a)\n",
    "        dataY.append(b)\n",
    "\n",
    "    return np.array(dataX), np.array(dataY)\n",
    "\n",
    "period = 14\n",
    "trend_period = 14\n",
    "rsi_period = 14\n",
    "num_features = 1\n",
    "input_period = 14\n",
    "output_step = 7\n",
    "units = 512"
   ]
  },
  {
   "cell_type": "code",
   "execution_count": 3,
   "id": "1308f7df-ca73-4237-8d8e-b64ab239bb1c",
   "metadata": {},
   "outputs": [],
   "source": [
    "X, y = create_dataset(data[['close']].to_numpy(), time_step=period, output_step=output_step)\n",
    "\n",
    "data_input = np.array([np.concatenate((X[i], y[i]), axis=0) for i in range(X.shape[0])])"
   ]
  },
  {
   "cell_type": "code",
   "execution_count": 4,
   "id": "f758c755-3ed4-4239-a2dc-7dcaf097a30b",
   "metadata": {},
   "outputs": [
    {
     "data": {
      "text/plain": [
       "((3503, 14),\n",
       " (3503, 21),\n",
       " array([1463.56994629, 1496.57995605, 1501.26000977, 1514.26000977,\n",
       "        1530.65002441, 1520.45996094, 1539.77001953, 1524.7800293 ,\n",
       "        1534.07995605, 1532.01000977, 1553.61999512, 1552.86999512,\n",
       "        1546.59997559, 1530.42004395]),\n",
       " array([1463.56994629, 1496.57995605, 1501.26000977, 1514.26000977,\n",
       "        1530.65002441, 1520.45996094, 1539.77001953, 1524.7800293 ,\n",
       "        1534.07995605, 1532.01000977, 1553.61999512, 1552.86999512,\n",
       "        1546.59997559, 1530.42004395, 1531.20996094, 1553.66003418,\n",
       "        1519.22998047, 1491.56994629, 1496.40002441, 1493.07995605,\n",
       "        1487.83996582]))"
      ]
     },
     "execution_count": 4,
     "metadata": {},
     "output_type": "execute_result"
    }
   ],
   "source": [
    "X.shape, data_input.shape, X[0], data_input[0]"
   ]
  },
  {
   "cell_type": "code",
   "execution_count": 5,
   "id": "c673e87e-0099-498b-93a2-77ee754a46ab",
   "metadata": {},
   "outputs": [
    {
     "data": {
      "text/plain": [
       "(3503, 21)"
      ]
     },
     "execution_count": 5,
     "metadata": {},
     "output_type": "execute_result"
    }
   ],
   "source": [
    "data_input.shape"
   ]
  },
  {
   "cell_type": "code",
   "execution_count": 6,
   "id": "af6066ab-06b0-4fa3-8845-47e85d7471cc",
   "metadata": {},
   "outputs": [
    {
     "data": {
      "text/plain": [
       "array([ 1,  1,  1,  1, -1,  1, -1,  1, -1,  1, -1, -1, -1,  1,  1, -1, -1,\n",
       "        1, -1, -1])"
      ]
     },
     "execution_count": 6,
     "metadata": {},
     "output_type": "execute_result"
    }
   ],
   "source": [
    "np.where(np.diff(data_input[0]) > 0, 1, -1)"
   ]
  },
  {
   "cell_type": "code",
   "execution_count": 7,
   "id": "b6bb10f8-bdb8-41b3-8a1a-76f4d9311800",
   "metadata": {},
   "outputs": [],
   "source": [
    "data_diff = list()\n",
    "\n",
    "for data in data_input:\n",
    "    _diff = list()\n",
    "    for i in range(data.shape[0]-1):\n",
    "        epsilon = 1000 * (data[i+1] - data[i]) / data[i]\n",
    "        if data[i+1] - data[i] > 2 * epsilon:\n",
    "            _diff.append(1)\n",
    "        elif data[i+1] - data[i] < -2 * epsilon:\n",
    "            _diff.append(-1)\n",
    "        else:\n",
    "            _diff.append(0)\n",
    "    data_diff.append(_diff)\n",
    "\n",
    "data_diff = np.array(data_diff)"
   ]
  },
  {
   "cell_type": "code",
   "execution_count": 8,
   "id": "ff95caee-91b0-4f1e-9e8b-d20b35c4b889",
   "metadata": {},
   "outputs": [
    {
     "data": {
      "text/plain": [
       "((3503, 20),\n",
       " array([[0, 0, 0, 0, 1, 0, 1, 0, 1, 0, 1, 1, 1, 0, 0, 1, 1, 0, 1, 1],\n",
       "        [0, 0, 0, 1, 0, 1, 0, 1, 0, 1, 1, 1, 0, 0, 1, 1, 0, 1, 1, 0],\n",
       "        [0, 0, 1, 0, 1, 0, 1, 0, 1, 1, 1, 0, 0, 1, 1, 0, 1, 1, 0, 1],\n",
       "        [0, 1, 0, 1, 0, 1, 0, 1, 1, 1, 0, 0, 1, 1, 0, 1, 1, 0, 1, 0],\n",
       "        [1, 0, 1, 0, 1, 0, 1, 1, 1, 0, 0, 1, 1, 0, 1, 1, 0, 1, 0, 0],\n",
       "        [0, 1, 0, 1, 0, 1, 1, 1, 0, 0, 1, 1, 0, 1, 1, 0, 1, 0, 0, 1],\n",
       "        [1, 0, 1, 0, 1, 1, 1, 0, 0, 1, 1, 0, 1, 1, 0, 1, 0, 0, 1, 0],\n",
       "        [0, 1, 0, 1, 1, 1, 0, 0, 1, 1, 0, 1, 1, 0, 1, 0, 0, 1, 0, 0],\n",
       "        [1, 0, 1, 1, 1, 0, 0, 1, 1, 0, 1, 1, 0, 1, 0, 0, 1, 0, 0, 1],\n",
       "        [0, 1, 1, 1, 0, 0, 1, 1, 0, 1, 1, 0, 1, 0, 0, 1, 0, 0, 1, 1],\n",
       "        [1, 1, 1, 0, 0, 1, 1, 0, 1, 1, 0, 1, 0, 0, 1, 0, 0, 1, 1, 0],\n",
       "        [1, 1, 0, 0, 1, 1, 0, 1, 1, 0, 1, 0, 0, 1, 0, 0, 1, 1, 0, 0],\n",
       "        [1, 0, 0, 1, 1, 0, 1, 1, 0, 1, 0, 0, 1, 0, 0, 1, 1, 0, 0, 1],\n",
       "        [0, 0, 1, 1, 0, 1, 1, 0, 1, 0, 0, 1, 0, 0, 1, 1, 0, 0, 1, 1],\n",
       "        [0, 1, 1, 0, 1, 1, 0, 1, 0, 0, 1, 0, 0, 1, 1, 0, 0, 1, 1, 1],\n",
       "        [1, 1, 0, 1, 1, 0, 1, 0, 0, 1, 0, 0, 1, 1, 0, 0, 1, 1, 1, 1],\n",
       "        [1, 0, 1, 1, 0, 1, 0, 0, 1, 0, 0, 1, 1, 0, 0, 1, 1, 1, 1, 0],\n",
       "        [0, 1, 1, 0, 1, 0, 0, 1, 0, 0, 1, 1, 0, 0, 1, 1, 1, 1, 0, 0],\n",
       "        [1, 1, 0, 1, 0, 0, 1, 0, 0, 1, 1, 0, 0, 1, 1, 1, 1, 0, 0, 1],\n",
       "        [1, 0, 1, 0, 0, 1, 0, 0, 1, 1, 0, 0, 1, 1, 1, 1, 0, 0, 1, 0],\n",
       "        [0, 1, 0, 0, 1, 0, 0, 1, 1, 0, 0, 1, 1, 1, 1, 0, 0, 1, 0, 1],\n",
       "        [1, 0, 0, 1, 0, 0, 1, 1, 0, 0, 1, 1, 1, 1, 0, 0, 1, 0, 1, 1],\n",
       "        [0, 0, 1, 0, 0, 1, 1, 0, 0, 1, 1, 1, 1, 0, 0, 1, 0, 1, 1, 0],\n",
       "        [0, 1, 0, 0, 1, 1, 0, 0, 1, 1, 1, 1, 0, 0, 1, 0, 1, 1, 0, 1],\n",
       "        [1, 0, 0, 1, 1, 0, 0, 1, 1, 1, 1, 0, 0, 1, 0, 1, 1, 0, 1, 1],\n",
       "        [0, 0, 1, 1, 0, 0, 1, 1, 1, 1, 0, 0, 1, 0, 1, 1, 0, 1, 1, 1],\n",
       "        [0, 1, 1, 0, 0, 1, 1, 1, 1, 0, 0, 1, 0, 1, 1, 0, 1, 1, 1, 1],\n",
       "        [1, 1, 0, 0, 1, 1, 1, 1, 0, 0, 1, 0, 1, 1, 0, 1, 1, 1, 1, 1],\n",
       "        [1, 0, 0, 1, 1, 1, 1, 0, 0, 1, 0, 1, 1, 0, 1, 1, 1, 1, 1, 0],\n",
       "        [0, 0, 1, 1, 1, 1, 0, 0, 1, 0, 1, 1, 0, 1, 1, 1, 1, 1, 0, 1],\n",
       "        [0, 1, 1, 1, 1, 0, 0, 1, 0, 1, 1, 0, 1, 1, 1, 1, 1, 0, 1, 0],\n",
       "        [1, 1, 1, 1, 0, 0, 1, 0, 1, 1, 0, 1, 1, 1, 1, 1, 0, 1, 0, 0],\n",
       "        [1, 1, 1, 0, 0, 1, 0, 1, 1, 0, 1, 1, 1, 1, 1, 0, 1, 0, 0, 1],\n",
       "        [1, 1, 0, 0, 1, 0, 1, 1, 0, 1, 1, 1, 1, 1, 0, 1, 0, 0, 1, 1],\n",
       "        [1, 0, 0, 1, 0, 1, 1, 0, 1, 1, 1, 1, 1, 0, 1, 0, 0, 1, 1, 1],\n",
       "        [0, 0, 1, 0, 1, 1, 0, 1, 1, 1, 1, 1, 0, 1, 0, 0, 1, 1, 1, 1],\n",
       "        [0, 1, 0, 1, 1, 0, 1, 1, 1, 1, 1, 0, 1, 0, 0, 1, 1, 1, 1, 0],\n",
       "        [1, 0, 1, 1, 0, 1, 1, 1, 1, 1, 0, 1, 0, 0, 1, 1, 1, 1, 0, 0],\n",
       "        [0, 1, 1, 0, 1, 1, 1, 1, 1, 0, 1, 0, 0, 1, 1, 1, 1, 0, 0, 1],\n",
       "        [1, 1, 0, 1, 1, 1, 1, 1, 0, 1, 0, 0, 1, 1, 1, 1, 0, 0, 1, 0]]))"
      ]
     },
     "execution_count": 8,
     "metadata": {},
     "output_type": "execute_result"
    }
   ],
   "source": [
    "data_diff.shape, data_diff[:40]"
   ]
  },
  {
   "cell_type": "code",
   "execution_count": 9,
   "id": "568e38fe-b483-4972-bc09-d6bcb979bd8d",
   "metadata": {},
   "outputs": [],
   "source": [
    "data_diff_input = np.array([ data_diff[i][:14] for i in range(data_diff.shape[0]) ])\n",
    "data_diff_target = np.array([ data_diff[i][14:] for i in range(data_diff.shape[0]) ])"
   ]
  },
  {
   "cell_type": "code",
   "execution_count": 10,
   "id": "615cf903-ffe5-471a-95ee-88d458636567",
   "metadata": {},
   "outputs": [
    {
     "data": {
      "text/plain": [
       "((3503, 14), (3503, 6))"
      ]
     },
     "execution_count": 10,
     "metadata": {},
     "output_type": "execute_result"
    }
   ],
   "source": [
    "data_diff_input.shape, data_diff_target.shape"
   ]
  },
  {
   "cell_type": "code",
   "execution_count": 11,
   "id": "51b80813-a26d-4bfd-b5b1-bd36e39eefcf",
   "metadata": {},
   "outputs": [
    {
     "name": "stderr",
     "output_type": "stream",
     "text": [
      "2024-06-05 10:52:28.822888: I external/local_tsl/tsl/cuda/cudart_stub.cc:31] Could not find cuda drivers on your machine, GPU will not be used.\n",
      "2024-06-05 10:52:28.904186: E external/local_xla/xla/stream_executor/cuda/cuda_dnn.cc:9261] Unable to register cuDNN factory: Attempting to register factory for plugin cuDNN when one has already been registered\n",
      "2024-06-05 10:52:28.904236: E external/local_xla/xla/stream_executor/cuda/cuda_fft.cc:607] Unable to register cuFFT factory: Attempting to register factory for plugin cuFFT when one has already been registered\n",
      "2024-06-05 10:52:28.907672: E external/local_xla/xla/stream_executor/cuda/cuda_blas.cc:1515] Unable to register cuBLAS factory: Attempting to register factory for plugin cuBLAS when one has already been registered\n",
      "2024-06-05 10:52:28.922481: I external/local_tsl/tsl/cuda/cudart_stub.cc:31] Could not find cuda drivers on your machine, GPU will not be used.\n",
      "2024-06-05 10:52:30.408082: W tensorflow/compiler/tf2tensorrt/utils/py_utils.cc:38] TF-TRT Warning: Could not find TensorRT\n"
     ]
    },
    {
     "ename": "NameError",
     "evalue": "name 'pred_categorical' is not defined",
     "output_type": "error",
     "traceback": [
      "\u001b[0;31m---------------------------------------------------------------------------\u001b[0m",
      "\u001b[0;31mNameError\u001b[0m                                 Traceback (most recent call last)",
      "Cell \u001b[0;32mIn[11], line 3\u001b[0m\n\u001b[1;32m      1\u001b[0m \u001b[38;5;28;01mfrom\u001b[39;00m \u001b[38;5;21;01mtensorflow\u001b[39;00m\u001b[38;5;21;01m.\u001b[39;00m\u001b[38;5;21;01mkeras\u001b[39;00m\u001b[38;5;21;01m.\u001b[39;00m\u001b[38;5;21;01mutils\u001b[39;00m \u001b[38;5;28;01mimport\u001b[39;00m to_categorical\n\u001b[0;32m----> 3\u001b[0m pred_mapped \u001b[38;5;241m=\u001b[39m \u001b[43mpred_categorical\u001b[49m \u001b[38;5;241m+\u001b[39m \u001b[38;5;241m1\u001b[39m  \u001b[38;5;66;03m# Shift labels to 0, 1, 2\u001b[39;00m\n\u001b[1;32m      4\u001b[0m pred_one_hot \u001b[38;5;241m=\u001b[39m to_categorical(pred_mapped)\n",
      "\u001b[0;31mNameError\u001b[0m: name 'pred_categorical' is not defined"
     ]
    }
   ],
   "source": [
    "from tensorflow.keras.utils import to_categorical\n",
    "\n",
    "pred_mapped = pred_categorical + 1  # Shift labels to 0, 1, 2\n",
    "pred_one_hot = to_categorical(pred_mapped)"
   ]
  },
  {
   "cell_type": "code",
   "execution_count": 11,
   "id": "a687148a-239b-45d4-ad7c-2621d01bc0c2",
   "metadata": {},
   "outputs": [
    {
     "data": {
      "text/plain": [
       "(3503, 3)"
      ]
     },
     "execution_count": 11,
     "metadata": {},
     "output_type": "execute_result"
    }
   ],
   "source": [
    "pred_one_hot.shape"
   ]
  },
  {
   "cell_type": "markdown",
   "id": "139effbb-4293-42a2-81c4-2e7ca15aa6aa",
   "metadata": {},
   "source": [
    "## Model"
   ]
  },
  {
   "cell_type": "code",
   "execution_count": 35,
   "id": "e4f1eb80-4cc9-453e-87be-fc00840cb3bf",
   "metadata": {},
   "outputs": [
    {
     "data": {
      "text/plain": [
       "(14, 1)"
      ]
     },
     "execution_count": 35,
     "metadata": {},
     "output_type": "execute_result"
    }
   ],
   "source": [
    "input_period, num_features"
   ]
  },
  {
   "cell_type": "code",
   "execution_count": 13,
   "id": "f16be03c-874a-4b0e-a9fb-74798497a178",
   "metadata": {},
   "outputs": [
    {
     "name": "stdout",
     "output_type": "stream",
     "text": [
      "Model: \"sequential\"\n",
      "_________________________________________________________________\n",
      " Layer (type)                Output Shape              Param #   \n",
      "=================================================================\n",
      " lstm (LSTM)                 (None, 128)               66560     \n",
      "                                                                 \n",
      " dropout (Dropout)           (None, 128)               0         \n",
      "                                                                 \n",
      " dense (Dense)               (None, 6)                 774       \n",
      "                                                                 \n",
      "=================================================================\n",
      "Total params: 67334 (263.02 KB)\n",
      "Trainable params: 67334 (263.02 KB)\n",
      "Non-trainable params: 0 (0.00 Byte)\n",
      "_________________________________________________________________\n"
     ]
    }
   ],
   "source": [
    "from tensorflow.keras.models import Sequential\n",
    "from tensorflow.keras.layers import LSTM, Dense, Dropout\n",
    "\n",
    "model_main = Sequential([\n",
    "    LSTM(units=128, input_shape=(input_period, num_features)),\n",
    "    Dropout(0.2),\n",
    "    Dense(6, activation='softmax')\n",
    "])\n",
    "\n",
    "model_main.compile(optimizer='adam', loss='categorical_crossentropy', metrics=['accuracy'])\n",
    "\n",
    "# Print the model summary\n",
    "model_main.summary()"
   ]
  },
  {
   "cell_type": "code",
   "execution_count": 14,
   "id": "367ad115-28f6-4f1c-a72f-8a036dffb97c",
   "metadata": {},
   "outputs": [
    {
     "name": "stdout",
     "output_type": "stream",
     "text": [
      "Epoch 1/30\n",
      "88/88 [==============================] - 6s 37ms/step - loss: 3.3864 - accuracy: 0.1363 - val_loss: 1.1480 - val_accuracy: 0.1498\n",
      "Epoch 2/30\n",
      "88/88 [==============================] - 2s 26ms/step - loss: 3.5292 - accuracy: 0.1742 - val_loss: 1.1701 - val_accuracy: 0.1897\n",
      "Epoch 3/30\n",
      "88/88 [==============================] - 2s 27ms/step - loss: 3.4756 - accuracy: 0.1877 - val_loss: 1.1321 - val_accuracy: 0.2468\n",
      "Epoch 4/30\n",
      "88/88 [==============================] - 3s 31ms/step - loss: 3.4656 - accuracy: 0.1956 - val_loss: 1.1366 - val_accuracy: 0.2568\n",
      "Epoch 5/30\n",
      "88/88 [==============================] - 2s 28ms/step - loss: 3.4739 - accuracy: 0.1788 - val_loss: 1.1435 - val_accuracy: 0.2611\n",
      "Epoch 6/30\n",
      "88/88 [==============================] - 3s 37ms/step - loss: 3.4872 - accuracy: 0.1977 - val_loss: 1.1424 - val_accuracy: 0.2611\n",
      "Epoch 7/30\n",
      "88/88 [==============================] - 3s 32ms/step - loss: 3.4660 - accuracy: 0.2056 - val_loss: 1.1417 - val_accuracy: 0.2568\n",
      "Epoch 8/30\n",
      "88/88 [==============================] - 4s 46ms/step - loss: 3.4564 - accuracy: 0.2109 - val_loss: 1.1471 - val_accuracy: 0.3210\n",
      "Epoch 9/30\n",
      "88/88 [==============================] - 3s 29ms/step - loss: 3.4553 - accuracy: 0.2141 - val_loss: 1.1683 - val_accuracy: 0.2725\n",
      "Epoch 10/30\n",
      "88/88 [==============================] - 2s 26ms/step - loss: 3.4934 - accuracy: 0.2238 - val_loss: 1.1710 - val_accuracy: 0.3210\n",
      "Epoch 11/30\n",
      "88/88 [==============================] - 2s 25ms/step - loss: 3.4197 - accuracy: 0.2120 - val_loss: 1.1449 - val_accuracy: 0.5678\n",
      "Epoch 12/30\n",
      "88/88 [==============================] - 3s 29ms/step - loss: 3.4571 - accuracy: 0.2084 - val_loss: 1.1509 - val_accuracy: 0.2611\n",
      "Epoch 13/30\n",
      "88/88 [==============================] - 3s 29ms/step - loss: 3.4206 - accuracy: 0.2123 - val_loss: 1.1409 - val_accuracy: 0.3210\n",
      "Epoch 14/30\n",
      "88/88 [==============================] - 3s 35ms/step - loss: 3.4171 - accuracy: 0.2077 - val_loss: 1.1530 - val_accuracy: 0.2725\n",
      "Epoch 15/30\n",
      "88/88 [==============================] - 3s 37ms/step - loss: 3.4143 - accuracy: 0.2034 - val_loss: 1.1336 - val_accuracy: 0.2568\n",
      "Epoch 16/30\n",
      "88/88 [==============================] - 3s 32ms/step - loss: 3.4355 - accuracy: 0.1949 - val_loss: 1.1243 - val_accuracy: 0.2568\n",
      "Epoch 17/30\n",
      "88/88 [==============================] - 3s 29ms/step - loss: 3.4435 - accuracy: 0.1784 - val_loss: 1.1336 - val_accuracy: 0.3210\n",
      "Epoch 18/30\n",
      "88/88 [==============================] - 2s 25ms/step - loss: 3.4277 - accuracy: 0.1906 - val_loss: 1.1467 - val_accuracy: 0.2611\n",
      "Epoch 19/30\n",
      "88/88 [==============================] - 3s 30ms/step - loss: 3.3786 - accuracy: 0.1831 - val_loss: 1.1555 - val_accuracy: 0.3880\n",
      "Epoch 20/30\n",
      "88/88 [==============================] - 3s 29ms/step - loss: 3.3981 - accuracy: 0.1995 - val_loss: 1.1443 - val_accuracy: 0.2725\n",
      "Epoch 21/30\n",
      "88/88 [==============================] - 2s 26ms/step - loss: 3.4439 - accuracy: 0.1767 - val_loss: 1.1511 - val_accuracy: 0.2725\n",
      "Epoch 22/30\n",
      "88/88 [==============================] - 3s 28ms/step - loss: 3.4105 - accuracy: 0.1849 - val_loss: 1.1321 - val_accuracy: 0.3210\n",
      "Epoch 23/30\n",
      "88/88 [==============================] - 3s 32ms/step - loss: 3.4220 - accuracy: 0.1770 - val_loss: 1.1312 - val_accuracy: 0.2725\n",
      "Epoch 24/30\n",
      "88/88 [==============================] - 2s 25ms/step - loss: 3.4149 - accuracy: 0.1867 - val_loss: 1.1411 - val_accuracy: 0.2725\n",
      "Epoch 25/30\n",
      "88/88 [==============================] - 2s 27ms/step - loss: 3.3759 - accuracy: 0.1909 - val_loss: 1.1164 - val_accuracy: 0.1398\n",
      "Epoch 26/30\n",
      "88/88 [==============================] - 2s 24ms/step - loss: 3.3921 - accuracy: 0.1845 - val_loss: 1.1447 - val_accuracy: 0.2725\n",
      "Epoch 27/30\n",
      "88/88 [==============================] - 3s 29ms/step - loss: 3.4019 - accuracy: 0.1788 - val_loss: 1.1383 - val_accuracy: 0.2725\n",
      "Epoch 28/30\n",
      "88/88 [==============================] - 3s 31ms/step - loss: 3.4042 - accuracy: 0.1763 - val_loss: 1.1482 - val_accuracy: 0.2611\n",
      "Epoch 29/30\n",
      "88/88 [==============================] - 3s 35ms/step - loss: 3.4008 - accuracy: 0.1734 - val_loss: 1.1505 - val_accuracy: 0.2611\n",
      "Epoch 30/30\n",
      "88/88 [==============================] - 3s 33ms/step - loss: 3.3879 - accuracy: 0.2049 - val_loss: 1.1258 - val_accuracy: 0.2611\n"
     ]
    }
   ],
   "source": [
    "history = model_main.fit(data_diff_input, data_diff_target, epochs=30, batch_size=32, validation_split=0.2)"
   ]
  },
  {
   "cell_type": "code",
   "execution_count": null,
   "id": "1ec8cb74-2d7d-40cc-b7f9-9d9838406f2f",
   "metadata": {},
   "outputs": [],
   "source": []
  },
  {
   "cell_type": "code",
   "execution_count": null,
   "id": "11d767ed-c53a-4544-aad6-cb4d0edeee33",
   "metadata": {},
   "outputs": [],
   "source": []
  },
  {
   "cell_type": "markdown",
   "id": "e54c3006-297d-4f1d-b375-27d2451b9b3e",
   "metadata": {},
   "source": [
    "## data testing"
   ]
  },
  {
   "cell_type": "code",
   "execution_count": 15,
   "id": "69d32d9a-5c2b-4031-b649-d23165019cb8",
   "metadata": {},
   "outputs": [],
   "source": [
    "data_backup = pd.read_csv('data/^NDX_raw_data.csv')\n",
    "data_backup.rename(columns={'Date': 'date', 'Open':'open', 'High':'high', 'Low':'low', 'Close':'close', 'Volume':'volume'}, inplace=True)\n",
    "\n",
    "data_backup_copy = data_backup.copy()"
   ]
  },
  {
   "cell_type": "code",
   "execution_count": 22,
   "id": "745ff94a-1071-43da-b6e5-cbc3c5e102a8",
   "metadata": {},
   "outputs": [],
   "source": [
    "X_test, y_test = create_dataset(data_backup[['close']].to_numpy(), time_step=period+1, output_step=output_step)"
   ]
  },
  {
   "cell_type": "code",
   "execution_count": 23,
   "id": "fe465879-8def-4247-813f-90ac48344fd9",
   "metadata": {},
   "outputs": [
    {
     "data": {
      "text/plain": [
       "((5011, 15), (5011, 7))"
      ]
     },
     "execution_count": 23,
     "metadata": {},
     "output_type": "execute_result"
    }
   ],
   "source": [
    "X_test.shape, y_test.shape"
   ]
  },
  {
   "cell_type": "code",
   "execution_count": 24,
   "id": "97f4810f-6a94-4721-8534-04e3dd1d3d61",
   "metadata": {},
   "outputs": [],
   "source": [
    "data_diff_test = list()\n",
    "\n",
    "for data in X_test:\n",
    "    _diff = list()\n",
    "    for i in range(data.shape[0]-1):\n",
    "        epsilon = 1000 * (data[i+1] - data[i]) / data[i]\n",
    "        if data[i+1] - data[i] > 2 * epsilon:\n",
    "            _diff.append(1)\n",
    "        elif data[i+1] - data[i] < -2 * epsilon:\n",
    "            _diff.append(-1)\n",
    "        else:\n",
    "            _diff.append(0)\n",
    "    data_diff_test.append(_diff)\n",
    "\n",
    "data_diff_test = np.array(data_diff_test)"
   ]
  },
  {
   "cell_type": "code",
   "execution_count": 30,
   "id": "27f6e331-22a6-4c68-812f-4e9bd28c6601",
   "metadata": {},
   "outputs": [
    {
     "data": {
      "text/plain": [
       "(5011, 14)"
      ]
     },
     "execution_count": 30,
     "metadata": {},
     "output_type": "execute_result"
    }
   ],
   "source": [
    "data_diff_test.shape"
   ]
  },
  {
   "cell_type": "code",
   "execution_count": 29,
   "id": "37f441e5-156f-419a-b32f-e7a87919ed4c",
   "metadata": {},
   "outputs": [
    {
     "data": {
      "text/plain": [
       "(14,)"
      ]
     },
     "execution_count": 29,
     "metadata": {},
     "output_type": "execute_result"
    }
   ],
   "source": [
    "data_diff_test[0].shape"
   ]
  },
  {
   "cell_type": "code",
   "execution_count": 36,
   "id": "e44df72e-4beb-446a-9ca1-c49f14310249",
   "metadata": {},
   "outputs": [
    {
     "name": "stdout",
     "output_type": "stream",
     "text": [
      "1/1 [==============================] - 1s 569ms/step\n"
     ]
    },
    {
     "data": {
      "text/plain": [
       "array([[0.17687415, 0.1103949 , 0.1673206 , 0.17547093, 0.22794065,\n",
       "        0.14199881]], dtype=float32)"
      ]
     },
     "execution_count": 36,
     "metadata": {},
     "output_type": "execute_result"
    }
   ],
   "source": [
    "model_main.predict(data_diff_test[0].reshape(1, input_period, num_features))"
   ]
  },
  {
   "cell_type": "code",
   "execution_count": 37,
   "id": "7d88caeb-d591-47c6-acd7-a3fd07dfcf62",
   "metadata": {},
   "outputs": [
    {
     "name": "stdout",
     "output_type": "stream",
     "text": [
      "100\n",
      "200\n",
      "300\n",
      "400\n",
      "500\n",
      "600\n",
      "700\n",
      "800\n",
      "900\n",
      "1000\n",
      "1100\n",
      "1200\n",
      "1300\n",
      "1400\n",
      "1500\n",
      "1600\n",
      "1700\n",
      "1800\n",
      "1900\n",
      "2000\n",
      "2100\n",
      "2200\n",
      "2300\n",
      "2400\n",
      "2500\n",
      "2600\n",
      "2700\n",
      "2800\n",
      "2900\n",
      "3000\n",
      "3100\n",
      "3200\n",
      "3300\n",
      "3400\n",
      "3500\n",
      "3600\n",
      "3700\n",
      "3800\n",
      "3900\n",
      "4000\n",
      "4100\n",
      "4200\n",
      "4300\n",
      "4400\n",
      "4500\n",
      "4600\n",
      "4700\n",
      "4800\n",
      "4900\n",
      "5000\n"
     ]
    }
   ],
   "source": [
    "predictions_test = list()\n",
    "\n",
    "for j in range(data_diff_test.shape[0]):\n",
    "    if (j+1) % 100 == 0:\n",
    "        print(j+1)\n",
    "        \n",
    "    predictions_test.append(\n",
    "        model_main.predict(data_diff_test[j].reshape(1, input_period, num_features), verbose=0)[0].reshape(1,6)\n",
    "    )\n",
    "\n",
    "predictions_test = np.array(predictions_test)"
   ]
  },
  {
   "cell_type": "code",
   "execution_count": 45,
   "id": "ae69c7d0-e261-4b07-b552-d809dd173f5f",
   "metadata": {},
   "outputs": [
    {
     "data": {
      "text/plain": [
       "array([[[0.17687415, 0.1103949 , 0.1673206 , 0.17547093, 0.22794065,\n",
       "         0.14199881]],\n",
       "\n",
       "       [[0.17687145, 0.11039322, 0.1673257 , 0.1754736 , 0.22793718,\n",
       "         0.14199881]],\n",
       "\n",
       "       [[0.17687081, 0.11039282, 0.16732255, 0.17547566, 0.22793983,\n",
       "         0.1419983 ]],\n",
       "\n",
       "       ...,\n",
       "\n",
       "       [[0.21387587, 0.19814724, 0.16645236, 0.12928161, 0.1241545 ,\n",
       "         0.1680884 ]],\n",
       "\n",
       "       [[0.176876  , 0.11039437, 0.16732234, 0.17546742, 0.22793956,\n",
       "         0.14200029]],\n",
       "\n",
       "       [[0.2139515 , 0.19812053, 0.16641216, 0.12929773, 0.12415482,\n",
       "         0.16806318]]], dtype=float32)"
      ]
     },
     "execution_count": 45,
     "metadata": {},
     "output_type": "execute_result"
    }
   ],
   "source": [
    "predictions_test"
   ]
  },
  {
   "cell_type": "code",
   "execution_count": null,
   "id": "8d26681d-1c87-4400-8099-bf9d69b0a80e",
   "metadata": {},
   "outputs": [],
   "source": []
  },
  {
   "cell_type": "code",
   "execution_count": 41,
   "id": "e52d1798-4706-4eb8-82cd-f910369147d8",
   "metadata": {},
   "outputs": [],
   "source": [
    "# Convert probabilities to class labels\n",
    "predictions_test_labels = np.array([ np.argmax(predictions_test[i], axis=1) for i in range(predictions_test.shape[0]) ])"
   ]
  },
  {
   "cell_type": "code",
   "execution_count": 44,
   "id": "75cc8f13-5943-4f58-8af7-d19b88da6562",
   "metadata": {},
   "outputs": [
    {
     "data": {
      "text/plain": [
       "array([4, 4, 4, ..., 0, 4, 0])"
      ]
     },
     "execution_count": 44,
     "metadata": {},
     "output_type": "execute_result"
    }
   ],
   "source": [
    "predictions_test_labels.reshape(1,-1)[0]"
   ]
  },
  {
   "cell_type": "code",
   "execution_count": 43,
   "id": "760eebfc-fd7b-4825-97b9-d4660610d472",
   "metadata": {},
   "outputs": [],
   "source": [
    "res = pd.Series(savgol_predictions_test_labels.reshape(1,-1)[0], index=data_backup.index[period:-output_step])"
   ]
  },
  {
   "cell_type": "code",
   "execution_count": 49,
   "id": "95a1475d-e362-441d-b5b5-f8910b35af96",
   "metadata": {},
   "outputs": [
    {
     "data": {
      "text/plain": [
       "14      1\n",
       "15      1\n",
       "16      1\n",
       "17      1\n",
       "18      2\n",
       "       ..\n",
       "5021    1\n",
       "5022    1\n",
       "5023    1\n",
       "5024    1\n",
       "5025    1\n",
       "Length: 5012, dtype: int64"
      ]
     },
     "execution_count": 49,
     "metadata": {},
     "output_type": "execute_result"
    }
   ],
   "source": [
    "res"
   ]
  },
  {
   "cell_type": "code",
   "execution_count": 62,
   "id": "72ff673b-f174-43ac-9a2c-a5adab7d800d",
   "metadata": {},
   "outputs": [],
   "source": [
    "data_output = data_backup.copy()"
   ]
  },
  {
   "cell_type": "code",
   "execution_count": 63,
   "id": "21402f0a-e829-4da5-9db1-852f81f79055",
   "metadata": {},
   "outputs": [
    {
     "data": {
      "text/plain": [
       "14      1\n",
       "15      1\n",
       "16      1\n",
       "17      1\n",
       "18      2\n",
       "       ..\n",
       "5021    1\n",
       "5022    1\n",
       "5023    1\n",
       "5024    1\n",
       "5025    1\n",
       "Length: 5012, dtype: int32"
      ]
     },
     "execution_count": 63,
     "metadata": {},
     "output_type": "execute_result"
    }
   ],
   "source": [
    "res.astype(np.int32)"
   ]
  },
  {
   "cell_type": "code",
   "execution_count": 64,
   "id": "2b4760ed-48fa-4f6b-9242-a188499d6692",
   "metadata": {},
   "outputs": [],
   "source": [
    "data_output = pd.concat([data_output, res.astype(np.int16)], axis=1, join='outer')"
   ]
  },
  {
   "cell_type": "code",
   "execution_count": 65,
   "id": "03f24862-2aa8-4c20-8dc4-f64c345ac4e4",
   "metadata": {},
   "outputs": [
    {
     "data": {
      "text/html": [
       "<div>\n",
       "<style scoped>\n",
       "    .dataframe tbody tr th:only-of-type {\n",
       "        vertical-align: middle;\n",
       "    }\n",
       "\n",
       "    .dataframe tbody tr th {\n",
       "        vertical-align: top;\n",
       "    }\n",
       "\n",
       "    .dataframe thead th {\n",
       "        text-align: right;\n",
       "    }\n",
       "</style>\n",
       "<table border=\"1\" class=\"dataframe\">\n",
       "  <thead>\n",
       "    <tr style=\"text-align: right;\">\n",
       "      <th></th>\n",
       "      <th>date</th>\n",
       "      <th>open</th>\n",
       "      <th>high</th>\n",
       "      <th>low</th>\n",
       "      <th>close</th>\n",
       "      <th>volume</th>\n",
       "      <th>0</th>\n",
       "    </tr>\n",
       "  </thead>\n",
       "  <tbody>\n",
       "    <tr>\n",
       "      <th>0</th>\n",
       "      <td>2004-01-02 00:00:00-05:00</td>\n",
       "      <td>1474.160034</td>\n",
       "      <td>1479.589966</td>\n",
       "      <td>1458.510010</td>\n",
       "      <td>1463.569946</td>\n",
       "      <td>1666780000</td>\n",
       "      <td>NaN</td>\n",
       "    </tr>\n",
       "    <tr>\n",
       "      <th>1</th>\n",
       "      <td>2004-01-05 00:00:00-05:00</td>\n",
       "      <td>1474.550049</td>\n",
       "      <td>1496.579956</td>\n",
       "      <td>1474.189941</td>\n",
       "      <td>1496.579956</td>\n",
       "      <td>2362910000</td>\n",
       "      <td>NaN</td>\n",
       "    </tr>\n",
       "    <tr>\n",
       "      <th>2</th>\n",
       "      <td>2004-01-06 00:00:00-05:00</td>\n",
       "      <td>1492.410034</td>\n",
       "      <td>1504.469971</td>\n",
       "      <td>1486.589966</td>\n",
       "      <td>1501.260010</td>\n",
       "      <td>2273220000</td>\n",
       "      <td>NaN</td>\n",
       "    </tr>\n",
       "    <tr>\n",
       "      <th>3</th>\n",
       "      <td>2004-01-07 00:00:00-05:00</td>\n",
       "      <td>1498.380005</td>\n",
       "      <td>1514.449951</td>\n",
       "      <td>1491.199951</td>\n",
       "      <td>1514.260010</td>\n",
       "      <td>2294280000</td>\n",
       "      <td>NaN</td>\n",
       "    </tr>\n",
       "    <tr>\n",
       "      <th>4</th>\n",
       "      <td>2004-01-08 00:00:00-05:00</td>\n",
       "      <td>1524.060059</td>\n",
       "      <td>1530.650024</td>\n",
       "      <td>1513.339966</td>\n",
       "      <td>1530.650024</td>\n",
       "      <td>2683950000</td>\n",
       "      <td>NaN</td>\n",
       "    </tr>\n",
       "    <tr>\n",
       "      <th>5</th>\n",
       "      <td>2004-01-09 00:00:00-05:00</td>\n",
       "      <td>1516.589966</td>\n",
       "      <td>1541.839966</td>\n",
       "      <td>1512.859985</td>\n",
       "      <td>1520.459961</td>\n",
       "      <td>2482760000</td>\n",
       "      <td>NaN</td>\n",
       "    </tr>\n",
       "    <tr>\n",
       "      <th>6</th>\n",
       "      <td>2004-01-12 00:00:00-05:00</td>\n",
       "      <td>1524.540039</td>\n",
       "      <td>1540.099976</td>\n",
       "      <td>1515.859985</td>\n",
       "      <td>1539.770020</td>\n",
       "      <td>2284010000</td>\n",
       "      <td>NaN</td>\n",
       "    </tr>\n",
       "    <tr>\n",
       "      <th>7</th>\n",
       "      <td>2004-01-13 00:00:00-05:00</td>\n",
       "      <td>1540.349976</td>\n",
       "      <td>1541.829956</td>\n",
       "      <td>1513.209961</td>\n",
       "      <td>1524.780029</td>\n",
       "      <td>2385700000</td>\n",
       "      <td>NaN</td>\n",
       "    </tr>\n",
       "    <tr>\n",
       "      <th>8</th>\n",
       "      <td>2004-01-14 00:00:00-05:00</td>\n",
       "      <td>1531.930054</td>\n",
       "      <td>1536.839966</td>\n",
       "      <td>1521.910034</td>\n",
       "      <td>1534.079956</td>\n",
       "      <td>2099970000</td>\n",
       "      <td>NaN</td>\n",
       "    </tr>\n",
       "    <tr>\n",
       "      <th>9</th>\n",
       "      <td>2004-01-15 00:00:00-05:00</td>\n",
       "      <td>1524.729980</td>\n",
       "      <td>1545.650024</td>\n",
       "      <td>1515.060059</td>\n",
       "      <td>1532.010010</td>\n",
       "      <td>2235590000</td>\n",
       "      <td>NaN</td>\n",
       "    </tr>\n",
       "    <tr>\n",
       "      <th>10</th>\n",
       "      <td>2004-01-16 00:00:00-05:00</td>\n",
       "      <td>1545.319946</td>\n",
       "      <td>1553.640015</td>\n",
       "      <td>1537.170044</td>\n",
       "      <td>1553.619995</td>\n",
       "      <td>2614390000</td>\n",
       "      <td>NaN</td>\n",
       "    </tr>\n",
       "    <tr>\n",
       "      <th>11</th>\n",
       "      <td>2004-01-20 00:00:00-05:00</td>\n",
       "      <td>1558.890015</td>\n",
       "      <td>1559.469971</td>\n",
       "      <td>1541.339966</td>\n",
       "      <td>1552.869995</td>\n",
       "      <td>2574190000</td>\n",
       "      <td>NaN</td>\n",
       "    </tr>\n",
       "    <tr>\n",
       "      <th>12</th>\n",
       "      <td>2004-01-21 00:00:00-05:00</td>\n",
       "      <td>1545.530029</td>\n",
       "      <td>1554.890015</td>\n",
       "      <td>1529.400024</td>\n",
       "      <td>1546.599976</td>\n",
       "      <td>2421860000</td>\n",
       "      <td>NaN</td>\n",
       "    </tr>\n",
       "    <tr>\n",
       "      <th>13</th>\n",
       "      <td>2004-01-22 00:00:00-05:00</td>\n",
       "      <td>1550.979980</td>\n",
       "      <td>1556.060059</td>\n",
       "      <td>1530.420044</td>\n",
       "      <td>1530.420044</td>\n",
       "      <td>2353370000</td>\n",
       "      <td>NaN</td>\n",
       "    </tr>\n",
       "    <tr>\n",
       "      <th>14</th>\n",
       "      <td>2004-01-23 00:00:00-05:00</td>\n",
       "      <td>1535.410034</td>\n",
       "      <td>1546.689941</td>\n",
       "      <td>1519.739990</td>\n",
       "      <td>1531.209961</td>\n",
       "      <td>2253910000</td>\n",
       "      <td>1.0</td>\n",
       "    </tr>\n",
       "    <tr>\n",
       "      <th>15</th>\n",
       "      <td>2004-01-26 00:00:00-05:00</td>\n",
       "      <td>1526.569946</td>\n",
       "      <td>1553.660034</td>\n",
       "      <td>1522.949951</td>\n",
       "      <td>1553.660034</td>\n",
       "      <td>1946050000</td>\n",
       "      <td>1.0</td>\n",
       "    </tr>\n",
       "    <tr>\n",
       "      <th>16</th>\n",
       "      <td>2004-01-27 00:00:00-05:00</td>\n",
       "      <td>1548.640015</td>\n",
       "      <td>1552.540039</td>\n",
       "      <td>1519.199951</td>\n",
       "      <td>1519.229980</td>\n",
       "      <td>2151260000</td>\n",
       "      <td>1.0</td>\n",
       "    </tr>\n",
       "    <tr>\n",
       "      <th>17</th>\n",
       "      <td>2004-01-28 00:00:00-05:00</td>\n",
       "      <td>1527.349976</td>\n",
       "      <td>1530.060059</td>\n",
       "      <td>1488.609985</td>\n",
       "      <td>1491.569946</td>\n",
       "      <td>2319550000</td>\n",
       "      <td>1.0</td>\n",
       "    </tr>\n",
       "    <tr>\n",
       "      <th>18</th>\n",
       "      <td>2004-01-29 00:00:00-05:00</td>\n",
       "      <td>1499.839966</td>\n",
       "      <td>1500.800049</td>\n",
       "      <td>1474.130005</td>\n",
       "      <td>1496.400024</td>\n",
       "      <td>2637760000</td>\n",
       "      <td>2.0</td>\n",
       "    </tr>\n",
       "    <tr>\n",
       "      <th>19</th>\n",
       "      <td>2004-01-30 00:00:00-05:00</td>\n",
       "      <td>1494.880005</td>\n",
       "      <td>1505.119995</td>\n",
       "      <td>1487.780029</td>\n",
       "      <td>1493.079956</td>\n",
       "      <td>1931180000</td>\n",
       "      <td>2.0</td>\n",
       "    </tr>\n",
       "    <tr>\n",
       "      <th>20</th>\n",
       "      <td>2004-02-02 00:00:00-05:00</td>\n",
       "      <td>1497.780029</td>\n",
       "      <td>1507.589966</td>\n",
       "      <td>1481.569946</td>\n",
       "      <td>1487.839966</td>\n",
       "      <td>1915680000</td>\n",
       "      <td>1.0</td>\n",
       "    </tr>\n",
       "    <tr>\n",
       "      <th>21</th>\n",
       "      <td>2004-02-03 00:00:00-05:00</td>\n",
       "      <td>1485.930054</td>\n",
       "      <td>1497.069946</td>\n",
       "      <td>1482.699951</td>\n",
       "      <td>1491.849976</td>\n",
       "      <td>1844840000</td>\n",
       "      <td>1.0</td>\n",
       "    </tr>\n",
       "    <tr>\n",
       "      <th>22</th>\n",
       "      <td>2004-02-04 00:00:00-05:00</td>\n",
       "      <td>1473.530029</td>\n",
       "      <td>1482.349976</td>\n",
       "      <td>1461.010010</td>\n",
       "      <td>1462.609985</td>\n",
       "      <td>2267580000</td>\n",
       "      <td>1.0</td>\n",
       "    </tr>\n",
       "    <tr>\n",
       "      <th>23</th>\n",
       "      <td>2004-02-05 00:00:00-05:00</td>\n",
       "      <td>1468.959961</td>\n",
       "      <td>1475.410034</td>\n",
       "      <td>1461.119995</td>\n",
       "      <td>1465.030029</td>\n",
       "      <td>1956030000</td>\n",
       "      <td>1.0</td>\n",
       "    </tr>\n",
       "    <tr>\n",
       "      <th>24</th>\n",
       "      <td>2004-02-06 00:00:00-05:00</td>\n",
       "      <td>1472.020020</td>\n",
       "      <td>1498.949951</td>\n",
       "      <td>1470.310059</td>\n",
       "      <td>1498.949951</td>\n",
       "      <td>1855510000</td>\n",
       "      <td>1.0</td>\n",
       "    </tr>\n",
       "    <tr>\n",
       "      <th>25</th>\n",
       "      <td>2004-02-09 00:00:00-05:00</td>\n",
       "      <td>1502.319946</td>\n",
       "      <td>1503.040039</td>\n",
       "      <td>1490.699951</td>\n",
       "      <td>1490.910034</td>\n",
       "      <td>1745350000</td>\n",
       "      <td>1.0</td>\n",
       "    </tr>\n",
       "    <tr>\n",
       "      <th>26</th>\n",
       "      <td>2004-02-10 00:00:00-05:00</td>\n",
       "      <td>1490.689941</td>\n",
       "      <td>1503.829956</td>\n",
       "      <td>1489.900024</td>\n",
       "      <td>1500.290039</td>\n",
       "      <td>1656760000</td>\n",
       "      <td>1.0</td>\n",
       "    </tr>\n",
       "    <tr>\n",
       "      <th>27</th>\n",
       "      <td>2004-02-11 00:00:00-05:00</td>\n",
       "      <td>1498.079956</td>\n",
       "      <td>1514.489990</td>\n",
       "      <td>1491.209961</td>\n",
       "      <td>1514.180054</td>\n",
       "      <td>2185700000</td>\n",
       "      <td>1.0</td>\n",
       "    </tr>\n",
       "    <tr>\n",
       "      <th>28</th>\n",
       "      <td>2004-02-12 00:00:00-05:00</td>\n",
       "      <td>1508.189941</td>\n",
       "      <td>1516.209961</td>\n",
       "      <td>1499.430054</td>\n",
       "      <td>1501.339966</td>\n",
       "      <td>1937690000</td>\n",
       "      <td>1.0</td>\n",
       "    </tr>\n",
       "    <tr>\n",
       "      <th>29</th>\n",
       "      <td>2004-02-13 00:00:00-05:00</td>\n",
       "      <td>1504.699951</td>\n",
       "      <td>1510.829956</td>\n",
       "      <td>1478.540039</td>\n",
       "      <td>1484.469971</td>\n",
       "      <td>1313150000</td>\n",
       "      <td>1.0</td>\n",
       "    </tr>\n",
       "    <tr>\n",
       "      <th>30</th>\n",
       "      <td>2004-02-17 00:00:00-05:00</td>\n",
       "      <td>1498.699951</td>\n",
       "      <td>1512.170044</td>\n",
       "      <td>1497.540039</td>\n",
       "      <td>1506.569946</td>\n",
       "      <td>1618060000</td>\n",
       "      <td>1.0</td>\n",
       "    </tr>\n",
       "    <tr>\n",
       "      <th>31</th>\n",
       "      <td>2004-02-18 00:00:00-05:00</td>\n",
       "      <td>1509.550049</td>\n",
       "      <td>1515.439941</td>\n",
       "      <td>1501.699951</td>\n",
       "      <td>1507.489990</td>\n",
       "      <td>1781240000</td>\n",
       "      <td>0.0</td>\n",
       "    </tr>\n",
       "    <tr>\n",
       "      <th>32</th>\n",
       "      <td>2004-02-19 00:00:00-05:00</td>\n",
       "      <td>1522.390015</td>\n",
       "      <td>1524.089966</td>\n",
       "      <td>1484.800049</td>\n",
       "      <td>1484.800049</td>\n",
       "      <td>2065540000</td>\n",
       "      <td>0.0</td>\n",
       "    </tr>\n",
       "    <tr>\n",
       "      <th>33</th>\n",
       "      <td>2004-02-20 00:00:00-05:00</td>\n",
       "      <td>1490.810059</td>\n",
       "      <td>1493.449951</td>\n",
       "      <td>1470.920044</td>\n",
       "      <td>1482.099976</td>\n",
       "      <td>1914330000</td>\n",
       "      <td>2.0</td>\n",
       "    </tr>\n",
       "    <tr>\n",
       "      <th>34</th>\n",
       "      <td>2004-02-23 00:00:00-05:00</td>\n",
       "      <td>1488.280029</td>\n",
       "      <td>1489.400024</td>\n",
       "      <td>1454.359985</td>\n",
       "      <td>1463.750000</td>\n",
       "      <td>1953330000</td>\n",
       "      <td>2.0</td>\n",
       "    </tr>\n",
       "    <tr>\n",
       "      <th>35</th>\n",
       "      <td>2004-02-24 00:00:00-05:00</td>\n",
       "      <td>1458.380005</td>\n",
       "      <td>1474.040039</td>\n",
       "      <td>1452.489990</td>\n",
       "      <td>1462.050049</td>\n",
       "      <td>2069420000</td>\n",
       "      <td>2.0</td>\n",
       "    </tr>\n",
       "    <tr>\n",
       "      <th>36</th>\n",
       "      <td>2004-02-25 00:00:00-05:00</td>\n",
       "      <td>1465.829956</td>\n",
       "      <td>1474.209961</td>\n",
       "      <td>1461.260010</td>\n",
       "      <td>1470.219971</td>\n",
       "      <td>1707140000</td>\n",
       "      <td>2.0</td>\n",
       "    </tr>\n",
       "    <tr>\n",
       "      <th>37</th>\n",
       "      <td>2004-02-26 00:00:00-05:00</td>\n",
       "      <td>1465.400024</td>\n",
       "      <td>1480.880005</td>\n",
       "      <td>1461.359985</td>\n",
       "      <td>1477.130005</td>\n",
       "      <td>1752840000</td>\n",
       "      <td>2.0</td>\n",
       "    </tr>\n",
       "    <tr>\n",
       "      <th>38</th>\n",
       "      <td>2004-02-27 00:00:00-05:00</td>\n",
       "      <td>1479.560059</td>\n",
       "      <td>1485.400024</td>\n",
       "      <td>1459.910034</td>\n",
       "      <td>1470.380005</td>\n",
       "      <td>1871780000</td>\n",
       "      <td>1.0</td>\n",
       "    </tr>\n",
       "    <tr>\n",
       "      <th>39</th>\n",
       "      <td>2004-03-01 00:00:00-05:00</td>\n",
       "      <td>1476.040039</td>\n",
       "      <td>1490.180054</td>\n",
       "      <td>1467.569946</td>\n",
       "      <td>1489.489990</td>\n",
       "      <td>1697920000</td>\n",
       "      <td>1.0</td>\n",
       "    </tr>\n",
       "  </tbody>\n",
       "</table>\n",
       "</div>"
      ],
      "text/plain": [
       "                         date         open         high          low  \\\n",
       "0   2004-01-02 00:00:00-05:00  1474.160034  1479.589966  1458.510010   \n",
       "1   2004-01-05 00:00:00-05:00  1474.550049  1496.579956  1474.189941   \n",
       "2   2004-01-06 00:00:00-05:00  1492.410034  1504.469971  1486.589966   \n",
       "3   2004-01-07 00:00:00-05:00  1498.380005  1514.449951  1491.199951   \n",
       "4   2004-01-08 00:00:00-05:00  1524.060059  1530.650024  1513.339966   \n",
       "5   2004-01-09 00:00:00-05:00  1516.589966  1541.839966  1512.859985   \n",
       "6   2004-01-12 00:00:00-05:00  1524.540039  1540.099976  1515.859985   \n",
       "7   2004-01-13 00:00:00-05:00  1540.349976  1541.829956  1513.209961   \n",
       "8   2004-01-14 00:00:00-05:00  1531.930054  1536.839966  1521.910034   \n",
       "9   2004-01-15 00:00:00-05:00  1524.729980  1545.650024  1515.060059   \n",
       "10  2004-01-16 00:00:00-05:00  1545.319946  1553.640015  1537.170044   \n",
       "11  2004-01-20 00:00:00-05:00  1558.890015  1559.469971  1541.339966   \n",
       "12  2004-01-21 00:00:00-05:00  1545.530029  1554.890015  1529.400024   \n",
       "13  2004-01-22 00:00:00-05:00  1550.979980  1556.060059  1530.420044   \n",
       "14  2004-01-23 00:00:00-05:00  1535.410034  1546.689941  1519.739990   \n",
       "15  2004-01-26 00:00:00-05:00  1526.569946  1553.660034  1522.949951   \n",
       "16  2004-01-27 00:00:00-05:00  1548.640015  1552.540039  1519.199951   \n",
       "17  2004-01-28 00:00:00-05:00  1527.349976  1530.060059  1488.609985   \n",
       "18  2004-01-29 00:00:00-05:00  1499.839966  1500.800049  1474.130005   \n",
       "19  2004-01-30 00:00:00-05:00  1494.880005  1505.119995  1487.780029   \n",
       "20  2004-02-02 00:00:00-05:00  1497.780029  1507.589966  1481.569946   \n",
       "21  2004-02-03 00:00:00-05:00  1485.930054  1497.069946  1482.699951   \n",
       "22  2004-02-04 00:00:00-05:00  1473.530029  1482.349976  1461.010010   \n",
       "23  2004-02-05 00:00:00-05:00  1468.959961  1475.410034  1461.119995   \n",
       "24  2004-02-06 00:00:00-05:00  1472.020020  1498.949951  1470.310059   \n",
       "25  2004-02-09 00:00:00-05:00  1502.319946  1503.040039  1490.699951   \n",
       "26  2004-02-10 00:00:00-05:00  1490.689941  1503.829956  1489.900024   \n",
       "27  2004-02-11 00:00:00-05:00  1498.079956  1514.489990  1491.209961   \n",
       "28  2004-02-12 00:00:00-05:00  1508.189941  1516.209961  1499.430054   \n",
       "29  2004-02-13 00:00:00-05:00  1504.699951  1510.829956  1478.540039   \n",
       "30  2004-02-17 00:00:00-05:00  1498.699951  1512.170044  1497.540039   \n",
       "31  2004-02-18 00:00:00-05:00  1509.550049  1515.439941  1501.699951   \n",
       "32  2004-02-19 00:00:00-05:00  1522.390015  1524.089966  1484.800049   \n",
       "33  2004-02-20 00:00:00-05:00  1490.810059  1493.449951  1470.920044   \n",
       "34  2004-02-23 00:00:00-05:00  1488.280029  1489.400024  1454.359985   \n",
       "35  2004-02-24 00:00:00-05:00  1458.380005  1474.040039  1452.489990   \n",
       "36  2004-02-25 00:00:00-05:00  1465.829956  1474.209961  1461.260010   \n",
       "37  2004-02-26 00:00:00-05:00  1465.400024  1480.880005  1461.359985   \n",
       "38  2004-02-27 00:00:00-05:00  1479.560059  1485.400024  1459.910034   \n",
       "39  2004-03-01 00:00:00-05:00  1476.040039  1490.180054  1467.569946   \n",
       "\n",
       "          close      volume    0  \n",
       "0   1463.569946  1666780000  NaN  \n",
       "1   1496.579956  2362910000  NaN  \n",
       "2   1501.260010  2273220000  NaN  \n",
       "3   1514.260010  2294280000  NaN  \n",
       "4   1530.650024  2683950000  NaN  \n",
       "5   1520.459961  2482760000  NaN  \n",
       "6   1539.770020  2284010000  NaN  \n",
       "7   1524.780029  2385700000  NaN  \n",
       "8   1534.079956  2099970000  NaN  \n",
       "9   1532.010010  2235590000  NaN  \n",
       "10  1553.619995  2614390000  NaN  \n",
       "11  1552.869995  2574190000  NaN  \n",
       "12  1546.599976  2421860000  NaN  \n",
       "13  1530.420044  2353370000  NaN  \n",
       "14  1531.209961  2253910000  1.0  \n",
       "15  1553.660034  1946050000  1.0  \n",
       "16  1519.229980  2151260000  1.0  \n",
       "17  1491.569946  2319550000  1.0  \n",
       "18  1496.400024  2637760000  2.0  \n",
       "19  1493.079956  1931180000  2.0  \n",
       "20  1487.839966  1915680000  1.0  \n",
       "21  1491.849976  1844840000  1.0  \n",
       "22  1462.609985  2267580000  1.0  \n",
       "23  1465.030029  1956030000  1.0  \n",
       "24  1498.949951  1855510000  1.0  \n",
       "25  1490.910034  1745350000  1.0  \n",
       "26  1500.290039  1656760000  1.0  \n",
       "27  1514.180054  2185700000  1.0  \n",
       "28  1501.339966  1937690000  1.0  \n",
       "29  1484.469971  1313150000  1.0  \n",
       "30  1506.569946  1618060000  1.0  \n",
       "31  1507.489990  1781240000  0.0  \n",
       "32  1484.800049  2065540000  0.0  \n",
       "33  1482.099976  1914330000  2.0  \n",
       "34  1463.750000  1953330000  2.0  \n",
       "35  1462.050049  2069420000  2.0  \n",
       "36  1470.219971  1707140000  2.0  \n",
       "37  1477.130005  1752840000  2.0  \n",
       "38  1470.380005  1871780000  1.0  \n",
       "39  1489.489990  1697920000  1.0  "
      ]
     },
     "execution_count": 65,
     "metadata": {},
     "output_type": "execute_result"
    }
   ],
   "source": [
    "data_output.iloc[:40]"
   ]
  },
  {
   "cell_type": "code",
   "execution_count": 67,
   "id": "2d012f4b-315a-49ea-8e66-aa622e66ea6f",
   "metadata": {},
   "outputs": [],
   "source": [
    "data_output.to_excel(f'data_w_pred_m6_6-classification/test_w_pred_m5.xlsx')"
   ]
  },
  {
   "cell_type": "code",
   "execution_count": null,
   "id": "bcf377df-c03a-4d51-a7ff-9ec0cdc27389",
   "metadata": {},
   "outputs": [],
   "source": []
  },
  {
   "cell_type": "code",
   "execution_count": null,
   "id": "677f16d1-6715-4983-b1a4-cf52eacee567",
   "metadata": {},
   "outputs": [],
   "source": []
  },
  {
   "cell_type": "code",
   "execution_count": null,
   "id": "d3650036-6342-4736-84b5-e0f4ad2c5b44",
   "metadata": {},
   "outputs": [],
   "source": []
  }
 ],
 "metadata": {
  "kernelspec": {
   "display_name": "Python 3 (ipykernel)",
   "language": "python",
   "name": "python3"
  },
  "language_info": {
   "codemirror_mode": {
    "name": "ipython",
    "version": 3
   },
   "file_extension": ".py",
   "mimetype": "text/x-python",
   "name": "python",
   "nbconvert_exporter": "python",
   "pygments_lexer": "ipython3",
   "version": "3.10.12"
  }
 },
 "nbformat": 4,
 "nbformat_minor": 5
}
