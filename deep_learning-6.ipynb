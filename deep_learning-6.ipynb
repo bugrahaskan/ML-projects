{
 "cells": [
  {
   "cell_type": "code",
   "execution_count": 1,
   "id": "8059d051-f4cf-47ae-b4ec-999f382cde90",
   "metadata": {},
   "outputs": [],
   "source": [
    "import pandas as pd\n",
    "\n",
    "data = pd.read_csv('data_sample_three_years.csv')\n",
    "\n",
    "data = data.iloc[:, [0,1,2,3,4]]\n",
    "data.rename(columns={'date': 'open', 'low':'close', 'open':'high', 'high':'low'}, inplace=True)\n",
    "\n",
    "data['date'] = pd.to_datetime(data['timestamp'], unit='s')\n",
    "data = data.iloc[:, [0,5,1,2,3,4]]\n",
    "\n",
    "data_backup = data.loc[ data.timestamp >= 1675814400 ]\n",
    "data = data.loc[ data.timestamp < 1675814400 ]\n",
    "\n",
    "from talib import RSI\n",
    "data['rsi_14'] = RSI(data['close'], timeperiod=14)\n",
    "#data['rsi_30'] = RSI(data['close'], timeperiod=30)\n",
    "\n",
    "from talib import MA, SMA, EMA\n",
    "data['ma_9'] = MA(data['close'], timeperiod=9)\n",
    "#data['ma_52'] = MA(data['close'], timeperiod=52)\n",
    "\n",
    "#for i in range(1,11):\n",
    "#    data[f'high+{i}'] = data['high'].shift(i)\n",
    "#for i in range(1,11):\n",
    "#    data[f'low+{i}'] = data['low'].shift(i)\n",
    "data.dropna(axis=0, inplace=True)"
   ]
  },
  {
   "cell_type": "code",
   "execution_count": 2,
   "id": "cbfc2a13-8658-4482-b4f7-22f82cccc8c9",
   "metadata": {},
   "outputs": [],
   "source": [
    "import numpy as np\n",
    "\n",
    "data['signal'] = np.where((data['close'] > data['ma_9']) & (data['rsi_14'] > 60), 1, np.where((data['close'] < data['ma_9']) & (data['rsi_14'] < 40), -1, 0))"
   ]
  },
  {
   "cell_type": "code",
   "execution_count": 3,
   "id": "976975d9-63b5-4257-b1cd-9f340247d4c8",
   "metadata": {},
   "outputs": [],
   "source": [
    "#for i, d in data.iterrows():\n",
    "#    print(d['signal'])"
   ]
  },
  {
   "cell_type": "code",
   "execution_count": 4,
   "id": "a2017594-1ca6-4dcc-8f0b-3102a7bc029d",
   "metadata": {},
   "outputs": [],
   "source": [
    "inputs = data.iloc[:, [5,6,7]]\n",
    "target = data.iloc[:, [8]]"
   ]
  },
  {
   "cell_type": "code",
   "execution_count": 5,
   "id": "068fcb1d-b9e7-4e8a-9fe3-75757ebc8980",
   "metadata": {},
   "outputs": [],
   "source": [
    "import pandas as pd\n",
    "import numpy as np\n",
    "from sklearn.model_selection import train_test_split\n",
    "from sklearn.metrics import mean_squared_error, accuracy_score\n",
    "\n",
    "X_train, X_test, y_train, y_test = train_test_split(inputs, target, test_size=0.2, random_state=1, shuffle=False)"
   ]
  },
  {
   "cell_type": "code",
   "execution_count": 6,
   "id": "f4b8e3f3-bbee-472d-a318-8a69550977c7",
   "metadata": {},
   "outputs": [
    {
     "name": "stderr",
     "output_type": "stream",
     "text": [
      "2024-03-04 05:49:44.095861: I external/local_tsl/tsl/cuda/cudart_stub.cc:31] Could not find cuda drivers on your machine, GPU will not be used.\n",
      "2024-03-04 05:49:44.380273: E external/local_xla/xla/stream_executor/cuda/cuda_dnn.cc:9261] Unable to register cuDNN factory: Attempting to register factory for plugin cuDNN when one has already been registered\n",
      "2024-03-04 05:49:44.380363: E external/local_xla/xla/stream_executor/cuda/cuda_fft.cc:607] Unable to register cuFFT factory: Attempting to register factory for plugin cuFFT when one has already been registered\n",
      "2024-03-04 05:49:44.384834: E external/local_xla/xla/stream_executor/cuda/cuda_blas.cc:1515] Unable to register cuBLAS factory: Attempting to register factory for plugin cuBLAS when one has already been registered\n",
      "2024-03-04 05:49:44.462250: I external/local_tsl/tsl/cuda/cudart_stub.cc:31] Could not find cuda drivers on your machine, GPU will not be used.\n",
      "2024-03-04 05:49:47.134978: W tensorflow/compiler/tf2tensorrt/utils/py_utils.cc:38] TF-TRT Warning: Could not find TensorRT\n"
     ]
    }
   ],
   "source": [
    "import numpy as np\n",
    "import pandas as pd\n",
    "from sklearn.preprocessing import MinMaxScaler\n",
    "from sklearn.tree import DecisionTreeClassifier\n",
    "from sklearn.metrics import mean_squared_error\n",
    "from tensorflow.keras.models import Sequential\n",
    "from tensorflow.keras.layers import LSTM, Dense\n",
    "import xgboost"
   ]
  },
  {
   "cell_type": "code",
   "execution_count": 7,
   "id": "31a4e0b3-3726-4871-b2df-b4d4d6da3b94",
   "metadata": {},
   "outputs": [
    {
     "data": {
      "text/html": [
       "<style>#sk-container-id-1 {color: black;}#sk-container-id-1 pre{padding: 0;}#sk-container-id-1 div.sk-toggleable {background-color: white;}#sk-container-id-1 label.sk-toggleable__label {cursor: pointer;display: block;width: 100%;margin-bottom: 0;padding: 0.3em;box-sizing: border-box;text-align: center;}#sk-container-id-1 label.sk-toggleable__label-arrow:before {content: \"▸\";float: left;margin-right: 0.25em;color: #696969;}#sk-container-id-1 label.sk-toggleable__label-arrow:hover:before {color: black;}#sk-container-id-1 div.sk-estimator:hover label.sk-toggleable__label-arrow:before {color: black;}#sk-container-id-1 div.sk-toggleable__content {max-height: 0;max-width: 0;overflow: hidden;text-align: left;background-color: #f0f8ff;}#sk-container-id-1 div.sk-toggleable__content pre {margin: 0.2em;color: black;border-radius: 0.25em;background-color: #f0f8ff;}#sk-container-id-1 input.sk-toggleable__control:checked~div.sk-toggleable__content {max-height: 200px;max-width: 100%;overflow: auto;}#sk-container-id-1 input.sk-toggleable__control:checked~label.sk-toggleable__label-arrow:before {content: \"▾\";}#sk-container-id-1 div.sk-estimator input.sk-toggleable__control:checked~label.sk-toggleable__label {background-color: #d4ebff;}#sk-container-id-1 div.sk-label input.sk-toggleable__control:checked~label.sk-toggleable__label {background-color: #d4ebff;}#sk-container-id-1 input.sk-hidden--visually {border: 0;clip: rect(1px 1px 1px 1px);clip: rect(1px, 1px, 1px, 1px);height: 1px;margin: -1px;overflow: hidden;padding: 0;position: absolute;width: 1px;}#sk-container-id-1 div.sk-estimator {font-family: monospace;background-color: #f0f8ff;border: 1px dotted black;border-radius: 0.25em;box-sizing: border-box;margin-bottom: 0.5em;}#sk-container-id-1 div.sk-estimator:hover {background-color: #d4ebff;}#sk-container-id-1 div.sk-parallel-item::after {content: \"\";width: 100%;border-bottom: 1px solid gray;flex-grow: 1;}#sk-container-id-1 div.sk-label:hover label.sk-toggleable__label {background-color: #d4ebff;}#sk-container-id-1 div.sk-serial::before {content: \"\";position: absolute;border-left: 1px solid gray;box-sizing: border-box;top: 0;bottom: 0;left: 50%;z-index: 0;}#sk-container-id-1 div.sk-serial {display: flex;flex-direction: column;align-items: center;background-color: white;padding-right: 0.2em;padding-left: 0.2em;position: relative;}#sk-container-id-1 div.sk-item {position: relative;z-index: 1;}#sk-container-id-1 div.sk-parallel {display: flex;align-items: stretch;justify-content: center;background-color: white;position: relative;}#sk-container-id-1 div.sk-item::before, #sk-container-id-1 div.sk-parallel-item::before {content: \"\";position: absolute;border-left: 1px solid gray;box-sizing: border-box;top: 0;bottom: 0;left: 50%;z-index: -1;}#sk-container-id-1 div.sk-parallel-item {display: flex;flex-direction: column;z-index: 1;position: relative;background-color: white;}#sk-container-id-1 div.sk-parallel-item:first-child::after {align-self: flex-end;width: 50%;}#sk-container-id-1 div.sk-parallel-item:last-child::after {align-self: flex-start;width: 50%;}#sk-container-id-1 div.sk-parallel-item:only-child::after {width: 0;}#sk-container-id-1 div.sk-dashed-wrapped {border: 1px dashed gray;margin: 0 0.4em 0.5em 0.4em;box-sizing: border-box;padding-bottom: 0.4em;background-color: white;}#sk-container-id-1 div.sk-label label {font-family: monospace;font-weight: bold;display: inline-block;line-height: 1.2em;}#sk-container-id-1 div.sk-label-container {text-align: center;}#sk-container-id-1 div.sk-container {/* jupyter's `normalize.less` sets `[hidden] { display: none; }` but bootstrap.min.css set `[hidden] { display: none !important; }` so we also need the `!important` here to be able to override the default hidden behavior on the sphinx rendered scikit-learn.org. See: https://github.com/scikit-learn/scikit-learn/issues/21755 */display: inline-block !important;position: relative;}#sk-container-id-1 div.sk-text-repr-fallback {display: none;}</style><div id=\"sk-container-id-1\" class=\"sk-top-container\"><div class=\"sk-text-repr-fallback\"><pre>DecisionTreeClassifier(random_state=1)</pre><b>In a Jupyter environment, please rerun this cell to show the HTML representation or trust the notebook. <br />On GitHub, the HTML representation is unable to render, please try loading this page with nbviewer.org.</b></div><div class=\"sk-container\" hidden><div class=\"sk-item\"><div class=\"sk-estimator sk-toggleable\"><input class=\"sk-toggleable__control sk-hidden--visually\" id=\"sk-estimator-id-1\" type=\"checkbox\" checked><label for=\"sk-estimator-id-1\" class=\"sk-toggleable__label sk-toggleable__label-arrow\">DecisionTreeClassifier</label><div class=\"sk-toggleable__content\"><pre>DecisionTreeClassifier(random_state=1)</pre></div></div></div></div></div>"
      ],
      "text/plain": [
       "DecisionTreeClassifier(random_state=1)"
      ]
     },
     "execution_count": 7,
     "metadata": {},
     "output_type": "execute_result"
    }
   ],
   "source": [
    "tree = DecisionTreeClassifier(random_state=1)\n",
    "tree.fit(X_train, y_train)"
   ]
  },
  {
   "cell_type": "code",
   "execution_count": 8,
   "id": "f4266474-febd-4e63-bb4d-4370b1e2191d",
   "metadata": {},
   "outputs": [
    {
     "name": "stdout",
     "output_type": "stream",
     "text": [
      "Mean Squared Error: 0.07261538461538461\n"
     ]
    }
   ],
   "source": [
    "# Make predictions on the testing data\n",
    "y_pred = tree.predict(X_test)\n",
    "\n",
    "# Evaluate the model using mean squared error (MSE)\n",
    "mse = mean_squared_error(y_test, y_pred)\n",
    "print(\"Mean Squared Error:\", mse)"
   ]
  },
  {
   "cell_type": "code",
   "execution_count": 9,
   "id": "a32f321e-69c8-4e52-acc4-c7d56aecc3de",
   "metadata": {},
   "outputs": [
    {
     "data": {
      "text/plain": [
       "array([0, 0, 0, ..., 1, 1, 1])"
      ]
     },
     "execution_count": 9,
     "metadata": {},
     "output_type": "execute_result"
    }
   ],
   "source": [
    "y_pred"
   ]
  },
  {
   "cell_type": "code",
   "execution_count": 10,
   "id": "9f817a85-ea5d-4fd1-a4e8-0e5edca7a75e",
   "metadata": {},
   "outputs": [],
   "source": [
    "y_test['pred'] = y_pred"
   ]
  },
  {
   "cell_type": "code",
   "execution_count": 11,
   "id": "b0242ec3-7be6-4217-86c0-751abfba49d0",
   "metadata": {},
   "outputs": [
    {
     "data": {
      "text/html": [
       "<div>\n",
       "<style scoped>\n",
       "    .dataframe tbody tr th:only-of-type {\n",
       "        vertical-align: middle;\n",
       "    }\n",
       "\n",
       "    .dataframe tbody tr th {\n",
       "        vertical-align: top;\n",
       "    }\n",
       "\n",
       "    .dataframe thead th {\n",
       "        text-align: right;\n",
       "    }\n",
       "</style>\n",
       "<table border=\"1\" class=\"dataframe\">\n",
       "  <thead>\n",
       "    <tr style=\"text-align: right;\">\n",
       "      <th></th>\n",
       "      <th>signal</th>\n",
       "      <th>pred</th>\n",
       "    </tr>\n",
       "  </thead>\n",
       "  <tbody>\n",
       "    <tr>\n",
       "      <th>13012</th>\n",
       "      <td>1</td>\n",
       "      <td>0</td>\n",
       "    </tr>\n",
       "    <tr>\n",
       "      <th>13013</th>\n",
       "      <td>0</td>\n",
       "      <td>0</td>\n",
       "    </tr>\n",
       "    <tr>\n",
       "      <th>13014</th>\n",
       "      <td>0</td>\n",
       "      <td>0</td>\n",
       "    </tr>\n",
       "    <tr>\n",
       "      <th>13015</th>\n",
       "      <td>0</td>\n",
       "      <td>0</td>\n",
       "    </tr>\n",
       "    <tr>\n",
       "      <th>13016</th>\n",
       "      <td>-1</td>\n",
       "      <td>-1</td>\n",
       "    </tr>\n",
       "    <tr>\n",
       "      <th>...</th>\n",
       "      <td>...</td>\n",
       "      <td>...</td>\n",
       "    </tr>\n",
       "    <tr>\n",
       "      <th>16257</th>\n",
       "      <td>0</td>\n",
       "      <td>0</td>\n",
       "    </tr>\n",
       "    <tr>\n",
       "      <th>16258</th>\n",
       "      <td>1</td>\n",
       "      <td>1</td>\n",
       "    </tr>\n",
       "    <tr>\n",
       "      <th>16259</th>\n",
       "      <td>1</td>\n",
       "      <td>1</td>\n",
       "    </tr>\n",
       "    <tr>\n",
       "      <th>16260</th>\n",
       "      <td>1</td>\n",
       "      <td>1</td>\n",
       "    </tr>\n",
       "    <tr>\n",
       "      <th>16261</th>\n",
       "      <td>1</td>\n",
       "      <td>1</td>\n",
       "    </tr>\n",
       "  </tbody>\n",
       "</table>\n",
       "<p>3250 rows × 2 columns</p>\n",
       "</div>"
      ],
      "text/plain": [
       "       signal  pred\n",
       "13012       1     0\n",
       "13013       0     0\n",
       "13014       0     0\n",
       "13015       0     0\n",
       "13016      -1    -1\n",
       "...       ...   ...\n",
       "16257       0     0\n",
       "16258       1     1\n",
       "16259       1     1\n",
       "16260       1     1\n",
       "16261       1     1\n",
       "\n",
       "[3250 rows x 2 columns]"
      ]
     },
     "execution_count": 11,
     "metadata": {},
     "output_type": "execute_result"
    }
   ],
   "source": [
    "y_test"
   ]
  },
  {
   "cell_type": "code",
   "execution_count": 19,
   "id": "ce511454-cab3-4485-b95e-84ee98692535",
   "metadata": {},
   "outputs": [],
   "source": [
    "#y_test.to_excel('y_test.xlsx')"
   ]
  },
  {
   "cell_type": "code",
   "execution_count": 16,
   "id": "a6dc838c-a38b-4985-b473-7f8835cf21ec",
   "metadata": {},
   "outputs": [],
   "source": [
    "raw_data = data.iloc[12998:]"
   ]
  },
  {
   "cell_type": "code",
   "execution_count": 17,
   "id": "df615988-5aaf-416c-8dee-403f9e76c100",
   "metadata": {},
   "outputs": [
    {
     "name": "stderr",
     "output_type": "stream",
     "text": [
      "/tmp/ipykernel_1446913/2607920888.py:1: SettingWithCopyWarning: \n",
      "A value is trying to be set on a copy of a slice from a DataFrame.\n",
      "Try using .loc[row_indexer,col_indexer] = value instead\n",
      "\n",
      "See the caveats in the documentation: https://pandas.pydata.org/pandas-docs/stable/user_guide/indexing.html#returning-a-view-versus-a-copy\n",
      "  raw_data['pred'] = y_pred\n"
     ]
    }
   ],
   "source": [
    "raw_data['pred'] = y_pred"
   ]
  },
  {
   "cell_type": "code",
   "execution_count": 18,
   "id": "ac7e5d19-3561-445a-8495-f2da8bae99fe",
   "metadata": {},
   "outputs": [
    {
     "data": {
      "text/html": [
       "<div>\n",
       "<style scoped>\n",
       "    .dataframe tbody tr th:only-of-type {\n",
       "        vertical-align: middle;\n",
       "    }\n",
       "\n",
       "    .dataframe tbody tr th {\n",
       "        vertical-align: top;\n",
       "    }\n",
       "\n",
       "    .dataframe thead th {\n",
       "        text-align: right;\n",
       "    }\n",
       "</style>\n",
       "<table border=\"1\" class=\"dataframe\">\n",
       "  <thead>\n",
       "    <tr style=\"text-align: right;\">\n",
       "      <th></th>\n",
       "      <th>timestamp</th>\n",
       "      <th>date</th>\n",
       "      <th>open</th>\n",
       "      <th>high</th>\n",
       "      <th>low</th>\n",
       "      <th>close</th>\n",
       "      <th>rsi_14</th>\n",
       "      <th>ma_9</th>\n",
       "      <th>signal</th>\n",
       "      <th>pred</th>\n",
       "    </tr>\n",
       "  </thead>\n",
       "  <tbody>\n",
       "    <tr>\n",
       "      <th>13012</th>\n",
       "      <td>1662915600</td>\n",
       "      <td>2022-09-11 17:00:00</td>\n",
       "      <td>1769.84</td>\n",
       "      <td>1787.88</td>\n",
       "      <td>1765.54</td>\n",
       "      <td>1770.22</td>\n",
       "      <td>60.210983</td>\n",
       "      <td>1765.906667</td>\n",
       "      <td>1</td>\n",
       "      <td>0</td>\n",
       "    </tr>\n",
       "    <tr>\n",
       "      <th>13013</th>\n",
       "      <td>1662919200</td>\n",
       "      <td>2022-09-11 18:00:00</td>\n",
       "      <td>1770.22</td>\n",
       "      <td>1775.65</td>\n",
       "      <td>1753.33</td>\n",
       "      <td>1758.85</td>\n",
       "      <td>52.541380</td>\n",
       "      <td>1765.955556</td>\n",
       "      <td>0</td>\n",
       "      <td>0</td>\n",
       "    </tr>\n",
       "    <tr>\n",
       "      <th>13014</th>\n",
       "      <td>1662922800</td>\n",
       "      <td>2022-09-11 19:00:00</td>\n",
       "      <td>1758.85</td>\n",
       "      <td>1763.90</td>\n",
       "      <td>1757.00</td>\n",
       "      <td>1761.90</td>\n",
       "      <td>54.225769</td>\n",
       "      <td>1766.081111</td>\n",
       "      <td>0</td>\n",
       "      <td>0</td>\n",
       "    </tr>\n",
       "    <tr>\n",
       "      <th>13015</th>\n",
       "      <td>1662926400</td>\n",
       "      <td>2022-09-11 20:00:00</td>\n",
       "      <td>1761.89</td>\n",
       "      <td>1766.66</td>\n",
       "      <td>1744.10</td>\n",
       "      <td>1757.69</td>\n",
       "      <td>51.508260</td>\n",
       "      <td>1764.858889</td>\n",
       "      <td>0</td>\n",
       "      <td>0</td>\n",
       "    </tr>\n",
       "    <tr>\n",
       "      <th>13016</th>\n",
       "      <td>1662930000</td>\n",
       "      <td>2022-09-11 21:00:00</td>\n",
       "      <td>1757.68</td>\n",
       "      <td>1764.36</td>\n",
       "      <td>1718.02</td>\n",
       "      <td>1731.25</td>\n",
       "      <td>38.469285</td>\n",
       "      <td>1760.370000</td>\n",
       "      <td>-1</td>\n",
       "      <td>-1</td>\n",
       "    </tr>\n",
       "    <tr>\n",
       "      <th>...</th>\n",
       "      <td>...</td>\n",
       "      <td>...</td>\n",
       "      <td>...</td>\n",
       "      <td>...</td>\n",
       "      <td>...</td>\n",
       "      <td>...</td>\n",
       "      <td>...</td>\n",
       "      <td>...</td>\n",
       "      <td>...</td>\n",
       "      <td>...</td>\n",
       "    </tr>\n",
       "    <tr>\n",
       "      <th>16257</th>\n",
       "      <td>1675792800</td>\n",
       "      <td>2023-02-07 18:00:00</td>\n",
       "      <td>1672.03</td>\n",
       "      <td>1679.03</td>\n",
       "      <td>1625.48</td>\n",
       "      <td>1638.52</td>\n",
       "      <td>51.870094</td>\n",
       "      <td>1637.107778</td>\n",
       "      <td>0</td>\n",
       "      <td>0</td>\n",
       "    </tr>\n",
       "    <tr>\n",
       "      <th>16258</th>\n",
       "      <td>1675796400</td>\n",
       "      <td>2023-02-07 19:00:00</td>\n",
       "      <td>1638.52</td>\n",
       "      <td>1658.48</td>\n",
       "      <td>1637.64</td>\n",
       "      <td>1656.42</td>\n",
       "      <td>63.059562</td>\n",
       "      <td>1639.923333</td>\n",
       "      <td>1</td>\n",
       "      <td>1</td>\n",
       "    </tr>\n",
       "    <tr>\n",
       "      <th>16259</th>\n",
       "      <td>1675800000</td>\n",
       "      <td>2023-02-07 20:00:00</td>\n",
       "      <td>1656.43</td>\n",
       "      <td>1668.77</td>\n",
       "      <td>1650.16</td>\n",
       "      <td>1664.93</td>\n",
       "      <td>66.988870</td>\n",
       "      <td>1643.332222</td>\n",
       "      <td>1</td>\n",
       "      <td>1</td>\n",
       "    </tr>\n",
       "    <tr>\n",
       "      <th>16260</th>\n",
       "      <td>1675803600</td>\n",
       "      <td>2023-02-07 21:00:00</td>\n",
       "      <td>1664.86</td>\n",
       "      <td>1674.72</td>\n",
       "      <td>1663.76</td>\n",
       "      <td>1667.43</td>\n",
       "      <td>68.063590</td>\n",
       "      <td>1647.513333</td>\n",
       "      <td>1</td>\n",
       "      <td>1</td>\n",
       "    </tr>\n",
       "    <tr>\n",
       "      <th>16261</th>\n",
       "      <td>1675807200</td>\n",
       "      <td>2023-02-07 22:00:00</td>\n",
       "      <td>1667.42</td>\n",
       "      <td>1671.74</td>\n",
       "      <td>1657.07</td>\n",
       "      <td>1664.66</td>\n",
       "      <td>65.518386</td>\n",
       "      <td>1650.114444</td>\n",
       "      <td>1</td>\n",
       "      <td>1</td>\n",
       "    </tr>\n",
       "  </tbody>\n",
       "</table>\n",
       "<p>3250 rows × 10 columns</p>\n",
       "</div>"
      ],
      "text/plain": [
       "        timestamp                date     open     high      low    close  \\\n",
       "13012  1662915600 2022-09-11 17:00:00  1769.84  1787.88  1765.54  1770.22   \n",
       "13013  1662919200 2022-09-11 18:00:00  1770.22  1775.65  1753.33  1758.85   \n",
       "13014  1662922800 2022-09-11 19:00:00  1758.85  1763.90  1757.00  1761.90   \n",
       "13015  1662926400 2022-09-11 20:00:00  1761.89  1766.66  1744.10  1757.69   \n",
       "13016  1662930000 2022-09-11 21:00:00  1757.68  1764.36  1718.02  1731.25   \n",
       "...           ...                 ...      ...      ...      ...      ...   \n",
       "16257  1675792800 2023-02-07 18:00:00  1672.03  1679.03  1625.48  1638.52   \n",
       "16258  1675796400 2023-02-07 19:00:00  1638.52  1658.48  1637.64  1656.42   \n",
       "16259  1675800000 2023-02-07 20:00:00  1656.43  1668.77  1650.16  1664.93   \n",
       "16260  1675803600 2023-02-07 21:00:00  1664.86  1674.72  1663.76  1667.43   \n",
       "16261  1675807200 2023-02-07 22:00:00  1667.42  1671.74  1657.07  1664.66   \n",
       "\n",
       "          rsi_14         ma_9  signal  pred  \n",
       "13012  60.210983  1765.906667       1     0  \n",
       "13013  52.541380  1765.955556       0     0  \n",
       "13014  54.225769  1766.081111       0     0  \n",
       "13015  51.508260  1764.858889       0     0  \n",
       "13016  38.469285  1760.370000      -1    -1  \n",
       "...          ...          ...     ...   ...  \n",
       "16257  51.870094  1637.107778       0     0  \n",
       "16258  63.059562  1639.923333       1     1  \n",
       "16259  66.988870  1643.332222       1     1  \n",
       "16260  68.063590  1647.513333       1     1  \n",
       "16261  65.518386  1650.114444       1     1  \n",
       "\n",
       "[3250 rows x 10 columns]"
      ]
     },
     "execution_count": 18,
     "metadata": {},
     "output_type": "execute_result"
    }
   ],
   "source": [
    "raw_data"
   ]
  },
  {
   "cell_type": "code",
   "execution_count": 20,
   "id": "f94ca562-c176-46b8-aa63-a3a6068c2f58",
   "metadata": {},
   "outputs": [],
   "source": [
    "raw_data.to_excel('y_test.xlsx')"
   ]
  }
 ],
 "metadata": {
  "kernelspec": {
   "display_name": "Python 3 (ipykernel)",
   "language": "python",
   "name": "python3"
  },
  "language_info": {
   "codemirror_mode": {
    "name": "ipython",
    "version": 3
   },
   "file_extension": ".py",
   "mimetype": "text/x-python",
   "name": "python",
   "nbconvert_exporter": "python",
   "pygments_lexer": "ipython3",
   "version": "3.10.12"
  }
 },
 "nbformat": 4,
 "nbformat_minor": 5
}
