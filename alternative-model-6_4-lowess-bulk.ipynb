{
 "cells": [
  {
   "cell_type": "code",
   "execution_count": 1,
   "id": "bd16f345-20fa-4b19-b7f3-a6b025e653c1",
   "metadata": {},
   "outputs": [
    {
     "name": "stdout",
     "output_type": "stream",
     "text": [
      "Data imported and copied.\n"
     ]
    }
   ],
   "source": [
    "import pandas as pd\n",
    "\n",
    "data = pd.read_csv('data/^NDX_raw_data.csv')\n",
    "data.rename(columns={'Date': 'date', 'Open':'open', 'High':'high', 'Low':'low', 'Close':'close', 'Volume':'volume'}, inplace=True)\n",
    "\n",
    "data_backup = data.iloc[3524:]\n",
    "\n",
    "data = data.iloc[:3524]\n",
    "data_copy = data.copy()\n",
    "\n",
    "print('Data imported and copied.', flush=True)"
   ]
  },
  {
   "cell_type": "code",
   "execution_count": 2,
   "id": "e066fca3-8ec4-4f0c-9614-baeb40deec5c",
   "metadata": {},
   "outputs": [],
   "source": [
    "import numpy as np\n",
    "\n",
    "## Creating sequences\n",
    "def create_dataset(dataset, time_step=1, output_step=1):\n",
    "    dataX, dataY = [], []\n",
    "    for i in range(len(dataset)-time_step-output_step):\n",
    "        a = dataset[i:(i+time_step), 0]\n",
    "        b = dataset[(i+time_step):(i+time_step)+output_step, 0]\n",
    "        dataX.append(a)\n",
    "        dataY.append(b)\n",
    "\n",
    "    return np.array(dataX), np.array(dataY)\n",
    "\n",
    "period = 60\n",
    "trend_period = 14\n",
    "rsi_period = 14\n",
    "num_features = 3\n",
    "input_period = 46\n",
    "output_step = 7\n",
    "units = 512"
   ]
  },
  {
   "cell_type": "code",
   "execution_count": 3,
   "id": "49abd5dd-d75f-40c5-9460-e87b6d61c7ba",
   "metadata": {},
   "outputs": [
    {
     "name": "stdout",
     "output_type": "stream",
     "text": [
      "Initializing the Model...\n"
     ]
    },
    {
     "name": "stderr",
     "output_type": "stream",
     "text": [
      "2024-06-06 10:29:17.476322: I external/local_tsl/tsl/cuda/cudart_stub.cc:31] Could not find cuda drivers on your machine, GPU will not be used.\n",
      "2024-06-06 10:29:17.927857: E external/local_xla/xla/stream_executor/cuda/cuda_dnn.cc:9261] Unable to register cuDNN factory: Attempting to register factory for plugin cuDNN when one has already been registered\n",
      "2024-06-06 10:29:17.929341: E external/local_xla/xla/stream_executor/cuda/cuda_fft.cc:607] Unable to register cuFFT factory: Attempting to register factory for plugin cuFFT when one has already been registered\n",
      "2024-06-06 10:29:18.008939: E external/local_xla/xla/stream_executor/cuda/cuda_blas.cc:1515] Unable to register cuBLAS factory: Attempting to register factory for plugin cuBLAS when one has already been registered\n",
      "2024-06-06 10:29:18.250126: I external/local_tsl/tsl/cuda/cudart_stub.cc:31] Could not find cuda drivers on your machine, GPU will not be used.\n",
      "2024-06-06 10:29:22.373634: W tensorflow/compiler/tf2tensorrt/utils/py_utils.cc:38] TF-TRT Warning: Could not find TensorRT\n"
     ]
    },
    {
     "name": "stdout",
     "output_type": "stream",
     "text": [
      "Model has been initialized.\n"
     ]
    }
   ],
   "source": [
    "print('Initializing the Model...', flush=True)\n",
    "\n",
    "import numpy as np\n",
    "from sklearn.preprocessing import MinMaxScaler, StandardScaler\n",
    "from tensorflow.keras import Input\n",
    "from tensorflow.keras.models import Sequential, Model\n",
    "from tensorflow.keras.layers import Bidirectional, LSTM, Dense, Dropout, Conv1D, AveragePooling1D, Flatten, Reshape, SimpleRNN, GRU, MaxPooling1D, concatenate\n",
    "from tensorflow.keras.callbacks import EarlyStopping, ModelCheckpoint\n",
    "from tensorflow.keras.initializers import Zeros\n",
    "\n",
    "inputs = Input(shape=(input_period, num_features))\n",
    "\n",
    "model_cnn = Sequential([\n",
    "    Conv1D(filters=352, kernel_size=1, activation='relu'),\n",
    "    Conv1D(filters=352, kernel_size=1, activation='relu'),\n",
    "    MaxPooling1D(pool_size=3),\n",
    "    Dense(units=128),\n",
    "    Flatten()\n",
    "    #Dense(units=output_step),\n",
    "    #Reshape((output_step,1))\n",
    "])\n",
    "\n",
    "model_bilstm = Sequential([\n",
    "    Bidirectional(LSTM(units=384, return_sequences=True, activation='tanh', recurrent_activation='sigmoid')),\n",
    "    Dropout(0.2),\n",
    "    Flatten()\n",
    "    #Dense(units=output_step),\n",
    "    #Reshape((output_step,1))\n",
    "])\n",
    "\n",
    "model_bigru = Sequential([\n",
    "    Bidirectional(GRU(units=128, activation='tanh', return_sequences=True)),\n",
    "    Dropout(0.4),\n",
    "    Flatten()\n",
    "])\n",
    "\n",
    "model_multilayer_lstm = Sequential([\n",
    "    LSTM(units=64, return_sequences=True, activation='tanh', recurrent_activation='sigmoid'),\n",
    "    Dropout(0.2),\n",
    "    LSTM(units=64, return_sequences=True, activation='tanh', recurrent_activation='sigmoid'),\n",
    "    Flatten()\n",
    "])\n",
    "\n",
    "output_cnn = model_cnn(inputs)\n",
    "output_bilstm = model_bilstm(inputs)\n",
    "output_bigru = model_bigru(inputs)\n",
    "output_multilayer_lstm = model_multilayer_lstm(inputs)\n",
    "\n",
    "concatenated_outputs = concatenate([output_cnn, output_bilstm, output_bigru, output_multilayer_lstm])\n",
    "\n",
    "main_model = Sequential([\n",
    "    Input(shape=(concatenated_outputs.shape[1],)),\n",
    "    Dense(units=output_step),\n",
    "    Reshape((output_step,1))\n",
    "])\n",
    "\n",
    "final_output = main_model(concatenated_outputs)\n",
    "\n",
    "functional_pipeline = Model(inputs=inputs, outputs=final_output)\n",
    "\n",
    "# Compile the pipeline model\n",
    "functional_pipeline.compile(optimizer='adam', loss='mean_squared_error', metrics=['accuracy'])\n",
    "\n",
    "print('Model has been initialized.', flush=True)"
   ]
  },
  {
   "cell_type": "code",
   "execution_count": 4,
   "id": "8890a850-655f-463f-b2bd-dd5e271beb25",
   "metadata": {},
   "outputs": [
    {
     "name": "stdout",
     "output_type": "stream",
     "text": [
      "Backup: Weigths for the best epoch has been loaded.\n"
     ]
    }
   ],
   "source": [
    "best_epoch_backup = 6\n",
    "\n",
    "# Load the weights of the model at the chosen epoch\n",
    "functional_pipeline.load_weights(f'model_weights_6_4_main/model_weights_epoch_{best_epoch_backup:02d}.h5')\n",
    "print('Backup: Weigths for the best epoch has been loaded.')"
   ]
  },
  {
   "cell_type": "code",
   "execution_count": 5,
   "id": "1e6ec20d-9536-41e4-a0ba-a122f8138d8a",
   "metadata": {},
   "outputs": [
    {
     "name": "stdout",
     "output_type": "stream",
     "text": [
      "Importing the bulk data...\n",
      "Bulk data has been imported.\n"
     ]
    }
   ],
   "source": [
    "print('Importing the bulk data...', flush=True)\n",
    "\n",
    "import os\n",
    "import re\n",
    "\n",
    "directory = 'data-china-from2018-test'\n",
    "\n",
    "df_data = dict()\n",
    "\n",
    "for file in os.listdir(directory):\n",
    "    symbol_pattern = re.match(r'([^_]+)_', file)\n",
    "    symbol = symbol_pattern.group(1)\n",
    "    df_data[symbol] = pd.read_csv(os.path.join(directory, file))\n",
    "    df_data[symbol].rename(columns={'Date': 'date', 'Open':'open', 'High':'high', 'Low':'low', 'Close':'close', 'Volume':'volume'}, inplace=True)\n",
    "\n",
    "print('Bulk data has been imported.', flush=True)"
   ]
  },
  {
   "cell_type": "code",
   "execution_count": 6,
   "id": "8bcb1d1f-5ea9-43d0-adbc-e41262275c58",
   "metadata": {},
   "outputs": [
    {
     "name": "stdout",
     "output_type": "stream",
     "text": [
      "Creating the data sets...\n",
      "Data sets has been created.\n"
     ]
    }
   ],
   "source": [
    "print('Creating the data sets...', flush=True)\n",
    "\n",
    "dict_X_test, dict_y_test = dict(), dict()\n",
    "\n",
    "for symbol in df_data:\n",
    "    X_test, y_test = create_dataset(df_data[symbol][['close']].to_numpy(), time_step=period, output_step=output_step)\n",
    "\n",
    "    dict_X_test[symbol] = X_test\n",
    "    dict_y_test[symbol] = y_test\n",
    "\n",
    "print('Data sets has been created.', flush=True)"
   ]
  },
  {
   "cell_type": "code",
   "execution_count": 7,
   "id": "77248bc2-ca20-4f6b-8a08-aa0c26f26db9",
   "metadata": {},
   "outputs": [
    {
     "name": "stdout",
     "output_type": "stream",
     "text": [
      "Decomposing data...\n",
      "Decomposition has been applied.\n"
     ]
    }
   ],
   "source": [
    "print('Decomposing data...', flush=True)\n",
    "\n",
    "from statsmodels.tsa.seasonal import seasonal_decompose\n",
    "\n",
    "dict_decompositions = dict()\n",
    "dict_seasons = dict()\n",
    "\n",
    "for symbol in df_data:\n",
    "    decompositions_test = np.array([seasonal_decompose(dict_X_test[symbol][i], model='additive', period=14) for i in range(dict_X_test[symbol].shape[0])])\n",
    "    seasons_test = np.array([decompositions_test[i].seasonal for i in range(decompositions_test.shape[0])])\n",
    "\n",
    "    dict_decompositions[symbol] = decompositions_test\n",
    "    dict_seasons[symbol] = seasons_test\n",
    "\n",
    "from talib import RSI\n",
    "\n",
    "dict_rsi = dict()\n",
    "\n",
    "for symbol in df_data:\n",
    "    rsi_test = np.array([ RSI(dict_X_test[symbol][i]) for i in range(dict_X_test[symbol].shape[0]) ])\n",
    "\n",
    "    dict_rsi[symbol] = rsi_test\n",
    "\n",
    "import statsmodels.api as sm\n",
    "\n",
    "dict_lowess = dict()\n",
    "\n",
    "smoothing_lowess_test = sm.nonparametric.lowess\n",
    "\n",
    "for symbol in df_data:\n",
    "    lowess_test = np.array([ smoothing_lowess_test(dict_X_test[symbol][i], range(60), frac=0.1)[:, 1] for i in range(dict_X_test[symbol].shape[0]) ])\n",
    "\n",
    "    dict_lowess[symbol] = lowess_test\n",
    "\n",
    "print('Decomposition has been applied.', flush=True)"
   ]
  },
  {
   "cell_type": "code",
   "execution_count": 8,
   "id": "a025493f-de67-4b3a-9bf9-8944006ef945",
   "metadata": {},
   "outputs": [
    {
     "name": "stdout",
     "output_type": "stream",
     "text": [
      "Scaling data...\n",
      "Data scaled.\n"
     ]
    }
   ],
   "source": [
    "print('Scaling data...', flush=True)\n",
    "\n",
    "dict_lowess_dropna = dict()\n",
    "dict_seasons_cropped = dict()\n",
    "dict_rsi_dropna = dict()\n",
    "\n",
    "for symbol in df_data:\n",
    "    lowess_test_dropna = list()\n",
    "    seasons_test_cropped = list()\n",
    "    rsi_test_dropna = list()\n",
    "    \n",
    "    for _lowess in dict_lowess[symbol]:\n",
    "        lowess_test_dropna.append(_lowess[rsi_period:])\n",
    "\n",
    "    for _season in dict_seasons[symbol]:\n",
    "        seasons_test_cropped.append(_season[rsi_period:])\n",
    "\n",
    "    for _rsi in dict_rsi[symbol]:\n",
    "        rsi_test_dropna.append(_rsi[rsi_period:])\n",
    "\n",
    "    lowess_test_dropna = np.array(lowess_test_dropna)\n",
    "    seasons_test_cropped = np.array(seasons_test_cropped)\n",
    "    rsi_test_dropna = np.array(rsi_test_dropna)\n",
    "\n",
    "    dict_lowess_dropna[symbol] = lowess_test_dropna\n",
    "    dict_seasons_cropped[symbol] = seasons_test_cropped\n",
    "    dict_rsi_dropna[symbol] = rsi_test_dropna\n",
    "\n",
    "from sklearn.preprocessing import MinMaxScaler\n",
    "\n",
    "dict_scalers_lowess = dict()\n",
    "dict_scalers_seasonal = dict()\n",
    "dict_scalers_target = dict()\n",
    "dict_lowess_scaled = dict()\n",
    "dict_seasons_scaled = dict()\n",
    "dict_targets_scaled = dict()\n",
    "dict_rsi_scaled = dict()\n",
    "\n",
    "for symbol in df_data:\n",
    "    scaler_lowess = list(MinMaxScaler() for i in range(dict_lowess_dropna[symbol].shape[0]))\n",
    "    lowess_test_scaled = list()\n",
    "\n",
    "    scaler_seasonal = list(MinMaxScaler() for i in range(dict_seasons_cropped[symbol].shape[0]))\n",
    "    seasons_test_scaled = list()\n",
    "\n",
    "    scaler_rsi = list(MinMaxScaler() for i in range(dict_rsi_dropna[symbol].shape[0]))\n",
    "    rsi_test_scaled = list()\n",
    "\n",
    "    # we use target values only for comparison issue here\n",
    "    scaler_target = list(MinMaxScaler() for i in range(dict_y_test[symbol].shape[0]))\n",
    "    target_test_scaled = list()\n",
    "\n",
    "    for i in range(dict_lowess_dropna[symbol].shape[0]):\n",
    "        lowess_test_scaled.append(scaler_lowess[i].fit_transform(dict_lowess_dropna[symbol][i].reshape(-1,1)))\n",
    "\n",
    "    for j in range(dict_y_test[symbol].shape[0]):\n",
    "        target_test_scaled.append(scaler_target[j].fit_transform(dict_y_test[symbol][j].reshape(-1,1)))\n",
    "\n",
    "    for j in range(dict_seasons_cropped[symbol].shape[0]):\n",
    "        seasons_test_scaled.append(scaler_seasonal[j].fit_transform(dict_seasons_cropped[symbol][j].reshape(-1,1)))\n",
    "\n",
    "    for i in range(dict_rsi_dropna[symbol].shape[0]):\n",
    "        rsi_test_scaled.append(scaler_rsi[i].fit_transform(dict_rsi_dropna[symbol][i].reshape(-1,1)))\n",
    "\n",
    "    lowess_test_scaled = np.array(lowess_test_scaled)\n",
    "    target_test_scaled = np.array(target_test_scaled)\n",
    "    seasons_test_scaled = np.array(seasons_test_scaled)\n",
    "    rsi_test_scaled = np.array(rsi_test_scaled)\n",
    "\n",
    "    dict_scalers_lowess[symbol] = scaler_lowess\n",
    "    dict_scalers_seasonal[symbol] = scaler_seasonal\n",
    "    dict_scalers_target[symbol] = scaler_target\n",
    "    dict_lowess_scaled[symbol] = lowess_test_scaled\n",
    "    dict_seasons_scaled[symbol] = seasons_test_scaled\n",
    "    dict_targets_scaled[symbol] = target_test_scaled\n",
    "    dict_rsi_scaled[symbol] = rsi_test_scaled\n",
    "\n",
    "print('Data scaled.', flush=True)"
   ]
  },
  {
   "cell_type": "code",
   "execution_count": 9,
   "id": "065aaae0-0c83-4f75-a17c-f20518ae204e",
   "metadata": {},
   "outputs": [
    {
     "name": "stdout",
     "output_type": "stream",
     "text": [
      "Preparing input data...\n",
      "Input data has been prepared.\n"
     ]
    }
   ],
   "source": [
    "print('Preparing input data...', flush=True)\n",
    "\n",
    "dict_x_input = dict()\n",
    "\n",
    "for symbol in df_data:\n",
    "    x_input = list()\n",
    "\n",
    "    for lowess, season, rsi in zip(dict_lowess_scaled[symbol], dict_seasons_scaled[symbol], dict_rsi_scaled[symbol]):\n",
    "        x_input.append(np.hstack((lowess, season, rsi)))\n",
    "\n",
    "    x_input = np.array(x_input)\n",
    "\n",
    "    dict_x_input[symbol] = x_input\n",
    "\n",
    "print('Input data has been prepared.', flush=True)"
   ]
  },
  {
   "cell_type": "code",
   "execution_count": 10,
   "id": "8136043e-b1f1-4117-b657-60c5239630e4",
   "metadata": {},
   "outputs": [
    {
     "name": "stdout",
     "output_type": "stream",
     "text": [
      "Predicting...\n"
     ]
    },
    {
     "name": "stderr",
     "output_type": "stream",
     "text": [
      "0it [00:00, ?it/s]"
     ]
    },
    {
     "name": "stdout",
     "output_type": "stream",
     "text": [
      "100\n",
      "200\n",
      "300\n",
      "400\n",
      "500\n",
      "600\n",
      "700\n",
      "800\n",
      "900\n",
      "1000\n",
      "1100\n",
      "1200\n",
      "1300\n",
      "1400\n",
      "1500\n"
     ]
    },
    {
     "name": "stderr",
     "output_type": "stream",
     "text": [
      "1it [03:53, 233.30s/it]"
     ]
    },
    {
     "name": "stdout",
     "output_type": "stream",
     "text": [
      "100\n",
      "200\n",
      "300\n",
      "400\n",
      "500\n",
      "600\n",
      "700\n",
      "800\n",
      "900\n",
      "1000\n",
      "1100\n",
      "1200\n",
      "1300\n",
      "1400\n",
      "1500\n"
     ]
    },
    {
     "name": "stderr",
     "output_type": "stream",
     "text": [
      "2it [08:55, 273.55s/it]"
     ]
    },
    {
     "name": "stdout",
     "output_type": "stream",
     "text": [
      "100\n",
      "200\n",
      "300\n",
      "400\n",
      "500\n",
      "600\n",
      "700\n",
      "800\n",
      "900\n",
      "1000\n",
      "1100\n",
      "1200\n",
      "1300\n",
      "1400\n",
      "1500\n"
     ]
    },
    {
     "name": "stderr",
     "output_type": "stream",
     "text": [
      "3it [15:49, 316.55s/it]\n"
     ]
    }
   ],
   "source": [
    "print('Predicting...', flush=True)\n",
    "\n",
    "dict_predictions = dict()\n",
    "\n",
    "from tqdm import tqdm\n",
    "for nb, symbol in tqdm(enumerate(df_data)):\n",
    "    lowess_predictions = list()\n",
    "\n",
    "    for j in range(dict_x_input[symbol].shape[0]):\n",
    "        if (j+1) % 100 == 0:\n",
    "            print(j+1)\n",
    "            \n",
    "        lowess_predictions.append(\n",
    "            dict_scalers_lowess[symbol][j].inverse_transform(\n",
    "                functional_pipeline.predict(dict_x_input[symbol][j].reshape(lowess_test_scaled[j].shape[1], input_period, num_features), verbose=0)[0].reshape(1,output_step)\n",
    "            )\n",
    "        )\n",
    "    \n",
    "    lowess_predictions = np.array(lowess_predictions)\n",
    "\n",
    "    dict_predictions[symbol] = lowess_predictions"
   ]
  },
  {
   "cell_type": "code",
   "execution_count": 11,
   "id": "c78821bc-8162-409e-918b-17e9833538e7",
   "metadata": {},
   "outputs": [
    {
     "name": "stdout",
     "output_type": "stream",
     "text": [
      "Adding noise to data...\n",
      "Noise to data has been added.\n"
     ]
    }
   ],
   "source": [
    "print('Adding noise to data...', flush=True)\n",
    "\n",
    "dict_std_dev_noise = dict()\n",
    "\n",
    "for symbol in df_data:\n",
    "    noise_high, _ = create_dataset(df_data[symbol][['high']].to_numpy(), time_step=period, output_step=output_step)\n",
    "    noise_low, _ = create_dataset(df_data[symbol][['low']].to_numpy(), time_step=period, output_step=output_step)\n",
    "\n",
    "    std_dev_high = np.array([np.std(val) for val in noise_high])\n",
    "    std_dev_low = np.array([np.std(val) for val in noise_low])\n",
    "    \n",
    "    std_dev_noise = np.array([np.maximum(val_high, val_low) for val_high, val_low in zip(std_dev_high, std_dev_low)])\n",
    "\n",
    "    dict_std_dev_noise[symbol] = std_dev_noise\n",
    "\n",
    "print('Noise to data has been added.', flush=True)"
   ]
  },
  {
   "cell_type": "code",
   "execution_count": 14,
   "id": "32331c44-bd08-4a1c-ae24-89a0d119a2f5",
   "metadata": {},
   "outputs": [
    {
     "data": {
      "text/plain": [
       "(60, 46)"
      ]
     },
     "execution_count": 14,
     "metadata": {},
     "output_type": "execute_result"
    }
   ],
   "source": [
    "period, input_period"
   ]
  },
  {
   "cell_type": "code",
   "execution_count": 13,
   "id": "4bfd5e83-c853-4436-b213-2a2470464791",
   "metadata": {},
   "outputs": [
    {
     "name": "stdout",
     "output_type": "stream",
     "text": [
      "Constructing observations for data...\n",
      "Observations have been constructed.\n"
     ]
    }
   ],
   "source": [
    "print('Constructing observations for data...', flush=True)\n",
    "\n",
    "dict_observations = dict()\n",
    "\n",
    "for symbol in df_data:\n",
    "    observation = pd.Series([\n",
    "        dict_predictions[symbol][i] for i in range(dict_predictions[symbol].shape[0])\n",
    "    ], index=df_data[symbol].index[period:-output_step])\n",
    "\n",
    "    dict_observations[symbol] = observation\n",
    "\n",
    "print('Observations have been constructed.', flush=True)"
   ]
  },
  {
   "cell_type": "code",
   "execution_count": 15,
   "id": "89872fd0-7a7f-4c31-9f2f-b68b8e1b277f",
   "metadata": {},
   "outputs": [
    {
     "name": "stdout",
     "output_type": "stream",
     "text": [
      "1 done for 000063.SZ\n",
      "2 done for 000001.SS\n",
      "3 done for 000002.SZ\n",
      "Done.\n"
     ]
    }
   ],
   "source": [
    "data_output = df_data.copy()\n",
    "\n",
    "count = 0\n",
    "\n",
    "for symbol in df_data:\n",
    "    count += 1\n",
    "\n",
    "    _obs = [dict_observations[symbol][k+period] for k in range(dict_observations[symbol].shape[0])]\n",
    "    _res = []\n",
    "    for obs in _obs:\n",
    "        _res.append(obs.reshape(-1,output_step)[0])\n",
    "    \n",
    "    observation_df = pd.DataFrame([r for r in _res], columns=[f'pred_{i}' for i in range(output_step)], index=df_data[symbol].index[60:-7])\n",
    "    data_output[symbol] = pd.concat([data_output[symbol], observation_df], axis=1, join='inner')\n",
    "\n",
    "    noise_df = pd.DataFrame(dict_std_dev_noise[symbol], columns=['noise'], index=df_data[symbol].index[60:-7])\n",
    "    data_output[symbol] = pd.concat([data_output[symbol], noise_df], axis=1, join='inner')\n",
    "\n",
    "    #for i in range(output_step):\n",
    "    #    data_output[symbol][f'pred_{i}'] = data_output[symbol][f'pred_{i}'].shift(53)\n",
    "\n",
    "    data_output[symbol].to_excel(f'data_w_pred_m6_4-lowess-china-test/{symbol}_w_pred_m5.xlsx')\n",
    "    \n",
    "    print(f'{count} done for {symbol}', flush=True)\n",
    "\n",
    "import pickle\n",
    "\n",
    "# Pickle the object and save it to a file\n",
    "with open('data_pred-model_6_4-lowess-china-test.pickle', 'wb') as f:\n",
    "    pickle.dump(dict_predictions, f)\n",
    "\n",
    "print('Done.', flush=True)"
   ]
  },
  {
   "cell_type": "code",
   "execution_count": null,
   "id": "2e942ac9-efd2-4565-8e21-1d2b637250d7",
   "metadata": {},
   "outputs": [],
   "source": []
  },
  {
   "cell_type": "code",
   "execution_count": null,
   "id": "696310e4-d1eb-4580-ac56-481f73c44984",
   "metadata": {},
   "outputs": [],
   "source": []
  }
 ],
 "metadata": {
  "kernelspec": {
   "display_name": "Python 3 (ipykernel)",
   "language": "python",
   "name": "python3"
  },
  "language_info": {
   "codemirror_mode": {
    "name": "ipython",
    "version": 3
   },
   "file_extension": ".py",
   "mimetype": "text/x-python",
   "name": "python",
   "nbconvert_exporter": "python",
   "pygments_lexer": "ipython3",
   "version": "3.10.12"
  }
 },
 "nbformat": 4,
 "nbformat_minor": 5
}
