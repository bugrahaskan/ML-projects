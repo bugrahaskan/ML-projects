{
 "cells": [
  {
   "cell_type": "code",
   "execution_count": 1,
   "id": "c6f7aeae-b97e-4cd8-bf2a-1df23cfc4d0e",
   "metadata": {},
   "outputs": [
    {
     "name": "stderr",
     "output_type": "stream",
     "text": [
      "2024-06-05 08:10:47.525040: I external/local_tsl/tsl/cuda/cudart_stub.cc:31] Could not find cuda drivers on your machine, GPU will not be used.\n",
      "2024-06-05 08:10:47.605011: E external/local_xla/xla/stream_executor/cuda/cuda_dnn.cc:9261] Unable to register cuDNN factory: Attempting to register factory for plugin cuDNN when one has already been registered\n",
      "2024-06-05 08:10:47.605073: E external/local_xla/xla/stream_executor/cuda/cuda_fft.cc:607] Unable to register cuFFT factory: Attempting to register factory for plugin cuFFT when one has already been registered\n",
      "2024-06-05 08:10:47.608519: E external/local_xla/xla/stream_executor/cuda/cuda_blas.cc:1515] Unable to register cuBLAS factory: Attempting to register factory for plugin cuBLAS when one has already been registered\n",
      "2024-06-05 08:10:47.623414: I external/local_tsl/tsl/cuda/cudart_stub.cc:31] Could not find cuda drivers on your machine, GPU will not be used.\n",
      "2024-06-05 08:10:49.085457: W tensorflow/compiler/tf2tensorrt/utils/py_utils.cc:38] TF-TRT Warning: Could not find TensorRT\n"
     ]
    }
   ],
   "source": [
    "import numpy as np\n",
    "from sklearn.model_selection import train_test_split\n",
    "from sklearn.preprocessing import StandardScaler\n",
    "from tensorflow.keras.utils import to_categorical\n",
    "\n",
    "# Example data\n",
    "num_samples = 1000\n",
    "time_steps = 10\n",
    "features = 5\n",
    "X = np.random.randn(num_samples, time_steps, features)\n",
    "y = np.random.choice([0, 1, -1], num_samples)\n",
    "\n",
    "# Split the data\n",
    "X_train, X_test, y_train, y_test = train_test_split(X, y, test_size=0.2, random_state=42)\n",
    "\n",
    "# Scale the data (optional)\n",
    "scaler = StandardScaler()\n",
    "X_train_scaled = np.array([scaler.fit_transform(x) for x in X_train])\n",
    "X_test_scaled = np.array([scaler.transform(x) for x in X_test])\n",
    "\n",
    "# Convert labels to one-hot encoding\n",
    "y_train_mapped = y_train + 1  # Shift labels to 0, 1, 2\n",
    "y_test_mapped = y_test + 1\n",
    "y_train_one_hot = to_categorical(y_train_mapped)\n",
    "y_test_one_hot = to_categorical(y_test_mapped)\n"
   ]
  },
  {
   "cell_type": "code",
   "execution_count": 2,
   "id": "5453763d-47d5-4d12-abd0-46fcefe97125",
   "metadata": {},
   "outputs": [
    {
     "name": "stdout",
     "output_type": "stream",
     "text": [
      "Model: \"sequential\"\n",
      "_________________________________________________________________\n",
      " Layer (type)                Output Shape              Param #   \n",
      "=================================================================\n",
      " lstm (LSTM)                 (None, 10, 50)            11200     \n",
      "                                                                 \n",
      " dropout (Dropout)           (None, 10, 50)            0         \n",
      "                                                                 \n",
      " lstm_1 (LSTM)               (None, 50)                20200     \n",
      "                                                                 \n",
      " dropout_1 (Dropout)         (None, 50)                0         \n",
      "                                                                 \n",
      " dense (Dense)               (None, 3)                 153       \n",
      "                                                                 \n",
      "=================================================================\n",
      "Total params: 31553 (123.25 KB)\n",
      "Trainable params: 31553 (123.25 KB)\n",
      "Non-trainable params: 0 (0.00 Byte)\n",
      "_________________________________________________________________\n"
     ]
    }
   ],
   "source": [
    "from tensorflow.keras.models import Sequential\n",
    "from tensorflow.keras.layers import LSTM, Dense, Dropout\n",
    "\n",
    "# Define the LSTM model\n",
    "model = Sequential()\n",
    "model.add(LSTM(50, input_shape=(time_steps, features), return_sequences=True))\n",
    "model.add(Dropout(0.2))\n",
    "model.add(LSTM(50, return_sequences=False))\n",
    "model.add(Dropout(0.2))\n",
    "model.add(Dense(3, activation='softmax'))  # 3 units for 3 classes\n",
    "\n",
    "# Compile the model\n",
    "model.compile(optimizer='adam', loss='categorical_crossentropy', metrics=['accuracy'])\n",
    "\n",
    "# Print the model summary\n",
    "model.summary()\n"
   ]
  },
  {
   "cell_type": "code",
   "execution_count": 3,
   "id": "553c29e1-ab53-4dd7-b00c-1c7a47db40ac",
   "metadata": {},
   "outputs": [
    {
     "name": "stdout",
     "output_type": "stream",
     "text": [
      "Epoch 1/10\n",
      "20/20 [==============================] - 6s 74ms/step - loss: 1.1014 - accuracy: 0.2953 - val_loss: 1.1013 - val_accuracy: 0.3000\n",
      "Epoch 2/10\n",
      "20/20 [==============================] - 0s 18ms/step - loss: 1.0961 - accuracy: 0.3672 - val_loss: 1.0995 - val_accuracy: 0.2875\n",
      "Epoch 3/10\n",
      "20/20 [==============================] - 0s 19ms/step - loss: 1.0931 - accuracy: 0.3672 - val_loss: 1.1019 - val_accuracy: 0.2812\n",
      "Epoch 4/10\n",
      "20/20 [==============================] - 0s 18ms/step - loss: 1.0925 - accuracy: 0.3719 - val_loss: 1.1060 - val_accuracy: 0.3000\n",
      "Epoch 5/10\n",
      "20/20 [==============================] - 0s 18ms/step - loss: 1.0922 - accuracy: 0.3656 - val_loss: 1.1033 - val_accuracy: 0.3688\n",
      "Epoch 6/10\n",
      "20/20 [==============================] - 0s 19ms/step - loss: 1.0872 - accuracy: 0.4047 - val_loss: 1.1178 - val_accuracy: 0.2750\n",
      "Epoch 7/10\n",
      "20/20 [==============================] - 0s 18ms/step - loss: 1.0834 - accuracy: 0.3938 - val_loss: 1.1089 - val_accuracy: 0.3250\n",
      "Epoch 8/10\n",
      "20/20 [==============================] - 0s 17ms/step - loss: 1.0784 - accuracy: 0.4078 - val_loss: 1.1189 - val_accuracy: 0.2688\n",
      "Epoch 9/10\n",
      "20/20 [==============================] - 0s 16ms/step - loss: 1.0744 - accuracy: 0.4078 - val_loss: 1.1230 - val_accuracy: 0.3000\n",
      "Epoch 10/10\n",
      "20/20 [==============================] - 0s 17ms/step - loss: 1.0663 - accuracy: 0.4313 - val_loss: 1.1323 - val_accuracy: 0.3000\n"
     ]
    }
   ],
   "source": [
    "# Train the model\n",
    "history = model.fit(X_train_scaled, y_train_one_hot, epochs=10, batch_size=32, validation_split=0.2)\n"
   ]
  },
  {
   "cell_type": "code",
   "execution_count": 4,
   "id": "3ee874ab-2004-4b5b-9a52-2d9e632a7c41",
   "metadata": {},
   "outputs": [
    {
     "name": "stdout",
     "output_type": "stream",
     "text": [
      "7/7 [==============================] - 1s 6ms/step - loss: 1.2034 - accuracy: 0.3350\n",
      "Test Loss: 1.2033545970916748\n",
      "Test Accuracy: 0.33500000834465027\n"
     ]
    }
   ],
   "source": [
    "# Evaluate the model\n",
    "loss, accuracy = model.evaluate(X_test_scaled, y_test_one_hot)\n",
    "print(f\"Test Loss: {loss}\")\n",
    "print(f\"Test Accuracy: {accuracy}\")\n"
   ]
  },
  {
   "cell_type": "code",
   "execution_count": 9,
   "id": "581b5932-ec36-460b-ae33-2badf75de255",
   "metadata": {},
   "outputs": [
    {
     "name": "stdout",
     "output_type": "stream",
     "text": [
      "7/7 [==============================] - 0s 6ms/step\n"
     ]
    }
   ],
   "source": [
    "# Predict on the test set\n",
    "y_pred_probs = model.predict(X_test_scaled)\n",
    "\n",
    "# Convert probabilities to class labels\n",
    "y_pred_indices = np.argmax(y_pred_probs, axis=1)"
   ]
  },
  {
   "cell_type": "code",
   "execution_count": 10,
   "id": "2538e9ca-1c45-4b56-88a5-05711d29a03a",
   "metadata": {},
   "outputs": [
    {
     "data": {
      "text/plain": [
       "array([2, 1, 1, 2, 1, 1, 1, 2, 1, 1, 1, 2, 1, 1, 2, 2, 2, 1, 2, 1, 1, 2,\n",
       "       2, 1, 1, 0, 2, 2, 1, 2, 2, 1, 2, 1, 1, 1, 1, 1, 1, 1, 2, 1, 1, 2,\n",
       "       2, 1, 2, 2, 1, 0, 1, 2, 1, 1, 2, 1, 2, 2, 0, 1, 1, 2, 2, 1, 2, 2,\n",
       "       2, 0, 2, 1, 1, 0, 1, 2, 1, 1, 0, 1, 2, 1, 1, 2, 2, 1, 1, 2, 2, 2,\n",
       "       2, 1, 2, 1, 1, 2, 1, 2, 0, 1, 2, 2, 2, 2, 1, 2, 2, 2, 2, 2, 2, 2,\n",
       "       1, 2, 1, 2, 2, 2, 2, 0, 2, 2, 2, 1, 1, 1, 1, 2, 1, 2, 1, 2, 1, 0,\n",
       "       2, 2, 2, 0, 2, 2, 1, 0, 2, 2, 2, 0, 1, 1, 2, 2, 2, 1, 2, 2, 2, 2,\n",
       "       1, 1, 1, 2, 2, 1, 2, 0, 2, 1, 2, 1, 1, 2, 2, 1, 2, 2, 2, 1, 2, 1,\n",
       "       2, 2, 0, 2, 1, 1, 1, 1, 2, 1, 2, 1, 2, 1, 1, 2, 2, 2, 2, 1, 1, 1,\n",
       "       2, 2])"
      ]
     },
     "execution_count": 10,
     "metadata": {},
     "output_type": "execute_result"
    }
   ],
   "source": [
    "y_pred_indices"
   ]
  },
  {
   "cell_type": "code",
   "execution_count": null,
   "id": "8c681082-c7ea-4110-a978-94d06ac52ee4",
   "metadata": {},
   "outputs": [],
   "source": []
  },
  {
   "cell_type": "code",
   "execution_count": null,
   "id": "27be1e7e-47ae-4515-b134-ce5c4962bd52",
   "metadata": {},
   "outputs": [],
   "source": []
  },
  {
   "cell_type": "code",
   "execution_count": 4,
   "id": "26c92c45-d953-4c79-9370-0c56b88bd0d1",
   "metadata": {},
   "outputs": [
    {
     "name": "stderr",
     "output_type": "stream",
     "text": [
      "/home/bugra/.local/lib/python3.10/site-packages/deap/creator.py:185: RuntimeWarning: A class named 'FitnessMax' has already been created and it will be overwritten. Consider deleting previous creation of that class or rename it.\n",
      "  warnings.warn(\"A class named '{0}' has already been created and it \"\n",
      "/home/bugra/.local/lib/python3.10/site-packages/deap/creator.py:185: RuntimeWarning: A class named 'Individual' has already been created and it will be overwritten. Consider deleting previous creation of that class or rename it.\n",
      "  warnings.warn(\"A class named '{0}' has already been created and it \"\n"
     ]
    },
    {
     "name": "stdout",
     "output_type": "stream",
     "text": [
      "Best individual: [1, 1, 1, 1, 1, 1, 1, 1, 1, 1], Fitness: 10.0\n"
     ]
    }
   ],
   "source": [
    "import random\n",
    "from deap import base, creator, tools, algorithms\n",
    "\n",
    "# Initialize the creator with FitnessMax and Individual\n",
    "creator.create(\"FitnessMax\", base.Fitness, weights=(1.0,))\n",
    "creator.create(\"Individual\", list, fitness=creator.FitnessMax)\n",
    "\n",
    "# Define the fitness function\n",
    "def fitness_function(individual):\n",
    "    return sum(individual),\n",
    "\n",
    "# Create the toolbox\n",
    "toolbox = base.Toolbox()\n",
    "toolbox.register(\"attr_bool\", random.randint, 0, 1)\n",
    "toolbox.register(\"individual\", tools.initRepeat, creator.Individual, toolbox.attr_bool, 10)\n",
    "toolbox.register(\"population\", tools.initRepeat, list, toolbox.individual)\n",
    "\n",
    "toolbox.register(\"evaluate\", fitness_function)\n",
    "toolbox.register(\"mate\", tools.cxTwoPoint)\n",
    "toolbox.register(\"mutate\", tools.mutFlipBit, indpb=0.05)\n",
    "toolbox.register(\"select\", tools.selTournament, tournsize=3)\n",
    "\n",
    "# Initialize the population\n",
    "population = toolbox.population(n=300)\n",
    "\n",
    "# Run the genetic algorithm\n",
    "NGEN = 40\n",
    "CXPB, MUTPB = 0.5, 0.2\n",
    "for gen in range(NGEN):\n",
    "    offspring = toolbox.select(population, len(population))\n",
    "    offspring = list(map(toolbox.clone, offspring))\n",
    "    \n",
    "    for child1, child2 in zip(offspring[::2], offspring[1::2]):\n",
    "        if random.random() < CXPB:\n",
    "            toolbox.mate(child1, child2)\n",
    "            del child1.fitness.values\n",
    "            del child2.fitness.values\n",
    "    \n",
    "    for mutant in offspring:\n",
    "        if random.random() < MUTPB:\n",
    "            toolbox.mutate(mutant)\n",
    "            del mutant.fitness.values\n",
    "    \n",
    "    invalid_ind = [ind for ind in offspring if not ind.fitness.valid]\n",
    "    fitnesses = map(toolbox.evaluate, invalid_ind)\n",
    "    for ind, fit in zip(invalid_ind, fitnesses):\n",
    "        ind.fitness.values = fit\n",
    "    \n",
    "    population[:] = offspring\n",
    "\n",
    "best_ind = tools.selBest(population, 1)[0]\n",
    "print(f\"Best individual: {best_ind}, Fitness: {best_ind.fitness.values[0]}\")\n"
   ]
  },
  {
   "cell_type": "code",
   "execution_count": 3,
   "id": "a5d4a04d-eed6-4bf6-8b0d-e0378ebe5b52",
   "metadata": {},
   "outputs": [
    {
     "name": "stdout",
     "output_type": "stream",
     "text": [
      "Best individual: [3.2918494209036986, 4.102523337405425], Fitness: 1.2363455310853593\n"
     ]
    }
   ],
   "source": [
    "import random\n",
    "import numpy as np\n",
    "from sklearn.linear_model import LinearRegression\n",
    "from sklearn.metrics import mean_squared_error\n",
    "from deap import base, creator, tools, algorithms\n",
    "\n",
    "# Initialize the creator with FitnessMax and Individual\n",
    "creator.create(\"FitnessMax\", base.Fitness, weights=(1.0,))\n",
    "creator.create(\"Individual\", list, fitness=creator.FitnessMax)\n",
    "\n",
    "# Generate synthetic financial data\n",
    "np.random.seed(42)\n",
    "X = np.random.rand(100, 1)\n",
    "y = 4 + 3 * X.squeeze() + np.random.randn(100)\n",
    "\n",
    "# Split into training and test sets\n",
    "X_train, X_test = X[:80], X[80:]\n",
    "y_train, y_test = y[:80], y[80:]\n",
    "\n",
    "# Define the fitness function\n",
    "def fitness_function(individual):\n",
    "    model = LinearRegression()\n",
    "    model.coef_ = np.array([individual[0]])\n",
    "    model.intercept_ = individual[1]\n",
    "    predictions = model.predict(X_test)\n",
    "    error = mean_squared_error(y_test, predictions)\n",
    "    fitness = 1 / (error + 1e-10)\n",
    "    return fitness,\n",
    "\n",
    "# Create the toolbox\n",
    "toolbox = base.Toolbox()\n",
    "toolbox.register(\"attr_float\", random.uniform, -10, 10)\n",
    "toolbox.register(\"individual\", tools.initRepeat, creator.Individual, toolbox.attr_float, 2)\n",
    "toolbox.register(\"population\", tools.initRepeat, list, toolbox.individual)\n",
    "\n",
    "toolbox.register(\"evaluate\", fitness_function)\n",
    "toolbox.register(\"mate\", tools.cxBlend, alpha=0.5)\n",
    "toolbox.register(\"mutate\", tools.mutGaussian, mu=0, sigma=1, indpb=0.2)\n",
    "toolbox.register(\"select\", tools.selTournament, tournsize=3)\n",
    "\n",
    "# Initialize the population\n",
    "population = toolbox.population(n=50)\n",
    "\n",
    "# Run the genetic algorithm\n",
    "NGEN = 100\n",
    "CXPB, MUTPB = 0.5, 0.2\n",
    "for gen in range(NGEN):\n",
    "    offspring = toolbox.select(population, len(population))\n",
    "    offspring = list(map(toolbox.clone, offspring))\n",
    "    \n",
    "    for child1, child2 in zip(offspring[::2], offspring[1::2]):\n",
    "        if random.random() < CXPB:\n",
    "            toolbox.mate(child1, child2)\n",
    "            del child1.fitness.values\n",
    "            del child2.fitness.values\n",
    "    \n",
    "    for mutant in offspring:\n",
    "        if random.random() < MUTPB:\n",
    "            toolbox.mutate(mutant)\n",
    "            del mutant.fitness.values\n",
    "    \n",
    "    invalid_ind = [ind for ind in offspring if not ind.fitness.valid]\n",
    "    fitnesses = map(toolbox.evaluate, invalid_ind)\n",
    "    for ind, fit in zip(invalid_ind, fitnesses):\n",
    "        ind.fitness.values = fit\n",
    "    \n",
    "    population[:] = offspring\n",
    "\n",
    "best_ind = tools.selBest(population, 1)[0]\n",
    "print(f\"Best individual: {best_ind}, Fitness: {best_ind.fitness.values[0]}\")\n"
   ]
  },
  {
   "cell_type": "code",
   "execution_count": null,
   "id": "92eca4d7-3652-4348-90ea-7e1ec359aeb7",
   "metadata": {},
   "outputs": [],
   "source": []
  },
  {
   "cell_type": "code",
   "execution_count": 1,
   "id": "26bacf9a-1910-4bac-b59a-4032e3eca3e1",
   "metadata": {},
   "outputs": [],
   "source": [
    "import numpy as np\n",
    "import pandas as pd\n",
    "\n",
    "# Generate synthetic time series data\n",
    "np.random.seed(42)\n",
    "data = np.sin(np.linspace(0, 100, 200)) + np.random.normal(0, 0.1, 200)\n",
    "\n",
    "# Convert to pandas DataFrame\n",
    "df = pd.DataFrame(data, columns=['value'])"
   ]
  },
  {
   "cell_type": "code",
   "execution_count": 2,
   "id": "974ba754-670a-4ba6-8579-f26fae731238",
   "metadata": {},
   "outputs": [],
   "source": [
    "def create_features(data, window_size):\n",
    "    X, y = [], []\n",
    "    for i in range(len(data) - window_size):\n",
    "        X.append(data[i:i + window_size])\n",
    "        y.append(data[i + window_size])\n",
    "    return np.array(X), np.array(y)\n",
    "\n",
    "window_size = 5\n",
    "X, y = create_features(df['value'].values, window_size)\n",
    "\n",
    "# Split into training and test sets\n",
    "split_index = int(0.8 * len(X))\n",
    "X_train, X_test = X[:split_index], X[split_index:]\n",
    "y_train, y_test = y[:split_index], y[split_index:]\n"
   ]
  },
  {
   "cell_type": "code",
   "execution_count": 3,
   "id": "0cdf8c17-cd13-4799-9f2b-848565f9017f",
   "metadata": {},
   "outputs": [
    {
     "name": "stdout",
     "output_type": "stream",
     "text": [
      "Best individual: [-0.4740702427614405, -0.18096896758689027, -0.05805783701124598, 0.37913692508336677, 0.378689433492527], Fitness: 65.36634283816869\n"
     ]
    }
   ],
   "source": [
    "import random\n",
    "from deap import base, creator, tools, algorithms\n",
    "from sklearn.metrics import mean_squared_error\n",
    "\n",
    "# Define the fitness function\n",
    "def fitness_function(individual, X_train, y_train):\n",
    "    # Individual is a set of coefficients for a linear model\n",
    "    predictions = np.dot(X_train, individual)\n",
    "    error = mean_squared_error(y_train, predictions)\n",
    "    fitness = 1 / (error + 1e-10)\n",
    "    return fitness,\n",
    "\n",
    "# Initialize the creator with FitnessMax and Individual\n",
    "creator.create(\"FitnessMax\", base.Fitness, weights=(1.0,))\n",
    "creator.create(\"Individual\", list, fitness=creator.FitnessMax)\n",
    "\n",
    "# Create the toolbox\n",
    "toolbox = base.Toolbox()\n",
    "toolbox.register(\"attr_float\", random.uniform, -1, 1)\n",
    "toolbox.register(\"individual\", tools.initRepeat, creator.Individual, toolbox.attr_float, window_size)\n",
    "toolbox.register(\"population\", tools.initRepeat, list, toolbox.individual)\n",
    "\n",
    "toolbox.register(\"evaluate\", fitness_function, X_train=X_train, y_train=y_train)\n",
    "toolbox.register(\"mate\", tools.cxBlend, alpha=0.5)\n",
    "toolbox.register(\"mutate\", tools.mutGaussian, mu=0, sigma=0.1, indpb=0.2)\n",
    "toolbox.register(\"select\", tools.selTournament, tournsize=3)\n",
    "\n",
    "# Initialize the population\n",
    "population = toolbox.population(n=50)\n",
    "\n",
    "# Run the genetic algorithm\n",
    "NGEN = 100\n",
    "CXPB, MUTPB = 0.5, 0.2\n",
    "for gen in range(NGEN):\n",
    "    offspring = toolbox.select(population, len(population))\n",
    "    offspring = list(map(toolbox.clone, offspring))\n",
    "    \n",
    "    for child1, child2 in zip(offspring[::2], offspring[1::2]):\n",
    "        if random.random() < CXPB:\n",
    "            toolbox.mate(child1, child2)\n",
    "            del child1.fitness.values\n",
    "            del child2.fitness.values\n",
    "    \n",
    "    for mutant in offspring:\n",
    "        if random.random() < MUTPB:\n",
    "            toolbox.mutate(mutant)\n",
    "            del mutant.fitness.values\n",
    "    \n",
    "    invalid_ind = [ind for ind in offspring if not ind.fitness.valid]\n",
    "    fitnesses = map(toolbox.evaluate, invalid_ind)\n",
    "    for ind, fit in zip(invalid_ind, fitnesses):\n",
    "        ind.fitness.values = fit\n",
    "    \n",
    "    population[:] = offspring\n",
    "\n",
    "best_ind = tools.selBest(population, 1)[0]\n",
    "print(f\"Best individual: {best_ind}, Fitness: {best_ind.fitness.values[0]}\")\n"
   ]
  },
  {
   "cell_type": "code",
   "execution_count": 4,
   "id": "9ded6955-b0ba-40c8-b6b3-7f122ecfc213",
   "metadata": {},
   "outputs": [
    {
     "name": "stdout",
     "output_type": "stream",
     "text": [
      "Best individual coefficients: [-0.47407024 -0.18096897 -0.05805784  0.37913693  0.37868943]\n",
      "Mean Squared Error of the best individual: 0.013282964703699695\n"
     ]
    },
    {
     "data": {
      "image/png": "[encoded data removed]",
      "text/plain": [
       "<Figure size 1000x500 with 1 Axes>"
      ]
     },
     "metadata": {},
     "output_type": "display_data"
    }
   ],
   "source": [
    "import numpy as np\n",
    "from sklearn.metrics import mean_squared_error\n",
    "\n",
    "# Extract the coefficients from best_ind\n",
    "coefficients = np.array(best_ind)\n",
    "\n",
    "# Print the coefficients\n",
    "print(f\"Best individual coefficients: {coefficients}\")\n",
    "\n",
    "# Make predictions using the best individual on the test set\n",
    "predictions = np.dot(X_test, coefficients)\n",
    "\n",
    "# Calculate the prediction error\n",
    "error = mean_squared_error(y_test, predictions)\n",
    "print(f\"Mean Squared Error of the best individual: {error}\")\n",
    "\n",
    "# Optionally, plot the predictions against the actual values\n",
    "import matplotlib.pyplot as plt\n",
    "\n",
    "plt.figure(figsize=(10, 5))\n",
    "plt.plot(range(len(y_test)), y_test, label='Actual')\n",
    "plt.plot(range(len(y_test)), predictions, label='Predicted')\n",
    "plt.xlabel('Time')\n",
    "plt.ylabel('Value')\n",
    "plt.legend()\n",
    "plt.show()\n"
   ]
  },
  {
   "cell_type": "code",
   "execution_count": null,
   "id": "f357f0bc-46bb-466d-9beb-65026e215cfc",
   "metadata": {},
   "outputs": [],
   "source": []
  },
  {
   "cell_type": "markdown",
   "id": "689cd770-5f63-4efa-8357-a3e94de38928",
   "metadata": {},
   "source": [
    "# sports betting draft"
   ]
  },
  {
   "cell_type": "code",
   "execution_count": 1,
   "id": "3832ef6a-0c96-4cd0-a07b-d33ff415907d",
   "metadata": {},
   "outputs": [
    {
     "data": {
      "text/html": [
       "<style>#sk-container-id-1 {color: black;}#sk-container-id-1 pre{padding: 0;}#sk-container-id-1 div.sk-toggleable {background-color: white;}#sk-container-id-1 label.sk-toggleable__label {cursor: pointer;display: block;width: 100%;margin-bottom: 0;padding: 0.3em;box-sizing: border-box;text-align: center;}#sk-container-id-1 label.sk-toggleable__label-arrow:before {content: \"▸\";float: left;margin-right: 0.25em;color: #696969;}#sk-container-id-1 label.sk-toggleable__label-arrow:hover:before {color: black;}#sk-container-id-1 div.sk-estimator:hover label.sk-toggleable__label-arrow:before {color: black;}#sk-container-id-1 div.sk-toggleable__content {max-height: 0;max-width: 0;overflow: hidden;text-align: left;background-color: #f0f8ff;}#sk-container-id-1 div.sk-toggleable__content pre {margin: 0.2em;color: black;border-radius: 0.25em;background-color: #f0f8ff;}#sk-container-id-1 input.sk-toggleable__control:checked~div.sk-toggleable__content {max-height: 200px;max-width: 100%;overflow: auto;}#sk-container-id-1 input.sk-toggleable__control:checked~label.sk-toggleable__label-arrow:before {content: \"▾\";}#sk-container-id-1 div.sk-estimator input.sk-toggleable__control:checked~label.sk-toggleable__label {background-color: #d4ebff;}#sk-container-id-1 div.sk-label input.sk-toggleable__control:checked~label.sk-toggleable__label {background-color: #d4ebff;}#sk-container-id-1 input.sk-hidden--visually {border: 0;clip: rect(1px 1px 1px 1px);clip: rect(1px, 1px, 1px, 1px);height: 1px;margin: -1px;overflow: hidden;padding: 0;position: absolute;width: 1px;}#sk-container-id-1 div.sk-estimator {font-family: monospace;background-color: #f0f8ff;border: 1px dotted black;border-radius: 0.25em;box-sizing: border-box;margin-bottom: 0.5em;}#sk-container-id-1 div.sk-estimator:hover {background-color: #d4ebff;}#sk-container-id-1 div.sk-parallel-item::after {content: \"\";width: 100%;border-bottom: 1px solid gray;flex-grow: 1;}#sk-container-id-1 div.sk-label:hover label.sk-toggleable__label {background-color: #d4ebff;}#sk-container-id-1 div.sk-serial::before {content: \"\";position: absolute;border-left: 1px solid gray;box-sizing: border-box;top: 0;bottom: 0;left: 50%;z-index: 0;}#sk-container-id-1 div.sk-serial {display: flex;flex-direction: column;align-items: center;background-color: white;padding-right: 0.2em;padding-left: 0.2em;position: relative;}#sk-container-id-1 div.sk-item {position: relative;z-index: 1;}#sk-container-id-1 div.sk-parallel {display: flex;align-items: stretch;justify-content: center;background-color: white;position: relative;}#sk-container-id-1 div.sk-item::before, #sk-container-id-1 div.sk-parallel-item::before {content: \"\";position: absolute;border-left: 1px solid gray;box-sizing: border-box;top: 0;bottom: 0;left: 50%;z-index: -1;}#sk-container-id-1 div.sk-parallel-item {display: flex;flex-direction: column;z-index: 1;position: relative;background-color: white;}#sk-container-id-1 div.sk-parallel-item:first-child::after {align-self: flex-end;width: 50%;}#sk-container-id-1 div.sk-parallel-item:last-child::after {align-self: flex-start;width: 50%;}#sk-container-id-1 div.sk-parallel-item:only-child::after {width: 0;}#sk-container-id-1 div.sk-dashed-wrapped {border: 1px dashed gray;margin: 0 0.4em 0.5em 0.4em;box-sizing: border-box;padding-bottom: 0.4em;background-color: white;}#sk-container-id-1 div.sk-label label {font-family: monospace;font-weight: bold;display: inline-block;line-height: 1.2em;}#sk-container-id-1 div.sk-label-container {text-align: center;}#sk-container-id-1 div.sk-container {/* jupyter's `normalize.less` sets `[hidden] { display: none; }` but bootstrap.min.css set `[hidden] { display: none !important; }` so we also need the `!important` here to be able to override the default hidden behavior on the sphinx rendered scikit-learn.org. See: https://github.com/scikit-learn/scikit-learn/issues/21755 */display: inline-block !important;position: relative;}#sk-container-id-1 div.sk-text-repr-fallback {display: none;}</style><div id=\"sk-container-id-1\" class=\"sk-top-container\"><div class=\"sk-text-repr-fallback\"><pre>DecisionTreeRegressor(random_state=42)</pre><b>In a Jupyter environment, please rerun this cell to show the HTML representation or trust the notebook. <br />On GitHub, the HTML representation is unable to render, please try loading this page with nbviewer.org.</b></div><div class=\"sk-container\" hidden><div class=\"sk-item\"><div class=\"sk-estimator sk-toggleable\"><input class=\"sk-toggleable__control sk-hidden--visually\" id=\"sk-estimator-id-1\" type=\"checkbox\" checked><label for=\"sk-estimator-id-1\" class=\"sk-toggleable__label sk-toggleable__label-arrow\">DecisionTreeRegressor</label><div class=\"sk-toggleable__content\"><pre>DecisionTreeRegressor(random_state=42)</pre></div></div></div></div></div>"
      ],
      "text/plain": [
       "DecisionTreeRegressor(random_state=42)"
      ]
     },
     "execution_count": 1,
     "metadata": {},
     "output_type": "execute_result"
    }
   ],
   "source": [
    "import numpy as np\n",
    "from sklearn.tree import DecisionTreeRegressor\n",
    "from sklearn.model_selection import train_test_split\n",
    "from sklearn.metrics import mean_squared_error\n",
    "\n",
    "# Generate synthetic data\n",
    "np.random.seed(42)\n",
    "n_samples = 100\n",
    "\n",
    "# Features for player 1 and player 2\n",
    "player1_features = np.random.rand(n_samples, 10)\n",
    "player2_features = np.random.rand(n_samples, 10)\n",
    "\n",
    "# Labels: probabilities of player 1 and player 2 winning\n",
    "labels = np.random.rand(n_samples, 2)\n",
    "\n",
    "# Difference features\n",
    "difference_features = player1_features - player2_features\n",
    "\n",
    "# Ratio features (avoid division by zero by adding a small constant)\n",
    "ratio_features = player1_features / (player2_features + 1e-6)\n",
    "\n",
    "# Concatenate original features with comparison features\n",
    "combined_features = np.concatenate((player1_features, player2_features, difference_features, ratio_features), axis=1)\n",
    "\n",
    "# Split data into training and test sets\n",
    "X_train, X_test, y_train, y_test = train_test_split(combined_features, labels, test_size=0.2, random_state=42)\n",
    "\n",
    "# Create Decision Tree Regressor\n",
    "model = DecisionTreeRegressor(random_state=42)\n",
    "\n",
    "# Train the model\n",
    "model.fit(X_train, y_train)\n"
   ]
  },
  {
   "cell_type": "code",
   "execution_count": 5,
   "id": "ea658fed-ea38-4b4a-832f-e18bccb42ae5",
   "metadata": {},
   "outputs": [
    {
     "data": {
      "text/plain": [
       "((100, 40), (100, 2))"
      ]
     },
     "execution_count": 5,
     "metadata": {},
     "output_type": "execute_result"
    }
   ],
   "source": [
    "combined_features.shape, labels.shape"
   ]
  },
  {
   "cell_type": "code",
   "execution_count": null,
   "id": "70f76cf1-cc3b-414e-a089-7c7854e258d8",
   "metadata": {},
   "outputs": [],
   "source": []
  },
  {
   "cell_type": "code",
   "execution_count": null,
   "id": "bf8b19db-a46d-4742-af7f-858435f96f94",
   "metadata": {},
   "outputs": [],
   "source": []
  },
  {
   "cell_type": "code",
   "execution_count": 6,
   "id": "50e05548-92f8-4b06-8056-e4ad47ab6085",
   "metadata": {},
   "outputs": [
    {
     "name": "stdout",
     "output_type": "stream",
     "text": [
      "[10 30 40 50]\n"
     ]
    }
   ],
   "source": [
    "import numpy as np\n",
    "\n",
    "# Create a NumPy array\n",
    "arr = np.array([10, 20, 30, 20, 40, 50, 20])\n",
    "\n",
    "# Value to remove\n",
    "value_to_remove = 20\n",
    "\n",
    "# Find the indices of the value to remove\n",
    "indices_to_remove = np.where(arr == value_to_remove)[0]\n",
    "\n",
    "# Use numpy.delete to remove the elements at the found indices\n",
    "arr_filtered = np.delete(arr, indices_to_remove)\n",
    "\n",
    "print(arr_filtered)"
   ]
  },
  {
   "cell_type": "code",
   "execution_count": 7,
   "id": "d9e7085a-1312-4b7a-8507-5480586b51ad",
   "metadata": {},
   "outputs": [
    {
     "data": {
      "text/plain": [
       "array([1, 3, 6])"
      ]
     },
     "execution_count": 7,
     "metadata": {},
     "output_type": "execute_result"
    }
   ],
   "source": [
    "indices_to_remove"
   ]
  },
  {
   "cell_type": "code",
   "execution_count": null,
   "id": "a2026bad-547e-4d7f-a3f1-be0d1e64ebf6",
   "metadata": {},
   "outputs": [],
   "source": []
  },
  {
   "cell_type": "code",
   "execution_count": null,
   "id": "836d030f-e490-4894-acce-df857fa52909",
   "metadata": {},
   "outputs": [],
   "source": []
  },
  {
   "cell_type": "code",
   "execution_count": null,
   "id": "3174ca2d-592f-4c1b-9626-dba6ad912b89",
   "metadata": {},
   "outputs": [],
   "source": []
  },
  {
   "cell_type": "code",
   "execution_count": null,
   "id": "3e789d6a-1819-4b6c-8f9c-963200e1ec63",
   "metadata": {},
   "outputs": [],
   "source": []
  },
  {
   "cell_type": "code",
   "execution_count": null,
   "id": "dad8c3d0-14a4-42e6-8aa7-2ea6d6a9d395",
   "metadata": {},
   "outputs": [],
   "source": []
  },
  {
   "cell_type": "code",
   "execution_count": null,
   "id": "5154008e-6242-44c5-a299-ab1e04e00b43",
   "metadata": {},
   "outputs": [],
   "source": []
  }
 ],
 "metadata": {
  "kernelspec": {
   "display_name": "Python 3 (ipykernel)",
   "language": "python",
   "name": "python3"
  },
  "language_info": {
   "codemirror_mode": {
    "name": "ipython",
    "version": 3
   },
   "file_extension": ".py",
   "mimetype": "text/x-python",
   "name": "python",
   "nbconvert_exporter": "python",
   "pygments_lexer": "ipython3",
   "version": "3.10.12"
  }
 },
 "nbformat": 4,
 "nbformat_minor": 5
}
