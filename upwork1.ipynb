{
 "cells": [
  {
   "cell_type": "code",
   "execution_count": 1,
   "id": "06a24c85-1841-4d18-a5a8-25ebc10be215",
   "metadata": {},
   "outputs": [],
   "source": [
    "import pandas as pd\n",
    "\n",
    "data = pd.read_csv('Merged_Dataset.csv')"
   ]
  },
  {
   "cell_type": "code",
   "execution_count": 2,
   "id": "c09d257f-b5d9-410b-8bfd-bc785a0d2e55",
   "metadata": {},
   "outputs": [
    {
     "data": {
      "text/html": [
       "<div>\n",
       "<style scoped>\n",
       "    .dataframe tbody tr th:only-of-type {\n",
       "        vertical-align: middle;\n",
       "    }\n",
       "\n",
       "    .dataframe tbody tr th {\n",
       "        vertical-align: top;\n",
       "    }\n",
       "\n",
       "    .dataframe thead th {\n",
       "        text-align: right;\n",
       "    }\n",
       "</style>\n",
       "<table border=\"1\" class=\"dataframe\">\n",
       "  <thead>\n",
       "    <tr style=\"text-align: right;\">\n",
       "      <th></th>\n",
       "      <th>id</th>\n",
       "      <th>name</th>\n",
       "      <th>disc_number</th>\n",
       "      <th>duration_min</th>\n",
       "      <th>explicit</th>\n",
       "      <th>popularity</th>\n",
       "      <th>track_number</th>\n",
       "      <th>artists</th>\n",
       "      <th>album_type</th>\n",
       "      <th>album_name</th>\n",
       "      <th>...</th>\n",
       "      <th>key_confidence</th>\n",
       "      <th>mode_confidence</th>\n",
       "      <th>n_beats</th>\n",
       "      <th>n_bars</th>\n",
       "      <th>genre</th>\n",
       "      <th>artist_list</th>\n",
       "      <th>no_of_artist</th>\n",
       "      <th>genre_collection</th>\n",
       "      <th>followers_collection</th>\n",
       "      <th>popularity_collection</th>\n",
       "    </tr>\n",
       "  </thead>\n",
       "  <tbody>\n",
       "    <tr>\n",
       "      <th>0</th>\n",
       "      <td>4rjA5kJJWbwU1prXCvg6Fk</td>\n",
       "      <td>Grey</td>\n",
       "      <td>1</td>\n",
       "      <td>4.841317</td>\n",
       "      <td>False</td>\n",
       "      <td>52</td>\n",
       "      <td>5</td>\n",
       "      <td>Kölsch</td>\n",
       "      <td>album</td>\n",
       "      <td>1989</td>\n",
       "      <td>...</td>\n",
       "      <td>0.500</td>\n",
       "      <td>0.525</td>\n",
       "      <td>705.0</td>\n",
       "      <td>234.0</td>\n",
       "      <td>minimal-techno</td>\n",
       "      <td>['Kölsch']</td>\n",
       "      <td>1</td>\n",
       "      <td>[\"['danish electronic', 'danish techno', 'deep...</td>\n",
       "      <td>[218818]</td>\n",
       "      <td>[51]</td>\n",
       "    </tr>\n",
       "    <tr>\n",
       "      <th>1</th>\n",
       "      <td>6xzpUzzIquIyUzTLbbgSdI</td>\n",
       "      <td>Thrown</td>\n",
       "      <td>1</td>\n",
       "      <td>8.987150</td>\n",
       "      <td>False</td>\n",
       "      <td>45</td>\n",
       "      <td>5</td>\n",
       "      <td>Kiasmos</td>\n",
       "      <td>album</td>\n",
       "      <td>Kiasmos</td>\n",
       "      <td>...</td>\n",
       "      <td>0.410</td>\n",
       "      <td>0.589</td>\n",
       "      <td>1074.0</td>\n",
       "      <td>269.0</td>\n",
       "      <td>minimal-techno</td>\n",
       "      <td>['Kiasmos']</td>\n",
       "      <td>1</td>\n",
       "      <td>[\"['electronica', 'icelandic electronic']\"]</td>\n",
       "      <td>[231613]</td>\n",
       "      <td>[47]</td>\n",
       "    </tr>\n",
       "    <tr>\n",
       "      <th>2</th>\n",
       "      <td>56tXgHlSHCfgmGhwVXNizc</td>\n",
       "      <td>Routine</td>\n",
       "      <td>1</td>\n",
       "      <td>4.403333</td>\n",
       "      <td>False</td>\n",
       "      <td>39</td>\n",
       "      <td>5</td>\n",
       "      <td>Joris Delacroix</td>\n",
       "      <td>album</td>\n",
       "      <td>Night Visions</td>\n",
       "      <td>...</td>\n",
       "      <td>0.904</td>\n",
       "      <td>0.760</td>\n",
       "      <td>516.0</td>\n",
       "      <td>171.0</td>\n",
       "      <td>minimal-techno</td>\n",
       "      <td>['Joris Delacroix']</td>\n",
       "      <td>1</td>\n",
       "      <td>[\"['deep euro house', 'minimal melodic techno'...</td>\n",
       "      <td>[100828]</td>\n",
       "      <td>[44]</td>\n",
       "    </tr>\n",
       "    <tr>\n",
       "      <th>3</th>\n",
       "      <td>0s3wIBczp6TdSJ2y8cveJl</td>\n",
       "      <td>Confronted - Anfisa Letyago Stranger Remix</td>\n",
       "      <td>1</td>\n",
       "      <td>6.456883</td>\n",
       "      <td>False</td>\n",
       "      <td>0</td>\n",
       "      <td>6</td>\n",
       "      <td>Pan-Pot;Anfisa Letyago</td>\n",
       "      <td>single</td>\n",
       "      <td>Confronted Remixes</td>\n",
       "      <td>...</td>\n",
       "      <td>0.512</td>\n",
       "      <td>0.503</td>\n",
       "      <td>826.0</td>\n",
       "      <td>207.0</td>\n",
       "      <td>minimal-techno</td>\n",
       "      <td>['Pan-Pot', 'Anfisa Letyago']</td>\n",
       "      <td>2</td>\n",
       "      <td>[\"['german techno', 'minimal techno', 'raw tec...</td>\n",
       "      <td>[209027, 87586]</td>\n",
       "      <td>[36, 40]</td>\n",
       "    </tr>\n",
       "    <tr>\n",
       "      <th>4</th>\n",
       "      <td>4PSbDDd1LRYMhqPXvza6I2</td>\n",
       "      <td>Jupiter Sunrise</td>\n",
       "      <td>1</td>\n",
       "      <td>4.149267</td>\n",
       "      <td>False</td>\n",
       "      <td>0</td>\n",
       "      <td>1</td>\n",
       "      <td>Kollektiv Turmstrasse</td>\n",
       "      <td>compilation</td>\n",
       "      <td>10 Years Diynamic</td>\n",
       "      <td>...</td>\n",
       "      <td>0.474</td>\n",
       "      <td>0.459</td>\n",
       "      <td>493.0</td>\n",
       "      <td>123.0</td>\n",
       "      <td>minimal-techno</td>\n",
       "      <td>['Kollektiv Turmstrasse']</td>\n",
       "      <td>1</td>\n",
       "      <td>[\"['german techno', 'hamburg electronic', 'min...</td>\n",
       "      <td>[245839]</td>\n",
       "      <td>[45]</td>\n",
       "    </tr>\n",
       "  </tbody>\n",
       "</table>\n",
       "<p>5 rows × 39 columns</p>\n",
       "</div>"
      ],
      "text/plain": [
       "                       id                                        name  \\\n",
       "0  4rjA5kJJWbwU1prXCvg6Fk                                        Grey   \n",
       "1  6xzpUzzIquIyUzTLbbgSdI                                      Thrown   \n",
       "2  56tXgHlSHCfgmGhwVXNizc                                     Routine   \n",
       "3  0s3wIBczp6TdSJ2y8cveJl  Confronted - Anfisa Letyago Stranger Remix   \n",
       "4  4PSbDDd1LRYMhqPXvza6I2                             Jupiter Sunrise   \n",
       "\n",
       "   disc_number  duration_min  explicit  popularity  track_number  \\\n",
       "0            1      4.841317     False          52             5   \n",
       "1            1      8.987150     False          45             5   \n",
       "2            1      4.403333     False          39             5   \n",
       "3            1      6.456883     False           0             6   \n",
       "4            1      4.149267     False           0             1   \n",
       "\n",
       "                  artists   album_type          album_name  ...  \\\n",
       "0                  Kölsch        album                1989  ...   \n",
       "1                 Kiasmos        album             Kiasmos  ...   \n",
       "2         Joris Delacroix        album       Night Visions  ...   \n",
       "3  Pan-Pot;Anfisa Letyago       single  Confronted Remixes  ...   \n",
       "4   Kollektiv Turmstrasse  compilation   10 Years Diynamic  ...   \n",
       "\n",
       "  key_confidence mode_confidence  n_beats  n_bars           genre  \\\n",
       "0          0.500           0.525    705.0   234.0  minimal-techno   \n",
       "1          0.410           0.589   1074.0   269.0  minimal-techno   \n",
       "2          0.904           0.760    516.0   171.0  minimal-techno   \n",
       "3          0.512           0.503    826.0   207.0  minimal-techno   \n",
       "4          0.474           0.459    493.0   123.0  minimal-techno   \n",
       "\n",
       "                     artist_list  no_of_artist  \\\n",
       "0                     ['Kölsch']             1   \n",
       "1                    ['Kiasmos']             1   \n",
       "2            ['Joris Delacroix']             1   \n",
       "3  ['Pan-Pot', 'Anfisa Letyago']             2   \n",
       "4      ['Kollektiv Turmstrasse']             1   \n",
       "\n",
       "                                    genre_collection  followers_collection  \\\n",
       "0  [\"['danish electronic', 'danish techno', 'deep...              [218818]   \n",
       "1        [\"['electronica', 'icelandic electronic']\"]              [231613]   \n",
       "2  [\"['deep euro house', 'minimal melodic techno'...              [100828]   \n",
       "3  [\"['german techno', 'minimal techno', 'raw tec...       [209027, 87586]   \n",
       "4  [\"['german techno', 'hamburg electronic', 'min...              [245839]   \n",
       "\n",
       "   popularity_collection  \n",
       "0                   [51]  \n",
       "1                   [47]  \n",
       "2                   [44]  \n",
       "3               [36, 40]  \n",
       "4                   [45]  \n",
       "\n",
       "[5 rows x 39 columns]"
      ]
     },
     "execution_count": 2,
     "metadata": {},
     "output_type": "execute_result"
    }
   ],
   "source": [
    "data.head()"
   ]
  },
  {
   "cell_type": "code",
   "execution_count": 3,
   "id": "a38fce77-86f8-4f99-af6d-ed109f8842d7",
   "metadata": {},
   "outputs": [
    {
     "data": {
      "text/plain": [
       "Index(['id', 'name', 'disc_number', 'duration_min', 'explicit', 'popularity',\n",
       "       'track_number', 'artists', 'album_type', 'album_name',\n",
       "       'album_release_date', 'album_release_date_precision',\n",
       "       'album_total_tracks', 'danceability', 'energy', 'key', 'loudness',\n",
       "       'mode', 'speechiness', 'acousticness', 'instrumentalness', 'liveness',\n",
       "       'valence', 'tempo', 'features_duration_min', 'time_signature',\n",
       "       'start_of_fade_out', 'tempo_confidence', 'time_signature_confidence',\n",
       "       'key_confidence', 'mode_confidence', 'n_beats', 'n_bars', 'genre',\n",
       "       'artist_list', 'no_of_artist', 'genre_collection',\n",
       "       'followers_collection', 'popularity_collection'],\n",
       "      dtype='object')"
      ]
     },
     "execution_count": 3,
     "metadata": {},
     "output_type": "execute_result"
    }
   ],
   "source": [
    "data.columns"
   ]
  },
  {
   "cell_type": "code",
   "execution_count": 4,
   "id": "fbcbdfa6-e34d-484b-9c58-6bf9e11e613c",
   "metadata": {},
   "outputs": [
    {
     "data": {
      "text/plain": [
       "(89562, 39)"
      ]
     },
     "execution_count": 4,
     "metadata": {},
     "output_type": "execute_result"
    }
   ],
   "source": [
    "data.shape"
   ]
  },
  {
   "cell_type": "code",
   "execution_count": 5,
   "id": "4a40c801-f1e6-4f16-9c04-821b2d7ab71a",
   "metadata": {},
   "outputs": [
    {
     "name": "stdout",
     "output_type": "stream",
     "text": [
      "id object\n",
      "name object\n",
      "disc_number int64\n",
      "duration_min float64\n",
      "explicit bool\n",
      "popularity int64\n",
      "track_number int64\n",
      "artists object\n",
      "album_type object\n",
      "album_name object\n",
      "album_release_date object\n",
      "album_release_date_precision object\n",
      "album_total_tracks int64\n",
      "danceability float64\n",
      "energy float64\n",
      "key int64\n",
      "loudness float64\n",
      "mode int64\n",
      "speechiness float64\n",
      "acousticness float64\n",
      "instrumentalness float64\n",
      "liveness float64\n",
      "valence float64\n",
      "tempo float64\n",
      "features_duration_min float64\n",
      "time_signature int64\n",
      "start_of_fade_out float64\n",
      "tempo_confidence float64\n",
      "time_signature_confidence float64\n",
      "key_confidence float64\n",
      "mode_confidence float64\n",
      "n_beats float64\n",
      "n_bars float64\n",
      "genre object\n",
      "artist_list object\n",
      "no_of_artist int64\n",
      "genre_collection object\n",
      "followers_collection object\n",
      "popularity_collection object\n"
     ]
    }
   ],
   "source": [
    "for col in data.columns:\n",
    "    print(col, data[col].dtype)"
   ]
  },
  {
   "cell_type": "code",
   "execution_count": 6,
   "id": "bfcba3b1-eabd-4d26-9b26-f2aef2d1270d",
   "metadata": {},
   "outputs": [],
   "source": [
    "numerical_columns = [col for col in data.columns if data[col].dtype == 'int64' or data[col].dtype == 'float64']"
   ]
  },
  {
   "cell_type": "code",
   "execution_count": 7,
   "id": "4e33f749-197c-475f-86ae-382d28a0ee57",
   "metadata": {},
   "outputs": [
    {
     "data": {
      "text/plain": [
       "['disc_number',\n",
       " 'duration_min',\n",
       " 'popularity',\n",
       " 'track_number',\n",
       " 'album_total_tracks',\n",
       " 'danceability',\n",
       " 'energy',\n",
       " 'key',\n",
       " 'loudness',\n",
       " 'mode',\n",
       " 'speechiness',\n",
       " 'acousticness',\n",
       " 'instrumentalness',\n",
       " 'liveness',\n",
       " 'valence',\n",
       " 'tempo',\n",
       " 'features_duration_min',\n",
       " 'time_signature',\n",
       " 'start_of_fade_out',\n",
       " 'tempo_confidence',\n",
       " 'time_signature_confidence',\n",
       " 'key_confidence',\n",
       " 'mode_confidence',\n",
       " 'n_beats',\n",
       " 'n_bars',\n",
       " 'no_of_artist']"
      ]
     },
     "execution_count": 7,
     "metadata": {},
     "output_type": "execute_result"
    }
   ],
   "source": [
    "numerical_columns"
   ]
  },
  {
   "cell_type": "code",
   "execution_count": 8,
   "id": "eb0a1294-65e7-4b6f-99f7-1cebc661e39a",
   "metadata": {},
   "outputs": [
    {
     "data": {
      "text/plain": [
       "(89562, 26)"
      ]
     },
     "execution_count": 8,
     "metadata": {},
     "output_type": "execute_result"
    }
   ],
   "source": [
    "data[numerical_columns].shape"
   ]
  },
  {
   "cell_type": "code",
   "execution_count": 9,
   "id": "41e9e858-953b-4d29-ba0c-fb8ec0674ad0",
   "metadata": {},
   "outputs": [
    {
     "data": {
      "text/plain": [
       "array([[1.00000000e+00, 4.84131667e+00, 5.20000000e+01, ...,\n",
       "        7.05000000e+02, 2.34000000e+02, 1.00000000e+00],\n",
       "       [1.00000000e+00, 8.98715000e+00, 4.50000000e+01, ...,\n",
       "        1.07400000e+03, 2.69000000e+02, 1.00000000e+00],\n",
       "       [1.00000000e+00, 4.40333333e+00, 3.90000000e+01, ...,\n",
       "        5.16000000e+02, 1.71000000e+02, 1.00000000e+00],\n",
       "       ...,\n",
       "       [1.00000000e+00, 3.26421667e+00, 8.00000000e+01, ...,\n",
       "        4.17000000e+02, 1.06000000e+02, 2.00000000e+00],\n",
       "       [1.00000000e+00, 3.47830000e+00, 6.00000000e+01, ...,\n",
       "        3.59000000e+02, 8.90000000e+01, 2.00000000e+00],\n",
       "       [1.00000000e+00, 3.38043333e+00, 5.70000000e+01, ...,\n",
       "        3.04000000e+02, 7.50000000e+01, 1.00000000e+00]])"
      ]
     },
     "execution_count": 9,
     "metadata": {},
     "output_type": "execute_result"
    }
   ],
   "source": [
    "data[numerical_columns].to_numpy().reshape(-1,26)"
   ]
  },
  {
   "cell_type": "markdown",
   "id": "ee371890-bdca-413b-9a2b-44e7cf87ea0c",
   "metadata": {},
   "source": [
    "### Density-based outlier detection"
   ]
  },
  {
   "cell_type": "code",
   "execution_count": 10,
   "id": "7d306612-9aae-4f45-8171-156b1bcd9504",
   "metadata": {},
   "outputs": [],
   "source": [
    "from sklearn.neighbors import LocalOutlierFactor\n",
    "import numpy as np\n",
    "\n",
    "lof = LocalOutlierFactor(n_neighbors=20, contamination=0.1)\n",
    "\n",
    "y_pred = lof.fit_predict(data[numerical_columns].to_numpy().reshape(-1,26))"
   ]
  },
  {
   "cell_type": "code",
   "execution_count": 11,
   "id": "95a4f726-1c01-45f5-92e0-ae08878ef687",
   "metadata": {},
   "outputs": [
    {
     "data": {
      "text/plain": [
       "(89562,)"
      ]
     },
     "execution_count": 11,
     "metadata": {},
     "output_type": "execute_result"
    }
   ],
   "source": [
    "y_pred.shape"
   ]
  },
  {
   "cell_type": "code",
   "execution_count": 12,
   "id": "30eaa704-3ff7-4969-b7ad-b98585988e23",
   "metadata": {},
   "outputs": [
    {
     "data": {
      "text/plain": [
       "array([ 1,  1,  1,  1,  1,  1,  1,  1,  1,  1,  1,  1,  1,  1,  1,  1,  1,\n",
       "        1,  1,  1,  1,  1,  1,  1,  1,  1,  1,  1,  1,  1,  1,  1,  1,  1,\n",
       "        1,  1,  1,  1,  1, -1])"
      ]
     },
     "execution_count": 12,
     "metadata": {},
     "output_type": "execute_result"
    }
   ],
   "source": [
    "y_pred[40:80]"
   ]
  },
  {
   "cell_type": "code",
   "execution_count": 13,
   "id": "e3a131c1-8468-4afc-a845-cd000aca1671",
   "metadata": {},
   "outputs": [
    {
     "name": "stdout",
     "output_type": "stream",
     "text": [
      "8957\n"
     ]
    }
   ],
   "source": [
    "count = 0\n",
    "for pred in y_pred:\n",
    "    if pred == -1:\n",
    "        count += 1\n",
    "\n",
    "print(count)"
   ]
  },
  {
   "cell_type": "code",
   "execution_count": 14,
   "id": "48cb0e27-2b5b-4160-b99a-5240eed7f0a3",
   "metadata": {},
   "outputs": [],
   "source": [
    "y_pred_series = pd.Series(y_pred, name='is_outlier')\n",
    "data_draft = pd.concat([data, y_pred_series], axis=1, join='inner')"
   ]
  },
  {
   "cell_type": "code",
   "execution_count": 15,
   "id": "7d15c651-2fdd-4b7e-bcf9-6b5d83f3df0e",
   "metadata": {},
   "outputs": [
    {
     "data": {
      "text/plain": [
       "0        1\n",
       "1        1\n",
       "2        1\n",
       "3        1\n",
       "4        1\n",
       "        ..\n",
       "89557    1\n",
       "89558    1\n",
       "89559   -1\n",
       "89560    1\n",
       "89561    1\n",
       "Name: is_outlier, Length: 89562, dtype: int64"
      ]
     },
     "execution_count": 15,
     "metadata": {},
     "output_type": "execute_result"
    }
   ],
   "source": [
    "data_draft['is_outlier']"
   ]
  },
  {
   "cell_type": "code",
   "execution_count": 16,
   "id": "13f383f3-587b-46c6-9671-da7709618a45",
   "metadata": {},
   "outputs": [],
   "source": [
    "data_draft_no_outliers_lof = data_draft[data_draft.is_outlier == 1]\n",
    "data_draft_outliers_lof = data_draft[data_draft.is_outlier == -1]"
   ]
  },
  {
   "cell_type": "code",
   "execution_count": 17,
   "id": "8b6d7fb7-042c-4a49-aaa3-71b331a87932",
   "metadata": {},
   "outputs": [
    {
     "data": {
      "text/plain": [
       "((80605, 40), (8957, 40))"
      ]
     },
     "execution_count": 17,
     "metadata": {},
     "output_type": "execute_result"
    }
   ],
   "source": [
    "data_draft_no_outliers_lof.shape, data_draft_outliers_lof.shape"
   ]
  },
  {
   "cell_type": "markdown",
   "id": "5517312a-38ca-45cb-b69d-b6608ea92163",
   "metadata": {},
   "source": [
    "### isolation forest method"
   ]
  },
  {
   "cell_type": "code",
   "execution_count": 18,
   "id": "1132a801-7465-4c73-a5ae-56f2feae527b",
   "metadata": {},
   "outputs": [],
   "source": [
    "from sklearn.ensemble import IsolationForest\n",
    "\n",
    "isolation_forest = IsolationForest(contamination=0.1)\n",
    "outliers_iso_forest = isolation_forest.fit_predict(data[numerical_columns])"
   ]
  },
  {
   "cell_type": "code",
   "execution_count": 19,
   "id": "44b5c19d-4a96-4141-a6c5-98759a229e3a",
   "metadata": {},
   "outputs": [
    {
     "data": {
      "text/plain": [
       "array([ 1, -1,  1, ...,  1,  1,  1])"
      ]
     },
     "execution_count": 19,
     "metadata": {},
     "output_type": "execute_result"
    }
   ],
   "source": [
    "outliers_iso_forest"
   ]
  },
  {
   "cell_type": "code",
   "execution_count": 20,
   "id": "db5d617b-52e1-41ec-96b5-c65b0cfa4cce",
   "metadata": {},
   "outputs": [],
   "source": [
    "outliers_iso_forest_series = pd.Series(outliers_iso_forest, name='is_outlier')\n",
    "data_draft_isolation = pd.concat([data, outliers_iso_forest_series], axis=1, join='inner')"
   ]
  },
  {
   "cell_type": "code",
   "execution_count": 21,
   "id": "fb585cfd-3a1f-4022-ad82-f3ba46027faf",
   "metadata": {},
   "outputs": [],
   "source": [
    "data_draft_isolation_no_outliers = data_draft_isolation[data_draft_isolation.is_outlier == 1]\n",
    "data_draft_isolation_outliers = data_draft_isolation[data_draft_isolation.is_outlier == 1]"
   ]
  },
  {
   "cell_type": "markdown",
   "id": "98b372c7-adb8-4b5c-9cad-effa323fad72",
   "metadata": {},
   "source": [
    "### Interquartile Range outliers"
   ]
  },
  {
   "cell_type": "code",
   "execution_count": null,
   "id": "128345e2-0840-433f-a4ed-88b83d4b6dbf",
   "metadata": {},
   "outputs": [],
   "source": []
  },
  {
   "cell_type": "code",
   "execution_count": null,
   "id": "ba6e57b3-9a30-4249-89cb-e8d8cb8efa62",
   "metadata": {},
   "outputs": [],
   "source": []
  },
  {
   "cell_type": "markdown",
   "id": "5247bffb-0ce7-4248-8a24-df371a42faec",
   "metadata": {},
   "source": [
    "### visualizing LOF"
   ]
  },
  {
   "cell_type": "code",
   "execution_count": 22,
   "id": "85f8540d-3ece-4dc0-84af-56c9872def1c",
   "metadata": {},
   "outputs": [],
   "source": [
    "from sklearn.decomposition import PCA\n",
    "\n",
    "pca = PCA(n_components=3)\n",
    "data_pca_lof = pca.fit_transform(data_draft[numerical_columns])"
   ]
  },
  {
   "cell_type": "code",
   "execution_count": 23,
   "id": "1bdd161a-375b-450f-b990-ebfae975962e",
   "metadata": {},
   "outputs": [],
   "source": [
    "data_pca_lof_outliers = data_pca_lof[data_draft.loc[data_draft['is_outlier'] == -1].index]\n",
    "data_pca_lof_no_outliers = data_pca_lof[data_draft.loc[data_draft['is_outlier'] == 1].index]"
   ]
  },
  {
   "cell_type": "code",
   "execution_count": 24,
   "id": "7c011e61-73d9-4a97-af24-f4b325021a71",
   "metadata": {},
   "outputs": [
    {
     "data": {
      "text/plain": [
       "array([-7.99001753e+01,  3.09208506e-01, -1.33147636e+01, ...,\n",
       "        1.37911179e+01, -3.94961241e+02,  6.13249331e+01])"
      ]
     },
     "execution_count": 24,
     "metadata": {},
     "output_type": "execute_result"
    }
   ],
   "source": [
    "data_pca_lof_outliers.reshape(3,-1)[0]"
   ]
  },
  {
   "cell_type": "code",
   "execution_count": 25,
   "id": "44b1dc74-56aa-47bd-a2ec-a0a6f994f4fd",
   "metadata": {},
   "outputs": [
    {
     "data": {
      "image/png": "[encoded data removed]",
      "text/plain": [
       "<Figure size 640x480 with 1 Axes>"
      ]
     },
     "metadata": {},
     "output_type": "display_data"
    }
   ],
   "source": [
    "import matplotlib.pyplot as plt\n",
    "from mpl_toolkits.mplot3d import Axes3D\n",
    "\n",
    "fig = plt.figure()\n",
    "ax = fig.add_subplot(111, projection='3d')\n",
    "scatter = ax.scatter(data_pca_lof_outliers.reshape(3,-1)[0],data_pca_lof_outliers.reshape(3,-1)[1],data_pca_lof_outliers.reshape(3,-1)[2], c='r', marker='o')\n",
    "scatter = ax.scatter(data_pca_lof_no_outliers.reshape(3,-1)[0],data_pca_lof_no_outliers.reshape(3,-1)[1],data_pca_lof_no_outliers.reshape(3,-1)[2], c='b', marker='o')\n",
    "\n",
    "ax.set_xlabel('X Label')\n",
    "ax.set_ylabel('Y Label')\n",
    "ax.set_zlabel('Z Label')\n",
    "\n",
    "plt.show()"
   ]
  },
  {
   "cell_type": "markdown",
   "id": "f5a3558e-5f06-48f9-9b9e-48eff1f12a35",
   "metadata": {},
   "source": [
    "### visualizing isolation forest"
   ]
  },
  {
   "cell_type": "code",
   "execution_count": 26,
   "id": "815b975d-2802-4dc8-8127-2764b2e32736",
   "metadata": {},
   "outputs": [],
   "source": [
    "from sklearn.decomposition import PCA\n",
    "\n",
    "pca = PCA(n_components=3)\n",
    "data_pca_isolation = pca.fit_transform(data_draft_isolation[numerical_columns])"
   ]
  },
  {
   "cell_type": "code",
   "execution_count": 27,
   "id": "0fa440a5-ba44-4c35-a1fc-cf770053f29b",
   "metadata": {},
   "outputs": [],
   "source": [
    "data_pca_isolation_outliers = data_pca_isolation[data_draft_isolation.loc[data_draft_isolation['is_outlier'] == -1].index]\n",
    "data_pca_isolation_no_outliers = data_pca_isolation[data_draft_isolation.loc[data_draft_isolation['is_outlier'] == 1].index]"
   ]
  },
  {
   "cell_type": "code",
   "execution_count": 28,
   "id": "2ed63be7-40a2-463a-b224-b1c26e448525",
   "metadata": {},
   "outputs": [
    {
     "data": {
      "text/plain": [
       "(80605, 3)"
      ]
     },
     "execution_count": 28,
     "metadata": {},
     "output_type": "execute_result"
    }
   ],
   "source": [
    "data_pca_isolation_no_outliers.shape"
   ]
  },
  {
   "cell_type": "code",
   "execution_count": 29,
   "id": "2ed41d4a-4b6f-4509-ac7b-0da1f154a173",
   "metadata": {},
   "outputs": [
    {
     "data": {
      "image/png": "[encoded data removed]",
      "text/plain": [
       "<Figure size 640x480 with 1 Axes>"
      ]
     },
     "metadata": {},
     "output_type": "display_data"
    }
   ],
   "source": [
    "import matplotlib.pyplot as plt\n",
    "from mpl_toolkits.mplot3d import Axes3D\n",
    "\n",
    "fig = plt.figure()\n",
    "ax = fig.add_subplot(111, projection='3d')\n",
    "scatter = ax.scatter(data_pca_isolation_no_outliers.reshape(3,-1)[0],data_pca_isolation_no_outliers.reshape(3,-1)[1],data_pca_isolation_no_outliers.reshape(3,-1)[2], c='b', marker='o')\n",
    "scatter = ax.scatter(data_pca_isolation_outliers.reshape(3,-1)[0],data_pca_isolation_outliers.reshape(3,-1)[1],data_pca_isolation_outliers.reshape(3,-1)[2], c='r', marker='o')\n",
    "\n",
    "ax.set_xlabel('X Label')\n",
    "ax.set_ylabel('Y Label')\n",
    "ax.set_zlabel('Z Label')\n",
    "\n",
    "plt.show()"
   ]
  },
  {
   "cell_type": "markdown",
   "id": "6b103170-a06e-4700-b3f8-5e11e5cbcb9c",
   "metadata": {},
   "source": [
    "### imbalanced classification task"
   ]
  },
  {
   "cell_type": "code",
   "execution_count": 30,
   "id": "66dac0be-07a6-40ac-ac8c-daa83bee8b17",
   "metadata": {},
   "outputs": [],
   "source": [
    "data_imbalance = {'feature1': [i for i in range(100)],\n",
    "        'class': [0 for i in range(95)] + [1 for j in range(5)]}"
   ]
  },
  {
   "cell_type": "code",
   "execution_count": 31,
   "id": "c8569e46-532e-453a-99fa-aa3dab45776b",
   "metadata": {},
   "outputs": [
    {
     "data": {
      "text/plain": [
       "[0,\n",
       " 0,\n",
       " 0,\n",
       " 0,\n",
       " 0,\n",
       " 0,\n",
       " 0,\n",
       " 0,\n",
       " 0,\n",
       " 0,\n",
       " 0,\n",
       " 0,\n",
       " 0,\n",
       " 0,\n",
       " 0,\n",
       " 0,\n",
       " 0,\n",
       " 0,\n",
       " 0,\n",
       " 0,\n",
       " 0,\n",
       " 0,\n",
       " 0,\n",
       " 0,\n",
       " 0,\n",
       " 0,\n",
       " 0,\n",
       " 0,\n",
       " 0,\n",
       " 0,\n",
       " 0,\n",
       " 0,\n",
       " 0,\n",
       " 0,\n",
       " 0,\n",
       " 0,\n",
       " 0,\n",
       " 0,\n",
       " 0,\n",
       " 0,\n",
       " 0,\n",
       " 0,\n",
       " 0,\n",
       " 0,\n",
       " 0,\n",
       " 0,\n",
       " 0,\n",
       " 0,\n",
       " 0,\n",
       " 0,\n",
       " 0,\n",
       " 0,\n",
       " 0,\n",
       " 0,\n",
       " 0,\n",
       " 0,\n",
       " 0,\n",
       " 0,\n",
       " 0,\n",
       " 0,\n",
       " 0,\n",
       " 0,\n",
       " 0,\n",
       " 0,\n",
       " 0,\n",
       " 0,\n",
       " 0,\n",
       " 0,\n",
       " 0,\n",
       " 0,\n",
       " 0,\n",
       " 0,\n",
       " 0,\n",
       " 0,\n",
       " 0,\n",
       " 0,\n",
       " 0,\n",
       " 0,\n",
       " 0,\n",
       " 0,\n",
       " 0,\n",
       " 0,\n",
       " 0,\n",
       " 0,\n",
       " 0,\n",
       " 0,\n",
       " 0,\n",
       " 0,\n",
       " 0,\n",
       " 0,\n",
       " 0,\n",
       " 0,\n",
       " 0,\n",
       " 0,\n",
       " 0,\n",
       " 1,\n",
       " 1,\n",
       " 1,\n",
       " 1,\n",
       " 1]"
      ]
     },
     "execution_count": 31,
     "metadata": {},
     "output_type": "execute_result"
    }
   ],
   "source": [
    "data_imbalance['class']"
   ]
  },
  {
   "cell_type": "code",
   "execution_count": 32,
   "id": "4b5bcb0e-60bf-4af1-88c7-8a64198796b4",
   "metadata": {},
   "outputs": [
    {
     "data": {
      "text/html": [
       "<style>#sk-container-id-1 {color: black;}#sk-container-id-1 pre{padding: 0;}#sk-container-id-1 div.sk-toggleable {background-color: white;}#sk-container-id-1 label.sk-toggleable__label {cursor: pointer;display: block;width: 100%;margin-bottom: 0;padding: 0.3em;box-sizing: border-box;text-align: center;}#sk-container-id-1 label.sk-toggleable__label-arrow:before {content: \"▸\";float: left;margin-right: 0.25em;color: #696969;}#sk-container-id-1 label.sk-toggleable__label-arrow:hover:before {color: black;}#sk-container-id-1 div.sk-estimator:hover label.sk-toggleable__label-arrow:before {color: black;}#sk-container-id-1 div.sk-toggleable__content {max-height: 0;max-width: 0;overflow: hidden;text-align: left;background-color: #f0f8ff;}#sk-container-id-1 div.sk-toggleable__content pre {margin: 0.2em;color: black;border-radius: 0.25em;background-color: #f0f8ff;}#sk-container-id-1 input.sk-toggleable__control:checked~div.sk-toggleable__content {max-height: 200px;max-width: 100%;overflow: auto;}#sk-container-id-1 input.sk-toggleable__control:checked~label.sk-toggleable__label-arrow:before {content: \"▾\";}#sk-container-id-1 div.sk-estimator input.sk-toggleable__control:checked~label.sk-toggleable__label {background-color: #d4ebff;}#sk-container-id-1 div.sk-label input.sk-toggleable__control:checked~label.sk-toggleable__label {background-color: #d4ebff;}#sk-container-id-1 input.sk-hidden--visually {border: 0;clip: rect(1px 1px 1px 1px);clip: rect(1px, 1px, 1px, 1px);height: 1px;margin: -1px;overflow: hidden;padding: 0;position: absolute;width: 1px;}#sk-container-id-1 div.sk-estimator {font-family: monospace;background-color: #f0f8ff;border: 1px dotted black;border-radius: 0.25em;box-sizing: border-box;margin-bottom: 0.5em;}#sk-container-id-1 div.sk-estimator:hover {background-color: #d4ebff;}#sk-container-id-1 div.sk-parallel-item::after {content: \"\";width: 100%;border-bottom: 1px solid gray;flex-grow: 1;}#sk-container-id-1 div.sk-label:hover label.sk-toggleable__label {background-color: #d4ebff;}#sk-container-id-1 div.sk-serial::before {content: \"\";position: absolute;border-left: 1px solid gray;box-sizing: border-box;top: 0;bottom: 0;left: 50%;z-index: 0;}#sk-container-id-1 div.sk-serial {display: flex;flex-direction: column;align-items: center;background-color: white;padding-right: 0.2em;padding-left: 0.2em;position: relative;}#sk-container-id-1 div.sk-item {position: relative;z-index: 1;}#sk-container-id-1 div.sk-parallel {display: flex;align-items: stretch;justify-content: center;background-color: white;position: relative;}#sk-container-id-1 div.sk-item::before, #sk-container-id-1 div.sk-parallel-item::before {content: \"\";position: absolute;border-left: 1px solid gray;box-sizing: border-box;top: 0;bottom: 0;left: 50%;z-index: -1;}#sk-container-id-1 div.sk-parallel-item {display: flex;flex-direction: column;z-index: 1;position: relative;background-color: white;}#sk-container-id-1 div.sk-parallel-item:first-child::after {align-self: flex-end;width: 50%;}#sk-container-id-1 div.sk-parallel-item:last-child::after {align-self: flex-start;width: 50%;}#sk-container-id-1 div.sk-parallel-item:only-child::after {width: 0;}#sk-container-id-1 div.sk-dashed-wrapped {border: 1px dashed gray;margin: 0 0.4em 0.5em 0.4em;box-sizing: border-box;padding-bottom: 0.4em;background-color: white;}#sk-container-id-1 div.sk-label label {font-family: monospace;font-weight: bold;display: inline-block;line-height: 1.2em;}#sk-container-id-1 div.sk-label-container {text-align: center;}#sk-container-id-1 div.sk-container {/* jupyter's `normalize.less` sets `[hidden] { display: none; }` but bootstrap.min.css set `[hidden] { display: none !important; }` so we also need the `!important` here to be able to override the default hidden behavior on the sphinx rendered scikit-learn.org. See: https://github.com/scikit-learn/scikit-learn/issues/21755 */display: inline-block !important;position: relative;}#sk-container-id-1 div.sk-text-repr-fallback {display: none;}</style><div id=\"sk-container-id-1\" class=\"sk-top-container\"><div class=\"sk-text-repr-fallback\"><pre>DecisionTreeClassifier()</pre><b>In a Jupyter environment, please rerun this cell to show the HTML representation or trust the notebook. <br />On GitHub, the HTML representation is unable to render, please try loading this page with nbviewer.org.</b></div><div class=\"sk-container\" hidden><div class=\"sk-item\"><div class=\"sk-estimator sk-toggleable\"><input class=\"sk-toggleable__control sk-hidden--visually\" id=\"sk-estimator-id-1\" type=\"checkbox\" checked><label for=\"sk-estimator-id-1\" class=\"sk-toggleable__label sk-toggleable__label-arrow\">DecisionTreeClassifier</label><div class=\"sk-toggleable__content\"><pre>DecisionTreeClassifier()</pre></div></div></div></div></div>"
      ],
      "text/plain": [
       "DecisionTreeClassifier()"
      ]
     },
     "execution_count": 32,
     "metadata": {},
     "output_type": "execute_result"
    }
   ],
   "source": [
    "from sklearn.model_selection import train_test_split\n",
    "from sklearn.tree import DecisionTreeClassifier\n",
    "from sklearn.metrics import accuracy_score\n",
    "\n",
    "X_train, X_test, y_train, y_test = train_test_split(np.array(data_imbalance['feature1']).reshape(-1,1), np.array(data_imbalance['class']).reshape(-1,1), test_size=0.2, random_state=42, shuffle=True)\n",
    "\n",
    "tree = DecisionTreeClassifier()\n",
    "tree.fit(X_train, y_train)"
   ]
  },
  {
   "cell_type": "code",
   "execution_count": 33,
   "id": "9b7cd436-f7a2-4cec-8c8e-186483907a0a",
   "metadata": {},
   "outputs": [],
   "source": [
    "pred = tree.predict(X_test)"
   ]
  },
  {
   "cell_type": "code",
   "execution_count": 34,
   "id": "41bfed45-ea52-46e1-a70e-1c2c3fb47b23",
   "metadata": {},
   "outputs": [
    {
     "name": "stdout",
     "output_type": "stream",
     "text": [
      "Accuracy: 1.0\n"
     ]
    }
   ],
   "source": [
    "accuracy = accuracy_score(y_test, pred)\n",
    "print(\"Accuracy:\", accuracy)"
   ]
  },
  {
   "cell_type": "markdown",
   "id": "276fd287-7635-40bd-8416-971e355f5d54",
   "metadata": {},
   "source": [
    "### oversampling"
   ]
  },
  {
   "cell_type": "code",
   "execution_count": 35,
   "id": "9b5aeca0-76d2-48ad-880c-5940738b5b2d",
   "metadata": {},
   "outputs": [
    {
     "data": {
      "text/plain": [
       "(95, 5)"
      ]
     },
     "execution_count": 35,
     "metadata": {},
     "output_type": "execute_result"
    }
   ],
   "source": [
    "data_imbalance['class'].count(0), data_imbalance['class'].count(1)"
   ]
  },
  {
   "cell_type": "code",
   "execution_count": 36,
   "id": "34c4536d-db63-4155-bb5f-dc50d528f98c",
   "metadata": {},
   "outputs": [],
   "source": [
    "data_imbalance_df = pd.DataFrame(data_imbalance)"
   ]
  },
  {
   "cell_type": "code",
   "execution_count": 37,
   "id": "5c28f3a2-d3d6-4e2b-9480-4e0dd1af69dc",
   "metadata": {},
   "outputs": [],
   "source": [
    "df_majority = data_imbalance_df[data_imbalance_df['class'] == 0]\n",
    "df_minority = data_imbalance_df[data_imbalance_df['class'] == 1]"
   ]
  },
  {
   "cell_type": "code",
   "execution_count": 38,
   "id": "39e2b80d-e677-4fdb-a8ff-83cc7e047944",
   "metadata": {},
   "outputs": [],
   "source": [
    "n_samples_to_add = len(df_majority) - len(df_minority)"
   ]
  },
  {
   "cell_type": "code",
   "execution_count": 39,
   "id": "81f72ccb-f21e-401d-ae02-870903b6bb81",
   "metadata": {},
   "outputs": [
    {
     "name": "stdout",
     "output_type": "stream",
     "text": [
      "Oversampled minority class examples: 90\n"
     ]
    }
   ],
   "source": [
    "df_minority_oversampled = df_minority.sample(n=n_samples_to_add, replace=True, random_state=1)\n",
    "\n",
    "print(\"Oversampled minority class examples:\", len(df_minority_oversampled))"
   ]
  },
  {
   "cell_type": "code",
   "execution_count": 40,
   "id": "c88b7890-5aa8-4c14-817b-8b9568123a3d",
   "metadata": {},
   "outputs": [
    {
     "name": "stdout",
     "output_type": "stream",
     "text": [
      "class\n",
      "1    95\n",
      "0    95\n",
      "Name: count, dtype: int64\n"
     ]
    }
   ],
   "source": [
    "df_oversampled = pd.concat([df_majority, df_minority, df_minority_oversampled])\n",
    "\n",
    "df_oversampled = df_oversampled.sample(frac=1, random_state=42).reset_index(drop=True)\n",
    "\n",
    "print(df_oversampled['class'].value_counts())"
   ]
  },
  {
   "cell_type": "code",
   "execution_count": 41,
   "id": "ecda3166-3265-4974-b76f-6208a49420f7",
   "metadata": {},
   "outputs": [
    {
     "data": {
      "text/html": [
       "<style>#sk-container-id-2 {color: black;}#sk-container-id-2 pre{padding: 0;}#sk-container-id-2 div.sk-toggleable {background-color: white;}#sk-container-id-2 label.sk-toggleable__label {cursor: pointer;display: block;width: 100%;margin-bottom: 0;padding: 0.3em;box-sizing: border-box;text-align: center;}#sk-container-id-2 label.sk-toggleable__label-arrow:before {content: \"▸\";float: left;margin-right: 0.25em;color: #696969;}#sk-container-id-2 label.sk-toggleable__label-arrow:hover:before {color: black;}#sk-container-id-2 div.sk-estimator:hover label.sk-toggleable__label-arrow:before {color: black;}#sk-container-id-2 div.sk-toggleable__content {max-height: 0;max-width: 0;overflow: hidden;text-align: left;background-color: #f0f8ff;}#sk-container-id-2 div.sk-toggleable__content pre {margin: 0.2em;color: black;border-radius: 0.25em;background-color: #f0f8ff;}#sk-container-id-2 input.sk-toggleable__control:checked~div.sk-toggleable__content {max-height: 200px;max-width: 100%;overflow: auto;}#sk-container-id-2 input.sk-toggleable__control:checked~label.sk-toggleable__label-arrow:before {content: \"▾\";}#sk-container-id-2 div.sk-estimator input.sk-toggleable__control:checked~label.sk-toggleable__label {background-color: #d4ebff;}#sk-container-id-2 div.sk-label input.sk-toggleable__control:checked~label.sk-toggleable__label {background-color: #d4ebff;}#sk-container-id-2 input.sk-hidden--visually {border: 0;clip: rect(1px 1px 1px 1px);clip: rect(1px, 1px, 1px, 1px);height: 1px;margin: -1px;overflow: hidden;padding: 0;position: absolute;width: 1px;}#sk-container-id-2 div.sk-estimator {font-family: monospace;background-color: #f0f8ff;border: 1px dotted black;border-radius: 0.25em;box-sizing: border-box;margin-bottom: 0.5em;}#sk-container-id-2 div.sk-estimator:hover {background-color: #d4ebff;}#sk-container-id-2 div.sk-parallel-item::after {content: \"\";width: 100%;border-bottom: 1px solid gray;flex-grow: 1;}#sk-container-id-2 div.sk-label:hover label.sk-toggleable__label {background-color: #d4ebff;}#sk-container-id-2 div.sk-serial::before {content: \"\";position: absolute;border-left: 1px solid gray;box-sizing: border-box;top: 0;bottom: 0;left: 50%;z-index: 0;}#sk-container-id-2 div.sk-serial {display: flex;flex-direction: column;align-items: center;background-color: white;padding-right: 0.2em;padding-left: 0.2em;position: relative;}#sk-container-id-2 div.sk-item {position: relative;z-index: 1;}#sk-container-id-2 div.sk-parallel {display: flex;align-items: stretch;justify-content: center;background-color: white;position: relative;}#sk-container-id-2 div.sk-item::before, #sk-container-id-2 div.sk-parallel-item::before {content: \"\";position: absolute;border-left: 1px solid gray;box-sizing: border-box;top: 0;bottom: 0;left: 50%;z-index: -1;}#sk-container-id-2 div.sk-parallel-item {display: flex;flex-direction: column;z-index: 1;position: relative;background-color: white;}#sk-container-id-2 div.sk-parallel-item:first-child::after {align-self: flex-end;width: 50%;}#sk-container-id-2 div.sk-parallel-item:last-child::after {align-self: flex-start;width: 50%;}#sk-container-id-2 div.sk-parallel-item:only-child::after {width: 0;}#sk-container-id-2 div.sk-dashed-wrapped {border: 1px dashed gray;margin: 0 0.4em 0.5em 0.4em;box-sizing: border-box;padding-bottom: 0.4em;background-color: white;}#sk-container-id-2 div.sk-label label {font-family: monospace;font-weight: bold;display: inline-block;line-height: 1.2em;}#sk-container-id-2 div.sk-label-container {text-align: center;}#sk-container-id-2 div.sk-container {/* jupyter's `normalize.less` sets `[hidden] { display: none; }` but bootstrap.min.css set `[hidden] { display: none !important; }` so we also need the `!important` here to be able to override the default hidden behavior on the sphinx rendered scikit-learn.org. See: https://github.com/scikit-learn/scikit-learn/issues/21755 */display: inline-block !important;position: relative;}#sk-container-id-2 div.sk-text-repr-fallback {display: none;}</style><div id=\"sk-container-id-2\" class=\"sk-top-container\"><div class=\"sk-text-repr-fallback\"><pre>DecisionTreeClassifier()</pre><b>In a Jupyter environment, please rerun this cell to show the HTML representation or trust the notebook. <br />On GitHub, the HTML representation is unable to render, please try loading this page with nbviewer.org.</b></div><div class=\"sk-container\" hidden><div class=\"sk-item\"><div class=\"sk-estimator sk-toggleable\"><input class=\"sk-toggleable__control sk-hidden--visually\" id=\"sk-estimator-id-2\" type=\"checkbox\" checked><label for=\"sk-estimator-id-2\" class=\"sk-toggleable__label sk-toggleable__label-arrow\">DecisionTreeClassifier</label><div class=\"sk-toggleable__content\"><pre>DecisionTreeClassifier()</pre></div></div></div></div></div>"
      ],
      "text/plain": [
       "DecisionTreeClassifier()"
      ]
     },
     "execution_count": 41,
     "metadata": {},
     "output_type": "execute_result"
    }
   ],
   "source": [
    "X_train_over, X_test_over, y_train_over, y_test_over = train_test_split(np.array(df_oversampled['feature1']).reshape(-1,1), np.array(df_oversampled['class']).reshape(-1,1), test_size=0.2, random_state=42, shuffle=True)\n",
    "\n",
    "tree_over = DecisionTreeClassifier()\n",
    "tree_over.fit(X_train_over, y_train_over)"
   ]
  },
  {
   "cell_type": "code",
   "execution_count": 42,
   "id": "649a3eae-2b39-45bc-8a7a-b1fac0b16ce0",
   "metadata": {},
   "outputs": [],
   "source": [
    "pred_over = tree_over.predict(X_test_over)"
   ]
  },
  {
   "cell_type": "code",
   "execution_count": 43,
   "id": "0882414a-3d0a-4613-ad63-ed7cbe1ab2b3",
   "metadata": {},
   "outputs": [
    {
     "name": "stdout",
     "output_type": "stream",
     "text": [
      "Accuracy: 1.0\n"
     ]
    }
   ],
   "source": [
    "accuracy_over = accuracy_score(y_test_over, pred_over)\n",
    "print(\"Accuracy:\", accuracy_over)"
   ]
  },
  {
   "cell_type": "markdown",
   "id": "b8893cd3-7ae5-4a38-b17c-ef9c603485f8",
   "metadata": {},
   "source": [
    "### undersampling"
   ]
  },
  {
   "cell_type": "code",
   "execution_count": 44,
   "id": "6255a3bd-d6d9-4eaa-8faa-eaec9feea01d",
   "metadata": {},
   "outputs": [],
   "source": [
    "n_samples_to_retain = len(df_minority)"
   ]
  },
  {
   "cell_type": "code",
   "execution_count": 45,
   "id": "03babe10-526f-4070-954a-b66992bd560f",
   "metadata": {},
   "outputs": [],
   "source": [
    "df_majority_undersampled = df_majority.sample(n=n_samples_to_retain, random_state=1)"
   ]
  },
  {
   "cell_type": "code",
   "execution_count": 46,
   "id": "9aa90ba2-46c9-41c9-a65d-72c1dacfe781",
   "metadata": {},
   "outputs": [],
   "source": [
    "df_undersampled = pd.concat([df_majority_undersampled, df_minority])"
   ]
  },
  {
   "cell_type": "code",
   "execution_count": 47,
   "id": "5c7bc5a6-0e3a-4189-a295-54c71d08cc66",
   "metadata": {},
   "outputs": [],
   "source": [
    "df_undersampled = df_undersampled.sample(frac=1, random_state=42).reset_index(drop=True)"
   ]
  },
  {
   "cell_type": "code",
   "execution_count": 48,
   "id": "d4823106-58d2-40a8-a4c8-19be8a31a59d",
   "metadata": {},
   "outputs": [
    {
     "data": {
      "text/plain": [
       "class\n",
       "1    5\n",
       "0    5\n",
       "Name: count, dtype: int64"
      ]
     },
     "execution_count": 48,
     "metadata": {},
     "output_type": "execute_result"
    }
   ],
   "source": [
    "df_undersampled['class'].value_counts()"
   ]
  },
  {
   "cell_type": "code",
   "execution_count": 49,
   "id": "ff0ee7a6-e765-4bda-9fe9-a41efd5629ed",
   "metadata": {},
   "outputs": [
    {
     "data": {
      "text/html": [
       "<style>#sk-container-id-3 {color: black;}#sk-container-id-3 pre{padding: 0;}#sk-container-id-3 div.sk-toggleable {background-color: white;}#sk-container-id-3 label.sk-toggleable__label {cursor: pointer;display: block;width: 100%;margin-bottom: 0;padding: 0.3em;box-sizing: border-box;text-align: center;}#sk-container-id-3 label.sk-toggleable__label-arrow:before {content: \"▸\";float: left;margin-right: 0.25em;color: #696969;}#sk-container-id-3 label.sk-toggleable__label-arrow:hover:before {color: black;}#sk-container-id-3 div.sk-estimator:hover label.sk-toggleable__label-arrow:before {color: black;}#sk-container-id-3 div.sk-toggleable__content {max-height: 0;max-width: 0;overflow: hidden;text-align: left;background-color: #f0f8ff;}#sk-container-id-3 div.sk-toggleable__content pre {margin: 0.2em;color: black;border-radius: 0.25em;background-color: #f0f8ff;}#sk-container-id-3 input.sk-toggleable__control:checked~div.sk-toggleable__content {max-height: 200px;max-width: 100%;overflow: auto;}#sk-container-id-3 input.sk-toggleable__control:checked~label.sk-toggleable__label-arrow:before {content: \"▾\";}#sk-container-id-3 div.sk-estimator input.sk-toggleable__control:checked~label.sk-toggleable__label {background-color: #d4ebff;}#sk-container-id-3 div.sk-label input.sk-toggleable__control:checked~label.sk-toggleable__label {background-color: #d4ebff;}#sk-container-id-3 input.sk-hidden--visually {border: 0;clip: rect(1px 1px 1px 1px);clip: rect(1px, 1px, 1px, 1px);height: 1px;margin: -1px;overflow: hidden;padding: 0;position: absolute;width: 1px;}#sk-container-id-3 div.sk-estimator {font-family: monospace;background-color: #f0f8ff;border: 1px dotted black;border-radius: 0.25em;box-sizing: border-box;margin-bottom: 0.5em;}#sk-container-id-3 div.sk-estimator:hover {background-color: #d4ebff;}#sk-container-id-3 div.sk-parallel-item::after {content: \"\";width: 100%;border-bottom: 1px solid gray;flex-grow: 1;}#sk-container-id-3 div.sk-label:hover label.sk-toggleable__label {background-color: #d4ebff;}#sk-container-id-3 div.sk-serial::before {content: \"\";position: absolute;border-left: 1px solid gray;box-sizing: border-box;top: 0;bottom: 0;left: 50%;z-index: 0;}#sk-container-id-3 div.sk-serial {display: flex;flex-direction: column;align-items: center;background-color: white;padding-right: 0.2em;padding-left: 0.2em;position: relative;}#sk-container-id-3 div.sk-item {position: relative;z-index: 1;}#sk-container-id-3 div.sk-parallel {display: flex;align-items: stretch;justify-content: center;background-color: white;position: relative;}#sk-container-id-3 div.sk-item::before, #sk-container-id-3 div.sk-parallel-item::before {content: \"\";position: absolute;border-left: 1px solid gray;box-sizing: border-box;top: 0;bottom: 0;left: 50%;z-index: -1;}#sk-container-id-3 div.sk-parallel-item {display: flex;flex-direction: column;z-index: 1;position: relative;background-color: white;}#sk-container-id-3 div.sk-parallel-item:first-child::after {align-self: flex-end;width: 50%;}#sk-container-id-3 div.sk-parallel-item:last-child::after {align-self: flex-start;width: 50%;}#sk-container-id-3 div.sk-parallel-item:only-child::after {width: 0;}#sk-container-id-3 div.sk-dashed-wrapped {border: 1px dashed gray;margin: 0 0.4em 0.5em 0.4em;box-sizing: border-box;padding-bottom: 0.4em;background-color: white;}#sk-container-id-3 div.sk-label label {font-family: monospace;font-weight: bold;display: inline-block;line-height: 1.2em;}#sk-container-id-3 div.sk-label-container {text-align: center;}#sk-container-id-3 div.sk-container {/* jupyter's `normalize.less` sets `[hidden] { display: none; }` but bootstrap.min.css set `[hidden] { display: none !important; }` so we also need the `!important` here to be able to override the default hidden behavior on the sphinx rendered scikit-learn.org. See: https://github.com/scikit-learn/scikit-learn/issues/21755 */display: inline-block !important;position: relative;}#sk-container-id-3 div.sk-text-repr-fallback {display: none;}</style><div id=\"sk-container-id-3\" class=\"sk-top-container\"><div class=\"sk-text-repr-fallback\"><pre>DecisionTreeClassifier()</pre><b>In a Jupyter environment, please rerun this cell to show the HTML representation or trust the notebook. <br />On GitHub, the HTML representation is unable to render, please try loading this page with nbviewer.org.</b></div><div class=\"sk-container\" hidden><div class=\"sk-item\"><div class=\"sk-estimator sk-toggleable\"><input class=\"sk-toggleable__control sk-hidden--visually\" id=\"sk-estimator-id-3\" type=\"checkbox\" checked><label for=\"sk-estimator-id-3\" class=\"sk-toggleable__label sk-toggleable__label-arrow\">DecisionTreeClassifier</label><div class=\"sk-toggleable__content\"><pre>DecisionTreeClassifier()</pre></div></div></div></div></div>"
      ],
      "text/plain": [
       "DecisionTreeClassifier()"
      ]
     },
     "execution_count": 49,
     "metadata": {},
     "output_type": "execute_result"
    }
   ],
   "source": [
    "X_train_under, X_test_under, y_train_under, y_test_under = train_test_split(np.array(df_undersampled['feature1']).reshape(-1,1), np.array(df_undersampled['class']).reshape(-1,1), test_size=0.2, random_state=42, shuffle=True)\n",
    "\n",
    "tree_under = DecisionTreeClassifier()\n",
    "tree_under.fit(X_train_under, y_train_under)"
   ]
  },
  {
   "cell_type": "code",
   "execution_count": 50,
   "id": "12f788f1-cf10-47e7-b336-8bf4d4f814b2",
   "metadata": {},
   "outputs": [
    {
     "name": "stdout",
     "output_type": "stream",
     "text": [
      "Accuracy: 1.0\n"
     ]
    }
   ],
   "source": [
    "pred_under = tree_under.predict(X_test_under)\n",
    "\n",
    "accuracy_under = accuracy_score(y_test_under, pred_under)\n",
    "print(\"Accuracy:\", accuracy_under)"
   ]
  }
 ],
 "metadata": {
  "kernelspec": {
   "display_name": "Python 3 (ipykernel)",
   "language": "python",
   "name": "python3"
  },
  "language_info": {
   "codemirror_mode": {
    "name": "ipython",
    "version": 3
   },
   "file_extension": ".py",
   "mimetype": "text/x-python",
   "name": "python",
   "nbconvert_exporter": "python",
   "pygments_lexer": "ipython3",
   "version": "3.10.12"
  }
 },
 "nbformat": 4,
 "nbformat_minor": 5
}
