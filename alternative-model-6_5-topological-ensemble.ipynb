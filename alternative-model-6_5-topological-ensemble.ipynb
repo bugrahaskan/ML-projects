{
 "cells": [
  {
   "cell_type": "code",
   "execution_count": 1,
   "id": "884aa32b-3539-4bda-8036-5d208442b089",
   "metadata": {},
   "outputs": [
    {
     "name": "stdout",
     "output_type": "stream",
     "text": [
      "Data imported and copied.\n"
     ]
    }
   ],
   "source": [
    "import pandas as pd\n",
    "\n",
    "data = pd.read_csv('data/^NDX_raw_data.csv')\n",
    "data.rename(columns={'Date': 'date', 'Open':'open', 'High':'high', 'Low':'low', 'Close':'close', 'Volume':'volume'}, inplace=True)\n",
    "\n",
    "data_backup = data.iloc[3524:]\n",
    "\n",
    "data = data.iloc[:3524]\n",
    "data_copy = data.copy()\n",
    "\n",
    "print('Data imported and copied.', flush=True)"
   ]
  },
  {
   "cell_type": "code",
   "execution_count": 2,
   "id": "dd62e994-e7e1-48ef-99d8-12b34e05cda1",
   "metadata": {},
   "outputs": [],
   "source": [
    "import numpy as np\n",
    "\n",
    "## Creating sequences\n",
    "def create_dataset(dataset, time_step=1, output_step=1):\n",
    "    dataX, dataY = [], []\n",
    "    for i in range(len(dataset)-time_step-output_step):\n",
    "        a = dataset[i:(i+time_step), 0]\n",
    "        b = dataset[(i+time_step):(i+time_step)+output_step, 0]\n",
    "        dataX.append(a)\n",
    "        dataY.append(b)\n",
    "\n",
    "    return np.array(dataX), np.array(dataY)\n",
    "\n",
    "period = 60\n",
    "trend_period = 14\n",
    "rsi_period = 14\n",
    "num_features = 1\n",
    "input_period = 60\n",
    "output_step = 7\n",
    "units = 512"
   ]
  },
  {
   "cell_type": "code",
   "execution_count": 3,
   "id": "2eee74ec-0fe8-46a6-939e-b6e780f6235b",
   "metadata": {},
   "outputs": [
    {
     "name": "stdout",
     "output_type": "stream",
     "text": [
      "Initializing the Model for Season...\n"
     ]
    },
    {
     "name": "stderr",
     "output_type": "stream",
     "text": [
      "2024-06-11 07:06:55.946966: I external/local_tsl/tsl/cuda/cudart_stub.cc:31] Could not find cuda drivers on your machine, GPU will not be used.\n",
      "2024-06-11 07:06:56.023468: E external/local_xla/xla/stream_executor/cuda/cuda_dnn.cc:9261] Unable to register cuDNN factory: Attempting to register factory for plugin cuDNN when one has already been registered\n",
      "2024-06-11 07:06:56.023519: E external/local_xla/xla/stream_executor/cuda/cuda_fft.cc:607] Unable to register cuFFT factory: Attempting to register factory for plugin cuFFT when one has already been registered\n",
      "2024-06-11 07:06:56.025997: E external/local_xla/xla/stream_executor/cuda/cuda_blas.cc:1515] Unable to register cuBLAS factory: Attempting to register factory for plugin cuBLAS when one has already been registered\n",
      "2024-06-11 07:06:56.039265: I external/local_tsl/tsl/cuda/cudart_stub.cc:31] Could not find cuda drivers on your machine, GPU will not be used.\n",
      "2024-06-11 07:06:57.859790: W tensorflow/compiler/tf2tensorrt/utils/py_utils.cc:38] TF-TRT Warning: Could not find TensorRT\n"
     ]
    },
    {
     "name": "stdout",
     "output_type": "stream",
     "text": [
      "Model has been initialized.\n"
     ]
    }
   ],
   "source": [
    "print('Initializing the Model for Season...', flush=True)\n",
    "\n",
    "import numpy as np\n",
    "from sklearn.preprocessing import MinMaxScaler, StandardScaler\n",
    "from tensorflow.keras import Input\n",
    "from tensorflow.keras.models import Sequential, Model\n",
    "from tensorflow.keras.layers import Bidirectional, LSTM, Dense, Dropout, Conv1D, AveragePooling1D, Flatten, Reshape, SimpleRNN, GRU, MaxPooling1D, concatenate\n",
    "from tensorflow.keras.callbacks import EarlyStopping, ModelCheckpoint\n",
    "from tensorflow.keras.initializers import Zeros\n",
    "\n",
    "inputs = Input(shape=(input_period, num_features))\n",
    "\n",
    "model_cnn = Sequential([\n",
    "    Conv1D(filters=352, kernel_size=1, activation='relu'),\n",
    "    Conv1D(filters=352, kernel_size=1, activation='relu'),\n",
    "    MaxPooling1D(pool_size=3),\n",
    "    Dense(units=128),\n",
    "    Flatten()\n",
    "    #Dense(units=output_step),\n",
    "    #Reshape((output_step,1))\n",
    "])\n",
    "\n",
    "model_bilstm = Sequential([\n",
    "    Bidirectional(LSTM(units=384, return_sequences=True, activation='tanh', recurrent_activation='sigmoid')),\n",
    "    Dropout(0.2),\n",
    "    Flatten()\n",
    "    #Dense(units=output_step),\n",
    "    #Reshape((output_step,1))\n",
    "])\n",
    "\n",
    "model_bigru = Sequential([\n",
    "    Bidirectional(GRU(units=128, activation='tanh', return_sequences=True)),\n",
    "    Dropout(0.4),\n",
    "    Flatten()\n",
    "])\n",
    "\n",
    "model_multilayer_lstm = Sequential([\n",
    "    LSTM(units=64, return_sequences=True, activation='tanh', recurrent_activation='sigmoid'),\n",
    "    Dropout(0.2),\n",
    "    LSTM(units=64, return_sequences=True, activation='tanh', recurrent_activation='sigmoid'),\n",
    "    Flatten()\n",
    "])\n",
    "\n",
    "output_cnn = model_cnn(inputs)\n",
    "output_bilstm = model_bilstm(inputs)\n",
    "output_bigru = model_bigru(inputs)\n",
    "output_multilayer_lstm = model_multilayer_lstm(inputs)\n",
    "\n",
    "concatenated_outputs = concatenate([output_cnn, output_bilstm, output_bigru, output_multilayer_lstm])\n",
    "\n",
    "main_model = Sequential([\n",
    "    Input(shape=(concatenated_outputs.shape[1],)),\n",
    "    Dense(units=output_step),\n",
    "    Reshape((output_step,1))\n",
    "])\n",
    "\n",
    "final_output = main_model(concatenated_outputs)\n",
    "\n",
    "functional_pipeline_season = Model(inputs=inputs, outputs=final_output)\n",
    "\n",
    "# Compile the pipeline model\n",
    "functional_pipeline_season.compile(optimizer='adam', loss='mean_squared_error', metrics=['accuracy'])\n",
    "\n",
    "print('Model has been initialized.', flush=True)"
   ]
  },
  {
   "cell_type": "code",
   "execution_count": 4,
   "id": "ee95c1b6-1435-442a-b637-2d5b7f750529",
   "metadata": {},
   "outputs": [
    {
     "name": "stdout",
     "output_type": "stream",
     "text": [
      "Initializing the Model for Savitzky-Golay...\n",
      "Model has been initialized.\n"
     ]
    }
   ],
   "source": [
    "print('Initializing the Model for Savitzky-Golay...', flush=True)\n",
    "\n",
    "import numpy as np\n",
    "from sklearn.preprocessing import MinMaxScaler, StandardScaler\n",
    "from tensorflow.keras import Input\n",
    "from tensorflow.keras.models import Sequential, Model\n",
    "from tensorflow.keras.layers import Bidirectional, LSTM, Dense, Dropout, Conv1D, AveragePooling1D, Flatten, Reshape, SimpleRNN, GRU, MaxPooling1D, concatenate\n",
    "from tensorflow.keras.callbacks import EarlyStopping, ModelCheckpoint\n",
    "from tensorflow.keras.initializers import Zeros\n",
    "\n",
    "inputs = Input(shape=(input_period, num_features))\n",
    "\n",
    "model_cnn = Sequential([\n",
    "    Conv1D(filters=352, kernel_size=1, activation='relu'),\n",
    "    Conv1D(filters=352, kernel_size=1, activation='relu'),\n",
    "    MaxPooling1D(pool_size=3),\n",
    "    Dense(units=128),\n",
    "    Flatten()\n",
    "    #Dense(units=output_step),\n",
    "    #Reshape((output_step,1))\n",
    "])\n",
    "\n",
    "model_bilstm = Sequential([\n",
    "    Bidirectional(LSTM(units=384, return_sequences=True, activation='tanh', recurrent_activation='sigmoid')),\n",
    "    Dropout(0.2),\n",
    "    Flatten()\n",
    "    #Dense(units=output_step),\n",
    "    #Reshape((output_step,1))\n",
    "])\n",
    "\n",
    "model_bigru = Sequential([\n",
    "    Bidirectional(GRU(units=128, activation='tanh', return_sequences=True)),\n",
    "    Dropout(0.4),\n",
    "    Flatten()\n",
    "])\n",
    "\n",
    "model_multilayer_lstm = Sequential([\n",
    "    LSTM(units=64, return_sequences=True, activation='tanh', recurrent_activation='sigmoid'),\n",
    "    Dropout(0.2),\n",
    "    LSTM(units=64, return_sequences=True, activation='tanh', recurrent_activation='sigmoid'),\n",
    "    Flatten()\n",
    "])\n",
    "\n",
    "output_cnn = model_cnn(inputs)\n",
    "output_bilstm = model_bilstm(inputs)\n",
    "output_bigru = model_bigru(inputs)\n",
    "output_multilayer_lstm = model_multilayer_lstm(inputs)\n",
    "\n",
    "concatenated_outputs = concatenate([output_cnn, output_bilstm, output_bigru, output_multilayer_lstm])\n",
    "\n",
    "main_model = Sequential([\n",
    "    Input(shape=(concatenated_outputs.shape[1],)),\n",
    "    Dense(units=output_step),\n",
    "    Reshape((output_step,1))\n",
    "])\n",
    "\n",
    "final_output = main_model(concatenated_outputs)\n",
    "\n",
    "functional_pipeline_savgol = Model(inputs=inputs, outputs=final_output)\n",
    "\n",
    "# Compile the pipeline model\n",
    "functional_pipeline_savgol.compile(optimizer='adam', loss='mean_squared_error', metrics=['accuracy'])\n",
    "\n",
    "print('Model has been initialized.', flush=True)"
   ]
  },
  {
   "cell_type": "code",
   "execution_count": 5,
   "id": "ddfc4dac-7b3b-4206-9a47-ddf791d919f3",
   "metadata": {},
   "outputs": [
    {
     "name": "stdout",
     "output_type": "stream",
     "text": [
      "Backup: Savitzky-Golay Weigths for the best epoch has been loaded.\n"
     ]
    }
   ],
   "source": [
    "best_epoch_backup_savgol = 68\n",
    "\n",
    "# Load the weights of the model at the chosen epoch\n",
    "functional_pipeline_savgol.load_weights(f'model_weights_6_5_topological_trend/model_weights_epoch_{best_epoch_backup_savgol:02d}.h5')\n",
    "print('Backup: Savitzky-Golay Weigths for the best epoch has been loaded.')"
   ]
  },
  {
   "cell_type": "code",
   "execution_count": 6,
   "id": "3a582006-1c9b-4d6b-8e8f-e6d8176c406c",
   "metadata": {},
   "outputs": [
    {
     "name": "stdout",
     "output_type": "stream",
     "text": [
      "Backup: Season Weigths for the best epoch has been loaded.\n"
     ]
    }
   ],
   "source": [
    "best_epoch_backup_season = 30\n",
    "\n",
    "# Load the weights of the model at the chosen epoch\n",
    "functional_pipeline_season.load_weights(f'model_weights_6_5_topological/model_weights_epoch_{best_epoch_backup_season:02d}.h5')\n",
    "print('Backup: Season Weigths for the best epoch has been loaded.')"
   ]
  },
  {
   "cell_type": "markdown",
   "id": "97355091-117a-412e-95cd-c156af5a2400",
   "metadata": {},
   "source": [
    "## data testing"
   ]
  },
  {
   "cell_type": "code",
   "execution_count": 7,
   "id": "4d5eaf5f-5829-4a86-a3fa-7675c905eef4",
   "metadata": {},
   "outputs": [],
   "source": [
    "data_backup = pd.read_csv('data/^NDX_raw_data.csv')\n",
    "data_backup.rename(columns={'Date': 'date', 'Open':'open', 'High':'high', 'Low':'low', 'Close':'close', 'Volume':'volume'}, inplace=True)\n",
    "\n",
    "data_backup_copy = data_backup.copy()"
   ]
  },
  {
   "cell_type": "code",
   "execution_count": 8,
   "id": "5aa4a45d-4898-4b56-a07b-c7eaf2673dde",
   "metadata": {},
   "outputs": [],
   "source": [
    "X_test, y_test = create_dataset(data_backup[['close']].to_numpy(), time_step=period, output_step=output_step)"
   ]
  },
  {
   "cell_type": "code",
   "execution_count": 9,
   "id": "d1daf5eb-afc3-4c5d-8da7-f8bcc02c37ec",
   "metadata": {},
   "outputs": [],
   "source": [
    "from statsmodels.tsa.seasonal import seasonal_decompose\n",
    "\n",
    "decompositions_test = np.array([seasonal_decompose(X_test[i], model='additive', period=14) for i in range(X_test.shape[0])])\n",
    "seasons_test = np.array([decompositions_test[i].seasonal for i in range(decompositions_test.shape[0])])"
   ]
  },
  {
   "cell_type": "code",
   "execution_count": 10,
   "id": "01581b52-1641-48f5-8cf7-115f1e455ada",
   "metadata": {},
   "outputs": [],
   "source": [
    "from scipy.signal import savgol_filter\n",
    "\n",
    "# Apply Savitzky-Golay filter\n",
    "window_length = 17  # Window length (must be odd)\n",
    "polyorder = 1      # Polynomial order\n",
    "\n",
    "data_savgol_test = savgol_filter(X_test, window_length, polyorder)"
   ]
  },
  {
   "cell_type": "code",
   "execution_count": 11,
   "id": "cb59a0f5-61f3-4c28-8e52-a9d959eb059e",
   "metadata": {},
   "outputs": [],
   "source": [
    "savgol_cropped_test = list()\n",
    "\n",
    "# NO NEED TO CROP\n",
    "for _savgol in data_savgol_test:\n",
    "    savgol_cropped_test.append(_savgol)\n",
    "\n",
    "savgol_cropped_test = np.array(savgol_cropped_test)\n",
    "\n",
    "from sklearn.preprocessing import MinMaxScaler\n",
    "\n",
    "scaler_savgol_test = list(MinMaxScaler() for i in range(savgol_cropped_test.shape[0]))\n",
    "savgol_scaled_test = list()\n",
    "\n",
    "for i in range(savgol_cropped_test.shape[0]):\n",
    "    savgol_scaled_test.append(scaler_savgol_test[i].fit_transform(savgol_cropped_test[i].reshape(-1,1)))\n",
    "\n",
    "savgol_scaled_test = np.array(savgol_scaled_test)\n",
    "\n",
    "X_input_savgol_test = list()\n",
    "#y_input = list()\n",
    "\n",
    "for savgol in savgol_scaled_test:\n",
    "    X_input_savgol_test.append(savgol)\n",
    "    #y_input.append(savgol[-y.shape[1]:])\n",
    "\n",
    "X_input_savgol_test = np.array(X_input_savgol_test)\n",
    "#y_input = np.array(y_input)"
   ]
  },
  {
   "cell_type": "code",
   "execution_count": 12,
   "id": "437aed56-c419-439d-89be-4ba75a574965",
   "metadata": {},
   "outputs": [],
   "source": [
    "seasons_cropped_test = list()\n",
    "\n",
    "for _season in seasons_test:\n",
    "    seasons_cropped_test.append(_season)\n",
    "\n",
    "seasons_cropped_test = np.array(seasons_cropped_test)\n",
    "\n",
    "from sklearn.preprocessing import MinMaxScaler\n",
    "\n",
    "scaler_seasonal_test = list(MinMaxScaler() for i in range(seasons_cropped_test.shape[0]))\n",
    "seasons_scaled_test = list()\n",
    "\n",
    "for i in range(seasons_cropped_test.shape[0]):\n",
    "    seasons_scaled_test.append(scaler_seasonal_test[i].fit_transform(seasons_cropped_test[i].reshape(-1,1)))\n",
    "\n",
    "seasons_scaled_test = np.array(seasons_scaled_test)\n",
    "\n",
    "X_input_season_test = list()\n",
    "#y_input = list()\n",
    "\n",
    "for season in seasons_scaled_test:\n",
    "    X_input_season_test.append(season)\n",
    "    #y_input.append(lowess[-y.shape[1]:])\n",
    "\n",
    "X_input_season_test = np.array(X_input_season_test)\n",
    "#y_input = np.array(y_input)"
   ]
  },
  {
   "cell_type": "code",
   "execution_count": 13,
   "id": "cf32400b-b8bb-4df8-a2bf-bc961fc15dec",
   "metadata": {},
   "outputs": [
    {
     "data": {
      "text/plain": [
       "((4966, 60, 1), (4966, 60, 1))"
      ]
     },
     "execution_count": 13,
     "metadata": {},
     "output_type": "execute_result"
    }
   ],
   "source": [
    "X_input_savgol_test.shape, X_input_season_test.shape"
   ]
  },
  {
   "cell_type": "code",
   "execution_count": 14,
   "id": "7e78f653-ae4f-4c9c-831e-26ff8b1fa08a",
   "metadata": {},
   "outputs": [
    {
     "name": "stdout",
     "output_type": "stream",
     "text": [
      "100\n",
      "200\n",
      "300\n",
      "400\n",
      "500\n",
      "600\n",
      "700\n",
      "800\n",
      "900\n",
      "1000\n",
      "1100\n",
      "1200\n",
      "1300\n",
      "1400\n",
      "1500\n",
      "1600\n",
      "1700\n",
      "1800\n",
      "1900\n",
      "2000\n",
      "2100\n",
      "2200\n",
      "2300\n",
      "2400\n",
      "2500\n",
      "2600\n",
      "2700\n",
      "2800\n",
      "2900\n",
      "3000\n",
      "3100\n",
      "3200\n",
      "3300\n",
      "3400\n",
      "3500\n",
      "3600\n",
      "3700\n",
      "3800\n",
      "3900\n",
      "4000\n",
      "4100\n",
      "4200\n",
      "4300\n",
      "4400\n",
      "4500\n",
      "4600\n",
      "4700\n",
      "4800\n",
      "4900\n"
     ]
    }
   ],
   "source": [
    "savgol_predictions_test = list()\n",
    "season_predictions_test = list()\n",
    "\n",
    "for j in range(X_input_savgol_test.shape[0]):\n",
    "    if (j+1) % 100 == 0:\n",
    "        print(j+1)\n",
    "        \n",
    "    savgol_predictions_test.append(\n",
    "        scaler_savgol_test[j].inverse_transform(\n",
    "            functional_pipeline_savgol.predict(X_input_savgol_test[j].reshape(savgol_scaled_test[j].shape[1], input_period, num_features), verbose=0)[0].reshape(1,output_step)\n",
    "        )\n",
    "    )\n",
    "\n",
    "    season_predictions_test.append(\n",
    "        scaler_seasonal_test[j].inverse_transform(\n",
    "            functional_pipeline_season.predict(X_input_season_test[j].reshape(seasons_scaled_test[j].shape[1], input_period, num_features), verbose=0)[0].reshape(1,output_step)\n",
    "        )\n",
    "    )\n",
    "\n",
    "savgol_predictions_test = np.array(savgol_predictions_test)\n",
    "season_predictions_test = np.array(season_predictions_test)"
   ]
  },
  {
   "cell_type": "code",
   "execution_count": 15,
   "id": "a2485359-3d97-43ae-96fb-59d902c0b1d0",
   "metadata": {},
   "outputs": [],
   "source": [
    "noise_high, _ = create_dataset(data_backup[['high']].to_numpy(), time_step=period, output_step=output_step)\n",
    "noise_low, _ = create_dataset(data_backup[['low']].to_numpy(), time_step=period, output_step=output_step)\n",
    "\n",
    "std_dev_high = np.array([np.std(val) for val in noise_high])\n",
    "std_dev_low = np.array([np.std(val) for val in noise_low])\n",
    "\n",
    "std_dev_noise = np.array([np.maximum(val_high, val_low) for val_high, val_low in zip(std_dev_high, std_dev_low)])"
   ]
  },
  {
   "cell_type": "code",
   "execution_count": 16,
   "id": "0a465ae1-789a-4579-b6ae-a558a8328309",
   "metadata": {},
   "outputs": [],
   "source": [
    "observation = pd.Series([\n",
    "    savgol_predictions_test[i] + 3*season_predictions_test[i] for i in range(savgol_predictions_test.shape[0])\n",
    "], index=data_backup.index[period:-output_step])"
   ]
  },
  {
   "cell_type": "code",
   "execution_count": 17,
   "id": "6d75c9b0-208f-4bad-a730-aa98bcd5d996",
   "metadata": {},
   "outputs": [],
   "source": [
    "from sklearn.linear_model import LinearRegression\n",
    "from sklearn.preprocessing import MinMaxScaler\n",
    "\n",
    "pred_reg = list()\n",
    "\n",
    "scaler_x_reg, scaler_y_reg = MinMaxScaler(), MinMaxScaler()\n",
    "model_reg = LinearRegression()\n",
    "\n",
    "for i in observation.index:\n",
    "    X_reg = np.array([ t for t in range(i, i+output_step) ])\n",
    "    X_reg_norm = scaler_x_reg.fit_transform(X_reg.reshape(-1,1))\n",
    "\n",
    "    y_reg = observation[i][0]\n",
    "    y_reg_norm = scaler_y_reg.fit_transform(y_reg.reshape(-1,1))\n",
    "\n",
    "    model_reg.fit(X_reg_norm, y_reg_norm)\n",
    "\n",
    "    pred_reg.append(model_reg.coef_[0][0])\n",
    "\n",
    "pred_reg = np.array(pred_reg)"
   ]
  },
  {
   "cell_type": "code",
   "execution_count": 18,
   "id": "abe8eeff-637c-4bc8-9f67-33d03f5fbdfa",
   "metadata": {},
   "outputs": [
    {
     "data": {
      "text/plain": [
       "((4966,), RangeIndex(start=60, stop=5026, step=1))"
      ]
     },
     "execution_count": 18,
     "metadata": {},
     "output_type": "execute_result"
    }
   ],
   "source": [
    "pred_reg.shape, observation.index"
   ]
  },
  {
   "cell_type": "code",
   "execution_count": 23,
   "id": "6d8a5fed-f53e-4cac-a89a-3a47fe13b669",
   "metadata": {},
   "outputs": [],
   "source": [
    "x_grad = np.array([ t for t in observation.index ])\n",
    "\n",
    "# Calculate the numerical derivative (dy/dx)\n",
    "dy_dx = np.gradient(pred_reg, x_grad)"
   ]
  },
  {
   "cell_type": "code",
   "execution_count": 34,
   "id": "64efde50-da2d-41f4-a694-5ac171ef2354",
   "metadata": {},
   "outputs": [
    {
     "data": {
      "text/plain": [
       "array([ 0.35309029,  0.13837951, -0.06212323, ...,  0.16902556,\n",
       "        0.41011006,  0.56459958])"
      ]
     },
     "execution_count": 34,
     "metadata": {},
     "output_type": "execute_result"
    }
   ],
   "source": [
    "dy_dx"
   ]
  },
  {
   "cell_type": "code",
   "execution_count": 26,
   "id": "907a5b30-4ef5-4eb1-89ff-c0e987c90715",
   "metadata": {},
   "outputs": [],
   "source": [
    "# Identify points where the slope changes sign\n",
    "sign_changes = np.where(np.diff(np.sign(dy_dx)))[0]"
   ]
  },
  {
   "cell_type": "code",
   "execution_count": 28,
   "id": "39544afa-a3ea-4437-b301-ac01ec581723",
   "metadata": {},
   "outputs": [
    {
     "data": {
      "text/plain": [
       "(1284,)"
      ]
     },
     "execution_count": 28,
     "metadata": {},
     "output_type": "execute_result"
    }
   ],
   "source": [
    "sign_changes.shape"
   ]
  },
  {
   "cell_type": "code",
   "execution_count": 29,
   "id": "9c27f617-ae78-42fd-b270-d8d953ecec22",
   "metadata": {},
   "outputs": [],
   "source": [
    "# Identify points where the slope changes from negative to positive\n",
    "neg_to_pos = np.where((np.diff(np.sign(dy_dx)) > 0))[0]"
   ]
  },
  {
   "cell_type": "code",
   "execution_count": 33,
   "id": "461d80ca-6a26-47f3-8925-eb0fb143fdd3",
   "metadata": {},
   "outputs": [
    {
     "data": {
      "text/plain": [
       "array([  10,   19,   23,   31,   45,   52,   58,   66,   76,   82,   89,\n",
       "         97,  101,  103,  111,  115,  117,  127,  142,  144,  156,  159,\n",
       "        166,  173,  178,  187,  193,  200,  204,  215,  229,  242,  249,\n",
       "        256,  263,  271,  284,  292,  295,  301,  308,  315,  321,  335,\n",
       "        341,  351,  355,  363,  370,  379,  393,  408,  416,  423,  437,\n",
       "        444,  451,  465,  475,  479,  489,  493,  506,  508,  523,  535,\n",
       "        544,  548,  558,  562,  574,  585,  594,  601,  615,  621,  628,\n",
       "        632,  641,  647,  654,  662,  666,  680,  691,  694,  697,  705,\n",
       "        715,  722,  729,  742,  757,  761,  764,  771,  778,  786,  790,\n",
       "        805,  812,  824,  830,  840,  842,  845,  854,  860,  874,  880,\n",
       "        889,  894,  897,  902,  904,  915,  919,  929,  935,  944,  947,\n",
       "        957,  970,  981,  986,  994,  999, 1007, 1014, 1021, 1027, 1035,\n",
       "       1042, 1052, 1066, 1073, 1077, 1080, 1088, 1094, 1101, 1104, 1108,\n",
       "       1116, 1126, 1128, 1133, 1140, 1143, 1148, 1154, 1161, 1173, 1188,\n",
       "       1196, 1201, 1215, 1220, 1229, 1236, 1242, 1247, 1250, 1255, 1265,\n",
       "       1276, 1280, 1288, 1290, 1294, 1303, 1308, 1310, 1314, 1320, 1324,\n",
       "       1335, 1349, 1363, 1377, 1390, 1398, 1404, 1411, 1417, 1427, 1432,\n",
       "       1444, 1460, 1473, 1486, 1493, 1500, 1502, 1509, 1513, 1523, 1538,\n",
       "       1544, 1554, 1558, 1568, 1572, 1581, 1595, 1610, 1624, 1631, 1639,\n",
       "       1648, 1652, 1662, 1667, 1677, 1679, 1691, 1694, 1702, 1709, 1716,\n",
       "       1723, 1730, 1738, 1746, 1754, 1759, 1775, 1789, 1792, 1798, 1807,\n",
       "       1810, 1819, 1824, 1832, 1838, 1845, 1856, 1860, 1871, 1885, 1891,\n",
       "       1899, 1914, 1923, 1928, 1937, 1942, 1950, 1964, 1979, 1990, 1993,\n",
       "       1997, 2007, 2015, 2021, 2023, 2033, 2041, 2048, 2051, 2058, 2061,\n",
       "       2066, 2068, 2076, 2083, 2090, 2097, 2105, 2111, 2119, 2125, 2132,\n",
       "       2139, 2146, 2151, 2160, 2167, 2174, 2180, 2195, 2203, 2210, 2224,\n",
       "       2232, 2238, 2247, 2249, 2261, 2263, 2277, 2288, 2301, 2307, 2314,\n",
       "       2327, 2333, 2340, 2347, 2354, 2362, 2366, 2372, 2380, 2394, 2398,\n",
       "       2407, 2413, 2420, 2427, 2432, 2435, 2437, 2449, 2452, 2466, 2473,\n",
       "       2482, 2489, 2497, 2512, 2524, 2530, 2536, 2540, 2545, 2551, 2559,\n",
       "       2565, 2572, 2579, 2587, 2595, 2597, 2599, 2609, 2611, 2625, 2628,\n",
       "       2641, 2656, 2663, 2671, 2677, 2691, 2696, 2704, 2719, 2727, 2733,\n",
       "       2740, 2748, 2755, 2764, 2778, 2790, 2803, 2816, 2828, 2840, 2859,\n",
       "       2872, 2879, 2886, 2893, 2900, 2905, 2914, 2919, 2929, 2932, 2940,\n",
       "       2946, 2956, 2962, 2971, 2975, 2985, 2993, 3007, 3015, 3021, 3035,\n",
       "       3038, 3042, 3049, 3063, 3078, 3091, 3105, 3110, 3118, 3126, 3132,\n",
       "       3137, 3144, 3151, 3158, 3163, 3167, 3170, 3181, 3188, 3195, 3203,\n",
       "       3210, 3216, 3224, 3230, 3235, 3243, 3258, 3261, 3271, 3275, 3290,\n",
       "       3299, 3305, 3317, 3325, 3331, 3345, 3352, 3359, 3374, 3387, 3394,\n",
       "       3401, 3407, 3415, 3420, 3426, 3434, 3440, 3447, 3453, 3461, 3468,\n",
       "       3482, 3497, 3511, 3524, 3527, 3534, 3541, 3549, 3551, 3555, 3559,\n",
       "       3565, 3569, 3579, 3584, 3595, 3610, 3618, 3624, 3631, 3644, 3658,\n",
       "       3668, 3670, 3680, 3692, 3707, 3720, 3727, 3734, 3738, 3745, 3748,\n",
       "       3752, 3754, 3759, 3766, 3780, 3795, 3807, 3810, 3821, 3824, 3838,\n",
       "       3841, 3852, 3855, 3865, 3872, 3882, 3886, 3893, 3900, 3907, 3914,\n",
       "       3920, 3927, 3934, 3941, 3948, 3955, 3962, 3970, 3976, 3984, 3991,\n",
       "       3994, 3999, 4005, 4012, 4023, 4026, 4039, 4052, 4058, 4067, 4074,\n",
       "       4080, 4088, 4097, 4101, 4110, 4117, 4125, 4128, 4135, 4142, 4148,\n",
       "       4159, 4162, 4170, 4177, 4183, 4197, 4208, 4213, 4223, 4228, 4237,\n",
       "       4244, 4261, 4264, 4268, 4272, 4275, 4279, 4282, 4286, 4290, 4297,\n",
       "       4299, 4310, 4313, 4322, 4325, 4331, 4338, 4345, 4352, 4359, 4363,\n",
       "       4373, 4376, 4386, 4394, 4400, 4407, 4415, 4422, 4430, 4438, 4445,\n",
       "       4452, 4459, 4473, 4484, 4495, 4510, 4524, 4538, 4541, 4544, 4551,\n",
       "       4558, 4562, 4565, 4570, 4576, 4587, 4591, 4597, 4605, 4612, 4619,\n",
       "       4626, 4633, 4640, 4647, 4657, 4660, 4667, 4675, 4689, 4703, 4716,\n",
       "       4721, 4730, 4735, 4743, 4750, 4757, 4764, 4767, 4771, 4778, 4785,\n",
       "       4788, 4792, 4799, 4806, 4813, 4816, 4822, 4830, 4837, 4843, 4850,\n",
       "       4857, 4860, 4868, 4870, 4881, 4885, 4895, 4902, 4911, 4914, 4922,\n",
       "       4930, 4949, 4953, 4962])"
      ]
     },
     "execution_count": 33,
     "metadata": {},
     "output_type": "execute_result"
    }
   ],
   "source": [
    "neg_to_pos"
   ]
  },
  {
   "cell_type": "code",
   "execution_count": 35,
   "id": "e3781973-70df-4eab-b84e-85c7d7b99056",
   "metadata": {},
   "outputs": [
    {
     "data": {
      "text/plain": [
       "array([ 0.35309029,  0.13837951, -0.06212323, ...,  0.16902556,\n",
       "        0.41011006,  0.56459958])"
      ]
     },
     "execution_count": 35,
     "metadata": {},
     "output_type": "execute_result"
    }
   ],
   "source": [
    "dy_dx"
   ]
  },
  {
   "cell_type": "code",
   "execution_count": 42,
   "id": "1fe806ce-3145-4283-b292-50e295261341",
   "metadata": {},
   "outputs": [
    {
     "data": {
      "text/plain": [
       "array([ 1.,  1., -1., -1., -1., -1., -1., -1., -1., -1., -1.,  1.,  1.,\n",
       "        1.,  1., -1., -1., -1., -1., -1.])"
      ]
     },
     "execution_count": 42,
     "metadata": {},
     "output_type": "execute_result"
    }
   ],
   "source": [
    "np.sign(dy_dx[:20])"
   ]
  },
  {
   "cell_type": "code",
   "execution_count": 43,
   "id": "29da6745-998c-48b1-9bab-04f3870a7dfb",
   "metadata": {},
   "outputs": [
    {
     "data": {
      "text/plain": [
       "array([ 0., -2.,  0.,  0.,  0.,  0.,  0.,  0.,  0.,  0.,  2.,  0.,  0.,\n",
       "        0., -2.,  0.,  0.,  0.,  0.])"
      ]
     },
     "execution_count": 43,
     "metadata": {},
     "output_type": "execute_result"
    }
   ],
   "source": [
    "np.diff(np.sign(dy_dx[:20]))"
   ]
  },
  {
   "cell_type": "code",
   "execution_count": 45,
   "id": "c9070a6d-c45c-4f10-bc2e-bd81d809b6ec",
   "metadata": {},
   "outputs": [
    {
     "data": {
      "text/plain": [
       "array([  10,   19,   23,   31,   45,   52,   58,   66,   76,   82,   89,\n",
       "         97,  101,  103,  111,  115,  117,  127,  142,  144,  156,  159,\n",
       "        166,  173,  178,  187,  193,  200,  204,  215,  229,  242,  249,\n",
       "        256,  263,  271,  284,  292,  295,  301,  308,  315,  321,  335,\n",
       "        341,  351,  355,  363,  370,  379,  393,  408,  416,  423,  437,\n",
       "        444,  451,  465,  475,  479,  489,  493,  506,  508,  523,  535,\n",
       "        544,  548,  558,  562,  574,  585,  594,  601,  615,  621,  628,\n",
       "        632,  641,  647,  654,  662,  666,  680,  691,  694,  697,  705,\n",
       "        715,  722,  729,  742,  757,  761,  764,  771,  778,  786,  790,\n",
       "        805,  812,  824,  830,  840,  842,  845,  854,  860,  874,  880,\n",
       "        889,  894,  897,  902,  904,  915,  919,  929,  935,  944,  947,\n",
       "        957,  970,  981,  986,  994,  999, 1007, 1014, 1021, 1027, 1035,\n",
       "       1042, 1052, 1066, 1073, 1077, 1080, 1088, 1094, 1101, 1104, 1108,\n",
       "       1116, 1126, 1128, 1133, 1140, 1143, 1148, 1154, 1161, 1173, 1188,\n",
       "       1196, 1201, 1215, 1220, 1229, 1236, 1242, 1247, 1250, 1255, 1265,\n",
       "       1276, 1280, 1288, 1290, 1294, 1303, 1308, 1310, 1314, 1320, 1324,\n",
       "       1335, 1349, 1363, 1377, 1390, 1398, 1404, 1411, 1417, 1427, 1432,\n",
       "       1444, 1460, 1473, 1486, 1493, 1500, 1502, 1509, 1513, 1523, 1538,\n",
       "       1544, 1554, 1558, 1568, 1572, 1581, 1595, 1610, 1624, 1631, 1639,\n",
       "       1648, 1652, 1662, 1667, 1677, 1679, 1691, 1694, 1702, 1709, 1716,\n",
       "       1723, 1730, 1738, 1746, 1754, 1759, 1775, 1789, 1792, 1798, 1807,\n",
       "       1810, 1819, 1824, 1832, 1838, 1845, 1856, 1860, 1871, 1885, 1891,\n",
       "       1899, 1914, 1923, 1928, 1937, 1942, 1950, 1964, 1979, 1990, 1993,\n",
       "       1997, 2007, 2015, 2021, 2023, 2033, 2041, 2048, 2051, 2058, 2061,\n",
       "       2066, 2068, 2076, 2083, 2090, 2097, 2105, 2111, 2119, 2125, 2132,\n",
       "       2139, 2146, 2151, 2160, 2167, 2174, 2180, 2195, 2203, 2210, 2224,\n",
       "       2232, 2238, 2247, 2249, 2261, 2263, 2277, 2288, 2301, 2307, 2314,\n",
       "       2327, 2333, 2340, 2347, 2354, 2362, 2366, 2372, 2380, 2394, 2398,\n",
       "       2407, 2413, 2420, 2427, 2432, 2435, 2437, 2449, 2452, 2466, 2473,\n",
       "       2482, 2489, 2497, 2512, 2524, 2530, 2536, 2540, 2545, 2551, 2559,\n",
       "       2565, 2572, 2579, 2587, 2595, 2597, 2599, 2609, 2611, 2625, 2628,\n",
       "       2641, 2656, 2663, 2671, 2677, 2691, 2696, 2704, 2719, 2727, 2733,\n",
       "       2740, 2748, 2755, 2764, 2778, 2790, 2803, 2816, 2828, 2840, 2859,\n",
       "       2872, 2879, 2886, 2893, 2900, 2905, 2914, 2919, 2929, 2932, 2940,\n",
       "       2946, 2956, 2962, 2971, 2975, 2985, 2993, 3007, 3015, 3021, 3035,\n",
       "       3038, 3042, 3049, 3063, 3078, 3091, 3105, 3110, 3118, 3126, 3132,\n",
       "       3137, 3144, 3151, 3158, 3163, 3167, 3170, 3181, 3188, 3195, 3203,\n",
       "       3210, 3216, 3224, 3230, 3235, 3243, 3258, 3261, 3271, 3275, 3290,\n",
       "       3299, 3305, 3317, 3325, 3331, 3345, 3352, 3359, 3374, 3387, 3394,\n",
       "       3401, 3407, 3415, 3420, 3426, 3434, 3440, 3447, 3453, 3461, 3468,\n",
       "       3482, 3497, 3511, 3524, 3527, 3534, 3541, 3549, 3551, 3555, 3559,\n",
       "       3565, 3569, 3579, 3584, 3595, 3610, 3618, 3624, 3631, 3644, 3658,\n",
       "       3668, 3670, 3680, 3692, 3707, 3720, 3727, 3734, 3738, 3745, 3748,\n",
       "       3752, 3754, 3759, 3766, 3780, 3795, 3807, 3810, 3821, 3824, 3838,\n",
       "       3841, 3852, 3855, 3865, 3872, 3882, 3886, 3893, 3900, 3907, 3914,\n",
       "       3920, 3927, 3934, 3941, 3948, 3955, 3962, 3970, 3976, 3984, 3991,\n",
       "       3994, 3999, 4005, 4012, 4023, 4026, 4039, 4052, 4058, 4067, 4074,\n",
       "       4080, 4088, 4097, 4101, 4110, 4117, 4125, 4128, 4135, 4142, 4148,\n",
       "       4159, 4162, 4170, 4177, 4183, 4197, 4208, 4213, 4223, 4228, 4237,\n",
       "       4244, 4261, 4264, 4268, 4272, 4275, 4279, 4282, 4286, 4290, 4297,\n",
       "       4299, 4310, 4313, 4322, 4325, 4331, 4338, 4345, 4352, 4359, 4363,\n",
       "       4373, 4376, 4386, 4394, 4400, 4407, 4415, 4422, 4430, 4438, 4445,\n",
       "       4452, 4459, 4473, 4484, 4495, 4510, 4524, 4538, 4541, 4544, 4551,\n",
       "       4558, 4562, 4565, 4570, 4576, 4587, 4591, 4597, 4605, 4612, 4619,\n",
       "       4626, 4633, 4640, 4647, 4657, 4660, 4667, 4675, 4689, 4703, 4716,\n",
       "       4721, 4730, 4735, 4743, 4750, 4757, 4764, 4767, 4771, 4778, 4785,\n",
       "       4788, 4792, 4799, 4806, 4813, 4816, 4822, 4830, 4837, 4843, 4850,\n",
       "       4857, 4860, 4868, 4870, 4881, 4885, 4895, 4902, 4911, 4914, 4922,\n",
       "       4930, 4949, 4953, 4962])"
      ]
     },
     "execution_count": 45,
     "metadata": {},
     "output_type": "execute_result"
    }
   ],
   "source": [
    "np.where((np.diff(np.sign(dy_dx)) == 2))[0]"
   ]
  },
  {
   "cell_type": "code",
   "execution_count": null,
   "id": "ec522efd-2349-4ad6-9f8a-441b6b4da22d",
   "metadata": {},
   "outputs": [],
   "source": []
  },
  {
   "cell_type": "code",
   "execution_count": null,
   "id": "b0cdcef7-f70c-4153-b29d-34cab8e399fa",
   "metadata": {},
   "outputs": [],
   "source": []
  },
  {
   "cell_type": "code",
   "execution_count": null,
   "id": "97a28e41-a0ab-47b6-b2aa-583d0c7c8e93",
   "metadata": {},
   "outputs": [],
   "source": []
  }
 ],
 "metadata": {
  "kernelspec": {
   "display_name": "Python 3 (ipykernel)",
   "language": "python",
   "name": "python3"
  },
  "language_info": {
   "codemirror_mode": {
    "name": "ipython",
    "version": 3
   },
   "file_extension": ".py",
   "mimetype": "text/x-python",
   "name": "python",
   "nbconvert_exporter": "python",
   "pygments_lexer": "ipython3",
   "version": "3.10.12"
  }
 },
 "nbformat": 4,
 "nbformat_minor": 5
}
