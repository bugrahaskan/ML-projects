{
 "cells": [
  {
   "cell_type": "code",
   "execution_count": 1,
   "id": "7a0d28ec-ddd3-49c7-9945-923ea464aec2",
   "metadata": {},
   "outputs": [
    {
     "name": "stdout",
     "output_type": "stream",
     "text": [
      "Data imported and copied.\n"
     ]
    }
   ],
   "source": [
    "import pandas as pd\n",
    "\n",
    "data = pd.read_csv('data/^NDX_raw_data.csv')\n",
    "data.rename(columns={'Date': 'date', 'Open':'open', 'High':'high', 'Low':'low', 'Close':'close', 'Volume':'volume'}, inplace=True)\n",
    "\n",
    "data_backup = data.iloc[3524:]\n",
    "\n",
    "data = data.iloc[:3524]\n",
    "data_copy = data.copy()\n",
    "\n",
    "print('Data imported and copied.', flush=True)"
   ]
  },
  {
   "cell_type": "code",
   "execution_count": 2,
   "id": "c4a03b1b-47e5-46ef-a618-d520239f8745",
   "metadata": {},
   "outputs": [],
   "source": [
    "import numpy as np\n",
    "\n",
    "## Creating sequences\n",
    "def create_dataset(dataset, time_step=1, output_step=1):\n",
    "    dataX, dataY = [], []\n",
    "    for i in range(len(dataset)-time_step-output_step):\n",
    "        a = dataset[i:(i+time_step), 0]\n",
    "        b = dataset[(i+time_step):(i+time_step)+output_step, 0]\n",
    "        dataX.append(a)\n",
    "        dataY.append(b)\n",
    "\n",
    "    return np.array(dataX), np.array(dataY)\n",
    "\n",
    "period = 60\n",
    "trend_period = 14\n",
    "rsi_period = 14\n",
    "num_features = 1\n",
    "input_period = 60\n",
    "output_step = 7\n",
    "units = 512"
   ]
  },
  {
   "cell_type": "code",
   "execution_count": 3,
   "id": "ae87606c-094f-42d2-b578-09c2fd69146e",
   "metadata": {},
   "outputs": [
    {
     "name": "stdout",
     "output_type": "stream",
     "text": [
      "Initializing the Model for Season...\n"
     ]
    },
    {
     "name": "stderr",
     "output_type": "stream",
     "text": [
      "2024-06-04 05:49:04.184217: I external/local_tsl/tsl/cuda/cudart_stub.cc:31] Could not find cuda drivers on your machine, GPU will not be used.\n",
      "2024-06-04 05:49:04.253994: E external/local_xla/xla/stream_executor/cuda/cuda_dnn.cc:9261] Unable to register cuDNN factory: Attempting to register factory for plugin cuDNN when one has already been registered\n",
      "2024-06-04 05:49:04.254055: E external/local_xla/xla/stream_executor/cuda/cuda_fft.cc:607] Unable to register cuFFT factory: Attempting to register factory for plugin cuFFT when one has already been registered\n",
      "2024-06-04 05:49:04.256487: E external/local_xla/xla/stream_executor/cuda/cuda_blas.cc:1515] Unable to register cuBLAS factory: Attempting to register factory for plugin cuBLAS when one has already been registered\n",
      "2024-06-04 05:49:04.268822: I external/local_tsl/tsl/cuda/cudart_stub.cc:31] Could not find cuda drivers on your machine, GPU will not be used.\n",
      "2024-06-04 05:49:05.893382: W tensorflow/compiler/tf2tensorrt/utils/py_utils.cc:38] TF-TRT Warning: Could not find TensorRT\n"
     ]
    },
    {
     "name": "stdout",
     "output_type": "stream",
     "text": [
      "Model has been initialized.\n"
     ]
    }
   ],
   "source": [
    "print('Initializing the Model for Season...', flush=True)\n",
    "\n",
    "import numpy as np\n",
    "from sklearn.preprocessing import MinMaxScaler, StandardScaler\n",
    "from tensorflow.keras import Input\n",
    "from tensorflow.keras.models import Sequential, Model\n",
    "from tensorflow.keras.layers import Bidirectional, LSTM, Dense, Dropout, Conv1D, AveragePooling1D, Flatten, Reshape, SimpleRNN, GRU, MaxPooling1D, concatenate\n",
    "from tensorflow.keras.callbacks import EarlyStopping, ModelCheckpoint\n",
    "from tensorflow.keras.initializers import Zeros\n",
    "\n",
    "inputs = Input(shape=(input_period, num_features))\n",
    "\n",
    "model_cnn = Sequential([\n",
    "    Conv1D(filters=352, kernel_size=1, activation='relu'),\n",
    "    Conv1D(filters=352, kernel_size=1, activation='relu'),\n",
    "    MaxPooling1D(pool_size=3),\n",
    "    Dense(units=128),\n",
    "    Flatten()\n",
    "    #Dense(units=output_step),\n",
    "    #Reshape((output_step,1))\n",
    "])\n",
    "\n",
    "model_bilstm = Sequential([\n",
    "    Bidirectional(LSTM(units=384, return_sequences=True, activation='tanh', recurrent_activation='sigmoid')),\n",
    "    Dropout(0.2),\n",
    "    Flatten()\n",
    "    #Dense(units=output_step),\n",
    "    #Reshape((output_step,1))\n",
    "])\n",
    "\n",
    "model_bigru = Sequential([\n",
    "    Bidirectional(GRU(units=128, activation='tanh', return_sequences=True)),\n",
    "    Dropout(0.4),\n",
    "    Flatten()\n",
    "])\n",
    "\n",
    "model_multilayer_lstm = Sequential([\n",
    "    LSTM(units=64, return_sequences=True, activation='tanh', recurrent_activation='sigmoid'),\n",
    "    Dropout(0.2),\n",
    "    LSTM(units=64, return_sequences=True, activation='tanh', recurrent_activation='sigmoid'),\n",
    "    Flatten()\n",
    "])\n",
    "\n",
    "output_cnn = model_cnn(inputs)\n",
    "output_bilstm = model_bilstm(inputs)\n",
    "output_bigru = model_bigru(inputs)\n",
    "output_multilayer_lstm = model_multilayer_lstm(inputs)\n",
    "\n",
    "concatenated_outputs = concatenate([output_cnn, output_bilstm, output_bigru, output_multilayer_lstm])\n",
    "\n",
    "main_model = Sequential([\n",
    "    Input(shape=(concatenated_outputs.shape[1],)),\n",
    "    Dense(units=output_step),\n",
    "    Reshape((output_step,1))\n",
    "])\n",
    "\n",
    "final_output = main_model(concatenated_outputs)\n",
    "\n",
    "functional_pipeline_season = Model(inputs=inputs, outputs=final_output)\n",
    "\n",
    "# Compile the pipeline model\n",
    "functional_pipeline_season.compile(optimizer='adam', loss='mean_squared_error', metrics=['accuracy'])\n",
    "\n",
    "print('Model has been initialized.', flush=True)"
   ]
  },
  {
   "cell_type": "code",
   "execution_count": 4,
   "id": "aea99fc4-abcc-4c45-a530-b15037465d07",
   "metadata": {},
   "outputs": [
    {
     "name": "stdout",
     "output_type": "stream",
     "text": [
      "Initializing the Model for Savitzky-Golay...\n",
      "Model has been initialized.\n"
     ]
    }
   ],
   "source": [
    "print('Initializing the Model for Savitzky-Golay...', flush=True)\n",
    "\n",
    "import numpy as np\n",
    "from sklearn.preprocessing import MinMaxScaler, StandardScaler\n",
    "from tensorflow.keras import Input\n",
    "from tensorflow.keras.models import Sequential, Model\n",
    "from tensorflow.keras.layers import Bidirectional, LSTM, Dense, Dropout, Conv1D, AveragePooling1D, Flatten, Reshape, SimpleRNN, GRU, MaxPooling1D, concatenate\n",
    "from tensorflow.keras.callbacks import EarlyStopping, ModelCheckpoint\n",
    "from tensorflow.keras.initializers import Zeros\n",
    "\n",
    "inputs = Input(shape=(input_period, num_features))\n",
    "\n",
    "model_cnn = Sequential([\n",
    "    Conv1D(filters=352, kernel_size=1, activation='relu'),\n",
    "    Conv1D(filters=352, kernel_size=1, activation='relu'),\n",
    "    MaxPooling1D(pool_size=3),\n",
    "    Dense(units=128),\n",
    "    Flatten()\n",
    "    #Dense(units=output_step),\n",
    "    #Reshape((output_step,1))\n",
    "])\n",
    "\n",
    "model_bilstm = Sequential([\n",
    "    Bidirectional(LSTM(units=384, return_sequences=True, activation='tanh', recurrent_activation='sigmoid')),\n",
    "    Dropout(0.2),\n",
    "    Flatten()\n",
    "    #Dense(units=output_step),\n",
    "    #Reshape((output_step,1))\n",
    "])\n",
    "\n",
    "model_bigru = Sequential([\n",
    "    Bidirectional(GRU(units=128, activation='tanh', return_sequences=True)),\n",
    "    Dropout(0.4),\n",
    "    Flatten()\n",
    "])\n",
    "\n",
    "model_multilayer_lstm = Sequential([\n",
    "    LSTM(units=64, return_sequences=True, activation='tanh', recurrent_activation='sigmoid'),\n",
    "    Dropout(0.2),\n",
    "    LSTM(units=64, return_sequences=True, activation='tanh', recurrent_activation='sigmoid'),\n",
    "    Flatten()\n",
    "])\n",
    "\n",
    "output_cnn = model_cnn(inputs)\n",
    "output_bilstm = model_bilstm(inputs)\n",
    "output_bigru = model_bigru(inputs)\n",
    "output_multilayer_lstm = model_multilayer_lstm(inputs)\n",
    "\n",
    "concatenated_outputs = concatenate([output_cnn, output_bilstm, output_bigru, output_multilayer_lstm])\n",
    "\n",
    "main_model = Sequential([\n",
    "    Input(shape=(concatenated_outputs.shape[1],)),\n",
    "    Dense(units=output_step),\n",
    "    Reshape((output_step,1))\n",
    "])\n",
    "\n",
    "final_output = main_model(concatenated_outputs)\n",
    "\n",
    "functional_pipeline_savgol = Model(inputs=inputs, outputs=final_output)\n",
    "\n",
    "# Compile the pipeline model\n",
    "functional_pipeline_savgol.compile(optimizer='adam', loss='mean_squared_error', metrics=['accuracy'])\n",
    "\n",
    "print('Model has been initialized.', flush=True)"
   ]
  },
  {
   "cell_type": "code",
   "execution_count": 5,
   "id": "cb011354-3e72-40a8-a842-8730021b9582",
   "metadata": {},
   "outputs": [
    {
     "name": "stdout",
     "output_type": "stream",
     "text": [
      "Backup: Savitzky-Golay Weigths for the best epoch has been loaded.\n"
     ]
    }
   ],
   "source": [
    "best_epoch_backup_savgol = 68\n",
    "\n",
    "# Load the weights of the model at the chosen epoch\n",
    "functional_pipeline_savgol.load_weights(f'model_weights_6_5_topological_trend/model_weights_epoch_{best_epoch_backup_savgol:02d}.h5')\n",
    "print('Backup: Savitzky-Golay Weigths for the best epoch has been loaded.')"
   ]
  },
  {
   "cell_type": "code",
   "execution_count": 6,
   "id": "d6999b93-4f7c-465c-af13-1a57bbac71f3",
   "metadata": {},
   "outputs": [
    {
     "name": "stdout",
     "output_type": "stream",
     "text": [
      "Backup: Season Weigths for the best epoch has been loaded.\n"
     ]
    }
   ],
   "source": [
    "best_epoch_backup_season = 30\n",
    "\n",
    "# Load the weights of the model at the chosen epoch\n",
    "functional_pipeline_season.load_weights(f'model_weights_6_5_topological/model_weights_epoch_{best_epoch_backup_season:02d}.h5')\n",
    "print('Backup: Season Weigths for the best epoch has been loaded.')"
   ]
  },
  {
   "cell_type": "markdown",
   "id": "719971ae-a080-4c5d-b31d-4bcec63d5353",
   "metadata": {},
   "source": [
    "## data preprocessing"
   ]
  },
  {
   "cell_type": "code",
   "execution_count": 7,
   "id": "aa5cc2aa-c4d2-4b86-8bca-d66cf8575e1b",
   "metadata": {},
   "outputs": [
    {
     "name": "stdout",
     "output_type": "stream",
     "text": [
      "Importing the bulk data...\n",
      "Bulk data has been imported.\n"
     ]
    }
   ],
   "source": [
    "print('Importing the bulk data...', flush=True)\n",
    "\n",
    "import os\n",
    "import re\n",
    "\n",
    "directory = 'data-china-from2018-test'\n",
    "\n",
    "df_data = dict()\n",
    "\n",
    "for file in os.listdir(directory):\n",
    "    symbol_pattern = re.match(r'([^_]+)_', file)\n",
    "    symbol = symbol_pattern.group(1)\n",
    "    df_data[symbol] = pd.read_csv(os.path.join(directory, file))\n",
    "    df_data[symbol].rename(columns={'Date': 'date', 'Open':'open', 'High':'high', 'Low':'low', 'Close':'close', 'Volume':'volume'}, inplace=True)\n",
    "\n",
    "print('Bulk data has been imported.', flush=True)"
   ]
  },
  {
   "cell_type": "code",
   "execution_count": 8,
   "id": "046a5802-d083-4797-b572-b5483d8c6d1b",
   "metadata": {},
   "outputs": [
    {
     "data": {
      "text/plain": [
       "(1614, 6)"
      ]
     },
     "execution_count": 8,
     "metadata": {},
     "output_type": "execute_result"
    }
   ],
   "source": [
    "df_data[symbol].shape"
   ]
  },
  {
   "cell_type": "code",
   "execution_count": 9,
   "id": "f212bd9f-34be-4a7a-ac9f-d8a3e71b85a2",
   "metadata": {},
   "outputs": [
    {
     "name": "stdout",
     "output_type": "stream",
     "text": [
      "Creating the data sets...\n",
      "Data sets has been created.\n"
     ]
    }
   ],
   "source": [
    "print('Creating the data sets...', flush=True)\n",
    "\n",
    "dict_X_test, dict_y_test = dict(), dict()\n",
    "\n",
    "for symbol in df_data:\n",
    "    X_test, y_test = create_dataset(df_data[symbol][['close']].to_numpy(), time_step=period, output_step=output_step)\n",
    "\n",
    "    dict_X_test[symbol] = X_test\n",
    "    dict_y_test[symbol] = y_test\n",
    "\n",
    "print('Data sets has been created.', flush=True)"
   ]
  },
  {
   "cell_type": "code",
   "execution_count": 10,
   "id": "125c938c-57c8-40e8-b4b4-39e5495a1f8f",
   "metadata": {},
   "outputs": [
    {
     "data": {
      "text/plain": [
       "(1547, 60)"
      ]
     },
     "execution_count": 10,
     "metadata": {},
     "output_type": "execute_result"
    }
   ],
   "source": [
    "dict_X_test[symbol].shape"
   ]
  },
  {
   "cell_type": "code",
   "execution_count": 11,
   "id": "c3f479a0-5a29-4514-ae3a-bf087f6e732b",
   "metadata": {},
   "outputs": [
    {
     "name": "stdout",
     "output_type": "stream",
     "text": [
      "Decomposing data...\n",
      "Decomposition has been applied.\n"
     ]
    }
   ],
   "source": [
    "print('Decomposing data...', flush=True)\n",
    "\n",
    "from statsmodels.tsa.seasonal import seasonal_decompose\n",
    "\n",
    "dict_decompositions = dict()\n",
    "dict_season = dict()\n",
    "\n",
    "for symbol in df_data:\n",
    "    decompositions = np.array([seasonal_decompose(dict_X_test[symbol][i], model='additive', period=14) for i in range(dict_X_test[symbol].shape[0])])\n",
    "    seasons = np.array([decompositions[i].seasonal for i in range(decompositions.shape[0])])\n",
    "\n",
    "    dict_decompositions[symbol] = decompositions\n",
    "    dict_season[symbol] = seasons\n",
    "\n",
    "from scipy.signal import savgol_filter\n",
    "\n",
    "# Apply Savitzky-Golay filter\n",
    "window_length = 17  # Window length (must be odd)\n",
    "polyorder = 1      # Polynomial order\n",
    "\n",
    "dict_savgol = dict()\n",
    "\n",
    "for symbol in df_data:\n",
    "    savgol_test = np.array([ savgol_filter(dict_X_test[symbol][i], window_length, polyorder) for i in range(dict_X_test[symbol].shape[0]) ])\n",
    "\n",
    "    dict_savgol[symbol] = savgol_test\n",
    "\n",
    "print('Decomposition has been applied.', flush=True)"
   ]
  },
  {
   "cell_type": "code",
   "execution_count": 12,
   "id": "4c261b50-7117-4651-a6bc-f23867a507ac",
   "metadata": {},
   "outputs": [
    {
     "name": "stdout",
     "output_type": "stream",
     "text": [
      "Scaling data...\n",
      "Data scaled.\n"
     ]
    }
   ],
   "source": [
    "print('Scaling data...', flush=True)\n",
    "\n",
    "dict_savgol_dropna = dict()\n",
    "dict_seasons_cropped = dict()\n",
    "\n",
    "# NO NEED TO CROP THEM\n",
    "for symbol in df_data:\n",
    "    savgol_test_dropna = list()\n",
    "    seasons_test_cropped = list()\n",
    "    \n",
    "    for savgol in dict_savgol[symbol]:\n",
    "        savgol_test_dropna.append(savgol)\n",
    "\n",
    "    for season in dict_season[symbol]:\n",
    "        seasons_test_cropped.append(season)\n",
    "\n",
    "    savgol_test_dropna = np.array(savgol_test_dropna)\n",
    "    seasons_test_cropped = np.array(seasons_test_cropped)\n",
    "\n",
    "    dict_savgol_dropna[symbol] = savgol_test_dropna\n",
    "    dict_seasons_cropped[symbol] = seasons_test_cropped\n",
    "\n",
    "from sklearn.preprocessing import MinMaxScaler\n",
    "\n",
    "dict_scalers_savgol = dict()\n",
    "dict_scalers_seasonal = dict()\n",
    "dict_scalers_target = dict()\n",
    "dict_savgol_scaled = dict()\n",
    "dict_seasons_scaled = dict()\n",
    "dict_targets_scaled = dict()\n",
    "\n",
    "\n",
    "for symbol in df_data:\n",
    "    scaler_savgol = list(MinMaxScaler() for i in range(dict_savgol_dropna[symbol].shape[0]))\n",
    "    savgol_test_scaled = list()\n",
    "\n",
    "    scaler_seasonal = list(MinMaxScaler() for i in range(dict_seasons_cropped[symbol].shape[0]))\n",
    "    seasons_test_scaled = list()\n",
    "\n",
    "    # we use target values only for comparison issue here\n",
    "    scaler_target = list(MinMaxScaler() for i in range(dict_y_test[symbol].shape[0]))\n",
    "    target_test_scaled = list()\n",
    "\n",
    "    for i in range(dict_savgol_dropna[symbol].shape[0]):\n",
    "        savgol_test_scaled.append(scaler_savgol[i].fit_transform(dict_savgol_dropna[symbol][i].reshape(-1,1)))\n",
    "\n",
    "    for j in range(dict_y_test[symbol].shape[0]):\n",
    "        target_test_scaled.append(scaler_target[j].fit_transform(dict_y_test[symbol][j].reshape(-1,1)))\n",
    "\n",
    "    for j in range(dict_seasons_cropped[symbol].shape[0]):\n",
    "        seasons_test_scaled.append(scaler_seasonal[j].fit_transform(dict_seasons_cropped[symbol][j].reshape(-1,1)))\n",
    "\n",
    "    savgol_test_scaled = np.array(savgol_test_scaled)\n",
    "    target_test_scaled = np.array(target_test_scaled)\n",
    "    seasons_test_scaled = np.array(seasons_test_scaled)\n",
    "\n",
    "    dict_scalers_savgol[symbol] = scaler_savgol\n",
    "    dict_scalers_seasonal[symbol] = scaler_seasonal\n",
    "    dict_scalers_target[symbol] = scaler_target\n",
    "    dict_savgol_scaled[symbol] = savgol_test_scaled\n",
    "    dict_seasons_scaled[symbol] = seasons_test_scaled\n",
    "    dict_targets_scaled[symbol] = target_test_scaled\n",
    "\n",
    "print('Data scaled.', flush=True)"
   ]
  },
  {
   "cell_type": "code",
   "execution_count": 13,
   "id": "393eb8db-6132-406f-b51d-97eb55bbbc7b",
   "metadata": {},
   "outputs": [
    {
     "name": "stdout",
     "output_type": "stream",
     "text": [
      "Preparing input data...\n",
      "Input data has been prepared.\n"
     ]
    }
   ],
   "source": [
    "print('Preparing input data...', flush=True)\n",
    "\n",
    "dict_x_input_savgol = dict()\n",
    "\n",
    "for symbol in df_data:\n",
    "    x_input = list()\n",
    "\n",
    "    for savgol in dict_savgol_scaled[symbol]:\n",
    "        x_input.append(savgol)\n",
    "\n",
    "    x_input = np.array(x_input)\n",
    "\n",
    "    dict_x_input_savgol[symbol] = x_input\n",
    "\n",
    "dict_x_input_season = dict()\n",
    "\n",
    "for symbol in df_data:\n",
    "    x_input = list()\n",
    "\n",
    "    for season in dict_seasons_scaled[symbol]:\n",
    "        x_input.append(season)\n",
    "\n",
    "    x_input = np.array(x_input)\n",
    "\n",
    "    dict_x_input_season[symbol] = x_input\n",
    "\n",
    "print('Input data has been prepared.', flush=True)"
   ]
  },
  {
   "cell_type": "code",
   "execution_count": 14,
   "id": "0bf9e65e-4250-45bd-b911-5f1ca694bd4a",
   "metadata": {},
   "outputs": [
    {
     "data": {
      "text/plain": [
       "(1547, 60, 1)"
      ]
     },
     "execution_count": 14,
     "metadata": {},
     "output_type": "execute_result"
    }
   ],
   "source": [
    "dict_x_input_savgol[symbol].shape"
   ]
  },
  {
   "cell_type": "code",
   "execution_count": 15,
   "id": "7a310244-87bf-4afc-bb4b-9ef132fcd7d3",
   "metadata": {},
   "outputs": [
    {
     "name": "stdout",
     "output_type": "stream",
     "text": [
      "Predicting...\n"
     ]
    },
    {
     "name": "stderr",
     "output_type": "stream",
     "text": [
      "0it [00:00, ?it/s]"
     ]
    },
    {
     "name": "stdout",
     "output_type": "stream",
     "text": [
      "100\n",
      "200\n",
      "300\n",
      "400\n",
      "500\n",
      "600\n",
      "700\n",
      "800\n",
      "900\n",
      "1000\n",
      "1100\n",
      "1200\n",
      "1300\n",
      "1400\n",
      "1500\n"
     ]
    },
    {
     "name": "stderr",
     "output_type": "stream",
     "text": [
      "1it [07:26, 446.49s/it]"
     ]
    },
    {
     "name": "stdout",
     "output_type": "stream",
     "text": [
      "100\n",
      "200\n",
      "300\n",
      "400\n",
      "500\n",
      "600\n",
      "700\n",
      "800\n",
      "900\n",
      "1000\n",
      "1100\n",
      "1200\n",
      "1300\n",
      "1400\n",
      "1500\n"
     ]
    },
    {
     "name": "stderr",
     "output_type": "stream",
     "text": [
      "2it [14:48, 443.58s/it]"
     ]
    },
    {
     "name": "stdout",
     "output_type": "stream",
     "text": [
      "100\n",
      "200\n",
      "300\n",
      "400\n",
      "500\n",
      "600\n",
      "700\n",
      "800\n",
      "900\n",
      "1000\n",
      "1100\n",
      "1200\n",
      "1300\n",
      "1400\n",
      "1500\n"
     ]
    },
    {
     "name": "stderr",
     "output_type": "stream",
     "text": [
      "3it [22:43, 454.39s/it]\n"
     ]
    }
   ],
   "source": [
    "print('Predicting...', flush=True)\n",
    "\n",
    "dict_predictions_savgol = dict()\n",
    "dict_predictions_season = dict()\n",
    "\n",
    "from tqdm import tqdm\n",
    "for nb, symbol in tqdm(enumerate(df_data)):\n",
    "    savgol_predictions = list()\n",
    "    season_predictions = list()\n",
    "\n",
    "    for j in range(dict_x_input_savgol[symbol].shape[0]):\n",
    "        if (j+1) % 100 == 0:\n",
    "            print(j+1)\n",
    "            \n",
    "        savgol_predictions.append(\n",
    "            dict_scalers_savgol[symbol][j].inverse_transform(\n",
    "                functional_pipeline_savgol.predict(dict_x_input_savgol[symbol][j].reshape(savgol_test_scaled[j].shape[1], input_period, num_features), verbose=0)[0].reshape(1,output_step)\n",
    "            )\n",
    "        )\n",
    "        season_predictions.append(\n",
    "            dict_scalers_seasonal[symbol][j].inverse_transform(\n",
    "                functional_pipeline_season.predict(dict_x_input_season[symbol][j].reshape(seasons_test_scaled[j].shape[1], input_period, num_features), verbose=0)[0].reshape(1,output_step)\n",
    "            )\n",
    "        )\n",
    "    \n",
    "    savgol_predictions = np.array(savgol_predictions)\n",
    "    season_predictions = np.array(season_predictions)\n",
    "\n",
    "    dict_predictions_savgol[symbol] = savgol_predictions\n",
    "    dict_predictions_season[symbol] = season_predictions"
   ]
  },
  {
   "cell_type": "code",
   "execution_count": 16,
   "id": "02e47e90-a481-4e6a-aac3-7fde8165e6ad",
   "metadata": {},
   "outputs": [
    {
     "data": {
      "text/plain": [
       "((1547, 1, 7), 1614)"
      ]
     },
     "execution_count": 16,
     "metadata": {},
     "output_type": "execute_result"
    }
   ],
   "source": [
    "savgol_predictions.shape, 1547+60+7"
   ]
  },
  {
   "cell_type": "code",
   "execution_count": 17,
   "id": "b66104b7-4958-4a17-bf28-bb21ded7473d",
   "metadata": {},
   "outputs": [
    {
     "name": "stdout",
     "output_type": "stream",
     "text": [
      "Adding noise to data...\n",
      "Noise to data has been added.\n"
     ]
    }
   ],
   "source": [
    "print('Adding noise to data...', flush=True)\n",
    "\n",
    "dict_std_dev_noise = dict()\n",
    "\n",
    "for symbol in df_data:\n",
    "    noise_high, _ = create_dataset(df_data[symbol][['high']].to_numpy(), time_step=period, output_step=output_step)\n",
    "    noise_low, _ = create_dataset(df_data[symbol][['low']].to_numpy(), time_step=period, output_step=output_step)\n",
    "\n",
    "    std_dev_high = np.array([np.std(val) for val in noise_high])\n",
    "    std_dev_low = np.array([np.std(val) for val in noise_low])\n",
    "    \n",
    "    std_dev_noise = np.array([np.maximum(val_high, val_low) for val_high, val_low in zip(std_dev_high, std_dev_low)])\n",
    "\n",
    "    dict_std_dev_noise[symbol] = std_dev_noise\n",
    "\n",
    "print('Noise to data has been added.', flush=True)"
   ]
  },
  {
   "cell_type": "code",
   "execution_count": 18,
   "id": "fb654804-6029-4b83-a250-cf71201934c5",
   "metadata": {},
   "outputs": [
    {
     "data": {
      "text/plain": [
       "((1547, 1, 7), 7, (1547,))"
      ]
     },
     "execution_count": 18,
     "metadata": {},
     "output_type": "execute_result"
    }
   ],
   "source": [
    "dict_predictions_savgol[symbol].shape, output_step, dict_std_dev_noise[symbol].shape"
   ]
  },
  {
   "cell_type": "code",
   "execution_count": 19,
   "id": "d1a85688-d539-4c74-a2e0-091ebadc1b48",
   "metadata": {},
   "outputs": [
    {
     "name": "stdout",
     "output_type": "stream",
     "text": [
      "Constructing observations (sum) for data...\n",
      "Observations have been constructed.\n"
     ]
    }
   ],
   "source": [
    "print('Constructing observations (sum) for data...', flush=True)\n",
    "\n",
    "dict_observations_sum = dict()\n",
    "\n",
    "for symbol in df_data:\n",
    "    observation = pd.Series([\n",
    "        dict_predictions_savgol[symbol][i] + 3*dict_predictions_season[symbol][i] for i in range(dict_predictions_savgol[symbol].shape[0])\n",
    "    ], index=df_data[symbol].index[input_period:-output_step])\n",
    "\n",
    "    dict_observations_sum[symbol] = observation\n",
    "\n",
    "print('Observations have been constructed.', flush=True)"
   ]
  },
  {
   "cell_type": "code",
   "execution_count": 20,
   "id": "67d727b8-055d-448c-8dd8-5c97ccf714cc",
   "metadata": {},
   "outputs": [
    {
     "data": {
      "text/plain": [
       "(60      [[31.02887, 32.51212, 32.560146, 32.761528, 34...\n",
       " 61      [[31.969322, 31.91431, 32.675144, 33.47715, 34...\n",
       " 62      [[31.468706, 32.14055, 33.745224, 34.21048, 37...\n",
       " 63      [[31.775793, 33.328373, 33.384537, 37.31958, 3...\n",
       " 64      [[32.817398, 32.822586, 35.862206, 36.247677, ...\n",
       "                               ...                        \n",
       " 1602    [[6.276459, 6.7036185, 6.679894, 6.6436133, 6....\n",
       " 1603    [[6.608438, 6.5735946, 6.7211704, 6.054988, 6....\n",
       " 1604    [[6.513887, 6.644008, 6.397975, 6.0883217, 6.8...\n",
       " 1605    [[6.6647077, 6.4164767, 6.495219, 6.876532, 6....\n",
       " 1606    [[6.380654, 6.4438314, 7.271595, 6.5759687, 6....\n",
       " Length: 1547, dtype: object,\n",
       " RangeIndex(start=60, stop=1607, step=1),\n",
       " 60)"
      ]
     },
     "execution_count": 20,
     "metadata": {},
     "output_type": "execute_result"
    }
   ],
   "source": [
    "dict_observations_sum[symbol], dict_observations_sum[symbol].index, input_period"
   ]
  },
  {
   "cell_type": "code",
   "execution_count": 75,
   "id": "6c82a745-1f8f-4cc3-90e0-6c06b122482c",
   "metadata": {},
   "outputs": [
    {
     "name": "stdout",
     "output_type": "stream",
     "text": [
      "Calculating slopes of predicted data...\n"
     ]
    }
   ],
   "source": [
    "print('Calculating slopes of predicted data...', flush=True)\n",
    "\n",
    "from sklearn.linear_model import LinearRegression\n",
    "from sklearn.preprocessing import MinMaxScaler\n",
    "\n",
    "dict_slopes_pred = dict()\n",
    "\n",
    "for symbol in df_data:\n",
    "    slopes_pred = list()\n",
    "    \n",
    "    #scaler_x_reg, scaler_y_reg = MinMaxScaler(), MinMaxScaler()\n",
    "    #model_reg = LinearRegression()\n",
    "\n",
    "    for i in dict_observations_sum[symbol].index:\n",
    "        scaler_x_reg, scaler_y_reg = MinMaxScaler(), MinMaxScaler()\n",
    "        model_reg = LinearRegression()\n",
    "    \n",
    "        X_reg = np.array([ t for t in range(i, i+output_step) ])\n",
    "        X_reg_norm = scaler_x_reg.fit_transform(X_reg.reshape(-1,1))\n",
    "\n",
    "        y_reg = dict_observations_sum[symbol][i][0]\n",
    "        y_reg_norm = scaler_y_reg.fit_transform(y_reg.reshape(-1,1))\n",
    "\n",
    "        model_reg.fit(X_reg_norm, y_reg_norm)\n",
    "\n",
    "        slopes_pred.append(model_reg.coef_[0][0])\n",
    "\n",
    "    dict_slopes_pred[symbol] = np.array(slopes_pred)"
   ]
  },
  {
   "cell_type": "code",
   "execution_count": 76,
   "id": "2e89add0-3f74-4f86-81a0-71fdaf5f0263",
   "metadata": {},
   "outputs": [
    {
     "data": {
      "text/plain": [
       "((1547,), (1547,), (1547,))"
      ]
     },
     "execution_count": 76,
     "metadata": {},
     "output_type": "execute_result"
    }
   ],
   "source": [
    "dict_observations_sum[symbol].shape, dict_slopes_pred[symbol].shape, x_grad.shape"
   ]
  },
  {
   "cell_type": "code",
   "execution_count": 83,
   "id": "88ebce8f-3d7c-4f05-8695-3a26c1aeac86",
   "metadata": {},
   "outputs": [
    {
     "name": "stdout",
     "output_type": "stream",
     "text": [
      "Calculating gradient of the slope...\n"
     ]
    }
   ],
   "source": [
    "print('Calculating gradient of the slope...', flush=True)\n",
    "\n",
    "import numpy as np\n",
    "import pandas as pd\n",
    "\n",
    "dict_grad_slope = dict()\n",
    "dict_neg_to_pos = dict()\n",
    "\n",
    "for symbol in df_data:\n",
    "    x_grad = np.array([ t for t in dict_observations_sum[symbol].index ])\n",
    "\n",
    "    # Calculate the numerical derivative (dy/dx)\n",
    "    dy_dx = np.gradient(dict_slopes_pred[symbol], x_grad)\n",
    "\n",
    "    # Identify points where the slope changes from negative to positive\n",
    "    neg_to_pos = np.where((np.diff(np.sign(dy_dx)) == 2))[0]\n",
    "\n",
    "    neg_to_pos_series = pd.Series(0, index=dict_observations_sum[symbol].index)\n",
    "    neg_to_pos_series.iloc[neg_to_pos] = 1\n",
    "    \n",
    "    dict_grad_slope[symbol] = dy_dx\n",
    "    dict_neg_to_pos[symbol] = neg_to_pos_series"
   ]
  },
  {
   "cell_type": "code",
   "execution_count": 110,
   "id": "bc7f5084-7a5a-4cce-8ebf-358c5f189451",
   "metadata": {},
   "outputs": [
    {
     "data": {
      "text/plain": [
       "array([ 0.84108766,  1.10654119,  0.90808971,  0.60930511,  0.24426617,\n",
       "       -0.47005943, -0.85251914, -0.73600418, -0.97590515, -0.84340709,\n",
       "       -0.45924568, -0.19875363, -0.29271872,  0.61500631,  0.57584095,\n",
       "        0.85026925,  0.6557857 ,  0.26003613, -0.2463212 , -0.58153224])"
      ]
     },
     "execution_count": 110,
     "metadata": {},
     "output_type": "execute_result"
    }
   ],
   "source": [
    "dict_slopes_pred[symbol][:20]"
   ]
  },
  {
   "cell_type": "code",
   "execution_count": 109,
   "id": "d22d4bce-d702-41ff-a90b-2a7803965566",
   "metadata": {},
   "outputs": [
    {
     "data": {
      "text/plain": [
       "array([ 1.,  1., -1., -1., -1., -1., -1., -1., -1.,  1.,  1.,  1.,  1.,\n",
       "        1.,  1.,  1., -1., -1., -1., -1.])"
      ]
     },
     "execution_count": 109,
     "metadata": {},
     "output_type": "execute_result"
    }
   ],
   "source": [
    "np.sign(dy_dx)[:20]"
   ]
  },
  {
   "cell_type": "code",
   "execution_count": 107,
   "id": "92841d05-8e7d-4a82-a517-602b07a60e75",
   "metadata": {},
   "outputs": [
    {
     "data": {
      "text/plain": [
       "(array([ 0.84108766,  1.10654119,  0.90808971,  0.60930511,  0.24426617,\n",
       "        -0.47005943, -0.85251914, -0.73600418, -0.97590515, -0.84340709,\n",
       "        -0.45924568, -0.19875363, -0.29271872,  0.61500631,  0.57584095,\n",
       "         0.85026925,  0.6557857 ,  0.26003613, -0.2463212 , -0.58153224,\n",
       "        -0.6918633 , -0.73917542, -0.65096692, -0.09101077,  0.40977287,\n",
       "         0.64672841,  0.63489165,  1.05894419,  0.79604714,  0.90863596,\n",
       "         0.94330287,  0.8861989 ,  0.93502869,  0.76414592,  0.7055957 ,\n",
       "         0.48535701,  0.31305906,  0.25030824,  0.27678721,  0.4923514 ,\n",
       "         0.49634968,  0.84056956,  0.83535106,  0.6487766 ,  0.46195998,\n",
       "         0.3352935 ,  0.58885615,  0.25605338, -0.17277329, -0.70254922,\n",
       "        -1.01863636, -1.09123472, -0.98473324, -0.41448171, -0.01991732,\n",
       "         0.03365197, -0.39879451, -0.61818021, -0.79299535, -0.62771732,\n",
       "        -0.12397139,  0.89298984,  1.0421413 ,  0.41451022, -0.25281838,\n",
       "        -0.58691342, -0.70689961, -0.43797408, -0.03080239,  0.31768738]),\n",
       " array([   8,   20,   28,   37,   44,   50,   58,   65,   72,   79,   84,\n",
       "          94,   98,  107,  120,  126,  136,  140,  147,  154,  161,  169,\n",
       "         174,  182,  188,  197,  201,  214,  228,  234,  241,  248,  255,\n",
       "         264,  266,  280,  288,  297,  315,  328,  334,  341,  353,  363,\n",
       "         366,  369,  376,  380,  386,  394,  397,  408,  411,  413,  422,\n",
       "         428,  435,  443,  449,  462,  475,  478,  486,  493,  501,  509,\n",
       "         524,  530,  537,  540,  544,  560,  573,  576,  587,  590,  601,\n",
       "         607,  613,  617,  620,  627,  631,  640,  656,  669,  681,  684,\n",
       "         694,  699,  711,  723,  730,  736,  739,  752,  758,  765,  772,\n",
       "         779,  786,  800,  812,  825,  838,  841,  845,  848,  861,  869,\n",
       "         876,  884,  891,  895,  902,  909,  916,  921,  924,  930,  935,\n",
       "         939,  944,  953,  959,  968,  972,  982,  989,  997, 1000, 1010,\n",
       "        1017, 1024, 1037, 1045, 1052, 1056, 1060, 1063, 1070, 1083, 1093,\n",
       "        1096, 1104, 1106, 1110, 1113, 1123, 1127, 1139, 1141, 1156, 1171,\n",
       "        1186, 1194, 1198, 1200, 1213, 1220, 1227, 1240, 1252, 1256, 1263,\n",
       "        1270, 1277, 1283, 1291, 1298, 1304, 1312, 1316, 1327, 1329, 1344,\n",
       "        1355, 1362, 1365, 1368, 1375, 1382, 1385, 1388, 1398, 1413, 1420,\n",
       "        1425, 1428, 1431, 1441, 1456, 1466, 1478, 1481, 1491, 1501, 1507,\n",
       "        1516, 1521, 1523, 1534, 1537]))"
      ]
     },
     "execution_count": 107,
     "metadata": {},
     "output_type": "execute_result"
    }
   ],
   "source": [
    "dict_slopes_pred[symbol][:70], neg_to_pos"
   ]
  },
  {
   "cell_type": "code",
   "execution_count": 99,
   "id": "3e91a466-5093-4d5f-8490-342a0f6a5843",
   "metadata": {},
   "outputs": [
    {
     "data": {
      "text/plain": [
       "array([   8,   20,   28,   37,   44,   50,   58,   65,   72,   79,   84,\n",
       "         94,   98,  107,  120,  126,  136,  140,  147,  154,  161,  169,\n",
       "        174,  182,  188,  197,  201,  214,  228,  234,  241,  248,  255,\n",
       "        264,  266,  280,  288,  297,  315,  328,  334,  341,  353,  363,\n",
       "        366,  369,  376,  380,  386,  394,  397,  408,  411,  413,  422,\n",
       "        428,  435,  443,  449,  462,  475,  478,  486,  493,  501,  509,\n",
       "        524,  530,  537,  540,  544,  560,  573,  576,  587,  590,  601,\n",
       "        607,  613,  617,  620,  627,  631,  640,  656,  669,  681,  684,\n",
       "        694,  699,  711,  723,  730,  736,  739,  752,  758,  765,  772,\n",
       "        779,  786,  800,  812,  825,  838,  841,  845,  848,  861,  869,\n",
       "        876,  884,  891,  895,  902,  909,  916,  921,  924,  930,  935,\n",
       "        939,  944,  953,  959,  968,  972,  982,  989,  997, 1000, 1010,\n",
       "       1017, 1024, 1037, 1045, 1052, 1056, 1060, 1063, 1070, 1083, 1093,\n",
       "       1096, 1104, 1106, 1110, 1113, 1123, 1127, 1139, 1141, 1156, 1171,\n",
       "       1186, 1194, 1198, 1200, 1213, 1220, 1227, 1240, 1252, 1256, 1263,\n",
       "       1270, 1277, 1283, 1291, 1298, 1304, 1312, 1316, 1327, 1329, 1344,\n",
       "       1355, 1362, 1365, 1368, 1375, 1382, 1385, 1388, 1398, 1413, 1420,\n",
       "       1425, 1428, 1431, 1441, 1456, 1466, 1478, 1481, 1491, 1501, 1507,\n",
       "       1516, 1521, 1523, 1534, 1537])"
      ]
     },
     "execution_count": 99,
     "metadata": {},
     "output_type": "execute_result"
    }
   ],
   "source": [
    "neg_to_pos"
   ]
  },
  {
   "cell_type": "code",
   "execution_count": 92,
   "id": "c0c7f286-2b03-4172-9d4c-25c5b186241c",
   "metadata": {},
   "outputs": [
    {
     "data": {
      "text/plain": [
       "68      1\n",
       "80      1\n",
       "88      1\n",
       "97      1\n",
       "104     1\n",
       "       ..\n",
       "1576    1\n",
       "1581    1\n",
       "1583    1\n",
       "1594    1\n",
       "1597    1\n",
       "Length: 203, dtype: int64"
      ]
     },
     "execution_count": 92,
     "metadata": {},
     "output_type": "execute_result"
    }
   ],
   "source": [
    "neg_to_pos_series.iloc[neg_to_pos]"
   ]
  },
  {
   "cell_type": "code",
   "execution_count": 71,
   "id": "43b82ad3-8d67-4283-bc77-f76a06cd1e5c",
   "metadata": {},
   "outputs": [
    {
     "data": {
      "text/plain": [
       "((1547,),\n",
       " (1547,),\n",
       " (1547,),\n",
       " array([ 0.26545353,  0.03350102, -0.24861804, ..., -0.2440145 ,\n",
       "        -0.329107  , -0.15150363]),\n",
       " array([   8,   20,   28,   37,   44,   50,   58,   65,   72,   79,   84,\n",
       "          94,   98,  107,  120,  126,  136,  140,  147,  154,  161,  169,\n",
       "         174,  182,  188,  197,  201,  214,  228,  234,  241,  248,  255,\n",
       "         264,  266,  280,  288,  297,  315,  328,  334,  341,  353,  363,\n",
       "         366,  369,  376,  380,  386,  394,  397,  408,  411,  413,  422,\n",
       "         428,  435,  443,  449,  462,  475,  478,  486,  493,  501,  509,\n",
       "         524,  530,  537,  540,  544,  560,  573,  576,  587,  590,  601,\n",
       "         607,  613,  617,  620,  627,  631,  640,  656,  669,  681,  684,\n",
       "         694,  699,  711,  723,  730,  736,  739,  752,  758,  765,  772,\n",
       "         779,  786,  800,  812,  825,  838,  841,  845,  848,  861,  869,\n",
       "         876,  884,  891,  895,  902,  909,  916,  921,  924,  930,  935,\n",
       "         939,  944,  953,  959,  968,  972,  982,  989,  997, 1000, 1010,\n",
       "        1017, 1024, 1037, 1045, 1052, 1056, 1060, 1063, 1070, 1083, 1093,\n",
       "        1096, 1104, 1106, 1110, 1113, 1123, 1127, 1139, 1141, 1156, 1171,\n",
       "        1186, 1194, 1198, 1200, 1213, 1220, 1227, 1240, 1252, 1256, 1263,\n",
       "        1270, 1277, 1283, 1291, 1298, 1304, 1312, 1316, 1327, 1329, 1344,\n",
       "        1355, 1362, 1365, 1368, 1375, 1382, 1385, 1388, 1398, 1413, 1420,\n",
       "        1425, 1428, 1431, 1441, 1456, 1466, 1478, 1481, 1491, 1501, 1507,\n",
       "        1516, 1521, 1523, 1534, 1537]))"
      ]
     },
     "execution_count": 71,
     "metadata": {},
     "output_type": "execute_result"
    }
   ],
   "source": [
    "dict_grad_slope[symbol].shape, dict_neg_to_pos[symbol].shape, x_grad.shape, dy_dx, neg_to_pos"
   ]
  },
  {
   "cell_type": "code",
   "execution_count": 86,
   "id": "4a38a48c-3a79-40af-98d3-8887563a5c95",
   "metadata": {},
   "outputs": [
    {
     "data": {
      "text/plain": [
       "60    0\n",
       "61    0\n",
       "62    0\n",
       "63    0\n",
       "64    0\n",
       "65    0\n",
       "66    0\n",
       "67    0\n",
       "68    1\n",
       "69    0\n",
       "70    0\n",
       "71    0\n",
       "72    0\n",
       "73    0\n",
       "74    0\n",
       "75    0\n",
       "76    0\n",
       "77    0\n",
       "78    0\n",
       "79    0\n",
       "80    1\n",
       "81    0\n",
       "82    0\n",
       "83    0\n",
       "84    0\n",
       "85    0\n",
       "86    0\n",
       "87    0\n",
       "88    1\n",
       "89    0\n",
       "90    0\n",
       "91    0\n",
       "92    0\n",
       "93    0\n",
       "94    0\n",
       "95    0\n",
       "96    0\n",
       "97    1\n",
       "98    0\n",
       "99    0\n",
       "dtype: int64"
      ]
     },
     "execution_count": 86,
     "metadata": {},
     "output_type": "execute_result"
    }
   ],
   "source": [
    "dict_neg_to_pos[symbol][:40]"
   ]
  },
  {
   "cell_type": "code",
   "execution_count": 58,
   "id": "f0b4a730-c18f-4edc-9a71-6bb84f049956",
   "metadata": {},
   "outputs": [
    {
     "data": {
      "text/plain": [
       "60      [[31.02887, 32.51212, 32.560146, 32.761528, 34...\n",
       "61      [[31.969322, 31.91431, 32.675144, 33.47715, 34...\n",
       "62      [[31.468706, 32.14055, 33.745224, 34.21048, 37...\n",
       "63      [[31.775793, 33.328373, 33.384537, 37.31958, 3...\n",
       "64      [[32.817398, 32.822586, 35.862206, 36.247677, ...\n",
       "                              ...                        \n",
       "1602    [[6.276459, 6.7036185, 6.679894, 6.6436133, 6....\n",
       "1603    [[6.608438, 6.5735946, 6.7211704, 6.054988, 6....\n",
       "1604    [[6.513887, 6.644008, 6.397975, 6.0883217, 6.8...\n",
       "1605    [[6.6647077, 6.4164767, 6.495219, 6.876532, 6....\n",
       "1606    [[6.380654, 6.4438314, 7.271595, 6.5759687, 6....\n",
       "Length: 1547, dtype: object"
      ]
     },
     "execution_count": 58,
     "metadata": {},
     "output_type": "execute_result"
    }
   ],
   "source": [
    "dict_observations_sum[symbol]"
   ]
  },
  {
   "cell_type": "code",
   "execution_count": 95,
   "id": "4af4639c-d248-46f5-9987-7eb90affd6ef",
   "metadata": {},
   "outputs": [
    {
     "data": {
      "text/plain": [
       "array([-1.01863636, -1.09123472, -0.98473324, -0.41448171, -0.01991732,\n",
       "        0.03365197, -0.39879451, -0.61818021, -0.79299535, -0.62771732,\n",
       "       -0.12397139,  0.89298984,  1.0421413 ,  0.41451022, -0.25281838,\n",
       "       -0.58691342, -0.70689961, -0.43797408, -0.03080239,  0.31768738])"
      ]
     },
     "execution_count": 95,
     "metadata": {},
     "output_type": "execute_result"
    }
   ],
   "source": [
    "dict_slopes_pred[symbol][50:70]"
   ]
  },
  {
   "cell_type": "code",
   "execution_count": 111,
   "id": "06585083-3be3-4050-b6ce-6ecab66bd5a3",
   "metadata": {},
   "outputs": [
    {
     "name": "stdout",
     "output_type": "stream",
     "text": [
      "1 done for 000063.SZ\n",
      "2 done for 000001.SS\n",
      "3 done for 000002.SZ\n"
     ]
    }
   ],
   "source": [
    "data_output = df_data.copy()\n",
    "\n",
    "count = 0\n",
    "\n",
    "for symbol in df_data:\n",
    "    count += 1\n",
    "\n",
    "    _obs = [dict_observations_sum[symbol][k+input_period] for k in range(dict_observations_sum[symbol].shape[0])]\n",
    "    _res = []\n",
    "    for obs in _obs:\n",
    "        _res.append(obs.reshape(-1,output_step)[0])\n",
    "    \n",
    "    observation_df = pd.DataFrame([r for r in _res], columns=[f'pred_{i}' for i in range(output_step)], index=df_data[symbol].index[input_period:-output_step])\n",
    "    data_output[symbol] = pd.concat([data_output[symbol], observation_df], axis=1, join='outer')\n",
    "\n",
    "    noise_df = pd.DataFrame(dict_std_dev_noise[symbol], columns=['noise'], index=df_data[symbol].index[input_period:-output_step])\n",
    "    data_output[symbol] = pd.concat([data_output[symbol], noise_df], axis=1, join='outer')\n",
    "\n",
    "    slope_df = pd.DataFrame(dict_slopes_pred[symbol], columns=['slope'], index=df_data[symbol].index[input_period:-output_step])\n",
    "    data_output[symbol] = pd.concat([data_output[symbol], slope_df], axis=1, join='outer')\n",
    "\n",
    "    grad_slope_df = pd.DataFrame(dict_grad_slope[symbol], columns=['gradient'], index=df_data[symbol].index[input_period:-output_step])\n",
    "    data_output[symbol] = pd.concat([data_output[symbol], grad_slope_df], axis=1, join='outer')\n",
    "    \n",
    "    neg_to_pos_df = pd.DataFrame(dict_neg_to_pos[symbol], columns=['neg_to_pos'], index=df_data[symbol].index[input_period:-output_step])\n",
    "    data_output[symbol] = pd.concat([data_output[symbol], neg_to_pos_df], axis=1, join='outer')\n",
    "\n",
    "    data_output[symbol].to_excel(f'data_w_pred_m6_5-topological-ensemble-bulk/{symbol}_w_pred_m5.xlsx')\n",
    "    \n",
    "    print(f'{count} done for {symbol}', flush=True)"
   ]
  },
  {
   "cell_type": "code",
   "execution_count": 91,
   "id": "5e5178cd-14aa-4665-a715-c16fd9901b52",
   "metadata": {},
   "outputs": [
    {
     "data": {
      "text/html": [
       "<div>\n",
       "<style scoped>\n",
       "    .dataframe tbody tr th:only-of-type {\n",
       "        vertical-align: middle;\n",
       "    }\n",
       "\n",
       "    .dataframe tbody tr th {\n",
       "        vertical-align: top;\n",
       "    }\n",
       "\n",
       "    .dataframe thead th {\n",
       "        text-align: right;\n",
       "    }\n",
       "</style>\n",
       "<table border=\"1\" class=\"dataframe\">\n",
       "  <thead>\n",
       "    <tr style=\"text-align: right;\">\n",
       "      <th></th>\n",
       "      <th>slope</th>\n",
       "    </tr>\n",
       "  </thead>\n",
       "  <tbody>\n",
       "    <tr>\n",
       "      <th>60</th>\n",
       "      <td>0.841088</td>\n",
       "    </tr>\n",
       "    <tr>\n",
       "      <th>61</th>\n",
       "      <td>1.106541</td>\n",
       "    </tr>\n",
       "    <tr>\n",
       "      <th>62</th>\n",
       "      <td>0.908090</td>\n",
       "    </tr>\n",
       "    <tr>\n",
       "      <th>63</th>\n",
       "      <td>0.609305</td>\n",
       "    </tr>\n",
       "    <tr>\n",
       "      <th>64</th>\n",
       "      <td>0.244266</td>\n",
       "    </tr>\n",
       "    <tr>\n",
       "      <th>65</th>\n",
       "      <td>-0.470059</td>\n",
       "    </tr>\n",
       "    <tr>\n",
       "      <th>66</th>\n",
       "      <td>-0.852519</td>\n",
       "    </tr>\n",
       "    <tr>\n",
       "      <th>67</th>\n",
       "      <td>-0.736004</td>\n",
       "    </tr>\n",
       "    <tr>\n",
       "      <th>68</th>\n",
       "      <td>-0.975905</td>\n",
       "    </tr>\n",
       "    <tr>\n",
       "      <th>69</th>\n",
       "      <td>-0.843407</td>\n",
       "    </tr>\n",
       "    <tr>\n",
       "      <th>70</th>\n",
       "      <td>-0.459246</td>\n",
       "    </tr>\n",
       "    <tr>\n",
       "      <th>71</th>\n",
       "      <td>-0.198754</td>\n",
       "    </tr>\n",
       "    <tr>\n",
       "      <th>72</th>\n",
       "      <td>-0.292719</td>\n",
       "    </tr>\n",
       "    <tr>\n",
       "      <th>73</th>\n",
       "      <td>0.615006</td>\n",
       "    </tr>\n",
       "    <tr>\n",
       "      <th>74</th>\n",
       "      <td>0.575841</td>\n",
       "    </tr>\n",
       "    <tr>\n",
       "      <th>75</th>\n",
       "      <td>0.850269</td>\n",
       "    </tr>\n",
       "    <tr>\n",
       "      <th>76</th>\n",
       "      <td>0.655786</td>\n",
       "    </tr>\n",
       "    <tr>\n",
       "      <th>77</th>\n",
       "      <td>0.260036</td>\n",
       "    </tr>\n",
       "    <tr>\n",
       "      <th>78</th>\n",
       "      <td>-0.246321</td>\n",
       "    </tr>\n",
       "    <tr>\n",
       "      <th>79</th>\n",
       "      <td>-0.581532</td>\n",
       "    </tr>\n",
       "    <tr>\n",
       "      <th>80</th>\n",
       "      <td>-0.691863</td>\n",
       "    </tr>\n",
       "    <tr>\n",
       "      <th>81</th>\n",
       "      <td>-0.739175</td>\n",
       "    </tr>\n",
       "    <tr>\n",
       "      <th>82</th>\n",
       "      <td>-0.650967</td>\n",
       "    </tr>\n",
       "    <tr>\n",
       "      <th>83</th>\n",
       "      <td>-0.091011</td>\n",
       "    </tr>\n",
       "    <tr>\n",
       "      <th>84</th>\n",
       "      <td>0.409773</td>\n",
       "    </tr>\n",
       "    <tr>\n",
       "      <th>85</th>\n",
       "      <td>0.646728</td>\n",
       "    </tr>\n",
       "    <tr>\n",
       "      <th>86</th>\n",
       "      <td>0.634892</td>\n",
       "    </tr>\n",
       "    <tr>\n",
       "      <th>87</th>\n",
       "      <td>1.058944</td>\n",
       "    </tr>\n",
       "    <tr>\n",
       "      <th>88</th>\n",
       "      <td>0.796047</td>\n",
       "    </tr>\n",
       "    <tr>\n",
       "      <th>89</th>\n",
       "      <td>0.908636</td>\n",
       "    </tr>\n",
       "    <tr>\n",
       "      <th>90</th>\n",
       "      <td>0.943303</td>\n",
       "    </tr>\n",
       "    <tr>\n",
       "      <th>91</th>\n",
       "      <td>0.886199</td>\n",
       "    </tr>\n",
       "    <tr>\n",
       "      <th>92</th>\n",
       "      <td>0.935029</td>\n",
       "    </tr>\n",
       "    <tr>\n",
       "      <th>93</th>\n",
       "      <td>0.764146</td>\n",
       "    </tr>\n",
       "    <tr>\n",
       "      <th>94</th>\n",
       "      <td>0.705596</td>\n",
       "    </tr>\n",
       "    <tr>\n",
       "      <th>95</th>\n",
       "      <td>0.485357</td>\n",
       "    </tr>\n",
       "    <tr>\n",
       "      <th>96</th>\n",
       "      <td>0.313059</td>\n",
       "    </tr>\n",
       "    <tr>\n",
       "      <th>97</th>\n",
       "      <td>0.250308</td>\n",
       "    </tr>\n",
       "    <tr>\n",
       "      <th>98</th>\n",
       "      <td>0.276787</td>\n",
       "    </tr>\n",
       "    <tr>\n",
       "      <th>99</th>\n",
       "      <td>0.492351</td>\n",
       "    </tr>\n",
       "  </tbody>\n",
       "</table>\n",
       "</div>"
      ],
      "text/plain": [
       "       slope\n",
       "60  0.841088\n",
       "61  1.106541\n",
       "62  0.908090\n",
       "63  0.609305\n",
       "64  0.244266\n",
       "65 -0.470059\n",
       "66 -0.852519\n",
       "67 -0.736004\n",
       "68 -0.975905\n",
       "69 -0.843407\n",
       "70 -0.459246\n",
       "71 -0.198754\n",
       "72 -0.292719\n",
       "73  0.615006\n",
       "74  0.575841\n",
       "75  0.850269\n",
       "76  0.655786\n",
       "77  0.260036\n",
       "78 -0.246321\n",
       "79 -0.581532\n",
       "80 -0.691863\n",
       "81 -0.739175\n",
       "82 -0.650967\n",
       "83 -0.091011\n",
       "84  0.409773\n",
       "85  0.646728\n",
       "86  0.634892\n",
       "87  1.058944\n",
       "88  0.796047\n",
       "89  0.908636\n",
       "90  0.943303\n",
       "91  0.886199\n",
       "92  0.935029\n",
       "93  0.764146\n",
       "94  0.705596\n",
       "95  0.485357\n",
       "96  0.313059\n",
       "97  0.250308\n",
       "98  0.276787\n",
       "99  0.492351"
      ]
     },
     "execution_count": 91,
     "metadata": {},
     "output_type": "execute_result"
    }
   ],
   "source": [
    "slope_df.iloc[:40]"
   ]
  },
  {
   "cell_type": "code",
   "execution_count": 98,
   "id": "727b6033-6b2e-43f1-92c9-9788814b59ec",
   "metadata": {},
   "outputs": [
    {
     "data": {
      "text/plain": [
       "slope    0.841088\n",
       "Name: 60, dtype: float64"
      ]
     },
     "execution_count": 98,
     "metadata": {},
     "output_type": "execute_result"
    }
   ],
   "source": [
    "slope_df.iloc[0]"
   ]
  },
  {
   "cell_type": "code",
   "execution_count": 88,
   "id": "8aa575ee-87b6-49d4-86f6-07c9be5cc79d",
   "metadata": {},
   "outputs": [
    {
     "data": {
      "text/plain": [
       "[<matplotlib.lines.Line2D at 0x7fcf5a37b640>]"
      ]
     },
     "execution_count": 88,
     "metadata": {},
     "output_type": "execute_result"
    },
    {
     "data": {
      "image/png": "[encoded data removed]",
      "text/plain": [
       "<Figure size 5000x4000 with 1 Axes>"
      ]
     },
     "metadata": {},
     "output_type": "display_data"
    }
   ],
   "source": [
    "import matplotlib.pyplot as plt\n",
    "\n",
    "plt.figure(figsize=(50, 40))\n",
    "\n",
    "t = 922+10\n",
    "\n",
    "plt.plot(df_data['000063.SZ'].index[t+60:t+67], dict_observations_sum['000063.SZ'][t+7][0], color='blue')\n",
    "plt.plot(df_data['000063.SZ'].index[t:t+67], df_data['000063.SZ']['close'].iloc[t:t+67], color='red')"
   ]
  },
  {
   "cell_type": "code",
   "execution_count": 59,
   "id": "f0f43128-f53c-4999-bdb5-5497c0363d85",
   "metadata": {},
   "outputs": [
    {
     "name": "stdout",
     "output_type": "stream",
     "text": [
      "Constructing observations (sum) for data...\n",
      "Observations have been constructed.\n"
     ]
    }
   ],
   "source": [
    "print('Constructing observations (separate) for data...', flush=True)\n",
    "\n",
    "dict_observations_savgol = dict()\n",
    "\n",
    "for symbol in df_data:\n",
    "    observation = pd.Series([\n",
    "        dict_predictions_savgol[symbol][i] for i in range(dict_predictions_savgol[symbol].shape[0])\n",
    "    ], index=df_data[symbol].index[output_step:-period])\n",
    "\n",
    "    dict_observations_savgol[symbol] = observation\n",
    "\n",
    "dict_observations_season = dict()\n",
    "\n",
    "for symbol in df_data:\n",
    "    observation = pd.Series([\n",
    "        dict_predictions_season[symbol][i] for i in range(dict_predictions_season[symbol].shape[0])\n",
    "    ], index=df_data[symbol].index[output_step:-period])\n",
    "\n",
    "    dict_observations_season[symbol] = observation\n",
    "\n",
    "print('Observations have been constructed.', flush=True)"
   ]
  },
  {
   "cell_type": "code",
   "execution_count": 60,
   "id": "55235945-37bb-4971-ab0a-465d52b09a03",
   "metadata": {},
   "outputs": [
    {
     "name": "stdout",
     "output_type": "stream",
     "text": [
      "1 done for 000063.SZ\n",
      "2 done for 000001.SS\n",
      "3 done for 000002.SZ\n"
     ]
    }
   ],
   "source": [
    "data_output = df_data.copy()\n",
    "\n",
    "count = 0\n",
    "\n",
    "for symbol in df_data:\n",
    "    count += 1\n",
    "\n",
    "    _obs_savgol = [dict_observations_savgol[symbol][k+7] for k in range(dict_observations_savgol[symbol].shape[0])]\n",
    "    _res_savgol = []\n",
    "    for obs in _obs_savgol:\n",
    "        _res_savgol.append(obs.reshape(-1,output_step)[0])\n",
    "\n",
    "    _obs_season = [dict_observations_season[symbol][k+7] for k in range(dict_observations_season[symbol].shape[0])]\n",
    "    _res_season = []\n",
    "    for ssn in _obs_season:\n",
    "        _res_season.append(ssn.reshape(-1,output_step)[0])\n",
    "    \n",
    "    observation_savgol_df = pd.DataFrame([r for r in _res_savgol], columns=[f'savgol_{i}' for i in range(output_step)], index=df_data[symbol].index[7:-60])\n",
    "    observation_season_df = pd.DataFrame([r for r in _res_season], columns=[f'season_{i}' for i in range(output_step)], index=df_data[symbol].index[7:-60])\n",
    "    noise_df = pd.DataFrame(dict_std_dev_noise[symbol], columns=['noise'], index=df_data[symbol].index[7:-60])\n",
    "    \n",
    "    data_output[symbol] = pd.concat([data_output[symbol], observation_savgol_df, observation_season_df, noise_df], axis=1, join='inner')\n",
    "\n",
    "    for i in range(output_step):\n",
    "        data_output[symbol][f'savgol_{i}'] = data_output[symbol][f'savgol_{i}'].shift(53)\n",
    "        data_output[symbol][f'season_{i}'] = data_output[symbol][f'season_{i}'].shift(53)\n",
    "\n",
    "    data_output[symbol].to_excel(f'data_w_pred_m6_5-topological-ensemble-bulk-2/{symbol}_w_pred_m5.xlsx')\n",
    "    \n",
    "    print(f'{count} done for {symbol}', flush=True)"
   ]
  },
  {
   "cell_type": "code",
   "execution_count": null,
   "id": "87151e23-6ca1-41fb-86ea-5923db908827",
   "metadata": {},
   "outputs": [],
   "source": []
  },
  {
   "cell_type": "code",
   "execution_count": null,
   "id": "fb9d568f-73da-425a-a3cb-87bb726ef8e6",
   "metadata": {},
   "outputs": [],
   "source": []
  },
  {
   "cell_type": "code",
   "execution_count": null,
   "id": "570fe3d4-efcf-45cd-8f0f-338ba37355bc",
   "metadata": {},
   "outputs": [],
   "source": []
  },
  {
   "cell_type": "code",
   "execution_count": null,
   "id": "8b03a32b-0dc9-4ed0-a9bf-c6146bf6fcf5",
   "metadata": {},
   "outputs": [],
   "source": []
  },
  {
   "cell_type": "code",
   "execution_count": null,
   "id": "0b16ccb0-950f-4785-af33-a01f06cd10ca",
   "metadata": {},
   "outputs": [],
   "source": []
  },
  {
   "cell_type": "code",
   "execution_count": null,
   "id": "5df92050-333c-4b8d-ad26-074dbca648a0",
   "metadata": {},
   "outputs": [],
   "source": []
  },
  {
   "cell_type": "code",
   "execution_count": null,
   "id": "55a6a196-3dec-4e16-9561-e28db4e5a324",
   "metadata": {},
   "outputs": [],
   "source": []
  },
  {
   "cell_type": "code",
   "execution_count": null,
   "id": "dca806d3-7c9e-4598-ad73-e5d8325a81bc",
   "metadata": {},
   "outputs": [],
   "source": []
  },
  {
   "cell_type": "code",
   "execution_count": null,
   "id": "8b2cfa22-96fb-4806-99a2-3e53632b3578",
   "metadata": {},
   "outputs": [],
   "source": []
  },
  {
   "cell_type": "code",
   "execution_count": null,
   "id": "8ad8f5ea-36f6-4c1b-8f79-00bf89a6b878",
   "metadata": {},
   "outputs": [],
   "source": []
  }
 ],
 "metadata": {
  "kernelspec": {
   "display_name": "Python 3 (ipykernel)",
   "language": "python",
   "name": "python3"
  },
  "language_info": {
   "codemirror_mode": {
    "name": "ipython",
    "version": 3
   },
   "file_extension": ".py",
   "mimetype": "text/x-python",
   "name": "python",
   "nbconvert_exporter": "python",
   "pygments_lexer": "ipython3",
   "version": "3.10.12"
  }
 },
 "nbformat": 4,
 "nbformat_minor": 5
}
